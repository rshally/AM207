{
 "cells": [
  {
   "cell_type": "markdown",
   "metadata": {},
   "source": [
    "### Paper Topic: Model Selection for Gaussian Processes Utilizing Sensitivity of Posterior Predictive Distribution\n",
    "- Shaan Desai, Spencer Hallyburton, Salvador Barragan"
   ]
  },
  {
   "cell_type": "markdown",
   "metadata": {},
   "source": [
    "#### Introduction\n",
    "\n",
    "- Feature selection in machine learning is an important method used to select a subset of the most relevant features for a given response. This is particularly useful, but not limited to, situations in which deep knowledge of the problem domain is unknown or limited and an interpretable, low dimensional model needs to be built.\n",
    "- Over the years numerous methods have been developed to carry out automatic feature selection such as forward/backward selection, lasso/ridge regression, correlation matrices etc. However, significant research continues to go into feature selection methods since different methods produce different results in high dimensional problems.\n",
    "- In this discussion we focus on two methods recently presented by Paananen et al for feature selection in Gaussian Process (GP) methods. Their basic idea is to use variations in the posterior predictive distribution with respect to each feature to pick out the relevances of individual features. They present two novel variable selection methods'. The first method (KL) relies on Kullback-Leibler (KL) divergence of the posterior predictive at the training points compared to the training points with one feature slightly perturbed. The second method (VAR) relies on the posterior predictive mean and computes the relevances of each feature based on the variance along a covariate.\n",
    "- We outline both these methods in detail herein and implement them in GPy, the framework Paananen used to build these models.\n",
    "\n",
    "\n",
    "\n",
    "#### Background Information\n",
    "\n",
    "- As a refresher, gaussian processes are a non parametric class of models which define a distribution over functions [Paananen et al].\n",
    "- priors are functions where $p(f) = N(\\mu,K)$ where mu is a vector of means and K is a measure of the covariance matrix with a specific kernel e.g. RBF.\n",
    "- With a given set of parameters for the kernel one can construct a whole set of functions across numerous data points refered to as latent functions.\n",
    "- Then, we introduce data. In our case, we introduce training data. The introduction of data is treated as extending the Normal of the prior distribution to include the means and covariances of the specified points s.t.:\n",
    "\n",
    "$$ \\begin{bmatrix} f \\\\ y \\end{bmatrix} \\sim N \\Bigg(\\begin{bmatrix} 0 \\\\ 0 \\end{bmatrix} , \\begin{bmatrix} K + \\sigma^2I & K_{*}^T \\\\ K_{*} & K_{**} \\end{bmatrix}\\Bigg)  $$\n",
    "\n",
    "\n",
    "The posterior predictive is then simply a conditional which is also gaussian!\n",
    "\n",
    "$$ P(y|f) = N(\\mu_a,\\Sigma_a) $$\n",
    "\n",
    "\n",
    "where:\n",
    "\n",
    "$$ \\mu_a = K_{*}(K+\\sigma^2I)^{-1}y $$\n",
    "\n",
    "$$ \\Sigma_{a} = K_{**} -K_{*}(K+\\sigma^2I)K_{*}^T $$\n",
    "\n",
    "- One measure of relevance we can derive from this fitting procedure (through MLE) is Automatic relevance determination, a method we will refer to as the most natural way to determine feature importance. ARD is simply calculated by looking at the optimized RBF kernel length (l) in:\n",
    "\n",
    "$$k(x,x') = \\sigma^2 exp\\bigg(-\\frac{1}{2} \\frac{(x-x')^2}{l^2}\\bigg) $$\n",
    "\n",
    "Using a separate length for each feature (and a hence a separate covariance matrix for each feature) we can determine the ARD by taking the reciprocal of the length scale, l, as a measure of relevance since lower length scales mean highly relevant features. ARD forms the baseline of our experiments as it does in Paananen et al and is a good way to compare the performance of the new methods introduced.\n",
    "\n",
    "#### Procedure\n",
    "\n",
    "##### Method 1: KL \n",
    "\n",
    "KL divergence is a good metric to determine the difference between two distributions. As such, Paananen et al suggest a unique and simple way to determine feature importance using this divergence on the posterior predictive distribution. Earlier, we mentioned that the posterior predictive distribution in gaussian processes is simply a conditional of P(y,f) which we already know is Gaussian. We can simply take this posterior distribution at the training points X (where X= [$x_1$,$x_2$,....$x_{feature n}$] and is of dimension observations by number of features) and compare it to a posterior predictive distribution in which feature $x_j$ is perturbed by an amount $\\Delta$ (~ 0.0001). The idea in doing this is that if the feature $x_j$ is important, then the KL divergence between a distribution with $x_j$ and $x_j + \\Delta$ should be high and the higher the divergence the more important the feature. Since both of these posterior distributions will be gaussian with a specific mu and sigma as presented earlier, we can compute the KL analytically in this form:\n",
    "\n",
    "$$ KL(N1,N2) = log\\frac{\\sigma_2}{\\sigma_1} + \\frac{\\sigma_1^2 +(\\mu_1-\\mu_2)^2}{2\\sigma_2^2} - 1/2 $$\n",
    "\n",
    "Simpson et al suggest that a distance between distributions can be computed using:\n",
    "\n",
    "$$ d = \\sqrt{2KL(N1,N2)} $$\n",
    "\n",
    "and the relevance Paananen develops from this is to simply divide d by $\\Delta$ s.t:\n",
    "\n",
    "$$ KL_{relevance} = \\frac{\\sqrt{2KL(N1,N2)}}{\\Delta} $$\n",
    "\n",
    "\n",
    "##### Method 2: VAR\n",
    "\n",
    "The core idea in this method is to use the variance of the posterior predictive mean of a full GP along each covariate as an estimate for the relevance of the covariate. The idea is that we know:\n",
    "\n",
    "$$ p(y|f) \\sim N(\\mu_{*},\\Sigma_{*}) $$ where\n",
    "$$ \\mu_{*} = K_{*}(K+\\sigma^2I)^{-1}y $$\n",
    "\n",
    "Now imagine that y is one data point e.g. (1 row of 8 features) then posterior predictive mean is calculated using that one row and the training points in f. Now if we ask, what is the variance of this mu then we would need to know the distribution of our features X because mu is basically a function of X. To do this we need to know how our X's are distributed. We assume that these x's are distributed Normally s.t. $X\\sim N(\\mu,\\Sigma)$. But, we can also get more granular than this, since the conditional of this along one covariate is also Normal e.g.\n",
    "\n",
    "$$ \\begin{bmatrix} x_{-j} \\\\ x_j \\end{bmatrix} \\sim N \\Bigg(\\begin{bmatrix} \\mu_{-j} \\\\ \\mu_j \\end{bmatrix} , \\begin{bmatrix} \\Sigma_{-j,-j} & \\sigma_{j,-j} \\\\ \\sigma_{-j,j} & \\sigma_{j,j} \\end{bmatrix}\\Bigg)  $$\n",
    "\n",
    "\n",
    "Thus we can take the conditional distribution which is normal:\n",
    "\n",
    "$$ p(x_j|x_{-j}) = N(\\mu_a,\\sigma_a^2) $$\n",
    "\n",
    "where\n",
    "\n",
    "$$ \\mu_a = \\mu_j + \\sigma_{j,-j} \\Sigma_{-j,-j}^{-1} (x_{-j}-\\mu_{-j}) $$\n",
    "\n",
    "$$ \\sigma_a^2 = \\sigma_{j,j} - \\sigma_{j,-j} \\Sigma_{-j,-j}^{-1} \\sigma_{-j,j} $$\n",
    "\n",
    "\n",
    "Great, now we have a distribution of the inputs and the distribution of a single input given the others. With this, we can determine the Variance of $\\mu_{*}$ with respect to a single covariate/feature. The equation is thus:\n",
    "\n",
    "$$ Var(\\mu_{*}(x_j)) = \\int \\mu_{*}^2 N(\\mu_a,\\sigma_a^2) dx_j - \\Bigg(\\int \\mu_{*} N(\\mu_a,\\sigma_a^2)dx_j\\Bigg)^2 $$\n",
    "\n",
    "With some variable changes we can get:\n",
    "\n",
    "$$ k = (x_j - \\mu_a)/(\\sqrt{2}\\sigma_a) $$\n",
    "\n",
    "Thus the variance becomes:\n",
    "\n",
    "\n",
    "$$ Var(\\mu_{*}(x_j)) \\approx \\pi^{-1/2} \\Sigma_{i=1}^n w_i \\mu_{*}^2 (\\sqrt{2} \\sigma_a k_i + \\mu_a) - \\pi^{-1} ( \\Sigma_{i=1}^{n} w_i \\mu_{*} (\\sqrt{2}\\sigma_a k_i + \\mu_a))^2 $$\n",
    "\n",
    "where $w_i$ and $k_i$ are weights and evaluation points of the Gauss-Hermite quadrature.\n",
    "\n",
    "\n",
    "#### Code\n",
    "\n",
    "\n",
    "\n",
    "\n",
    "\n",
    "\n"
   ]
  },
  {
   "cell_type": "code",
   "execution_count": 1,
   "metadata": {},
   "outputs": [],
   "source": [
    "#imports\n",
    "import numpy as np\n",
    "import matplotlib.pyplot as plt\n",
    "from sklearn import preprocessing\n",
    "import GPy\n",
    "from tqdm import tqdm\n",
    "import scipy as scp\n",
    "import pandas as pd\n",
    "from sklearn.model_selection import train_test_split\n",
    "from sklearn import preprocessing"
   ]
  },
  {
   "cell_type": "markdown",
   "metadata": {},
   "source": [
    "#### Initial testing to generate the figures in fig1"
   ]
  },
  {
   "cell_type": "code",
   "execution_count": 2,
   "metadata": {},
   "outputs": [],
   "source": [
    "#8*1000 random vars, 8 input vectors/features\n",
    "xjs_unif = np.random.uniform(-1.,1.,(8,300))\n",
    "xjs_norm = np.random.normal(0,0.4,(8,300))\n",
    "\n",
    "#8 uniform coefficients of sine function for the 8 functions\n",
    "phi = np.linspace(np.pi/10,np.pi,8)\n",
    "#compute input of sines = phij*xj for each j\n",
    "inp_unif = []\n",
    "inp_norm = []\n",
    "for i in range(8):\n",
    "    inp_unif.append(phi[i]*xjs_unif[i,:])\n",
    "    inp_norm.append(phi[i]*xjs_norm[i,:])\n",
    "inp_unif = np.array(inp_unif)\n",
    "inp_norm = np.array(inp_norm)\n",
    "sines_unif = np.sin(inp_unif)\n",
    "sines_norm = np.sin(inp_norm)\n",
    "\n",
    "#compute function coeffs Aj by finding the std of sin(phij*xj) and taking 1/std(sin(phij*xj))\n",
    "fjunif = []\n",
    "fjnorm = []\n",
    "for i in range(8):\n",
    "    fjunif.append(sines_unif[i,:]/np.std(sines_unif[i,:]))\n",
    "    fjnorm.append(sines_norm[i,:]/np.std(sines_norm[i,:]))\n",
    "fjunif = np.array(fjunif)\n",
    "fjnorm = np.array(fjnorm)"
   ]
  },
  {
   "cell_type": "code",
   "execution_count": 3,
   "metadata": {
    "scrolled": false
   },
   "outputs": [
    {
     "data": {
      "image/png": "[encoded data removed]",
      "text/plain": [
       "<matplotlib.figure.Figure at 0x1a0d1b3e10>"
      ]
     },
     "metadata": {},
     "output_type": "display_data"
    }
   ],
   "source": [
    "fig,ax = plt.subplots(2,4,figsize=(10,8))\n",
    "ax = ax.ravel()\n",
    "for i in range(8):\n",
    "    ax[i].scatter(xjs_unif[i,:],fjunif[i,:],s=0.5)\n",
    "    ax[i].scatter(xjs_norm[i,:],fjnorm[i,:],s=0.5)"
   ]
  },
  {
   "cell_type": "markdown",
   "metadata": {},
   "source": [
    "In the figures above, we fit GP models to data generated from sinusoidal target functions. The blue curves show data with uniformly distributed coefficients, whereas the orange show data with normally distributed coefficients. The figures above will be used to perform feature selection on a toy model with known target outputs.\n",
    "\n",
    "**NOTE:** If the line below fails to execute, it means that you have an out-of-date \"priors.py\". Please copy our \"priors.py\" file into your 'GPy/core/parametrization' folder"
   ]
  },
  {
   "cell_type": "code",
   "execution_count": 4,
   "metadata": {},
   "outputs": [
    {
     "data": {
      "text/plain": [
       "hT(1, 1)"
      ]
     },
     "execution_count": 4,
     "metadata": {},
     "output_type": "execute_result"
    }
   ],
   "source": [
    "GPy.priors.HalfT(A=1,nu=1)"
   ]
  },
  {
   "cell_type": "code",
   "execution_count": 5,
   "metadata": {},
   "outputs": [],
   "source": [
    "# define both functions to compute relevances\n",
    "delta = 0.0001\n",
    "\n",
    "def KLmethod(X,m):\n",
    "    \"\"\"computes the KL divergence between original training points and each covariate perturbed\n",
    "    e.g. X= [x1,x2,..xn] and Xd = [x1+delta,x2,x3..]\"\"\"\n",
    "    # Delta for KL method\n",
    "    delta = 0.0001\n",
    "    \n",
    "    #number of training points\n",
    "    n = X.shape[0]\n",
    "    #number of features\n",
    "    p = X.shape[1]\n",
    "    \n",
    "    #loop over training data points and perturb each \n",
    "    relsup = np.zeros((n,p))\n",
    "    relsdn = np.zeros((n,p))\n",
    "    muorig,varorig = m.predict(X)\n",
    "    for i in range(p):\n",
    "        #do positive delta perturbation\n",
    "        X[:,i] = X[:,i] + delta\n",
    "        muu,Cu = m.predict(X)\n",
    "        #negative delta perturb\n",
    "        X[:,i] = X[:,i] - 2*delta\n",
    "        mud,Cd = m.predict(X)\n",
    "        #compute relevances for top and bottom\n",
    "        relsup[:,i] = rrel_fun(muorig,np.sqrt(varorig),muu,np.sqrt(Cu)).ravel()\n",
    "        relsdn[:,i] = rrel_fun(muorig,np.sqrt(varorig),mud,np.sqrt(Cd)).ravel()\n",
    "        #return to original vector\n",
    "        X[:,i] = X[:,i] + delta\n",
    "    return np.mean((relsup + relsdn)/2,axis=0)\n",
    "  \n",
    "#KL divergence\n",
    "def KL(mu1,s1,mu2,s2):\n",
    "    return (np.log(s2/s1) +(s1**2+(mu1-mu2)**2)/(2*s2**2)- 1./2)\n",
    "\n",
    "    #relevance metric\n",
    "def rrel_fun(mu1,s1,mu2,s2):\n",
    "    return (np.sqrt(2*KL(mu1,s1,mu2,s2))/delta)\n",
    "\n",
    "\n",
    "# Function adapted from Paananen\n",
    "# https://github.com/topipa/GP_varsel_KL_VAR/blob/master/code/GP_varsel.py\n",
    "def VARmethod(X,model,nquadr):\n",
    "    \"\"\"Computes relevance by looking at variance of posterior predictive mean at x_j, holding x_-j constant\"\"\"\n",
    "    \n",
    "    # Auxiliary function  \n",
    "    n = X.shape[0]\n",
    "    p = X.shape[1]\n",
    "    relevances = np.zeros(p)\n",
    "    [points,weights] = np.polynomial.hermite.hermgauss(nquadr)\n",
    "    \n",
    "    jitter=1e-14\n",
    "    \n",
    "    # full covariance matrix of X plus small jitter on diagonal\n",
    "    fullcov = np.cov(X,rowvar=False) + jitter*np.eye(p)\n",
    "\n",
    "    # if condition number is high, add a diagonal term until it goes below 100\n",
    "    # this is a bit heuristic\n",
    "    while (np.linalg.cond(fullcov,p=2) > 100):\n",
    "        jitter = jitter*10\n",
    "        fullcov = fullcov + jitter*np.eye(p)\n",
    "\n",
    "    # Cholesky decomposition of the covariance matrix\n",
    "    cholfull = scp.linalg.cholesky(fullcov,lower=True)\n",
    "\n",
    "    # loop through covariates\n",
    "    for j in range(0, p):\n",
    "\n",
    "        # remove j'th covariate\n",
    "        jvals = X[:,j]\n",
    "        nojvals = np.delete(X,(j), axis=1)\n",
    "        jmean = jvals.mean() \n",
    "        nojmean = nojvals.mean(axis=0)\n",
    "\n",
    "        jcov = fullcov[j,j]\n",
    "        jnojcov = fullcov[j,:]\n",
    "        jnojcov = np.delete(jnojcov,(j),axis=0)\n",
    "        jnojcov = jnojcov.reshape(1,p-1)\n",
    "        \n",
    "        # Cholesky decomposition of the submatrix\n",
    "        cholsub = cholsubmatrix(cholfull,j)\n",
    "        meanfactor = scp.linalg.cho_solve((cholsub,True),jnojcov.T).T\n",
    "        intcov = jcov - np.dot(  meanfactor,jnojcov.T)\n",
    "\n",
    "        # loop through data points\n",
    "        for k in range(0, n):\n",
    "\n",
    "            nojtark = nojvals[k,:]\n",
    "            intmean = jmean + np.dot(meanfactor,(nojtark - nojmean))\n",
    "            fcalcpoints = np.repeat(X[k,:],nquadr).reshape(p,nquadr).T\n",
    "            fcalcpoints[:,j] = np.sqrt(2)*np.sqrt(intcov)*points + intmean\n",
    "\n",
    "            predmean,predvar = GPy.models.GPRegression.predict(model,fcalcpoints,full_cov=False)\n",
    "            fsquare = predmean*predmean\n",
    "\n",
    "            # Gauss-Hermite quadrature integration\n",
    "            relevances[j] += np.dot(fsquare.T,weights)/np.sqrt(np.pi) - np.dot(predmean.T,weights)*np.dot(predmean.T,weights)/np.pi\n",
    "\n",
    "    return relevances/n\n",
    "\n",
    "def cholr1update(L,x):\n",
    "    \"\"\"Computes a rank-1 update to a Cholesky decomposition\"\"\"\n",
    "    n = np.shape(x)[0]\n",
    "    for k in np.arange(0,n):\n",
    "        r = np.sqrt(L[k,k]*L[k,k] + x[k]*x[k])\n",
    "        c = r / L[k,k]\n",
    "        s = x[k] / L[k,k]\n",
    "        L[k,k] = r\n",
    "        L[k+1:,k] = (L[k+1:,k] + s * x[k+1:]) / c\n",
    "        x[k+1:] = c * x[k+1:] - s * L[k+1:,k]\n",
    "    return L\n",
    "\n",
    "def cholsubmatrix(L,index):\n",
    "    \"\"\"Computes the Cholesky decomposition for a submatrix (matrix with one row and one column removed) \n",
    "    using the Cholesky of the full matrix\"\"\"\n",
    "    n = np.shape(L)[0]\n",
    "    chol = np.zeros((n-1,n-1)) \n",
    "    chol[:index,:index] = L[:index,:index]\n",
    "    if (index < n-1):\n",
    "        chol[index:,:index] = L[index+1:,:index]\n",
    "        chol[index:,index:] = cholr1update(L[index+1:,index+1:],L[index+1:,index])\n",
    "    return chol \n"
   ]
  },
  {
   "cell_type": "markdown",
   "metadata": {},
   "source": [
    "##### Toy Model"
   ]
  },
  {
   "cell_type": "code",
   "execution_count": 6,
   "metadata": {},
   "outputs": [
    {
     "name": "stderr",
     "output_type": "stream",
     "text": [
      " 66%|██████▌   | 131/200 [14:38<07:42,  6.71s/it] /anaconda3/lib/python3.6/site-packages/GPy/kern/src/stationary.py:136: RuntimeWarning:overflow encountered in square\n",
      " /anaconda3/lib/python3.6/site-packages/GPy/kern/src/stationary.py:137: RuntimeWarning:invalid value encountered in add\n",
      "100%|██████████| 200/200 [21:24<00:00,  6.42s/it]\n",
      "100%|██████████| 200/200 [11:37<00:00,  3.49s/it]\n"
     ]
    }
   ],
   "source": [
    "# number of repetitions to average over\n",
    "repeats = 200\n",
    "# number of covariates\n",
    "m = 8\n",
    "# number of data points\n",
    "n = 300\n",
    "# Delta for KL method\n",
    "delta = 0.0001\n",
    "# number of quadrature points for VAR method\n",
    "#nquadr = 11\n",
    "\n",
    "# compute the analytical scaling coefficients for the m components\n",
    "phi = np.pi*np.linspace(0.1,1,m);\n",
    "anaA = np.zeros(m)\n",
    "for i in range(0,m):\n",
    "    anaA[i] = np.sqrt( 4/(2 -1/phi[i]*np.sin(2*phi[i])) )\n",
    "\n",
    "# Input data\n",
    "x_all = [np.random.uniform(-1.,1.,(n,m,repeats)), np.random.normal(0.,0.4,(n,m,repeats))]\n",
    "rel_ARD_all = []\n",
    "rel_KL_all = []\n",
    "rel_VAR_all = []\n",
    "\n",
    "# Loop over different types of input data\n",
    "for ii, x_data in enumerate(x_all):\n",
    "    rel_ARD_toy = np.zeros(m)\n",
    "    rel_KL_toy = np.zeros(m)\n",
    "    rel_VAR_toy = np.zeros(m)\n",
    "    # Perform the specified number of repeat trials\n",
    "    for i in tqdm(range(0, repeats)):\n",
    "        x = x_data[:,:,i]\n",
    "        \n",
    "        phi = np.tile(np.linspace(np.pi/10,np.pi,m),(n,1))\n",
    "        xphi = np.multiply(x[:,0:m],phi)\n",
    "        f = np.sin(xphi)\n",
    "        for j in range(0,m):\n",
    "            f[:,j] = f[:,j]*anaA[j]    \n",
    "\n",
    "        # y is a sum of the m components plus Gaussian noise\n",
    "        yval = f.sum(axis=1) + np.random.normal(0,0.3,(n,))\n",
    "        y = np.asmatrix(yval).T\n",
    "\n",
    "        # RBF kernel plus constant term\n",
    "        kernel = GPy.kern.RBF(input_dim=m,ARD=True) + GPy.kern.Bias(input_dim=m)\n",
    "        model = GPy.models.GPRegression(x,y,kernel)\n",
    "        model.optimize()\n",
    "\n",
    "        # ARD relevance value is the inverse of the length scale\n",
    "        rel_ARD_toy = rel_ARD_toy + 1/model.sum.rbf.lengthscale\n",
    "\n",
    "        # KL relevance value\n",
    "        rel_KL_toy = rel_KL_toy + KLmethod(x,model)\n",
    "\n",
    "        #var rel\n",
    "        rel_VAR_toy = rel_VAR_toy + VARmethod(x,model,10)\n",
    "        \n",
    "    # Store the relevance measurements\n",
    "    rel_ARD_all.append(rel_ARD_toy)\n",
    "    rel_KL_all.append(rel_KL_toy)\n",
    "    rel_VAR_all.append(rel_VAR_toy)"
   ]
  },
  {
   "cell_type": "code",
   "execution_count": 7,
   "metadata": {},
   "outputs": [],
   "source": [
    "def plot_relevance(ax, rel_ARD, rel_KL, rel_VAR, title):\n",
    "    xlength = range(1, len(rel_ARD)+1)\n",
    "    \n",
    "    # First axis - Uniform feature inputs\n",
    "    ax.plot(xlength,np.ones(len(xlength)), '--ko', c='k', label='True Relevance')\n",
    "    ax.plot(xlength,rel_ARD/rel_ARD.max(),'-o',c='b',label='ARD')\n",
    "    ax.plot(xlength,rel_KL/rel_KL.max(),'-o',c='r',label='KL')\n",
    "    ax.plot(xlength,rel_VAR/rel_VAR.max(),'-o',c='purple',label='VAR')\n",
    "    ax.set_ylabel('Relevance')\n",
    "    ax.set_title(title)\n",
    "    ax.set_ylim([0,1.1])\n",
    "    ax.legend()"
   ]
  },
  {
   "cell_type": "code",
   "execution_count": 8,
   "metadata": {},
   "outputs": [
    {
     "data": {
      "image/png": "[encoded data removed]",
      "text/plain": [
       "<matplotlib.figure.Figure at 0x1a0d62fb00>"
      ]
     },
     "metadata": {},
     "output_type": "display_data"
    }
   ],
   "source": [
    "titles=['Uniformly Distributed Features', 'Normally Distributed Features']\n",
    "\n",
    "# Plotting routines\n",
    "fig, ax = plt.subplots(2,1,figsize=(10,10),sharex=True)\n",
    "for i, (rel_ARD_temp, rel_KL_temp, rel_VAR_temp) in enumerate(zip(rel_ARD_all, rel_KL_all, rel_VAR_all)):\n",
    "    plot_relevance(ax[i], rel_ARD_temp, rel_KL_temp, rel_VAR_temp, titles[i])\n",
    "plt.xlabel('Feature_Number')\n",
    "plt.show()"
   ]
  },
  {
   "cell_type": "markdown",
   "metadata": {},
   "source": [
    "From the figures above we can see that we are able to replicate the results of the paper quite well. However, due to some parameter choices the Normally distributed features have slightly lower KL and Variance values than those presented in the paper. The figures above show the estimated relevance from the feature selection methods we defined above. Shown in black is the true relevance that we know given the way the data was constructed. Regardless, the point of this toy script was to show that the two methods do indeed outperform ARD in terms of picking out the features relevant to a problem."
   ]
  },
  {
   "cell_type": "markdown",
   "metadata": {},
   "source": [
    "#### Real-World Datasets"
   ]
  },
  {
   "cell_type": "markdown",
   "metadata": {},
   "source": [
    "Now we move to real world datasets. In this case we want to use our metrics on all features to get an average relevance ordering of the features. Using this information we then calculate the mean log-predictive-density (mlpd) values for subsets of the full model with the most important features in order. In essence, we are simply sequentially dropping the least relevant features and creating a fit and determining the mlpd values with respect to each of the three rankings.\n",
    "\n",
    "Note that our choice of priors (different from the ones used by Topi) were:\n",
    "\n",
    "$$ \\sigma_f \\sim Half-T(1,1) $$\n",
    "\n",
    "$$ \\epsilon \\sim Half-T(1,1) $$\n",
    "\n",
    "$$ l_i \\sim Inv-Gamma(1,1) $$\n",
    "\n",
    "In order to use the GPy implementation of these priors we had to go into the priors folder within the library and make alterations for the code to work since the GPy authors committed priors that were not working. We have attached priors.py which you should copy and replace within GPy/Core/Parametrization."
   ]
  },
  {
   "cell_type": "markdown",
   "metadata": {},
   "source": [
    "The Gaussian Process model architecture for this procedure is similar to that of the toy model. First, we normalize the input data such that it has zero mean and unit variance along each of the columns of data. Then we fit the model over our training data and calculate MLPD outputs for the the testing data. In between, we calculate the relevance ordering of the covariates of the full model."
   ]
  },
  {
   "cell_type": "code",
   "execution_count": 9,
   "metadata": {},
   "outputs": [],
   "source": [
    "def preprocess_data(X, y):\n",
    "    # Normalize the data\n",
    "    X = preprocessing.scale(X)\n",
    "    y = preprocessing.scale(y)\n",
    "    \n",
    "    # Train-test split on the data\n",
    "    X_train, X_test, y_train, y_test = train_test_split(X, y, test_size=0.22)\n",
    "\n",
    "    # If y_train is one dimensional, reshape it as 2\n",
    "    if len(y_train.shape)==1:\n",
    "        y_train = y_train.reshape(-1,1)\n",
    "        y_test = y_test.reshape(-1,1)\n",
    "        \n",
    "    return X_train, X_test, y_train, y_test "
   ]
  },
  {
   "cell_type": "code",
   "execution_count": 10,
   "metadata": {},
   "outputs": [],
   "source": [
    "def perform_GP_fitting(X, y):\n",
    "    \n",
    "    # number of repetitions to average over\n",
    "    repeats = 10\n",
    "\n",
    "    # Train-test split (only for getting dimensions, will be repeated every iteration)\n",
    "    Xdata, Xtest, ydata, ytest = preprocess_data(X, y)\n",
    "\n",
    "    # Get sizes of data\n",
    "    n, m = Xdata.shape\n",
    "    n2, m2 = Xtest.shape\n",
    "\n",
    "    # Initialize arrays for results\n",
    "    rel_ARD = np.zeros(m)\n",
    "    rel_KL = np.zeros(m)\n",
    "    rel_VAR = np.zeros(m)\n",
    "\n",
    "    # Initialize place to store output\n",
    "    nmetrics = 3\n",
    "    mlpd = np.zeros((m, nmetrics, repeats))\n",
    "    \n",
    "    # Priors:\n",
    "    var_prior = GPy.priors.HalfT(A=1.0, nu=1.0)\n",
    "    noise_prior = GPy.priors.HalfT(A=1., nu=1.0)\n",
    "    len_prior = GPy.priors.InverseGamma(a=1., b=1.)\n",
    "    collector = []\n",
    "    \n",
    "    # Run the full model:\n",
    "    print('Testing full model')\n",
    "    for i in range(0, repeats):\n",
    "        \n",
    "        # Split the data now for every repitition\n",
    "        Xdata, Xtest, ydata, ytest = preprocess_data(X, y)\n",
    "\n",
    "        # RBF kernel plus constant term\n",
    "        kernel = GPy.kern.RBF(input_dim=m,ARD=True) + GPy.kern.Bias(input_dim=m)\n",
    "\n",
    "        # Initialize the model\n",
    "        model = GPy.models.GPRegression(Xdata, ydata, kernel)\n",
    "        # Set the priors\n",
    "        model.sum.rbf.lengthscale.set_prior(len_prior);\n",
    "        model.sum.rbf.variance.set_prior(var_prior);\n",
    "        model.Gaussian_noise.variance.set_prior(noise_prior);\n",
    "        \n",
    "        # Optimize the model\n",
    "        model.optimize()\n",
    "\n",
    "        # ARD relevance value is the inverse of the length scale\n",
    "        rel_ARD = rel_ARD + 1/model.sum.rbf.lengthscale\n",
    "        \n",
    "        # KL relevance value\n",
    "        rel_KL = rel_KL + KLmethod(Xdata,model)\n",
    "\n",
    "        #var rel\n",
    "        rel_VAR = rel_VAR + VARmethod(Xdata,model,20)\n",
    "\n",
    "        # Calculate the predictive density\n",
    "        mlpd[-1, :, i] = np.mean(model.log_predictive_density(Xtest, ytest))\n",
    "        collector.append((rel_ARD,rel_KL,rel_VAR)) \n",
    "    #return collector\n",
    "    # Calculate the ordering and run the model over all of the different orders\n",
    "    print('Testing Covariates')\n",
    "    for j, sort_rel_metric in enumerate([rel_ARD, rel_KL, rel_VAR]):\n",
    "        print(j)\n",
    "\n",
    "        # Get the ordering for this model\n",
    "        #ordering = np.argsort(sort_rel_metric)  is this the reverse order?? \n",
    "        ordering = list(reversed(np.argsort(sort_rel_metric)))\n",
    "        print(ordering)\n",
    "\n",
    "        # Loop in reverse over the number of features except for the full model\n",
    "        for nfeat in reversed(range(1,m)):\n",
    "            print('Number of Features:', nfeat)\n",
    "\n",
    "            # Reslice the data based on the ordering:\n",
    "            X_sub = X.values[:, ordering[:nfeat]]\n",
    "\n",
    "            # Perform the specified number of repeat trials\n",
    "            for i in range(0, repeats):\n",
    "                \n",
    "                # Split the data now for every repitition\n",
    "                Xdata, Xtest, ydata, ytest = preprocess_data(X_sub, y.values)\n",
    "                \n",
    "                # RBF kernel plus constant term\n",
    "                kernel = GPy.kern.RBF(input_dim=nfeat,ARD=True) + GPy.kern.Bias(input_dim=nfeat)\n",
    "                model = GPy.models.GPRegression(Xdata, ydata, kernel)\n",
    "\n",
    "                # Set the priors\n",
    "                model.sum.rbf.lengthscale.set_prior(len_prior);\n",
    "                model.sum.rbf.variance.set_prior(var_prior);\n",
    "                model.Gaussian_noise.variance.set_prior(noise_prior);\n",
    "\n",
    "                model.optimize()\n",
    "\n",
    "                # Make the predictions:\n",
    "                mlpd[nfeat-1, j, i] = np.mean(model.log_predictive_density(Xtest, ytest))\n",
    "    return collector, mlpd"
   ]
  },
  {
   "cell_type": "code",
   "execution_count": 11,
   "metadata": {},
   "outputs": [],
   "source": [
    "def plot_mlpd(ax, mlpd, title):\n",
    "    ax.errorbar(list(range(1,mlpd.shape[0]+1)), mlpd[:,0,:].mean(axis=1), yerr=mlpd[:,0,:].std(axis=1), c='b', label='ARD')\n",
    "    ax.errorbar(list(range(1,mlpd.shape[0]+1)), mlpd[:,1,:].mean(axis=1), yerr=mlpd[:,1,:].std(axis=1), c='r', label='KL')\n",
    "    ax.errorbar(list(range(1,mlpd.shape[0]+1)), mlpd[:,2,:].mean(axis=1), yerr=mlpd[:,2,:].std(axis=1), c='purple', label='VAR')\n",
    "    ax.set_title(title)\n",
    "    ax.set_ylabel('MLPD')\n",
    "    ax.legend()"
   ]
  },
  {
   "cell_type": "markdown",
   "metadata": {},
   "source": [
    "#### Concrete Dataset"
   ]
  },
  {
   "cell_type": "markdown",
   "metadata": {},
   "source": [
    "We first will analyze the concrete dataset. This dataset is extracted from the University of California Irvine dataset for machine learning. It contains indicators of different numbers of concrete metrics with the goal of predicting a slump rate, flow rate, and compressive strenght. In this model, we consider 7 predictive features with the output target predicting compressive strength of the concrete."
   ]
  },
  {
   "cell_type": "code",
   "execution_count": 12,
   "metadata": {
    "scrolled": false
   },
   "outputs": [
    {
     "data": {
      "text/html": [
       "<div>\n",
       "<style scoped>\n",
       "    .dataframe tbody tr th:only-of-type {\n",
       "        vertical-align: middle;\n",
       "    }\n",
       "\n",
       "    .dataframe tbody tr th {\n",
       "        vertical-align: top;\n",
       "    }\n",
       "\n",
       "    .dataframe thead th {\n",
       "        text-align: right;\n",
       "    }\n",
       "</style>\n",
       "<table border=\"1\" class=\"dataframe\">\n",
       "  <thead>\n",
       "    <tr style=\"text-align: right;\">\n",
       "      <th></th>\n",
       "      <th>No</th>\n",
       "      <th>Cement</th>\n",
       "      <th>Slag</th>\n",
       "      <th>Fly ash</th>\n",
       "      <th>Water</th>\n",
       "      <th>SP</th>\n",
       "      <th>Coarse Aggr.</th>\n",
       "      <th>Fine Aggr.</th>\n",
       "      <th>SLUMP(cm)</th>\n",
       "      <th>FLOW(cm)</th>\n",
       "      <th>Compressive Strength (28-day)(Mpa)</th>\n",
       "    </tr>\n",
       "  </thead>\n",
       "  <tbody>\n",
       "    <tr>\n",
       "      <th>0</th>\n",
       "      <td>1</td>\n",
       "      <td>273.0</td>\n",
       "      <td>82.0</td>\n",
       "      <td>105.0</td>\n",
       "      <td>210.0</td>\n",
       "      <td>9.0</td>\n",
       "      <td>904.0</td>\n",
       "      <td>680.0</td>\n",
       "      <td>23.0</td>\n",
       "      <td>62.0</td>\n",
       "      <td>34.99</td>\n",
       "    </tr>\n",
       "    <tr>\n",
       "      <th>1</th>\n",
       "      <td>2</td>\n",
       "      <td>163.0</td>\n",
       "      <td>149.0</td>\n",
       "      <td>191.0</td>\n",
       "      <td>180.0</td>\n",
       "      <td>12.0</td>\n",
       "      <td>843.0</td>\n",
       "      <td>746.0</td>\n",
       "      <td>0.0</td>\n",
       "      <td>20.0</td>\n",
       "      <td>41.14</td>\n",
       "    </tr>\n",
       "    <tr>\n",
       "      <th>2</th>\n",
       "      <td>3</td>\n",
       "      <td>162.0</td>\n",
       "      <td>148.0</td>\n",
       "      <td>191.0</td>\n",
       "      <td>179.0</td>\n",
       "      <td>16.0</td>\n",
       "      <td>840.0</td>\n",
       "      <td>743.0</td>\n",
       "      <td>1.0</td>\n",
       "      <td>20.0</td>\n",
       "      <td>41.81</td>\n",
       "    </tr>\n",
       "    <tr>\n",
       "      <th>3</th>\n",
       "      <td>4</td>\n",
       "      <td>162.0</td>\n",
       "      <td>148.0</td>\n",
       "      <td>190.0</td>\n",
       "      <td>179.0</td>\n",
       "      <td>19.0</td>\n",
       "      <td>838.0</td>\n",
       "      <td>741.0</td>\n",
       "      <td>3.0</td>\n",
       "      <td>21.5</td>\n",
       "      <td>42.08</td>\n",
       "    </tr>\n",
       "    <tr>\n",
       "      <th>4</th>\n",
       "      <td>5</td>\n",
       "      <td>154.0</td>\n",
       "      <td>112.0</td>\n",
       "      <td>144.0</td>\n",
       "      <td>220.0</td>\n",
       "      <td>10.0</td>\n",
       "      <td>923.0</td>\n",
       "      <td>658.0</td>\n",
       "      <td>20.0</td>\n",
       "      <td>64.0</td>\n",
       "      <td>26.82</td>\n",
       "    </tr>\n",
       "  </tbody>\n",
       "</table>\n",
       "</div>"
      ],
      "text/plain": [
       "   No  Cement   Slag  Fly ash  Water    SP  Coarse Aggr.  Fine Aggr.  \\\n",
       "0   1   273.0   82.0    105.0  210.0   9.0         904.0       680.0   \n",
       "1   2   163.0  149.0    191.0  180.0  12.0         843.0       746.0   \n",
       "2   3   162.0  148.0    191.0  179.0  16.0         840.0       743.0   \n",
       "3   4   162.0  148.0    190.0  179.0  19.0         838.0       741.0   \n",
       "4   5   154.0  112.0    144.0  220.0  10.0         923.0       658.0   \n",
       "\n",
       "   SLUMP(cm)  FLOW(cm)  Compressive Strength (28-day)(Mpa)  \n",
       "0       23.0      62.0                               34.99  \n",
       "1        0.0      20.0                               41.14  \n",
       "2        1.0      20.0                               41.81  \n",
       "3        3.0      21.5                               42.08  \n",
       "4       20.0      64.0                               26.82  "
      ]
     },
     "execution_count": 12,
     "metadata": {},
     "output_type": "execute_result"
    }
   ],
   "source": [
    "# Concrete Data\n",
    "data_link = 'https://archive.ics.uci.edu/ml/machine-learning-databases/concrete/slump/slump_test.data'\n",
    "df_concrete = pd.read_csv(data_link)\n",
    "df_concrete.head()"
   ]
  },
  {
   "cell_type": "code",
   "execution_count": 13,
   "metadata": {
    "scrolled": false
   },
   "outputs": [
    {
     "name": "stderr",
     "output_type": "stream",
     "text": [
      "reconstraining parameters GP_regression.sum.rbf.lengthscale\n",
      "reconstraining parameters GP_regression.sum.rbf.variance\n",
      "reconstraining parameters GP_regression.Gaussian_noise.variance\n"
     ]
    },
    {
     "name": "stdout",
     "output_type": "stream",
     "text": [
      "Data Shape: (103, 7)\n",
      "Testing full model\n"
     ]
    },
    {
     "name": "stderr",
     "output_type": "stream",
     "text": [
      " /anaconda3/lib/python3.6/site-packages/ipykernel_launcher.py:92: RuntimeWarning:invalid value encountered in sqrt\n",
      "reconstraining parameters GP_regression.sum.rbf.lengthscale\n",
      "reconstraining parameters GP_regression.sum.rbf.variance\n",
      "reconstraining parameters GP_regression.Gaussian_noise.variance\n",
      "reconstraining parameters GP_regression.sum.rbf.lengthscale\n",
      "reconstraining parameters GP_regression.sum.rbf.variance\n",
      "reconstraining parameters GP_regression.Gaussian_noise.variance\n",
      "reconstraining parameters GP_regression.sum.rbf.lengthscale\n",
      "reconstraining parameters GP_regression.sum.rbf.variance\n",
      "reconstraining parameters GP_regression.Gaussian_noise.variance\n",
      "reconstraining parameters GP_regression.sum.rbf.lengthscale\n",
      "reconstraining parameters GP_regression.sum.rbf.variance\n",
      "reconstraining parameters GP_regression.Gaussian_noise.variance\n",
      "reconstraining parameters GP_regression.sum.rbf.lengthscale\n",
      "reconstraining parameters GP_regression.sum.rbf.variance\n",
      "reconstraining parameters GP_regression.Gaussian_noise.variance\n",
      "reconstraining parameters GP_regression.sum.rbf.lengthscale\n",
      "reconstraining parameters GP_regression.sum.rbf.variance\n",
      "reconstraining parameters GP_regression.Gaussian_noise.variance\n",
      "reconstraining parameters GP_regression.sum.rbf.lengthscale\n",
      "reconstraining parameters GP_regression.sum.rbf.variance\n",
      "reconstraining parameters GP_regression.Gaussian_noise.variance\n",
      "reconstraining parameters GP_regression.sum.rbf.lengthscale\n",
      "reconstraining parameters GP_regression.sum.rbf.variance\n",
      "reconstraining parameters GP_regression.Gaussian_noise.variance\n",
      "reconstraining parameters GP_regression.sum.rbf.lengthscale\n",
      "reconstraining parameters GP_regression.sum.rbf.variance\n",
      "reconstraining parameters GP_regression.Gaussian_noise.variance\n",
      "reconstraining parameters GP_regression.sum.rbf.lengthscale\n",
      "reconstraining parameters GP_regression.sum.rbf.variance\n",
      "reconstraining parameters GP_regression.Gaussian_noise.variance\n"
     ]
    },
    {
     "name": "stdout",
     "output_type": "stream",
     "text": [
      "Testing Covariates\n",
      "0\n",
      "[3, 6, 0, 2, 1, 5, 4]\n",
      "Number of Features: 6\n"
     ]
    },
    {
     "name": "stderr",
     "output_type": "stream",
     "text": [
      "reconstraining parameters GP_regression.sum.rbf.lengthscale\n",
      "reconstraining parameters GP_regression.sum.rbf.variance\n",
      "reconstraining parameters GP_regression.Gaussian_noise.variance\n",
      "reconstraining parameters GP_regression.sum.rbf.lengthscale\n",
      "reconstraining parameters GP_regression.sum.rbf.variance\n",
      "reconstraining parameters GP_regression.Gaussian_noise.variance\n",
      "reconstraining parameters GP_regression.sum.rbf.lengthscale\n",
      "reconstraining parameters GP_regression.sum.rbf.variance\n",
      "reconstraining parameters GP_regression.Gaussian_noise.variance\n",
      "reconstraining parameters GP_regression.sum.rbf.lengthscale\n",
      "reconstraining parameters GP_regression.sum.rbf.variance\n",
      "reconstraining parameters GP_regression.Gaussian_noise.variance\n",
      "reconstraining parameters GP_regression.sum.rbf.lengthscale\n",
      "reconstraining parameters GP_regression.sum.rbf.variance\n",
      "reconstraining parameters GP_regression.Gaussian_noise.variance\n",
      "reconstraining parameters GP_regression.sum.rbf.lengthscale\n",
      "reconstraining parameters GP_regression.sum.rbf.variance\n",
      "reconstraining parameters GP_regression.Gaussian_noise.variance\n",
      "reconstraining parameters GP_regression.sum.rbf.lengthscale\n",
      "reconstraining parameters GP_regression.sum.rbf.variance\n",
      "reconstraining parameters GP_regression.Gaussian_noise.variance\n",
      "reconstraining parameters GP_regression.sum.rbf.lengthscale\n",
      "reconstraining parameters GP_regression.sum.rbf.variance\n",
      "reconstraining parameters GP_regression.Gaussian_noise.variance\n",
      "reconstraining parameters GP_regression.sum.rbf.lengthscale\n",
      "reconstraining parameters GP_regression.sum.rbf.variance\n",
      "reconstraining parameters GP_regression.Gaussian_noise.variance\n",
      "reconstraining parameters GP_regression.sum.rbf.lengthscale\n",
      "reconstraining parameters GP_regression.sum.rbf.variance\n",
      "reconstraining parameters GP_regression.Gaussian_noise.variance\n"
     ]
    },
    {
     "name": "stdout",
     "output_type": "stream",
     "text": [
      "Number of Features: 5\n"
     ]
    },
    {
     "name": "stderr",
     "output_type": "stream",
     "text": [
      "reconstraining parameters GP_regression.sum.rbf.lengthscale\n",
      "reconstraining parameters GP_regression.sum.rbf.variance\n",
      "reconstraining parameters GP_regression.Gaussian_noise.variance\n",
      "reconstraining parameters GP_regression.sum.rbf.lengthscale\n",
      "reconstraining parameters GP_regression.sum.rbf.variance\n",
      "reconstraining parameters GP_regression.Gaussian_noise.variance\n",
      "reconstraining parameters GP_regression.sum.rbf.lengthscale\n",
      "reconstraining parameters GP_regression.sum.rbf.variance\n",
      "reconstraining parameters GP_regression.Gaussian_noise.variance\n",
      "reconstraining parameters GP_regression.sum.rbf.lengthscale\n",
      "reconstraining parameters GP_regression.sum.rbf.variance\n",
      "reconstraining parameters GP_regression.Gaussian_noise.variance\n",
      "reconstraining parameters GP_regression.sum.rbf.lengthscale\n",
      "reconstraining parameters GP_regression.sum.rbf.variance\n",
      "reconstraining parameters GP_regression.Gaussian_noise.variance\n",
      "reconstraining parameters GP_regression.sum.rbf.lengthscale\n",
      "reconstraining parameters GP_regression.sum.rbf.variance\n",
      "reconstraining parameters GP_regression.Gaussian_noise.variance\n",
      "reconstraining parameters GP_regression.sum.rbf.lengthscale\n",
      "reconstraining parameters GP_regression.sum.rbf.variance\n",
      "reconstraining parameters GP_regression.Gaussian_noise.variance\n",
      "reconstraining parameters GP_regression.sum.rbf.lengthscale\n",
      "reconstraining parameters GP_regression.sum.rbf.variance\n",
      "reconstraining parameters GP_regression.Gaussian_noise.variance\n",
      "reconstraining parameters GP_regression.sum.rbf.lengthscale\n",
      "reconstraining parameters GP_regression.sum.rbf.variance\n",
      "reconstraining parameters GP_regression.Gaussian_noise.variance\n",
      "reconstraining parameters GP_regression.sum.rbf.lengthscale\n",
      "reconstraining parameters GP_regression.sum.rbf.variance\n",
      "reconstraining parameters GP_regression.Gaussian_noise.variance\n"
     ]
    },
    {
     "name": "stdout",
     "output_type": "stream",
     "text": [
      "Number of Features: 4\n"
     ]
    },
    {
     "name": "stderr",
     "output_type": "stream",
     "text": [
      "reconstraining parameters GP_regression.sum.rbf.lengthscale\n",
      "reconstraining parameters GP_regression.sum.rbf.variance\n",
      "reconstraining parameters GP_regression.Gaussian_noise.variance\n",
      "reconstraining parameters GP_regression.sum.rbf.lengthscale\n",
      "reconstraining parameters GP_regression.sum.rbf.variance\n",
      "reconstraining parameters GP_regression.Gaussian_noise.variance\n",
      "reconstraining parameters GP_regression.sum.rbf.lengthscale\n",
      "reconstraining parameters GP_regression.sum.rbf.variance\n",
      "reconstraining parameters GP_regression.Gaussian_noise.variance\n",
      "reconstraining parameters GP_regression.sum.rbf.lengthscale\n",
      "reconstraining parameters GP_regression.sum.rbf.variance\n",
      "reconstraining parameters GP_regression.Gaussian_noise.variance\n",
      "reconstraining parameters GP_regression.sum.rbf.lengthscale\n",
      "reconstraining parameters GP_regression.sum.rbf.variance\n",
      "reconstraining parameters GP_regression.Gaussian_noise.variance\n",
      "reconstraining parameters GP_regression.sum.rbf.lengthscale\n",
      "reconstraining parameters GP_regression.sum.rbf.variance\n",
      "reconstraining parameters GP_regression.Gaussian_noise.variance\n",
      "reconstraining parameters GP_regression.sum.rbf.lengthscale\n",
      "reconstraining parameters GP_regression.sum.rbf.variance\n",
      "reconstraining parameters GP_regression.Gaussian_noise.variance\n",
      "reconstraining parameters GP_regression.sum.rbf.lengthscale\n",
      "reconstraining parameters GP_regression.sum.rbf.variance\n",
      "reconstraining parameters GP_regression.Gaussian_noise.variance\n",
      "reconstraining parameters GP_regression.sum.rbf.lengthscale\n",
      "reconstraining parameters GP_regression.sum.rbf.variance\n",
      "reconstraining parameters GP_regression.Gaussian_noise.variance\n",
      "reconstraining parameters GP_regression.sum.rbf.lengthscale\n",
      "reconstraining parameters GP_regression.sum.rbf.variance\n",
      "reconstraining parameters GP_regression.Gaussian_noise.variance\n",
      "reconstraining parameters GP_regression.sum.rbf.lengthscale\n"
     ]
    },
    {
     "name": "stdout",
     "output_type": "stream",
     "text": [
      "Number of Features: 3\n"
     ]
    },
    {
     "name": "stderr",
     "output_type": "stream",
     "text": [
      "reconstraining parameters GP_regression.sum.rbf.variance\n",
      "reconstraining parameters GP_regression.Gaussian_noise.variance\n",
      "reconstraining parameters GP_regression.sum.rbf.lengthscale\n",
      "reconstraining parameters GP_regression.sum.rbf.variance\n",
      "reconstraining parameters GP_regression.Gaussian_noise.variance\n",
      "reconstraining parameters GP_regression.sum.rbf.lengthscale\n",
      "reconstraining parameters GP_regression.sum.rbf.variance\n",
      "reconstraining parameters GP_regression.Gaussian_noise.variance\n",
      "reconstraining parameters GP_regression.sum.rbf.lengthscale\n",
      "reconstraining parameters GP_regression.sum.rbf.variance\n",
      "reconstraining parameters GP_regression.Gaussian_noise.variance\n",
      "reconstraining parameters GP_regression.sum.rbf.lengthscale\n",
      "reconstraining parameters GP_regression.sum.rbf.variance\n",
      "reconstraining parameters GP_regression.Gaussian_noise.variance\n",
      "reconstraining parameters GP_regression.sum.rbf.lengthscale\n",
      "reconstraining parameters GP_regression.sum.rbf.variance\n",
      "reconstraining parameters GP_regression.Gaussian_noise.variance\n",
      "reconstraining parameters GP_regression.sum.rbf.lengthscale\n",
      "reconstraining parameters GP_regression.sum.rbf.variance\n",
      "reconstraining parameters GP_regression.Gaussian_noise.variance\n",
      "reconstraining parameters GP_regression.sum.rbf.lengthscale\n",
      "reconstraining parameters GP_regression.sum.rbf.variance\n",
      "reconstraining parameters GP_regression.Gaussian_noise.variance\n",
      "reconstraining parameters GP_regression.sum.rbf.lengthscale\n",
      "reconstraining parameters GP_regression.sum.rbf.variance\n",
      "reconstraining parameters GP_regression.Gaussian_noise.variance\n",
      "reconstraining parameters GP_regression.sum.rbf.lengthscale\n",
      "reconstraining parameters GP_regression.sum.rbf.variance\n",
      "reconstraining parameters GP_regression.Gaussian_noise.variance\n",
      "reconstraining parameters GP_regression.sum.rbf.lengthscale\n",
      "reconstraining parameters GP_regression.sum.rbf.variance\n",
      "reconstraining parameters GP_regression.Gaussian_noise.variance\n"
     ]
    },
    {
     "name": "stdout",
     "output_type": "stream",
     "text": [
      "Number of Features: 2\n"
     ]
    },
    {
     "name": "stderr",
     "output_type": "stream",
     "text": [
      "reconstraining parameters GP_regression.sum.rbf.lengthscale\n",
      "reconstraining parameters GP_regression.sum.rbf.variance\n",
      "reconstraining parameters GP_regression.Gaussian_noise.variance\n",
      "reconstraining parameters GP_regression.sum.rbf.lengthscale\n",
      "reconstraining parameters GP_regression.sum.rbf.variance\n",
      "reconstraining parameters GP_regression.Gaussian_noise.variance\n",
      "reconstraining parameters GP_regression.sum.rbf.lengthscale\n",
      "reconstraining parameters GP_regression.sum.rbf.variance\n",
      "reconstraining parameters GP_regression.Gaussian_noise.variance\n",
      "reconstraining parameters GP_regression.sum.rbf.lengthscale\n",
      "reconstraining parameters GP_regression.sum.rbf.variance\n",
      "reconstraining parameters GP_regression.Gaussian_noise.variance\n",
      "reconstraining parameters GP_regression.sum.rbf.lengthscale\n",
      "reconstraining parameters GP_regression.sum.rbf.variance\n",
      "reconstraining parameters GP_regression.Gaussian_noise.variance\n",
      "reconstraining parameters GP_regression.sum.rbf.lengthscale\n",
      "reconstraining parameters GP_regression.sum.rbf.variance\n",
      "reconstraining parameters GP_regression.Gaussian_noise.variance\n",
      "reconstraining parameters GP_regression.sum.rbf.lengthscale\n",
      "reconstraining parameters GP_regression.sum.rbf.variance\n",
      "reconstraining parameters GP_regression.Gaussian_noise.variance\n",
      "reconstraining parameters GP_regression.sum.rbf.lengthscale\n",
      "reconstraining parameters GP_regression.sum.rbf.variance\n",
      "reconstraining parameters GP_regression.Gaussian_noise.variance\n",
      "reconstraining parameters GP_regression.sum.rbf.lengthscale\n",
      "reconstraining parameters GP_regression.sum.rbf.variance\n",
      "reconstraining parameters GP_regression.Gaussian_noise.variance\n"
     ]
    },
    {
     "name": "stdout",
     "output_type": "stream",
     "text": [
      "Number of Features: 1\n"
     ]
    },
    {
     "name": "stderr",
     "output_type": "stream",
     "text": [
      "reconstraining parameters GP_regression.sum.rbf.lengthscale\n",
      "reconstraining parameters GP_regression.sum.rbf.variance\n",
      "reconstraining parameters GP_regression.Gaussian_noise.variance\n",
      "reconstraining parameters GP_regression.sum.rbf.lengthscale\n",
      "reconstraining parameters GP_regression.sum.rbf.variance\n",
      "reconstraining parameters GP_regression.Gaussian_noise.variance\n",
      "reconstraining parameters GP_regression.sum.rbf.lengthscale\n",
      "reconstraining parameters GP_regression.sum.rbf.variance\n",
      "reconstraining parameters GP_regression.Gaussian_noise.variance\n",
      "reconstraining parameters GP_regression.sum.rbf.lengthscale\n",
      "reconstraining parameters GP_regression.sum.rbf.variance\n",
      "reconstraining parameters GP_regression.Gaussian_noise.variance\n",
      "reconstraining parameters GP_regression.sum.rbf.lengthscale\n",
      "reconstraining parameters GP_regression.sum.rbf.variance\n",
      "reconstraining parameters GP_regression.Gaussian_noise.variance\n",
      "reconstraining parameters GP_regression.sum.rbf.lengthscale\n",
      "reconstraining parameters GP_regression.sum.rbf.variance\n",
      "reconstraining parameters GP_regression.Gaussian_noise.variance\n",
      "reconstraining parameters GP_regression.sum.rbf.lengthscale\n",
      "reconstraining parameters GP_regression.sum.rbf.variance\n",
      "reconstraining parameters GP_regression.Gaussian_noise.variance\n",
      "reconstraining parameters GP_regression.sum.rbf.lengthscale\n",
      "reconstraining parameters GP_regression.sum.rbf.variance\n",
      "reconstraining parameters GP_regression.Gaussian_noise.variance\n",
      "reconstraining parameters GP_regression.sum.rbf.lengthscale\n",
      "reconstraining parameters GP_regression.sum.rbf.variance\n",
      "reconstraining parameters GP_regression.Gaussian_noise.variance\n",
      "reconstraining parameters GP_regression.sum.rbf.lengthscale\n",
      "reconstraining parameters GP_regression.sum.rbf.variance\n",
      "reconstraining parameters GP_regression.Gaussian_noise.variance\n"
     ]
    },
    {
     "name": "stdout",
     "output_type": "stream",
     "text": [
      "1\n",
      "[0, 2, 3, 1, 6, 4, 5]\n",
      "Number of Features: 6\n"
     ]
    },
    {
     "name": "stderr",
     "output_type": "stream",
     "text": [
      "reconstraining parameters GP_regression.sum.rbf.lengthscale\n",
      "reconstraining parameters GP_regression.sum.rbf.variance\n",
      "reconstraining parameters GP_regression.Gaussian_noise.variance\n",
      "reconstraining parameters GP_regression.sum.rbf.lengthscale\n",
      "reconstraining parameters GP_regression.sum.rbf.variance\n",
      "reconstraining parameters GP_regression.Gaussian_noise.variance\n",
      "reconstraining parameters GP_regression.sum.rbf.lengthscale\n",
      "reconstraining parameters GP_regression.sum.rbf.variance\n",
      "reconstraining parameters GP_regression.Gaussian_noise.variance\n",
      "reconstraining parameters GP_regression.sum.rbf.lengthscale\n",
      "reconstraining parameters GP_regression.sum.rbf.variance\n",
      "reconstraining parameters GP_regression.Gaussian_noise.variance\n",
      "reconstraining parameters GP_regression.sum.rbf.lengthscale\n",
      "reconstraining parameters GP_regression.sum.rbf.variance\n",
      "reconstraining parameters GP_regression.Gaussian_noise.variance\n",
      "reconstraining parameters GP_regression.sum.rbf.lengthscale\n",
      "reconstraining parameters GP_regression.sum.rbf.variance\n",
      "reconstraining parameters GP_regression.Gaussian_noise.variance\n",
      "reconstraining parameters GP_regression.sum.rbf.lengthscale\n",
      "reconstraining parameters GP_regression.sum.rbf.variance\n",
      "reconstraining parameters GP_regression.Gaussian_noise.variance\n",
      "reconstraining parameters GP_regression.sum.rbf.lengthscale\n",
      "reconstraining parameters GP_regression.sum.rbf.variance\n",
      "reconstraining parameters GP_regression.Gaussian_noise.variance\n",
      "reconstraining parameters GP_regression.sum.rbf.lengthscale\n",
      "reconstraining parameters GP_regression.sum.rbf.variance\n",
      "reconstraining parameters GP_regression.Gaussian_noise.variance\n",
      "reconstraining parameters GP_regression.sum.rbf.lengthscale\n",
      "reconstraining parameters GP_regression.sum.rbf.variance\n",
      "reconstraining parameters GP_regression.Gaussian_noise.variance\n",
      "reconstraining parameters GP_regression.sum.rbf.lengthscale\n"
     ]
    },
    {
     "name": "stdout",
     "output_type": "stream",
     "text": [
      "Number of Features: 5\n"
     ]
    },
    {
     "name": "stderr",
     "output_type": "stream",
     "text": [
      "reconstraining parameters GP_regression.sum.rbf.variance\n",
      "reconstraining parameters GP_regression.Gaussian_noise.variance\n",
      "reconstraining parameters GP_regression.sum.rbf.lengthscale\n",
      "reconstraining parameters GP_regression.sum.rbf.variance\n",
      "reconstraining parameters GP_regression.Gaussian_noise.variance\n",
      "reconstraining parameters GP_regression.sum.rbf.lengthscale\n",
      "reconstraining parameters GP_regression.sum.rbf.variance\n",
      "reconstraining parameters GP_regression.Gaussian_noise.variance\n",
      "reconstraining parameters GP_regression.sum.rbf.lengthscale\n",
      "reconstraining parameters GP_regression.sum.rbf.variance\n",
      "reconstraining parameters GP_regression.Gaussian_noise.variance\n",
      "reconstraining parameters GP_regression.sum.rbf.lengthscale\n",
      "reconstraining parameters GP_regression.sum.rbf.variance\n",
      "reconstraining parameters GP_regression.Gaussian_noise.variance\n",
      "reconstraining parameters GP_regression.sum.rbf.lengthscale\n",
      "reconstraining parameters GP_regression.sum.rbf.variance\n",
      "reconstraining parameters GP_regression.Gaussian_noise.variance\n",
      "reconstraining parameters GP_regression.sum.rbf.lengthscale\n",
      "reconstraining parameters GP_regression.sum.rbf.variance\n",
      "reconstraining parameters GP_regression.Gaussian_noise.variance\n",
      "reconstraining parameters GP_regression.sum.rbf.lengthscale\n",
      "reconstraining parameters GP_regression.sum.rbf.variance\n",
      "reconstraining parameters GP_regression.Gaussian_noise.variance\n",
      "reconstraining parameters GP_regression.sum.rbf.lengthscale\n",
      "reconstraining parameters GP_regression.sum.rbf.variance\n",
      "reconstraining parameters GP_regression.Gaussian_noise.variance\n",
      "reconstraining parameters GP_regression.sum.rbf.lengthscale\n",
      "reconstraining parameters GP_regression.sum.rbf.variance\n",
      "reconstraining parameters GP_regression.Gaussian_noise.variance\n",
      "reconstraining parameters GP_regression.sum.rbf.lengthscale\n",
      "reconstraining parameters GP_regression.sum.rbf.variance\n",
      "reconstraining parameters GP_regression.Gaussian_noise.variance\n"
     ]
    },
    {
     "name": "stdout",
     "output_type": "stream",
     "text": [
      "Number of Features: 4\n"
     ]
    },
    {
     "name": "stderr",
     "output_type": "stream",
     "text": [
      "reconstraining parameters GP_regression.sum.rbf.lengthscale\n",
      "reconstraining parameters GP_regression.sum.rbf.variance\n",
      "reconstraining parameters GP_regression.Gaussian_noise.variance\n",
      "reconstraining parameters GP_regression.sum.rbf.lengthscale\n",
      "reconstraining parameters GP_regression.sum.rbf.variance\n",
      "reconstraining parameters GP_regression.Gaussian_noise.variance\n",
      "reconstraining parameters GP_regression.sum.rbf.lengthscale\n",
      "reconstraining parameters GP_regression.sum.rbf.variance\n",
      "reconstraining parameters GP_regression.Gaussian_noise.variance\n",
      "reconstraining parameters GP_regression.sum.rbf.lengthscale\n",
      "reconstraining parameters GP_regression.sum.rbf.variance\n",
      "reconstraining parameters GP_regression.Gaussian_noise.variance\n",
      "reconstraining parameters GP_regression.sum.rbf.lengthscale\n",
      "reconstraining parameters GP_regression.sum.rbf.variance\n",
      "reconstraining parameters GP_regression.Gaussian_noise.variance\n",
      "reconstraining parameters GP_regression.sum.rbf.lengthscale\n",
      "reconstraining parameters GP_regression.sum.rbf.variance\n",
      "reconstraining parameters GP_regression.Gaussian_noise.variance\n",
      "reconstraining parameters GP_regression.sum.rbf.lengthscale\n",
      "reconstraining parameters GP_regression.sum.rbf.variance\n",
      "reconstraining parameters GP_regression.Gaussian_noise.variance\n",
      "reconstraining parameters GP_regression.sum.rbf.lengthscale\n",
      "reconstraining parameters GP_regression.sum.rbf.variance\n",
      "reconstraining parameters GP_regression.Gaussian_noise.variance\n",
      "reconstraining parameters GP_regression.sum.rbf.lengthscale\n",
      "reconstraining parameters GP_regression.sum.rbf.variance\n",
      "reconstraining parameters GP_regression.Gaussian_noise.variance\n",
      "reconstraining parameters GP_regression.sum.rbf.lengthscale\n",
      "reconstraining parameters GP_regression.sum.rbf.variance\n",
      "reconstraining parameters GP_regression.Gaussian_noise.variance\n"
     ]
    },
    {
     "name": "stdout",
     "output_type": "stream",
     "text": [
      "Number of Features: 3\n"
     ]
    },
    {
     "name": "stderr",
     "output_type": "stream",
     "text": [
      "reconstraining parameters GP_regression.sum.rbf.lengthscale\n",
      "reconstraining parameters GP_regression.sum.rbf.variance\n",
      "reconstraining parameters GP_regression.Gaussian_noise.variance\n",
      "reconstraining parameters GP_regression.sum.rbf.lengthscale\n",
      "reconstraining parameters GP_regression.sum.rbf.variance\n",
      "reconstraining parameters GP_regression.Gaussian_noise.variance\n",
      "reconstraining parameters GP_regression.sum.rbf.lengthscale\n",
      "reconstraining parameters GP_regression.sum.rbf.variance\n",
      "reconstraining parameters GP_regression.Gaussian_noise.variance\n",
      "reconstraining parameters GP_regression.sum.rbf.lengthscale\n",
      "reconstraining parameters GP_regression.sum.rbf.variance\n",
      "reconstraining parameters GP_regression.Gaussian_noise.variance\n",
      "reconstraining parameters GP_regression.sum.rbf.lengthscale\n",
      "reconstraining parameters GP_regression.sum.rbf.variance\n",
      "reconstraining parameters GP_regression.Gaussian_noise.variance\n",
      "reconstraining parameters GP_regression.sum.rbf.lengthscale\n",
      "reconstraining parameters GP_regression.sum.rbf.variance\n",
      "reconstraining parameters GP_regression.Gaussian_noise.variance\n",
      "reconstraining parameters GP_regression.sum.rbf.lengthscale\n",
      "reconstraining parameters GP_regression.sum.rbf.variance\n",
      "reconstraining parameters GP_regression.Gaussian_noise.variance\n",
      "reconstraining parameters GP_regression.sum.rbf.lengthscale\n",
      "reconstraining parameters GP_regression.sum.rbf.variance\n",
      "reconstraining parameters GP_regression.Gaussian_noise.variance\n",
      "reconstraining parameters GP_regression.sum.rbf.lengthscale\n",
      "reconstraining parameters GP_regression.sum.rbf.variance\n",
      "reconstraining parameters GP_regression.Gaussian_noise.variance\n"
     ]
    },
    {
     "name": "stdout",
     "output_type": "stream",
     "text": [
      "Number of Features: 2\n"
     ]
    },
    {
     "name": "stderr",
     "output_type": "stream",
     "text": [
      "reconstraining parameters GP_regression.sum.rbf.lengthscale\n",
      "reconstraining parameters GP_regression.sum.rbf.variance\n",
      "reconstraining parameters GP_regression.Gaussian_noise.variance\n",
      "reconstraining parameters GP_regression.sum.rbf.lengthscale\n",
      "reconstraining parameters GP_regression.sum.rbf.variance\n",
      "reconstraining parameters GP_regression.Gaussian_noise.variance\n",
      "reconstraining parameters GP_regression.sum.rbf.lengthscale\n",
      "reconstraining parameters GP_regression.sum.rbf.variance\n",
      "reconstraining parameters GP_regression.Gaussian_noise.variance\n",
      "reconstraining parameters GP_regression.sum.rbf.lengthscale\n",
      "reconstraining parameters GP_regression.sum.rbf.variance\n",
      "reconstraining parameters GP_regression.Gaussian_noise.variance\n",
      "reconstraining parameters GP_regression.sum.rbf.lengthscale\n",
      "reconstraining parameters GP_regression.sum.rbf.variance\n",
      "reconstraining parameters GP_regression.Gaussian_noise.variance\n",
      "reconstraining parameters GP_regression.sum.rbf.lengthscale\n",
      "reconstraining parameters GP_regression.sum.rbf.variance\n",
      "reconstraining parameters GP_regression.Gaussian_noise.variance\n",
      "reconstraining parameters GP_regression.sum.rbf.lengthscale\n",
      "reconstraining parameters GP_regression.sum.rbf.variance\n",
      "reconstraining parameters GP_regression.Gaussian_noise.variance\n",
      "reconstraining parameters GP_regression.sum.rbf.lengthscale\n",
      "reconstraining parameters GP_regression.sum.rbf.variance\n",
      "reconstraining parameters GP_regression.Gaussian_noise.variance\n",
      "reconstraining parameters GP_regression.sum.rbf.lengthscale\n",
      "reconstraining parameters GP_regression.sum.rbf.variance\n",
      "reconstraining parameters GP_regression.Gaussian_noise.variance\n",
      "reconstraining parameters GP_regression.sum.rbf.lengthscale\n",
      "reconstraining parameters GP_regression.sum.rbf.variance\n",
      "reconstraining parameters GP_regression.Gaussian_noise.variance\n",
      "reconstraining parameters GP_regression.sum.rbf.lengthscale\n",
      "reconstraining parameters GP_regression.sum.rbf.variance\n"
     ]
    },
    {
     "name": "stdout",
     "output_type": "stream",
     "text": [
      "Number of Features: 1\n"
     ]
    },
    {
     "name": "stderr",
     "output_type": "stream",
     "text": [
      "reconstraining parameters GP_regression.Gaussian_noise.variance\n",
      "reconstraining parameters GP_regression.sum.rbf.lengthscale\n",
      "reconstraining parameters GP_regression.sum.rbf.variance\n",
      "reconstraining parameters GP_regression.Gaussian_noise.variance\n",
      "reconstraining parameters GP_regression.sum.rbf.lengthscale\n",
      "reconstraining parameters GP_regression.sum.rbf.variance\n",
      "reconstraining parameters GP_regression.Gaussian_noise.variance\n",
      "reconstraining parameters GP_regression.sum.rbf.lengthscale\n",
      "reconstraining parameters GP_regression.sum.rbf.variance\n",
      "reconstraining parameters GP_regression.Gaussian_noise.variance\n",
      "reconstraining parameters GP_regression.sum.rbf.lengthscale\n",
      "reconstraining parameters GP_regression.sum.rbf.variance\n",
      "reconstraining parameters GP_regression.Gaussian_noise.variance\n",
      "reconstraining parameters GP_regression.sum.rbf.lengthscale\n",
      "reconstraining parameters GP_regression.sum.rbf.variance\n",
      "reconstraining parameters GP_regression.Gaussian_noise.variance\n",
      "reconstraining parameters GP_regression.sum.rbf.lengthscale\n",
      "reconstraining parameters GP_regression.sum.rbf.variance\n",
      "reconstraining parameters GP_regression.Gaussian_noise.variance\n",
      "reconstraining parameters GP_regression.sum.rbf.lengthscale\n",
      "reconstraining parameters GP_regression.sum.rbf.variance\n",
      "reconstraining parameters GP_regression.Gaussian_noise.variance\n",
      "reconstraining parameters GP_regression.sum.rbf.lengthscale\n",
      "reconstraining parameters GP_regression.sum.rbf.variance\n",
      "reconstraining parameters GP_regression.Gaussian_noise.variance\n",
      "reconstraining parameters GP_regression.sum.rbf.lengthscale\n",
      "reconstraining parameters GP_regression.sum.rbf.variance\n",
      "reconstraining parameters GP_regression.Gaussian_noise.variance\n"
     ]
    },
    {
     "name": "stdout",
     "output_type": "stream",
     "text": [
      "2\n",
      "[5, 2, 0, 3, 6, 1, 4]\n",
      "Number of Features: 6\n"
     ]
    },
    {
     "name": "stderr",
     "output_type": "stream",
     "text": [
      "reconstraining parameters GP_regression.sum.rbf.lengthscale\n",
      "reconstraining parameters GP_regression.sum.rbf.variance\n",
      "reconstraining parameters GP_regression.Gaussian_noise.variance\n",
      "reconstraining parameters GP_regression.sum.rbf.lengthscale\n",
      "reconstraining parameters GP_regression.sum.rbf.variance\n",
      "reconstraining parameters GP_regression.Gaussian_noise.variance\n",
      "reconstraining parameters GP_regression.sum.rbf.lengthscale\n",
      "reconstraining parameters GP_regression.sum.rbf.variance\n",
      "reconstraining parameters GP_regression.Gaussian_noise.variance\n",
      "reconstraining parameters GP_regression.sum.rbf.lengthscale\n",
      "reconstraining parameters GP_regression.sum.rbf.variance\n",
      "reconstraining parameters GP_regression.Gaussian_noise.variance\n",
      "reconstraining parameters GP_regression.sum.rbf.lengthscale\n",
      "reconstraining parameters GP_regression.sum.rbf.variance\n",
      "reconstraining parameters GP_regression.Gaussian_noise.variance\n",
      "reconstraining parameters GP_regression.sum.rbf.lengthscale\n",
      "reconstraining parameters GP_regression.sum.rbf.variance\n",
      "reconstraining parameters GP_regression.Gaussian_noise.variance\n",
      "reconstraining parameters GP_regression.sum.rbf.lengthscale\n",
      "reconstraining parameters GP_regression.sum.rbf.variance\n",
      "reconstraining parameters GP_regression.Gaussian_noise.variance\n",
      "reconstraining parameters GP_regression.sum.rbf.lengthscale\n",
      "reconstraining parameters GP_regression.sum.rbf.variance\n",
      "reconstraining parameters GP_regression.Gaussian_noise.variance\n",
      "reconstraining parameters GP_regression.sum.rbf.lengthscale\n",
      "reconstraining parameters GP_regression.sum.rbf.variance\n",
      "reconstraining parameters GP_regression.Gaussian_noise.variance\n",
      "reconstraining parameters GP_regression.sum.rbf.lengthscale\n",
      "reconstraining parameters GP_regression.sum.rbf.variance\n",
      "reconstraining parameters GP_regression.Gaussian_noise.variance\n"
     ]
    },
    {
     "name": "stdout",
     "output_type": "stream",
     "text": [
      "Number of Features: 5\n"
     ]
    },
    {
     "name": "stderr",
     "output_type": "stream",
     "text": [
      "reconstraining parameters GP_regression.sum.rbf.lengthscale\n",
      "reconstraining parameters GP_regression.sum.rbf.variance\n",
      "reconstraining parameters GP_regression.Gaussian_noise.variance\n",
      "reconstraining parameters GP_regression.sum.rbf.lengthscale\n",
      "reconstraining parameters GP_regression.sum.rbf.variance\n",
      "reconstraining parameters GP_regression.Gaussian_noise.variance\n",
      "reconstraining parameters GP_regression.sum.rbf.lengthscale\n",
      "reconstraining parameters GP_regression.sum.rbf.variance\n",
      "reconstraining parameters GP_regression.Gaussian_noise.variance\n",
      "reconstraining parameters GP_regression.sum.rbf.lengthscale\n",
      "reconstraining parameters GP_regression.sum.rbf.variance\n",
      "reconstraining parameters GP_regression.Gaussian_noise.variance\n",
      "reconstraining parameters GP_regression.sum.rbf.lengthscale\n",
      "reconstraining parameters GP_regression.sum.rbf.variance\n",
      "reconstraining parameters GP_regression.Gaussian_noise.variance\n",
      "reconstraining parameters GP_regression.sum.rbf.lengthscale\n",
      "reconstraining parameters GP_regression.sum.rbf.variance\n",
      "reconstraining parameters GP_regression.Gaussian_noise.variance\n",
      "reconstraining parameters GP_regression.sum.rbf.lengthscale\n",
      "reconstraining parameters GP_regression.sum.rbf.variance\n",
      "reconstraining parameters GP_regression.Gaussian_noise.variance\n",
      "reconstraining parameters GP_regression.sum.rbf.lengthscale\n",
      "reconstraining parameters GP_regression.sum.rbf.variance\n",
      "reconstraining parameters GP_regression.Gaussian_noise.variance\n",
      "reconstraining parameters GP_regression.sum.rbf.lengthscale\n",
      "reconstraining parameters GP_regression.sum.rbf.variance\n",
      "reconstraining parameters GP_regression.Gaussian_noise.variance\n",
      "reconstraining parameters GP_regression.sum.rbf.lengthscale\n",
      "reconstraining parameters GP_regression.sum.rbf.variance\n",
      "reconstraining parameters GP_regression.Gaussian_noise.variance\n",
      "reconstraining parameters GP_regression.sum.rbf.lengthscale\n",
      "reconstraining parameters GP_regression.sum.rbf.variance\n",
      "reconstraining parameters GP_regression.Gaussian_noise.variance\n"
     ]
    },
    {
     "name": "stdout",
     "output_type": "stream",
     "text": [
      "Number of Features: 4\n"
     ]
    },
    {
     "name": "stderr",
     "output_type": "stream",
     "text": [
      "reconstraining parameters GP_regression.sum.rbf.lengthscale\n",
      "reconstraining parameters GP_regression.sum.rbf.variance\n",
      "reconstraining parameters GP_regression.Gaussian_noise.variance\n",
      "reconstraining parameters GP_regression.sum.rbf.lengthscale\n",
      "reconstraining parameters GP_regression.sum.rbf.variance\n",
      "reconstraining parameters GP_regression.Gaussian_noise.variance\n",
      "reconstraining parameters GP_regression.sum.rbf.lengthscale\n",
      "reconstraining parameters GP_regression.sum.rbf.variance\n",
      "reconstraining parameters GP_regression.Gaussian_noise.variance\n",
      "reconstraining parameters GP_regression.sum.rbf.lengthscale\n",
      "reconstraining parameters GP_regression.sum.rbf.variance\n",
      "reconstraining parameters GP_regression.Gaussian_noise.variance\n",
      "reconstraining parameters GP_regression.sum.rbf.lengthscale\n",
      "reconstraining parameters GP_regression.sum.rbf.variance\n",
      "reconstraining parameters GP_regression.Gaussian_noise.variance\n",
      "reconstraining parameters GP_regression.sum.rbf.lengthscale\n",
      "reconstraining parameters GP_regression.sum.rbf.variance\n",
      "reconstraining parameters GP_regression.Gaussian_noise.variance\n",
      "reconstraining parameters GP_regression.sum.rbf.lengthscale\n",
      "reconstraining parameters GP_regression.sum.rbf.variance\n",
      "reconstraining parameters GP_regression.Gaussian_noise.variance\n",
      "reconstraining parameters GP_regression.sum.rbf.lengthscale\n",
      "reconstraining parameters GP_regression.sum.rbf.variance\n",
      "reconstraining parameters GP_regression.Gaussian_noise.variance\n",
      "reconstraining parameters GP_regression.sum.rbf.lengthscale\n",
      "reconstraining parameters GP_regression.sum.rbf.variance\n",
      "reconstraining parameters GP_regression.Gaussian_noise.variance\n"
     ]
    },
    {
     "name": "stdout",
     "output_type": "stream",
     "text": [
      "Number of Features: 3\n"
     ]
    },
    {
     "name": "stderr",
     "output_type": "stream",
     "text": [
      "reconstraining parameters GP_regression.sum.rbf.lengthscale\n",
      "reconstraining parameters GP_regression.sum.rbf.variance\n",
      "reconstraining parameters GP_regression.Gaussian_noise.variance\n",
      "reconstraining parameters GP_regression.sum.rbf.lengthscale\n",
      "reconstraining parameters GP_regression.sum.rbf.variance\n",
      "reconstraining parameters GP_regression.Gaussian_noise.variance\n",
      "reconstraining parameters GP_regression.sum.rbf.lengthscale\n",
      "reconstraining parameters GP_regression.sum.rbf.variance\n",
      "reconstraining parameters GP_regression.Gaussian_noise.variance\n",
      "reconstraining parameters GP_regression.sum.rbf.lengthscale\n",
      "reconstraining parameters GP_regression.sum.rbf.variance\n",
      "reconstraining parameters GP_regression.Gaussian_noise.variance\n",
      "reconstraining parameters GP_regression.sum.rbf.lengthscale\n",
      "reconstraining parameters GP_regression.sum.rbf.variance\n",
      "reconstraining parameters GP_regression.Gaussian_noise.variance\n",
      "reconstraining parameters GP_regression.sum.rbf.lengthscale\n",
      "reconstraining parameters GP_regression.sum.rbf.variance\n",
      "reconstraining parameters GP_regression.Gaussian_noise.variance\n",
      "reconstraining parameters GP_regression.sum.rbf.lengthscale\n",
      "reconstraining parameters GP_regression.sum.rbf.variance\n",
      "reconstraining parameters GP_regression.Gaussian_noise.variance\n",
      "reconstraining parameters GP_regression.sum.rbf.lengthscale\n",
      "reconstraining parameters GP_regression.sum.rbf.variance\n",
      "reconstraining parameters GP_regression.Gaussian_noise.variance\n",
      "reconstraining parameters GP_regression.sum.rbf.lengthscale\n",
      "reconstraining parameters GP_regression.sum.rbf.variance\n",
      "reconstraining parameters GP_regression.Gaussian_noise.variance\n",
      "reconstraining parameters GP_regression.sum.rbf.lengthscale\n",
      "reconstraining parameters GP_regression.sum.rbf.variance\n",
      "reconstraining parameters GP_regression.Gaussian_noise.variance\n",
      "reconstraining parameters GP_regression.sum.rbf.lengthscale\n",
      "reconstraining parameters GP_regression.sum.rbf.variance\n",
      "reconstraining parameters GP_regression.Gaussian_noise.variance\n"
     ]
    },
    {
     "name": "stdout",
     "output_type": "stream",
     "text": [
      "Number of Features: 2\n"
     ]
    },
    {
     "name": "stderr",
     "output_type": "stream",
     "text": [
      "reconstraining parameters GP_regression.sum.rbf.lengthscale\n",
      "reconstraining parameters GP_regression.sum.rbf.variance\n",
      "reconstraining parameters GP_regression.Gaussian_noise.variance\n",
      "reconstraining parameters GP_regression.sum.rbf.lengthscale\n",
      "reconstraining parameters GP_regression.sum.rbf.variance\n",
      "reconstraining parameters GP_regression.Gaussian_noise.variance\n",
      "reconstraining parameters GP_regression.sum.rbf.lengthscale\n",
      "reconstraining parameters GP_regression.sum.rbf.variance\n",
      "reconstraining parameters GP_regression.Gaussian_noise.variance\n",
      "reconstraining parameters GP_regression.sum.rbf.lengthscale\n",
      "reconstraining parameters GP_regression.sum.rbf.variance\n",
      "reconstraining parameters GP_regression.Gaussian_noise.variance\n",
      "reconstraining parameters GP_regression.sum.rbf.lengthscale\n",
      "reconstraining parameters GP_regression.sum.rbf.variance\n",
      "reconstraining parameters GP_regression.Gaussian_noise.variance\n",
      "reconstraining parameters GP_regression.sum.rbf.lengthscale\n",
      "reconstraining parameters GP_regression.sum.rbf.variance\n",
      "reconstraining parameters GP_regression.Gaussian_noise.variance\n",
      "reconstraining parameters GP_regression.sum.rbf.lengthscale\n",
      "reconstraining parameters GP_regression.sum.rbf.variance\n",
      "reconstraining parameters GP_regression.Gaussian_noise.variance\n",
      "reconstraining parameters GP_regression.sum.rbf.lengthscale\n",
      "reconstraining parameters GP_regression.sum.rbf.variance\n",
      "reconstraining parameters GP_regression.Gaussian_noise.variance\n",
      "reconstraining parameters GP_regression.sum.rbf.lengthscale\n",
      "reconstraining parameters GP_regression.sum.rbf.variance\n",
      "reconstraining parameters GP_regression.Gaussian_noise.variance\n",
      "reconstraining parameters GP_regression.sum.rbf.lengthscale\n",
      "reconstraining parameters GP_regression.sum.rbf.variance\n",
      "reconstraining parameters GP_regression.Gaussian_noise.variance\n"
     ]
    },
    {
     "name": "stdout",
     "output_type": "stream",
     "text": [
      "Number of Features: 1\n"
     ]
    },
    {
     "name": "stderr",
     "output_type": "stream",
     "text": [
      "reconstraining parameters GP_regression.sum.rbf.lengthscale\n",
      "reconstraining parameters GP_regression.sum.rbf.variance\n",
      "reconstraining parameters GP_regression.Gaussian_noise.variance\n",
      "reconstraining parameters GP_regression.sum.rbf.lengthscale\n",
      "reconstraining parameters GP_regression.sum.rbf.variance\n",
      "reconstraining parameters GP_regression.Gaussian_noise.variance\n",
      "reconstraining parameters GP_regression.sum.rbf.lengthscale\n",
      "reconstraining parameters GP_regression.sum.rbf.variance\n",
      "reconstraining parameters GP_regression.Gaussian_noise.variance\n",
      "reconstraining parameters GP_regression.sum.rbf.lengthscale\n",
      "reconstraining parameters GP_regression.sum.rbf.variance\n",
      "reconstraining parameters GP_regression.Gaussian_noise.variance\n",
      "reconstraining parameters GP_regression.sum.rbf.lengthscale\n",
      "reconstraining parameters GP_regression.sum.rbf.variance\n",
      "reconstraining parameters GP_regression.Gaussian_noise.variance\n",
      "reconstraining parameters GP_regression.sum.rbf.lengthscale\n",
      "reconstraining parameters GP_regression.sum.rbf.variance\n",
      "reconstraining parameters GP_regression.Gaussian_noise.variance\n",
      "reconstraining parameters GP_regression.sum.rbf.lengthscale\n",
      "reconstraining parameters GP_regression.sum.rbf.variance\n",
      "reconstraining parameters GP_regression.Gaussian_noise.variance\n",
      "reconstraining parameters GP_regression.sum.rbf.lengthscale\n",
      "reconstraining parameters GP_regression.sum.rbf.variance\n",
      "reconstraining parameters GP_regression.Gaussian_noise.variance\n"
     ]
    }
   ],
   "source": [
    "# Concrete data\n",
    "X_concrete = df_concrete.iloc[:,1:-3]\n",
    "y_concrete = df_concrete.iloc[:,-1]\n",
    "print('Data Shape:', X_concrete.shape)\n",
    "collector,mlpd_concrete = perform_GP_fitting(X_concrete, y_concrete)\n",
    "#collector = perform_GP_fitting(X_concrete, y_concrete)"
   ]
  },
  {
   "cell_type": "code",
   "execution_count": 14,
   "metadata": {},
   "outputs": [
    {
     "data": {
      "image/png": "[encoded data removed]",
      "text/plain": [
       "<matplotlib.figure.Figure at 0x1a0d502198>"
      ]
     },
     "metadata": {},
     "output_type": "display_data"
    },
    {
     "data": {
      "image/png": "[encoded data removed]",
      "text/plain": [
       "<matplotlib.figure.Figure at 0x1a1ac21208>"
      ]
     },
     "metadata": {},
     "output_type": "display_data"
    },
    {
     "data": {
      "image/png": "[encoded data removed]",
      "text/plain": [
       "<matplotlib.figure.Figure at 0x1a0d5089b0>"
      ]
     },
     "metadata": {},
     "output_type": "display_data"
    }
   ],
   "source": [
    "#plots fig 4 from the paper for concrete dataset\n",
    "xs = [1,3,4,2,7,5,6]\n",
    "features = np.array([1,2,3,4,5,6,7])\n",
    "titlenames = ['ARD','KL','VAR']\n",
    "def mapper(a):\n",
    "    temp = []\n",
    "    for i,xvals in enumerate(xs):\n",
    "        temp.append(np.where(a==xvals))\n",
    "    return(np.array(temp).ravel())\n",
    "labelvals = ['ARD','KL','VAR']\n",
    "for j,title in enumerate(titlenames):\n",
    "    plt.figure()\n",
    "    for i in range(len(collector)):\n",
    "        a = np.array(list(reversed(np.argsort(collector[i])[j])))+1\n",
    "        plt.scatter(features+np.random.normal(0,0.1),mapper(a)+1,c='r')\n",
    "    plt.xticks(range(1,8),xs)\n",
    "    plt.xlabel('Covariate Number')\n",
    "    plt.ylabel('Relevance Ordinal Number')\n",
    "    plt.title(title)\n",
    "    plt.gca().invert_yaxis()\n",
    "        "
   ]
  },
  {
   "cell_type": "markdown",
   "metadata": {},
   "source": [
    "In the above plots, we have plotted the relevance of each covariance number as a function of the covariate to get a sense of how consistent or inconsistent the model was at establishing a relevance order from one repitition to the next. The main thing we observe in this set of three figures is that the KL method consistenly produces the same ranking for its features in the numerous runs. We see that ARD also does this with the exception of the final two covariates."
   ]
  },
  {
   "cell_type": "code",
   "execution_count": 32,
   "metadata": {},
   "outputs": [
    {
     "data": {
      "image/png": "[encoded data removed]",
      "text/plain": [
       "<matplotlib.figure.Figure at 0x1a1ac66208>"
      ]
     },
     "metadata": {},
     "output_type": "display_data"
    }
   ],
   "source": [
    "# Plot results\n",
    "fig, ax = plt.subplots(1,1)\n",
    "plot_mlpd(ax, mlpd_concrete, 'Concrete')\n",
    "plt.xlabel('Number of Covariates Included')\n",
    "plt.show()"
   ]
  },
  {
   "cell_type": "markdown",
   "metadata": {},
   "source": [
    "The above figure shows the mean log-predictive density as a function of the number of covariate included in the model. We expect that all three relevance ordering schemes will produce the exact same MLPD when all 7 covariates are included in the model. Error bars at each covariate index are gathered from a standard deviation calculation over the number of repititions of this procedure with shuffled test and train data.\n",
    "\n",
    "We notice in the ARD ordering that it is highly sensitive to the priors and its ordering results in much weaker performance for lower covariate indices as can be seen in the figure above. The variance method does also result in significant variations across iterations in terms of the ordering which is not consistent with the results in the paper but it does depend on the parameters chosen and we are not certain what Topi et al used.\n",
    "\n",
    "Regardless of this, we can see that KL and Var methods perform as well as or better than ARD in terms of selecting the most important features and returning their order. You are free to test out other datasets (which we have included below) and corroborate results with the paper to see whether the methods are consistent across other real world problems."
   ]
  },
  {
   "cell_type": "code",
   "execution_count": 16,
   "metadata": {},
   "outputs": [],
   "source": [
    "# # Boston Housing data\n",
    "# data_link='https://archive.ics.uci.edu/ml/machine-learning-databases/housing/housing.data'\n",
    "# colnames = ['CRIM','ZN','INDUS','CHAS','NOX','RM','AGE','DIS','RAD','TAX','PTRATIO','B','LSTAT','MEDV']\n",
    "# df_Boston = pd.read_csv(data_link, delim_whitespace=True, header=None)\n",
    "# df_Boston.columns = colnames\n",
    "# df_Boston.head()"
   ]
  },
  {
   "cell_type": "code",
   "execution_count": 17,
   "metadata": {
    "scrolled": false
   },
   "outputs": [],
   "source": [
    "# X_Boston = df_Boston.iloc[:,:-1]\n",
    "# y_Boston = df_Boston.iloc[:,-1]\n",
    "# print('Data Shape:', X_Boston.shape)\n",
    "# print('Output Shape:', y_Boston.shape)\n",
    "# mlpd_Boston = perform_GP_fitting(X_Boston,y_Boston)"
   ]
  },
  {
   "cell_type": "code",
   "execution_count": 18,
   "metadata": {},
   "outputs": [],
   "source": [
    "# # Plot Boston housing\n",
    "# fig, ax = plt.subplots(1,1)\n",
    "# plot_mlpd(ax, mlpd_Boston, 'Boston Housing')\n",
    "# plt.xlabel('Covariate Index')\n",
    "# plt.show()"
   ]
  },
  {
   "cell_type": "code",
   "execution_count": 19,
   "metadata": {},
   "outputs": [],
   "source": [
    "# # NOTE: CRIME DATA IS VERY LARGE AND TAKES TOO LONG WITHOUT SAMPLING METHODS\n",
    "# # Crime data\n",
    "# data_link = 'http://archive.ics.uci.edu/ml/machine-learning-databases/communities/communities.data'\n",
    "# df_crime = pd.read_csv(data_link, delim_whitespace=False, header=None)\n",
    "\n",
    "# # Drop the 4th column because it is strings only\n",
    "# df_crime = df_crime.drop(columns=[3])\n",
    "\n",
    "# # Replace '?' with nan\n",
    "# df_crime = df_crime.replace({'?': np.nan})\n",
    "\n",
    "# # Convert to numeric\n",
    "# df_crime = df_crime.apply(pd.to_numeric, args=('coerce',))\n",
    "\n",
    "# # Fill missing with mean imputation:\n",
    "# df_crime = df_crime.apply(lambda x: x.fillna(x.mean()),axis=0)\n",
    "\n",
    "# df_crime = df_crime.sample(n=300, random_state=10)\n",
    "\n",
    "# print('Data Shape:', df_crime.shape)\n",
    "# df_crime.head()"
   ]
  },
  {
   "cell_type": "code",
   "execution_count": 20,
   "metadata": {},
   "outputs": [],
   "source": [
    "# # Run the GP model on this dataset:\n",
    "# X_crime = df_crime.iloc[:,:-1]\n",
    "# y_crime= df_crime.iloc[:,-1]\n",
    "# print('Data Shape:', X_crime.shape)\n",
    "# print('Output Shape:', y_crime.shape)\n",
    "# mlpd_crime = perform_GP_fitting(X_crime,y_crime)"
   ]
  },
  {
   "cell_type": "code",
   "execution_count": 21,
   "metadata": {},
   "outputs": [],
   "source": [
    "# # Plot crime data\n",
    "# fig, ax = plt.subplots(1,1)\n",
    "# plot_mlpd(ax, mlpd_crime, 'Crime')\n",
    "# plt.xlabel('Covariate Index')\n",
    "# plt.show()"
   ]
  },
  {
   "cell_type": "code",
   "execution_count": 22,
   "metadata": {},
   "outputs": [],
   "source": [
    "# data_link = 'https://archive.ics.uci.edu/ml/machine-learning-databases/auto-mpg/auto-mpg.data'\n",
    "# df_cars = pd.read_csv(data_link, delim_whitespace=True, header=None)\n",
    "\n",
    "# # Initial size:\n",
    "# print('Initial Size:', df_cars.shape)\n",
    "\n",
    "# # Drop the last column because it's string\n",
    "# df_cars = df_cars.drop(columns=[8])\n",
    "\n",
    "# # Replace '?' with nan\n",
    "# df_cars = df_cars.replace({'?': np.nan})\n",
    "\n",
    "# # Drop imputation\n",
    "# df_cars = df_cars.dropna()\n",
    "# print('Final Size:', df_cars.shape)\n",
    "\n",
    "# # Print the head\n",
    "# df_cars.head()"
   ]
  },
  {
   "cell_type": "code",
   "execution_count": 23,
   "metadata": {},
   "outputs": [],
   "source": [
    "# X_cars = df_cars.iloc[:,1::]\n",
    "# y_cars = df_cars.iloc[:,0]\n",
    "# print('Data Shape:', X_cars.shape)\n",
    "# print('Output Shape:', y_cars.shape)\n",
    "# mlpd_cars = perform_GP_fitting(X_cars,y_cars)"
   ]
  },
  {
   "cell_type": "code",
   "execution_count": 24,
   "metadata": {},
   "outputs": [],
   "source": [
    "# # Plot car data\n",
    "# fig, ax = plt.subplots(1,1)\n",
    "# plot_mlpd(ax, mlpd_cars, 'Cars')\n",
    "# plt.xlabel('Covariate Index')\n",
    "# plt.show()"
   ]
  },
  {
   "cell_type": "code",
   "execution_count": 25,
   "metadata": {},
   "outputs": [],
   "source": [
    "# # Read in the data\n",
    "# df_facebook = pd.read_csv('dataset_Facebook.csv', delimiter=';')\n",
    "\n",
    "# # Convert second column to categorical indices\n",
    "# df_facebook = df_facebook.drop(columns=['Type'])\n",
    "\n",
    "# # Print data shape\n",
    "# print('Shape of Data', df_facebook.shape)\n",
    "\n",
    "# # Fill nans \n",
    "# df_facebook = df_facebook.dropna()\n",
    "\n",
    "# df_facebook.head()"
   ]
  },
  {
   "cell_type": "code",
   "execution_count": 26,
   "metadata": {
    "scrolled": false
   },
   "outputs": [],
   "source": [
    "# X_facebook = df_facebook.drop(columns=['Page total likes'])\n",
    "# y_facebook = df_facebook['Page total likes']\n",
    "\n",
    "# print('Data Shape:', X_facebook.shape)\n",
    "# print('Output Shape:', y_facebook.shape)\n",
    "# mlpd_facebook = perform_GP_fitting(X_facebook,y_facebook)"
   ]
  },
  {
   "cell_type": "code",
   "execution_count": 27,
   "metadata": {},
   "outputs": [],
   "source": [
    "# # Plot facebook data\n",
    "# fig, ax = plt.subplots(1,1)\n",
    "# plot_mlpd(ax, mlpd_facebook, 'Facebook')\n",
    "# plt.xlabel('Covariate Index')\n",
    "# plt.show()"
   ]
  },
  {
   "cell_type": "code",
   "execution_count": 28,
   "metadata": {},
   "outputs": [],
   "source": [
    "# data_link = 'https://archive.ics.uci.edu/ml/machine-learning-databases/parkinsons/telemonitoring/parkinsons_updrs.data'\n",
    "# df_park = pd.read_csv(data_link, delim_whitespace=False)\n",
    "\n",
    "# # Take a subsample of this data for regression (just to reduce the data size)\n",
    "# df_park = df_park.sample(n=300, random_state=10)\n",
    "\n",
    "# # Size:\n",
    "# print(df_park.shape)\n",
    "# df_park.head()"
   ]
  },
  {
   "cell_type": "code",
   "execution_count": 29,
   "metadata": {},
   "outputs": [],
   "source": [
    "# X_park = df_park.drop(columns=['motor_UPDRS','total_UPDRS'])\n",
    "# y_park = df_park['total_UPDRS']\n",
    "\n",
    "# print('Data Shape:', X_park.shape)\n",
    "# print('Output Shape:', y_park.shape)\n",
    "# mlpd_park = perform_GP_fitting(X_park,y_park)"
   ]
  },
  {
   "cell_type": "code",
   "execution_count": 30,
   "metadata": {},
   "outputs": [],
   "source": [
    "# # Plot parkinson data\n",
    "# fig, ax = plt.subplots(1,1)\n",
    "# plot_mlpd(ax, mlpd_park, 'Parkinson Data')\n",
    "# plt.xlabel('Covariate Index')\n",
    "# plt.show()"
   ]
  },
  {
   "cell_type": "code",
   "execution_count": 31,
   "metadata": {},
   "outputs": [],
   "source": [
    "# # Plot all together\n",
    "# mlpd_all = [mlpd_concrete, mlpd_Boston]\n",
    "# fig, ax_full = plt.subplots(2,1, figsize=(6,6))\n",
    "# titles =['Concrete', 'Boston Housing']\n",
    "# # Plot the MLPD estimates for each of the datasets\n",
    "# for ax2, mlpd, title in zip(ax_full, mlpd_all, titles):\n",
    "#     plot_mlpd(ax2, mlpd, title)\n",
    "# plt.xlabel('Number of Covariates')\n",
    "# plt.show()"
   ]
  }
 ],
 "metadata": {
  "kernelspec": {
   "display_name": "Python 3",
   "language": "python",
   "name": "python3"
  },
  "language_info": {
   "codemirror_mode": {
    "name": "ipython",
    "version": 3
   },
   "file_extension": ".py",
   "mimetype": "text/x-python",
   "name": "python",
   "nbconvert_exporter": "python",
   "pygments_lexer": "ipython3",
   "version": "3.6.2"
  }
 },
 "nbformat": 4,
 "nbformat_minor": 2
}
