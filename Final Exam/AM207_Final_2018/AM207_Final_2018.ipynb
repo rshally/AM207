{
 "cells": [
  {
   "cell_type": "markdown",
   "metadata": {},
   "source": [
    "# APMTH 207: Advanced Scientific Computing: \n",
    "## Stochastic Methods for Data Analysis, Inference and Optimization\n",
    "## Final\n",
    "\n",
    "**Harvard University**<br>\n",
    "**Spring 2018**<br>\n",
    "**Instructors: Rahul Dave**<br>\n",
    "**Due Date: ** Saturday, May 12th, 2018 at 11:59am\n",
    "\n",
    "**Instructions:**\n",
    "\n",
    "- Upload your iPython notebook containing all work to Canvas.\n",
    "\n",
    "- Structure your notebook and your work to maximize readability."
   ]
  },
  {
   "cell_type": "markdown",
   "metadata": {},
   "source": [
    "# Q1: GLMs with correlation"
   ]
  },
  {
   "cell_type": "markdown",
   "metadata": {},
   "source": [
    "In Homework 10 you examined the effects of educational attainment and gender on the probability that an indivudal would earn more than $50K per year. However, even the models in the solutions (see Canvas) didn't achieve a perfect fit. Perhaps there was something missing?\n",
    "\n",
    "## The dataset: A Study of Census Data\n",
    "\n",
    "In this problem, we are reprising our investigation into the data from the 1994 U.S. Census. The data has been processed so that only a subset of the features are present (for full dataset as well as the description see the UCI Machine Learning Repository).\n",
    "\n",
    "We'll again want to aggregate the dataset into seven different categories. The categories we wish to consider are:\n",
    "\n",
    "- 4 year college degree\n",
    "- Some-college or two year academic college degree\n",
    "- High school\n",
    "- Professional, vocational school\n",
    "- Masters\n",
    "- Doctorate\n",
    "- Some or no high school \n",
    "\n",
    "Note that we had to combine some of the existing education categories in your dataframe. For each category, we kept track of a count of the number of males and females who make above (and resp. below) $50k"
   ]
  },
  {
   "cell_type": "markdown",
   "metadata": {},
   "source": [
    "We provide the code below so that all students begin with the same data structure, names, and global parameters."
   ]
  },
  {
   "cell_type": "code",
   "execution_count": 1,
   "metadata": {},
   "outputs": [],
   "source": [
    "#import pymc3 as pm\n",
    "import pandas as pd\n",
    "import numpy as np\n",
    "import matplotlib.pyplot as plt"
   ]
  },
  {
   "cell_type": "code",
   "execution_count": 2,
   "metadata": {},
   "outputs": [
    {
     "data": {
      "text/html": [
       "<div>\n",
       "<style>\n",
       "    .dataframe thead tr:only-child th {\n",
       "        text-align: right;\n",
       "    }\n",
       "\n",
       "    .dataframe thead th {\n",
       "        text-align: left;\n",
       "    }\n",
       "\n",
       "    .dataframe tbody tr th {\n",
       "        vertical-align: top;\n",
       "    }\n",
       "</style>\n",
       "<table border=\"1\" class=\"dataframe\">\n",
       "  <thead>\n",
       "    <tr style=\"text-align: right;\">\n",
       "      <th></th>\n",
       "      <th>category</th>\n",
       "      <th>sex</th>\n",
       "      <th>total</th>\n",
       "      <th>&lt;=50</th>\n",
       "      <th>&gt;50</th>\n",
       "    </tr>\n",
       "  </thead>\n",
       "  <tbody>\n",
       "    <tr>\n",
       "      <th>0</th>\n",
       "      <td>0</td>\n",
       "      <td>0</td>\n",
       "      <td>1321</td>\n",
       "      <td>1298</td>\n",
       "      <td>23</td>\n",
       "    </tr>\n",
       "    <tr>\n",
       "      <th>1</th>\n",
       "      <td>0</td>\n",
       "      <td>1</td>\n",
       "      <td>2932</td>\n",
       "      <td>2711</td>\n",
       "      <td>221</td>\n",
       "    </tr>\n",
       "    <tr>\n",
       "      <th>2</th>\n",
       "      <td>1</td>\n",
       "      <td>0</td>\n",
       "      <td>3390</td>\n",
       "      <td>3164</td>\n",
       "      <td>226</td>\n",
       "    </tr>\n",
       "    <tr>\n",
       "      <th>3</th>\n",
       "      <td>1</td>\n",
       "      <td>1</td>\n",
       "      <td>7111</td>\n",
       "      <td>5662</td>\n",
       "      <td>1449</td>\n",
       "    </tr>\n",
       "    <tr>\n",
       "      <th>4</th>\n",
       "      <td>2</td>\n",
       "      <td>0</td>\n",
       "      <td>3227</td>\n",
       "      <td>2974</td>\n",
       "      <td>253</td>\n",
       "    </tr>\n",
       "    <tr>\n",
       "      <th>5</th>\n",
       "      <td>2</td>\n",
       "      <td>1</td>\n",
       "      <td>5131</td>\n",
       "      <td>3732</td>\n",
       "      <td>1399</td>\n",
       "    </tr>\n",
       "    <tr>\n",
       "      <th>6</th>\n",
       "      <td>3</td>\n",
       "      <td>0</td>\n",
       "      <td>592</td>\n",
       "      <td>483</td>\n",
       "      <td>109</td>\n",
       "    </tr>\n",
       "    <tr>\n",
       "      <th>7</th>\n",
       "      <td>3</td>\n",
       "      <td>1</td>\n",
       "      <td>1366</td>\n",
       "      <td>691</td>\n",
       "      <td>675</td>\n",
       "    </tr>\n",
       "    <tr>\n",
       "      <th>8</th>\n",
       "      <td>4</td>\n",
       "      <td>0</td>\n",
       "      <td>1619</td>\n",
       "      <td>1280</td>\n",
       "      <td>339</td>\n",
       "    </tr>\n",
       "    <tr>\n",
       "      <th>9</th>\n",
       "      <td>4</td>\n",
       "      <td>1</td>\n",
       "      <td>3736</td>\n",
       "      <td>1854</td>\n",
       "      <td>1882</td>\n",
       "    </tr>\n",
       "    <tr>\n",
       "      <th>10</th>\n",
       "      <td>5</td>\n",
       "      <td>0</td>\n",
       "      <td>536</td>\n",
       "      <td>357</td>\n",
       "      <td>179</td>\n",
       "    </tr>\n",
       "    <tr>\n",
       "      <th>11</th>\n",
       "      <td>5</td>\n",
       "      <td>1</td>\n",
       "      <td>1187</td>\n",
       "      <td>407</td>\n",
       "      <td>780</td>\n",
       "    </tr>\n",
       "    <tr>\n",
       "      <th>12</th>\n",
       "      <td>6</td>\n",
       "      <td>0</td>\n",
       "      <td>86</td>\n",
       "      <td>36</td>\n",
       "      <td>50</td>\n",
       "    </tr>\n",
       "    <tr>\n",
       "      <th>13</th>\n",
       "      <td>6</td>\n",
       "      <td>1</td>\n",
       "      <td>327</td>\n",
       "      <td>71</td>\n",
       "      <td>256</td>\n",
       "    </tr>\n",
       "  </tbody>\n",
       "</table>\n",
       "</div>"
      ],
      "text/plain": [
       "    category  sex  total  <=50   >50\n",
       "0          0    0   1321  1298    23\n",
       "1          0    1   2932  2711   221\n",
       "2          1    0   3390  3164   226\n",
       "3          1    1   7111  5662  1449\n",
       "4          2    0   3227  2974   253\n",
       "5          2    1   5131  3732  1399\n",
       "6          3    0    592   483   109\n",
       "7          3    1   1366   691   675\n",
       "8          4    0   1619  1280   339\n",
       "9          4    1   3736  1854  1882\n",
       "10         5    0    536   357   179\n",
       "11         5    1   1187   407   780\n",
       "12         6    0     86    36    50\n",
       "13         6    1    327    71   256"
      ]
     },
     "execution_count": 2,
     "metadata": {},
     "output_type": "execute_result"
    }
   ],
   "source": [
    "df = pd.read_csv('census_data.csv')\n",
    "df.head()\n",
    "\n",
    "cat_1 = ['11th', '7th-8th', '9th', '5th-6th', '10th', '1st-4th', 'Preschool', '12th']\n",
    "cat_2 = ['HS-grad']\n",
    "cat_3 = ['Some-college', 'Assoc-acdm']\n",
    "cat_4 = ['Assoc-voc', 'Prof-school']\n",
    "cat_5 = ['Bachelors']\n",
    "cat_6 = ['Masters']\n",
    "cat_7 = ['Doctorate']\n",
    "\n",
    "labels = [\"Some HS\", \"HS Grad\", \"Some College\", \"Prof School\", \"Bachelors\", \"Masters\", \"Doctorate\"]\n",
    "\n",
    "categories = [cat_1, cat_2, cat_3, cat_4, cat_5, cat_6, cat_7]\n",
    "dataset = []\n",
    "i = 1\n",
    "for cat in categories:\n",
    "    filtered = df[df['edu'].isin(cat)]\n",
    "    dataset.append((i, 0, len(filtered[filtered['sex'] == 'Female']), len(filtered[(filtered['sex'] == 'Female') & (filtered['earning'] == '<=50K')]), len(filtered[(filtered['sex'] == 'Female') & (filtered['earning'] == '>50K')])))\n",
    "    dataset.append((i, 1, len(filtered[filtered['sex'] == 'Male']), len(filtered[(filtered['sex'] == 'Male') & (filtered['earning'] == '<=50K')]), len(filtered[(filtered['sex'] == 'Male') & (filtered['earning'] == '>50K')])))\n",
    "    i += 1\n",
    "dataset = np.array(dataset)\n",
    "dataset = pd.DataFrame(dataset, columns=['category', 'sex', 'total', '<=50', '>50'])\n",
    "dataset['category'] = dataset['category']-1 #zero indexing\n",
    "dataset"
   ]
  },
  {
   "cell_type": "markdown",
   "metadata": {},
   "source": [
    "## Part A: Model 1\n",
    "\n",
    "In Chapter 13.2 McElreath iterates on his model for the UCB admissions data. (See the attached PDF of that section. We have included pdfs of excerpts from McElreath sections 10.1.3 and 13.2)\n",
    "\n",
    "**A1**: Implement the upgraded model from section 13.2.1 on the income data. You may refer to Osvaldo Martin's pymc3 implementation of Statistical Rethinking if needed."
   ]
  },
  {
   "cell_type": "markdown",
   "metadata": {},
   "source": [
    "**A2**: You will notice here that the $\\alpha$s at different income levels are pooled"
   ]
  },
  {
   "cell_type": "markdown",
   "metadata": {},
   "source": [
    "1. What criterion do you use to tell if full, partial, or no pooling is appropriate to the given data? \n",
    "2. Which type of pooling is implemented here. Why is it most appropriate to our income data?"
   ]
  },
  {
   "cell_type": "markdown",
   "metadata": {},
   "source": [
    "**A3**: Sample from the model's posterior and comment on the quality of the samples obtained, examining at least two of the diagnostics discussed in class.\n",
    "\n",
    "\\[Sampling this model took 2 minutes and 30 seconds per chain (~80 it/s) on a VM running on old hardware.\\]"
   ]
  },
  {
   "cell_type": "markdown",
   "metadata": {},
   "source": [
    "**A4**: Use the code below to plot the amount of shrinkage in our model. Think carefully about what quantity in the dataset and in the posterior you ought to compare. You should see minimal shrinkage in all categories except the last one."
   ]
  },
  {
   "cell_type": "code",
   "execution_count": 6,
   "metadata": {},
   "outputs": [],
   "source": [
    "def shrinkage_plot(observed_log_odds, posterior_means, posterior_sds):\n",
    "    \"\"\"\n",
    "    observed_log_odds - an entry for each category giving the actual log-odds observed log(P(>50K)/(1-P(>50K)))\n",
    "    posterior_means - an entry for each category giving the mean of the posterior distribution\n",
    "    posterior_sds - an entry for each category giving the SD of the posterior distribution\n",
    "    \"\"\"\n",
    "    plt.scatter(range(len(observed_log_odds)),observed_log_odds, label=\"Observed Log Odds\", color='orange')\n",
    "    plt.errorbar(range(len(posterior_alpha_means)), posterior_alpha_means, yerr = 2*posterior_alpha_sds, fmt='o', label=\"Posterior for Log Odds\\n(mean and 2 SDs)\",)\n",
    "    plt.legend()\n",
    "    plt.xlabel(\"Education Category\")"
   ]
  },
  {
   "cell_type": "markdown",
   "metadata": {},
   "source": [
    "**A5**: McElreath's new model showed substantial shrinkage within the categories. Why does our model show very minimal shrinkage?. For full credit, include Standard Error in your explanation."
   ]
  },
  {
   "cell_type": "markdown",
   "metadata": {},
   "source": [
    "## Part B: Iterating further\n",
    "\n",
    "After the pooling model above, McElreath builds a model where the alpha and beta in each unit might be correlated (perhaps the higher the admission rate, the less bias there is towards either gender). \n",
    "\n",
    "**B1**: Implement the model in 13.2.2. Feel free to use [code from Osvaldo Martin](https://github.com/aloctavodia/Statistical-Rethinking-with-Python-and-PyMC3/blob/master/Chp_13.ipynb) with attribution and understanding (it contains some sweet pymc3 technical wrangling).\n",
    "\n",
    "The variable names in this model are unchanged and you may re-name them if you wish.\n",
    "\n",
    "Note that this model builds the a 7 by 2 matrix with alpha values in the first column and beta values in the second. By assumption, the first column and the second column have correlation structure given by the LKJ prior, but there is no explicit correlation among the rows (aside from all the alphas coming from the same mean). In other words, the correlation matrix is 2x2 (not 14x14) and amongst the income-level-free parts of the intercept and slope."
   ]
  },
  {
   "cell_type": "markdown",
   "metadata": {},
   "source": [
    "**B2**: Sample from the posterior of the model above *with a target acceptance rate of .9 or more*. (Sampling takes 10 minutes per chain on a VM on old hardware and 2 minutes 30 seconds on a recent-gen Mac). Analyze at least two diagnostics and comment on the quality of the samples obtained."
   ]
  },
  {
   "cell_type": "markdown",
   "metadata": {},
   "source": [
    "**B3**: Propose at least two methods of improving the quality of the samples obtained and explain how/why each method would help. For **some extra credit** implement these. "
   ]
  },
  {
   "cell_type": "markdown",
   "metadata": {},
   "source": [
    "**B4**: Regardless of your answer above, assume the samples are valid and give an analysis of whether the data and models support the hypothesis that males are more advantaged in lower income categories than they are in higher income categories. For full credit, include at least one formal model comparison or probability analysis."
   ]
  },
  {
   "cell_type": "markdown",
   "metadata": {},
   "source": [
    "**B5**: Regardless of your answer above, assume the samples are valid and give an analysis of: \n",
    "1. The posterior probability that males with a Bachelor's degree are more likely to have high incomes than males with a Professional School degree (education categories 3 and 4) \\[Specifically, how certain is it that one or the other class has a higher chance of having a high income?\\]. \n",
    "2. The posterior-predictive on the number of female PhDs earning more than 50K in similarly sized samples"
   ]
  },
  {
   "cell_type": "markdown",
   "metadata": {},
   "source": [
    "# Q2: Using Mixture of Experts and Mixture Density Networks to Solve Inverse Problems"
   ]
  },
  {
   "cell_type": "markdown",
   "metadata": {},
   "source": [
    "What if you had to predict a one-to-many function? The data provided below comes from a dataset generated by Chris Bishop (yes that Bishop) to explain the models mentioned in the title above. We have included pdfs from his book which describe these models in some detail.\n",
    "\n",
    "We read this data in..."
   ]
  },
  {
   "cell_type": "code",
   "execution_count": 3,
   "metadata": {},
   "outputs": [
    {
     "data": {
      "text/html": [
       "<div>\n",
       "<style>\n",
       "    .dataframe thead tr:only-child th {\n",
       "        text-align: right;\n",
       "    }\n",
       "\n",
       "    .dataframe thead th {\n",
       "        text-align: left;\n",
       "    }\n",
       "\n",
       "    .dataframe tbody tr th {\n",
       "        vertical-align: top;\n",
       "    }\n",
       "</style>\n",
       "<table border=\"1\" class=\"dataframe\">\n",
       "  <thead>\n",
       "    <tr style=\"text-align: right;\">\n",
       "      <th></th>\n",
       "      <th>target</th>\n",
       "      <th>x</th>\n",
       "    </tr>\n",
       "  </thead>\n",
       "  <tbody>\n",
       "    <tr>\n",
       "      <th>0</th>\n",
       "      <td>0.000000</td>\n",
       "      <td>0.018727</td>\n",
       "    </tr>\n",
       "    <tr>\n",
       "      <th>1</th>\n",
       "      <td>0.001001</td>\n",
       "      <td>0.050424</td>\n",
       "    </tr>\n",
       "    <tr>\n",
       "      <th>2</th>\n",
       "      <td>0.002002</td>\n",
       "      <td>0.042375</td>\n",
       "    </tr>\n",
       "    <tr>\n",
       "      <th>3</th>\n",
       "      <td>0.003003</td>\n",
       "      <td>0.038596</td>\n",
       "    </tr>\n",
       "    <tr>\n",
       "      <th>4</th>\n",
       "      <td>0.004004</td>\n",
       "      <td>0.019352</td>\n",
       "    </tr>\n",
       "  </tbody>\n",
       "</table>\n",
       "</div>"
      ],
      "text/plain": [
       "     target         x\n",
       "0  0.000000  0.018727\n",
       "1  0.001001  0.050424\n",
       "2  0.002002  0.042375\n",
       "3  0.003003  0.038596\n",
       "4  0.004004  0.019352"
      ]
     },
     "execution_count": 3,
     "metadata": {},
     "output_type": "execute_result"
    }
   ],
   "source": [
    "%matplotlib inline\n",
    "import matplotlib.pyplot as plt\n",
    "import numpy as np\n",
    "import pandas as pd\n",
    "df = pd.read_csv(\"one-to-many.csv\")\n",
    "df.head()"
   ]
  },
  {
   "cell_type": "markdown",
   "metadata": {},
   "source": [
    "...and then plot it. Notice both the uneven sampling (more towards the center), and the \"more than one y\" for a given x."
   ]
  },
  {
   "cell_type": "code",
   "execution_count": 5,
   "metadata": {},
   "outputs": [
    {
     "data": {
      "image/png": "[encoded data removed]",
      "text/plain": [
       "<matplotlib.figure.Figure at 0x1133c5ac8>"
      ]
     },
     "metadata": {},
     "output_type": "display_data"
    }
   ],
   "source": [
    "plt.plot(df.x, df.target, '.');"
   ]
  },
  {
   "cell_type": "markdown",
   "metadata": {},
   "source": [
    "Normal regression approaches to modeling such a function wont work, as they expect the function to be a proper mathematical function, that is, single valued.\n",
    "\n",
    "These kind of problems are called **inverse problems**, where more than one input state leads to an output state, and we have to try and model these multiple input states."
   ]
  },
  {
   "cell_type": "markdown",
   "metadata": {},
   "source": [
    "A mixture of gaussians (or other distributions) might is a sensible way to do this.\n",
    "\n",
    "You choose one of the gaussians with some probability. The nean of the gaussian is then given by some regression function, say for example a straight line. We could additionally fix the standard deviation or model it as well. \n",
    "\n",
    "Thus, for each component Gaussian, we choose a functional form for the mean and standard deviation. So our model looks something like this:"
   ]
  },
  {
   "cell_type": "markdown",
   "metadata": {},
   "source": [
    "$$f(x)  = \\sum_i \\lambda_i g_i (x) $$\n",
    "\n",
    "Say we fit a model with 3 gaussians to this data. Such a model cannot fit the function above. Notice for example that at $x=0.2$ only one of the gaussians will dominate, different from the situation at $x=0.5$. This means that the probabilities of \"belonging\" to one or the other gaussians is also changing with $x$.\n",
    "\n",
    "If we allow the mixing probabilities to depend on $x$, we can model this situation.\n",
    "\n",
    "$$f(x)  = \\sum_i \\lambda_i (x) g_i (x) $$\n",
    "\n",
    "Such a model is called a \"mixture of experts\" model. The idea is that one \"expert\" gaussian is responsible in one sector of the feature space, while another expert is responsible in another sector.\n",
    "\n",
    "You can think of this model as implementing a \"standard\" gaussian mixture at each \"point\" x, with the added complexity that all of the means, standard deviations, and mixture probabilities change from one x to another.\n",
    "\n",
    "See https://www.cs.toronto.edu/~hinton/absps/hme.pdf and http://www.ee.hacettepe.edu.tr/~eyuksel/Publications/2012_TwentyYearsofMixtureofExperts.pdf for more details. I found the latter clearer and easier to understand.\n",
    "\n",
    "For this entire question you might find diagram code from [here](https://github.com/hardmaru/pytorch_notebooks/blob/master/mixture_density_networks.ipynb) useful. Take with attribution.\n",
    "\n",
    "We will assume we have **3 gaussians**."
   ]
  },
  {
   "cell_type": "markdown",
   "metadata": {},
   "source": [
    "## PART A: Iterative Linear Regression\n",
    "\n",
    "The basic idea, illustrated below, is to fit piecewise linear regressions iteratively in a EM style algorithm.\n",
    "\n",
    "![](images/mixreg0.png)"
   ]
  },
  {
   "cell_type": "markdown",
   "metadata": {},
   "source": [
    "The algorithm looks like this: initialize the 1000 points in this dataset as randomly belonging to one of 3 \"classes\" or \"clusters\" or \"experts\". This takes a x-data problem and augments it with a fake z data point that tells us whether the point belongs in cluster 0, 1, or 2. (It helps convergence to say that points in the leftmost 0.2 belong to cluster 0 and righmost 0.2 to cluster 2).\n",
    "\n",
    "Once we have the fake z data we can separate out the 1000 points into 3 sets of points and fit 3 linear regression models. \n",
    "\n",
    "We can make predictions for all 1000 points on the data for each of the 3 regression lines. We now assign a data point to the cluster by calculating the squared distances between its actual y value and the 3 cluster predictions and choosing the smallest one.\n",
    "\n",
    "We then rinse and repeat.\n",
    "\n",
    "**A1** Implement this algorithm along with a convergence criterion of your choice\n",
    "\n",
    "**A2** Produce a diagram like the one above which illustrates the straight line fits as well as the cluster belonging. \n"
   ]
  },
  {
   "cell_type": "markdown",
   "metadata": {},
   "source": [
    "## Part B: Variational Mixture of Experts"
   ]
  },
  {
   "cell_type": "markdown",
   "metadata": {},
   "source": [
    "In this part we'll construct a gaussian mixture model of 3 \"expert\" linear regressions. The idea is to create a fit which looks like this:\n",
    "\n",
    "![](images/mixreg.png)\n",
    "\n",
    "Here again the three regression lines work in different regions of $f$. We want a principled way to sample from this model and to be able to produce posterior and posterior-predictive regions.\n",
    "\n",
    "There are 3 parts to this model. First the means of the gaussians in the mixture are modeled with linear regression as shown in the picture above. We will also model $log(\\sigma)$ for each gaussian in the mixture as a linear regression as well ($\\sigma$ needs to be positive).\n",
    "\n",
    "We now need to model the mixture probabilities, i.e., the probabilities required to choose one or the other gaussian. We'll model these probabilities i.e. the $\\lambda$s using softmax regression (ie do a linear regression and softmax it to get 3 probabilities).\n",
    "\n",
    "**B1** Write a pymc3 model for this problem. For all biases and weights in your regressions, assume N(0,5) priors. Add noise 0.01 to each of the three $\\sigma$s to make sure you dont have a collapsed 0 width gaussian, ie we want some data in every cluster. (Thus to get the final $\\sigma$, you will exponentiate your regression for $log(\\sigma)$ and add 0.01.)\n",
    "\n",
    "**B2** Fit this model variationally for about 50,000 iterations using the adam optimizer. (`obj_optimizer=pm.adam()`) Plot the ELBO to make sure you have converged. Print summaries and traceplots for the means, $\\sigma$s and probabilities.\n",
    "\n",
    "**B3** Plot the mean posteriors with standard deviations against x. Also produce a diagram like the one above to show the means with standard deviations showing their uncertainty overlaid on the data.\n",
    "\n",
    "**B4** Plot the posterior predictive (mean and variance) as a function of x for this model (using `sample_ppc` for example). Why does the posterior predictive look nothing like the data?\n",
    "\n",
    "**B5** Make a \"correct\" posterior predictive diagram by taking into account which \"cluster\" or \"regression line\" the data is coming from. To do this you will need to sample using the softmax probabilities. A nice way to do this is \"Gumbel softmax sampling\". See http://timvieira.github.io/blog/post/2014/07/31/gumbel-max-trick/ for details. Color-code the predictive samples with the gaussian they came from. Superimpose the predictive on the original data. This diagram may look something like this:\n",
    "\n",
    "![](images/mixpred.png)"
   ]
  },
  {
   "cell_type": "markdown",
   "metadata": {},
   "source": [
    "## Part C. Mixture Density Network\n",
    "\n",
    "A mixture density network (see the enclosed Chapter 5 excerpt from Bishop or https://publications.aston.ac.uk/373/1/NCRG_94_004.pdf) is very closely related to the mixture of experts model. The difference is that we fit the regressions using a neural network where hidden layers are shared amongst the mean, sigma, and mixing probability regressions. (We could have fit 3 separate neural networks in Part A but opted to fit linear regressions for simplicity)\n",
    "\n",
    "(More explanation [here](https://github.com/hardmaru/pytorch_notebooks/blob/master/mixture_density_networks.ipynb). You are welcome to take code from here with attribution.)\n",
    "\n",
    "You job here is to construct a multi-layer perceptron model with a linear hidden layer with 20 units followed by a `Tanh` activation. After the activation layer, 3 separate linear layers with `n_hidden` inputs and `n_gaussian=3` outputs will complete the network. The probabilities part of the network is then passed through a softmax. The means part is left as is. The sigma part is exponentiated and 0.01 added, as in part A\n",
    "\n",
    "Thus the structure looks like:\n",
    "\n",
    "```\n",
    "input:1 --linear-> n_hidden -> Tanh --linear-->n_gaussians      ...mu\n",
    "                            --linear-->n_gaussians->softmax     ...lambda\n",
    "                            --linear-->n_gaussians->exp + 0.01  ...sigma\n",
    "```\n",
    "\n",
    "We then need to use a loss function for the last layer of the network. \n",
    "\n",
    "Using the mean-squared-error loss is not appropriate as the expected value of samples drawn from the sampling distribution of the network will not reflect the 3-gaussian structure (this is the essence of the difference between B4 and B5 above). Thus we'll use the negative loss likelihood of the gaussian mixture model explicitly."
   ]
  },
  {
   "cell_type": "markdown",
   "metadata": {},
   "source": [
    "**C1**: Write the network as a class `MixtureDensityNetwork` which inherits from pytorch `nn.Module`. Implement a constructor which allows at-least the number of hidden layers to be varied. Also implement the `forward` method.\n",
    "\n",
    "**C2**: Train the network using the Adam or similiar optimizer. Make sure your loss converges and plot this convergence.\n",
    "\n",
    "**C3**: Plot the MLE parameters against x. Make a plot similar to B3 above where you overlay the \"means\" of the gaussians against the data.\n",
    "\n",
    "**C4**: Sample from the sampling distributions to make a plot similar to B5 above\n",
    "\n",
    "**To think about but not to hand in** What are the differences between a mixture density network and the mixture of experts. How do these differences translate to feature space? What would happen if we took the shared hidden layer nonlinearity (Tanh) out?"
   ]
  },
  {
   "cell_type": "markdown",
   "metadata": {},
   "source": [
    "## Part D Variational Mixture Density Network\n",
    "\n",
    "We want to implement the Mixture Density Metwork model that we constructed in Part C in directly in pymc3 and use variational inference to sample from it. We  may need more iterations in order to get convergence as this model will likely not converge as fast as the pytorch equivalent.\n",
    "\n",
    "**D1**: Write out the equivalent pymc3 version of the MDN and generate posterior samples with ADVI.\n",
    "\n",
    "**D2**: Sample from the posterior predictive as you did in B4 and produce a diagram like C4 and B5 for this model.\n",
    "\n",
    "**D3**: Plot the \"mean\" regression curves (similar to C3 and B3). Do the \"mean\" regression curves in this model look the same from those in Part C?  If they differ why so?"
   ]
  },
  {
   "cell_type": "markdown",
   "metadata": {},
   "source": [
    "## Part E: Approximate EM for model in part B (EXTRA CREDIT)\n",
    "\n",
    "Part B can be implemented using Expectation Maximization using iteratively-reweighted least squares. Our method in A was merely an approximation to this process. You can find update equations [here](https://people.eecs.berkeley.edu/~jordan/papers/jordan-xu.ps)"
   ]
  },
  {
   "cell_type": "code",
   "execution_count": null,
   "metadata": {},
   "outputs": [],
   "source": []
  }
 ],
 "metadata": {
  "kernelspec": {
   "display_name": "Python 3",
   "language": "python",
   "name": "python3"
  },
  "language_info": {
   "codemirror_mode": {
    "name": "ipython",
    "version": 3
   },
   "file_extension": ".py",
   "mimetype": "text/x-python",
   "name": "python",
   "nbconvert_exporter": "python",
   "pygments_lexer": "ipython3",
   "version": "3.6.5rc1"
  }
 },
 "nbformat": 4,
 "nbformat_minor": 2
}
