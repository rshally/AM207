{
 "cells": [
  {
   "cell_type": "markdown",
   "metadata": {},
   "source": [
    "#  Simulated Annealing\n",
    "\n",
    "##### Keywords: simulated annealing, metropolis-hastings, MCMC, temperature, travelling salesman problem"
   ]
  },
  {
   "cell_type": "code",
   "execution_count": 1,
   "metadata": {
    "hide": true
   },
   "outputs": [],
   "source": [
    "%matplotlib inline\n",
    "import numpy as np\n",
    "import scipy as sp\n",
    "import matplotlib.pyplot as plt\n",
    "import pandas as pd\n",
    "pd.set_option('display.width', 500)\n",
    "pd.set_option('display.max_columns', 100)\n",
    "pd.set_option('display.notebook_repr_html', True)\n",
    "import seaborn as sns\n",
    "sns.set_style(\"whitegrid\")\n",
    "sns.set_context(\"poster\")\n",
    "\n",
    "## for TSP material\n",
    "import random\n",
    "import time\n",
    "import itertools\n",
    "import urllib\n",
    "import csv\n",
    "import functools\n",
    "from statistics import mean, stdev\n",
    "import math"
   ]
  },
  {
   "cell_type": "markdown",
   "metadata": {},
   "source": [
    "## Optimization\n",
    "\n",
    "Welcome to Lab 5.  Today we're going to discuss simulated annealing (SA) with a particular focus on the Traveling Salesman Problem frequently referred to as TSP. \n",
    "\n",
    "**Simulated Annealing** is a very popular optimization algorithm because it's very robust to different types of functions (e.g. no continuity, differentiability  or dimensionality requirements) and can find global minima/maxima."
   ]
  },
  {
   "cell_type": "markdown",
   "metadata": {},
   "source": [
    "## The Simulated Annealing Algorithm\n",
    "\n",
    "So now we have a better sense of how to find peaks (valleys) and then find optima.  First use Metropolis-Hastings sampling at high temperatures to travel around the distribution and find all the peaks (valleys).  Slowly cool down the temperature which will focus you in a particular optima region and allow you to find the optima.\n",
    "\n",
    "1. Initialize $x_i,T, L(T)$ where $L$ is the number of iterations at a particular temperature. \n",
    "2. Perform $L$ transitions thus(we will call this an epoch):\n",
    "    1. Generate a new proposed position $x$\n",
    "    2. If $x$ is accepted (according to probability $P = e^{(-\\Delta E/T)}$, set $x_{i+1} = x_j$, else set $x_{i+1} = x_{i}$  \n",
    "3. Update T and L \n",
    "4. Until some fixed number of epochs, or until some stop criterion is fulfilled, goto 2.\n"
   ]
  },
  {
   "cell_type": "markdown",
   "metadata": {},
   "source": [
    "![SA flowchart](http://apmonitor.com/me575/uploads/Main/sim_annealing_flow.png)\n",
    "\n",
    "(via [BYU ME 575 SA Tutorial](http://apmonitor.com/me575/index.php/Main/SimulatedAnnealing))"
   ]
  },
  {
   "cell_type": "markdown",
   "metadata": {},
   "source": [
    "![xkcd travelling salesman](http://imgs.xkcd.com/comics/travelling_salesman_problem.png)\n",
    "\n",
    "(via [xkcd](http://xkcd.com/399/))\n",
    "\n"
   ]
  },
  {
   "cell_type": "markdown",
   "metadata": {},
   "source": [
    "## Traveling Salesman Problem (TSP)\n",
    "\n",
    "This section and the ones that follow is heavily indebted to (if not lifted almost entirely from) Peter Norvig's iPython Notebook on the TSP.  I highly recommend you visit that notebook and all his other notebooks at http://norvig.com/ipython/\n",
    "\n",
    "Some optimization problems are ***combinatorial***, in the sense that there are $p$ items that can be ordered or combined in many different ways, some ways being better than others according to a set of specified criteria.\n",
    "\n",
    "Consider the [*Traveling Salesperson Problem*](http://en.wikipedia.org/wiki/Traveling_salesman_problem): \n",
    "\n",
    "> *Given a set of cities and the distances between each pair of cities, what is the shortest possible tour that visits each city exactly once, and returns to the starting city?*\n",
    "\n",
    "Assuming travel is the same distance irrespective of travel direction, there are:\n",
    "\n",
    "$$\\frac{(p-1)!}{2}$$\n",
    "\n",
    "possible routes. So, 5 cities have 120 possible routes, 10 cities have 181,440 routes, 50 cities have $3 \\times 10^{64}$ routes!\n",
    "\n",
    "<a href=\"http://www.math.uwaterloo.ca/tsp/history/pictorial/dfj.html\"><img src=\"http://www.math.uwaterloo.ca/tsp/history/img/dantzig.gif\"></a>\n",
    "<center>An example tour.</center>\n",
    "                                     \n",
    "### Definitions\n",
    "\n",
    "We'll use a `set` to get a \"set\" of cities.\n",
    "\n",
    "- **Distance between each pair of cities**: If `A` and `B` are cities, this could be a function, `distance(A, B),` or a table lookup, `distance[A][B]`.  The resulting distance will be a real number.\n",
    "\n",
    "- **Tour**: A tour is a specified order in which to visit the cities; Python's `list` or `tuple` datatypes would work. For example, given the set of cities `{A, B, C, D}`, a tour might be the list `[B, D, A, C]`, which means to travel from `B` to `D` to `A` to `C` and finally back to `B`.\n",
    "- **Shortest possible tour**: The shortest tour is the one whose tour length is the minimum of all tours.\n",
    "- **Tour length**: The sum of the distances between adjacent cities in the tour (including the last city back to the first city).   Probably  a function, `tour_length(tour)`.\n",
    "\n",
    "Let's start with a bruteforce algorithm that is guaranteed to solve the problem, although it is inefficient for large sets of cities:\n",
    "\n",
    "> **All Tours Algorithm**: *Generate all possible tours of the cities, and choose the shortest tour (the one with minimum tour length).*\n",
    "\n",
    "\n",
    "Let's begin the implementation:"
   ]
  },
  {
   "cell_type": "code",
   "execution_count": 2,
   "metadata": {},
   "outputs": [],
   "source": [
    "def alltours_tsp(cities):\n",
    "    \"Generate all possible tours of the cities and choose the shortest tour.\"\n",
    "    return shortest_tour(alltours(cities))\n",
    "\n",
    "def shortest_tour(tours): \n",
    "    \"Choose the tour with the minimum tour length.\"\n",
    "    return min(tours, key=tour_length)\n"
   ]
  },
  {
   "cell_type": "markdown",
   "metadata": {},
   "source": [
    "Now for the `alltours` function.  If a tour is a sequence of cities, then all the tours are *permutations* of the set of all cities. A function to generate all permutations of a set is already provided in Python's standard `itertools` library module; we can use it as our implementation of `alltours`.  We take some steps to make tours non-redundant as well."
   ]
  },
  {
   "cell_type": "code",
   "execution_count": 3,
   "metadata": {},
   "outputs": [],
   "source": [
    "def alltours(cities):\n",
    "    \"Return a list of tours, each a permutation of cities, but each one starting with the same city.\"\n",
    "    start = first(cities)\n",
    "    return [[start] + Tour(rest)\n",
    "            for rest in itertools.permutations(cities - {start})]\n",
    "\n",
    "def first(collection):\n",
    "    \"Start iterating over collection, and return the first element.\"\n",
    "    return next(iter(collection))\n",
    "\n",
    "Tour = list  # Tours are implemented as lists of cities"
   ]
  },
  {
   "cell_type": "markdown",
   "metadata": {},
   "source": [
    "The length of a tour is the sum of the lengths of each edge in the tour; in other words, the sum of the distances between consecutive cities in the tour, including the distance form the last city back to the first:"
   ]
  },
  {
   "cell_type": "code",
   "execution_count": 4,
   "metadata": {},
   "outputs": [],
   "source": [
    "def tour_length(tour):\n",
    "    \"The total of distances between each pair of consecutive cities in the tour.\"\n",
    "    return sum(distance(tour[i], tour[i-1]) \n",
    "               for i in range(len(tour)))"
   ]
  },
  {
   "cell_type": "markdown",
   "metadata": {},
   "source": [
    "**Trick**: when `i` is 0, then `distance(tour[0], tour[-1])` gives us the wrap-around distance between the first and last cities, because `tour[-1]` is the last element of `tour`. \n",
    "\n",
    "In the fully general version of the TSP, the \"distance\" between two cities could be anything: it could factor in the amount of time it takes to travel between cities, the twistiness of the road, or anything else (see the homework :-)). So the distances could be represented by a matrix `distance[A][B]`, where any entry in the matrix could be any (non-negative) numeric value.\n",
    "    \n",
    "Here we will just consider the straight-line distance between points in a two-dimensional plane. This is symmetric. \n",
    "        \n",
    "OK, so a city can be represented as just a two-dimensional point. But how will we represent points?  "
   ]
  },
  {
   "cell_type": "code",
   "execution_count": 5,
   "metadata": {},
   "outputs": [
    {
     "name": "stdout",
     "output_type": "stream",
     "text": [
      "from builtins import property as _property, tuple as _tuple\n",
      "from operator import itemgetter as _itemgetter\n",
      "from collections import OrderedDict\n",
      "\n",
      "class City(tuple):\n",
      "    'City(x, y)'\n",
      "\n",
      "    __slots__ = ()\n",
      "\n",
      "    _fields = ('x', 'y')\n",
      "\n",
      "    def __new__(_cls, x, y):\n",
      "        'Create new instance of City(x, y)'\n",
      "        return _tuple.__new__(_cls, (x, y))\n",
      "\n",
      "    @classmethod\n",
      "    def _make(cls, iterable, new=tuple.__new__, len=len):\n",
      "        'Make a new City object from a sequence or iterable'\n",
      "        result = new(cls, iterable)\n",
      "        if len(result) != 2:\n",
      "            raise TypeError('Expected 2 arguments, got %d' % len(result))\n",
      "        return result\n",
      "\n",
      "    def _replace(_self, **kwds):\n",
      "        'Return a new City object replacing specified fields with new values'\n",
      "        result = _self._make(map(kwds.pop, ('x', 'y'), _self))\n",
      "        if kwds:\n",
      "            raise ValueError('Got unexpected field names: %r' % list(kwds))\n",
      "        return result\n",
      "\n",
      "    def __repr__(self):\n",
      "        'Return a nicely formatted representation string'\n",
      "        return self.__class__.__name__ + '(x=%r, y=%r)' % self\n",
      "\n",
      "    def _asdict(self):\n",
      "        'Return a new OrderedDict which maps field names to their values.'\n",
      "        return OrderedDict(zip(self._fields, self))\n",
      "\n",
      "    def __getnewargs__(self):\n",
      "        'Return self as a plain tuple.  Used by copy and pickle.'\n",
      "        return tuple(self)\n",
      "\n",
      "    x = _property(_itemgetter(0), doc='Alias for field number 0')\n",
      "\n",
      "    y = _property(_itemgetter(1), doc='Alias for field number 1')\n",
      "\n",
      "\n"
     ]
    }
   ],
   "source": [
    "# Cities are represented as Points, which are a subclass of complex numbers\n",
    "from collections import namedtuple\n",
    "\n",
    "City = namedtuple('City', ['x', 'y'], verbose=True)"
   ]
  },
  {
   "cell_type": "code",
   "execution_count": 6,
   "metadata": {},
   "outputs": [],
   "source": [
    "import math\n",
    "\n",
    "def distance(A, B): \n",
    "    \"The distance between two points.\"\n",
    "    return math.sqrt((A.x - B.x)*(A.x - B.x) + (A.y - B.y)*(A.y - B.y))\n",
    "\n",
    "def Cities(n, width=900, height=600, seed=42):\n",
    "    \"Make a set of n cities, each with random coordinates within a (width x height) rectangle.\"\n",
    "    random.seed(seed * n)\n",
    "    return frozenset(City(random.randrange(width), random.randrange(height))\n",
    "                     for c in range(n))\n",
    "\n",
    "def plot_tour(tour):\n",
    "    \"Plot the cities as circles and the tour as lines between them. Start city is red square.\"\n",
    "    start = tour[0]\n",
    "    plot_lines(list(tour) + [start])\n",
    "    plot_lines([start], 'rs') # Mark the start city with a red square\n",
    "    \n",
    "def plot_lines(points, style='bo-'):\n",
    "    \"Plot lines to connect a series of points.\"\n",
    "    plt.plot([p.x for p in points], [p.y for p in points], style)\n",
    "    plt.axis('scaled'); plt.axis('off')\n",
    "    \n",
    "def plot_tsp(algorithm, cities):\n",
    "    \"Apply a TSP algorithm to cities, plot the resulting tour, and print information.\"\n",
    "    # Find the solution and time how long it takes\n",
    "    t0 = time.clock()\n",
    "    tour = algorithm(cities)\n",
    "    t1 = time.clock()\n",
    "    assert valid_tour(tour, cities)\n",
    "    plot_tour(tour); plt.show()\n",
    "    print(\"{} city tour with length {:.1f} in {:.3f} secs for {}\"\n",
    "          .format(len(tour), tour_length(tour), t1 - t0, algorithm.__name__))\n",
    "    \n",
    "def valid_tour(tour, cities):\n",
    "    \"Is tour a valid tour for these cities?\"\n",
    "    return set(tour) == set(cities) and len(tour) == len(cities)"
   ]
  },
  {
   "cell_type": "code",
   "execution_count": 7,
   "metadata": {},
   "outputs": [],
   "source": [
    "mycities = Cities(10, seed=332)"
   ]
  },
  {
   "cell_type": "code",
   "execution_count": 8,
   "metadata": {},
   "outputs": [
    {
     "data": {
      "image/png": "[encoded data removed]",
      "text/plain": [
       "<matplotlib.figure.Figure at 0x10c005780>"
      ]
     },
     "metadata": {},
     "output_type": "display_data"
    }
   ],
   "source": [
    "plot_lines(mycities, 'bo')"
   ]
  },
  {
   "cell_type": "markdown",
   "metadata": {},
   "source": [
    "## Heuristics\n",
    "\n",
    "Unfortunately, there is no known combinatorial optimization algorithm for obtaining an optimal solution to the TSP in polynomial time. Instead, we must turn to ***heuristics***, which have no guarantee of a global maximum, but in practice tend to yield *good* results in a reasonable time. Thus, we are trading off global optimality for a little speed.\n",
    "\n",
    "Heuristics have two notable characteristics:\n",
    "\n",
    "* **iteration**: candidate solutions are incrementally improved\n",
    "* **localization**: search for improved solutions are restricted to a local neighborhood of the current solution\n",
    "\n",
    "This ***local search*** approach encompasses several specific techniques, some of which we will explore here. For a given candidate solution vector $\\mathbf{\\theta}^{(t)}$ at iteration $t$, we might change components $\\theta_i$ to propose an updated solution $\\mathbf{\\theta}^{(t+1)}$. Limiting the number of changes keeps $\\mathbf{\\theta}^{(t+1)}$ in the *neighborhood* of $\\mathbf{\\theta}^{(t)}$. We refer to $k$ changes to the candidate solution as a **k-change** and the set of possible new candidates as the *k-neighborhood*.\n",
    "\n",
    "A sensible approach for updating a candidate solution is to choose the best candidate from the neighborhood; this is called ***steepest ascent***. The selection of any improved candidate is called an *ascent*. However, choosing the steepest ascent from a neighborhood may not be globally optimal if, for example, it takes us toward a local maximum at the cost of missing a global maximum. An algorithm that uses a steepest ascent strategy in the context of local search is called a *greedy* algorithm.\n",
    "\n",
    "We can construct pretty readily a greedy algorithm for TSP.\n",
    "\n",
    "Here is a description of the nearest neighbor algorithm:\n",
    "\n",
    "> **Nearest Neighbor Algorithm:** *Start at any city; at each step extend the tour by moving from the previous city to its nearest neighbor that has not yet been visited.*\n",
    "\n",
    "So now, instead of considering all *n*! tours, we are generating a single tour. It takes O(*n*<sup>2</sup> ) time to find the tour, because it has *n*-1 steps, and at each step we consider each of the remaining cities.\n",
    "\n",
    "That gives us:"
   ]
  },
  {
   "cell_type": "code",
   "execution_count": 9,
   "metadata": {},
   "outputs": [],
   "source": [
    "def nn_tsp(cities):\n",
    "    \"\"\"Start the tour at the first city; at each step extend the tour \n",
    "    by moving from the previous city to the nearest neighboring city, C,\n",
    "    that has not yet been visited.\"\"\"\n",
    "    start = first(cities)\n",
    "    tour = [start]\n",
    "    unvisited = set(cities - {start})\n",
    "    while unvisited:\n",
    "        C = nearest_neighbor(tour[-1], unvisited)\n",
    "        tour.append(C)\n",
    "        unvisited.remove(C)\n",
    "    return tour\n",
    "\n",
    "def nearest_neighbor(A, cities):\n",
    "    \"Find the city in cities that is nearest to city A.\"\n",
    "    return min(cities, key=lambda c: distance(c, A))"
   ]
  },
  {
   "cell_type": "code",
   "execution_count": 10,
   "metadata": {},
   "outputs": [
    {
     "data": {
      "image/png": "[encoded data removed]",
      "text/plain": [
       "<matplotlib.figure.Figure at 0x1042bdda0>"
      ]
     },
     "metadata": {},
     "output_type": "display_data"
    },
    {
     "name": "stdout",
     "output_type": "stream",
     "text": [
      "10 city tour with length 2043.1 in 5.076 secs for alltours_tsp\n"
     ]
    }
   ],
   "source": [
    "plot_tsp(alltours_tsp, mycities)"
   ]
  },
  {
   "cell_type": "code",
   "execution_count": 11,
   "metadata": {},
   "outputs": [
    {
     "data": {
      "image/png": "[encoded data removed]",
      "text/plain": [
       "<matplotlib.figure.Figure at 0x10c022ac8>"
      ]
     },
     "metadata": {},
     "output_type": "display_data"
    },
    {
     "name": "stdout",
     "output_type": "stream",
     "text": [
      "10 city tour with length 2198.8 in 0.000 secs for nn_tsp\n"
     ]
    }
   ],
   "source": [
    "plot_tsp(nn_tsp, mycities)"
   ]
  },
  {
   "cell_type": "markdown",
   "metadata": {},
   "source": [
    "In order to attain a global maximum (or globally-competitive solution), it makes sense for a heuristic approach to  occasionaly choose an candidate solution that is not the best-in-neighborhood. In other words, to move from one peak to another (higher) peak, one must pass through valleys.  Hmmmm.... Where can we find an approach that does this?  Oh yeah!! Our good old buddy **simulated annealing**.\n"
   ]
  },
  {
   "cell_type": "code",
   "execution_count": 12,
   "metadata": {},
   "outputs": [],
   "source": [
    "# def reverse_segment(input_tour, i, j):\n",
    "#     \"Reverse segment tour[i:j] of a tour\" \n",
    "#     input_tour[i:j] = reversed(input_tour[i:j])\n",
    "    \n",
    "\n",
    "    \n",
    "    \n",
    "    \n",
    "def change_tour(input_tour):\n",
    "    \"Change a tour for tsp iteration\"\n",
    "    \n",
    "    #possible_indices = range(1, len(input_tour)) why not?\n",
    "    possible_indices = range(len(input_tour))\n",
    "    # take two random indices to swap\n",
    "    c1 = np.random.choice(possible_indices)\n",
    "    c2 = np.random.choice(possible_indices)\n",
    "    \n",
    "    new_tour = change_path(input_tour, c1, c2)\n",
    "    \n",
    "    return new_tour\n",
    "\n",
    "    \n",
    "    \n",
    "def swap_cities(input_tour, i, j):\n",
    "    \"Swap two cities at index i and j in a tour\"\n",
    "    \n",
    "    # save city1\n",
    "    city1 = input_tour[i]\n",
    "    \n",
    "    # save city2\n",
    "    city2 = input_tour[j]\n",
    "    \n",
    "    new_tour = input_tour.copy()\n",
    "    \n",
    "    # swap\n",
    "    new_tour[j] = city1\n",
    "    new_tour[i] = city2\n",
    "        \n",
    "    return new_tour\n",
    "    \n",
    "change_path = swap_cities  \n",
    "    "
   ]
  },
  {
   "cell_type": "code",
   "execution_count": 13,
   "metadata": {},
   "outputs": [],
   "source": [
    "# We've constructed our own simulated annealing function for tsp but we don't\n",
    "# really need to make any changes.  So we'll just comment the regular sa :-)\n",
    "def sa_tsp(energyfunc, initials, epochs, tempfunc, iterfunc, proposalfunc):\n",
    "    \"\"\"\n",
    "    Run simulated annealing on a tsp.\n",
    "    \"\"\"\n",
    "    # Accumulate results in the same form as initals\n",
    "    accumulator=[]\n",
    "    \n",
    "    # Our initial state is in initials['solution']\n",
    "    best_solution = old_solution = initials['solution']\n",
    "    \n",
    "    # Our initial temperature is in initials['T']\n",
    "    T=initials['T']\n",
    "    \n",
    "    # Our initial length (i.e. number of iterations per epoch)\n",
    "    # is in initals['length']\n",
    "    length=initials['length']\n",
    "    \n",
    "    # initialize the energy of our current state by running the \n",
    "    # energy function on our initial solution\n",
    "    best_energy = old_energy = energyfunc(old_solution)\n",
    "    \n",
    "    # keep track of accepted proposals and total iterations\n",
    "    accepted=0\n",
    "    total=0\n",
    "    \n",
    "    for index in range(epochs):\n",
    "        #print(\"Epoch\", index)\n",
    "        \n",
    "        # if we're past the first index, we need\n",
    "        # to update our cooling schedule and iteration\n",
    "        # schedule\n",
    "        if index > 0:\n",
    "            T = tempfunc(T)\n",
    "            length=iterfunc(length)\n",
    "            \n",
    "        if index % 100 == 0:\n",
    "            print(\"Temperature\", T, \"Length\", length)\n",
    "        \n",
    "        # run through the iterations for each epoch\n",
    "        for it in range(length):\n",
    "            \n",
    "            # keep track of total proposals\n",
    "            total+=1\n",
    "            \n",
    "            # get a new proposal and calculate its energy\n",
    "            new_solution = proposalfunc(old_solution)\n",
    "            new_energy = energyfunc(new_solution)\n",
    "            \n",
    "            # Use a min here as you could get a \"probability\" > 1\n",
    "            alpha = min(1, np.exp((old_energy - new_energy)/T))\n",
    "            if ((new_energy < old_energy) or (np.random.uniform() < alpha)):\n",
    "                \n",
    "                # Accept proposed solution\n",
    "                accepted+=1.0\n",
    "                accumulator.append((T, new_solution, new_energy))\n",
    "                \n",
    "                # we have a new candidate for optimum (minimum)\n",
    "                if new_energy < best_energy:\n",
    "                    # Replace previous best with this one\n",
    "                    best_energy = new_energy\n",
    "                    best_solution = new_solution\n",
    "                    best_index=total\n",
    "                    best_temp=T\n",
    "                    \n",
    "                old_energy = new_energy\n",
    "                old_solution = new_solution\n",
    "            else:\n",
    "                # Keep the old stuff\n",
    "                accumulator.append((T, old_solution, old_energy))\n",
    "    \n",
    "    best_meta=dict(index=best_index, temp=best_temp)\n",
    "    print(\"frac accepted\", accepted/total, \"total iterations\", total, 'bmeta', best_meta)\n",
    "    return best_meta, best_solution, best_energy, accumulator"
   ]
  },
  {
   "cell_type": "code",
   "execution_count": 14,
   "metadata": {},
   "outputs": [
    {
     "name": "stdout",
     "output_type": "stream",
     "text": [
      "{'solution': [City(x=283, y=471), City(x=683, y=348), City(x=356, y=144), City(x=594, y=191), City(x=789, y=484), City(x=417, y=102), City(x=230, y=123), City(x=716, y=74), City(x=281, y=502), City(x=420, y=258)], 'length': 100, 'T': 50.0}\n",
      "Temperature 50.0 Length 100\n",
      "Temperature 0.0013280699443793769 Length 1\n",
      "Temperature 3.527539554327681e-08 Length 1\n",
      "Temperature 9.369638519424033e-13 Length 1\n",
      "Temperature 2.4887070614692694e-17 Length 1\n",
      "Temperature 6.610354097404112e-22 Length 1\n",
      "Temperature 1.755802519693493e-26 Length 1\n",
      "Temperature 4.663657109341013e-31 Length 1\n",
      "Temperature 1.2387325675614017e-35 Length 1\n",
      "Temperature 3.2902469842043867e-40 Length 1\n",
      "Temperature 8.739356258613459e-45 Length 1\n",
      "Temperature 2.3212952760576655e-49 Length 1\n",
      "Temperature 6.165684976324033e-54 Length 1\n",
      "Temperature 1.6376921807134844e-58 Length 1\n",
      "Temperature 4.349939526701393e-63 Length 1\n",
      "Temperature 1.1554047890559942e-67 Length 1\n",
      "Temperature 3.068916747874519e-72 Length 1\n",
      "Temperature 8.151472189309303e-77 Length 1\n",
      "Temperature 2.165145043413209e-81 Length 1\n",
      "Temperature 5.7509281147581336e-86 Length 1\n",
      "Temperature 1.5275269562993264e-90 Length 1\n",
      "Temperature 4.057325279780892e-95 Length 1\n",
      "Temperature 1.0776823517295301e-99 Length 1\n",
      "Temperature 2.8624750818401474e-104 Length 1\n",
      "Temperature 7.603134245453589e-109 Length 1\n",
      "Temperature 2.0194988148936974e-113 Length 1\n",
      "Temperature 5.364071357540181e-118 Length 1\n",
      "Temperature 1.424772389891079e-122 Length 1\n",
      "Temperature 3.7843947771918314e-127 Length 1\n",
      "Temperature 1.0051881922509521e-131 Length 1\n",
      "Temperature 2.669920453147056e-136 Length 1\n",
      "Temperature 7.091682215416734e-141 Length 1\n",
      "Temperature 1.883650001076945e-145 Length 1\n",
      "Temperature 5.003237904320945e-150 Length 1\n",
      "Temperature 1.3289299770616613e-154 Length 1\n",
      "Temperature 3.5298239214407337e-159 Length 1\n",
      "Temperature 9.37570611803358e-164 Length 1\n",
      "Temperature 2.490318700538849e-168 Length 1\n",
      "Temperature 6.614634836223102e-173 Length 1\n",
      "Temperature 1.75693954380654e-177 Length 1\n",
      "Temperature 4.666677204442161e-182 Length 1\n",
      "Temperature 1.2395347470680015e-186 Length 1\n",
      "Temperature 3.292377685189814e-191 Length 1\n",
      "Temperature 8.745015698491883e-196 Length 1\n",
      "Temperature 2.322798502458578e-200 Length 1\n",
      "Temperature 6.169677755929325e-205 Length 1\n",
      "Temperature 1.638752718831149e-209 Length 1\n",
      "Temperature 4.352756464299272e-214 Length 1\n",
      "Temperature 1.1561530070877814e-218 Length 1\n",
      "Temperature 3.0709041196342375e-223 Length 1\n",
      "Temperature 8.156750926714085e-228 Length 1\n",
      "Temperature 2.1665471499115207e-232 Length 1\n",
      "Temperature 5.75465230575658e-237 Length 1\n",
      "Temperature 1.528516153525759e-241 Length 1\n",
      "Temperature 4.0599527259918683e-246 Length 1\n",
      "Temperature 1.078380238198184e-250 Length 1\n",
      "Temperature 2.8643287659273646e-255 Length 1\n",
      "Temperature 7.608057889698818e-260 Length 1\n",
      "Temperature 2.0208066036814798e-264 Length 1\n",
      "Temperature 5.3675450275054814e-269 Length 1\n",
      "Temperature 1.425695045226601e-273 Length 1\n",
      "Temperature 3.7868454788320924e-278 Length 1\n",
      "Temperature 1.0058391328891667e-282 Length 1\n",
      "Temperature 2.671649442541433e-287 Length 1\n",
      "Temperature 7.096274653114393e-292 Length 1\n",
      "Temperature 1.8848698167724836e-296 Length 1\n",
      "Temperature 5.006477905446799e-301 Length 1\n",
      "Temperature 1.3297905666846627e-305 Length 1\n",
      "Temperature 3.5321097678663e-310 Length 1\n",
      "Temperature 9.381777643e-315 Length 1\n",
      "Temperature 2.4919e-319 Length 1\n",
      "Temperature 2.5e-323 Length 1\n",
      "Temperature 2.5e-323 Length 1\n",
      "Temperature 2.5e-323 Length 1\n",
      "Temperature 2.5e-323 Length 1\n",
      "Temperature 2.5e-323 Length 1\n",
      "Temperature 2.5e-323 Length 1\n",
      "Temperature 2.5e-323 Length 1\n",
      "Temperature 2.5e-323 Length 1\n",
      "Temperature 2.5e-323 Length 1\n",
      "Temperature 2.5e-323 Length 1\n",
      "Temperature 2.5e-323 Length 1\n",
      "Temperature 2.5e-323 Length 1\n",
      "Temperature 2.5e-323 Length 1\n",
      "Temperature 2.5e-323 Length 1\n",
      "Temperature 2.5e-323 Length 1\n",
      "Temperature 2.5e-323 Length 1\n",
      "Temperature 2.5e-323 Length 1\n",
      "Temperature 2.5e-323 Length 1\n",
      "Temperature 2.5e-323 Length 1\n",
      "Temperature 2.5e-323 Length 1\n",
      "Temperature 2.5e-323 Length 1\n",
      "Temperature 2.5e-323 Length 1\n",
      "Temperature 2.5e-323 Length 1\n",
      "Temperature 2.5e-323 Length 1\n",
      "Temperature 2.5e-323 Length 1\n",
      "Temperature 2.5e-323 Length 1\n",
      "Temperature 2.5e-323 Length 1\n",
      "Temperature 2.5e-323 Length 1\n",
      "Temperature 2.5e-323 Length 1\n",
      "frac accepted 0.10909990108803165 total iterations 10110 bmeta {'index': 168, 'temp': 0.1232517352479035}\n"
     ]
    }
   ],
   "source": [
    "initial_tour = list(mycities)\n",
    "length_func1 = lambda temperature: np.max((np.floor(np.sqrt(temperature)).astype(int),1))\n",
    "length_func2 = lambda length: max(int(math.ceil(1.2*length)), 10)\n",
    "length_func = length_func1\n",
    "temp_func = lambda t: 0.9*t\n",
    "\n",
    "init_length = length_func(10000)\n",
    "\n",
    "inits=dict(solution=initial_tour, length=init_length, T=50.0)\n",
    "\n",
    "print(inits)\n",
    "bmeta, bs, be, out = sa_tsp(tour_length, inits, 10000, temp_func, length_func, change_tour);\n"
   ]
  },
  {
   "cell_type": "code",
   "execution_count": 15,
   "metadata": {},
   "outputs": [
    {
     "data": {
      "text/plain": [
       "[City(x=281, y=502),\n",
       " City(x=283, y=471),\n",
       " City(x=420, y=258),\n",
       " City(x=230, y=123),\n",
       " City(x=356, y=144),\n",
       " City(x=417, y=102),\n",
       " City(x=594, y=191),\n",
       " City(x=716, y=74),\n",
       " City(x=683, y=348),\n",
       " City(x=789, y=484)]"
      ]
     },
     "execution_count": 15,
     "metadata": {},
     "output_type": "execute_result"
    }
   ],
   "source": [
    "bs"
   ]
  },
  {
   "cell_type": "code",
   "execution_count": 16,
   "metadata": {},
   "outputs": [
    {
     "name": "stdout",
     "output_type": "stream",
     "text": [
      "2043.075492884944\n"
     ]
    },
    {
     "data": {
      "image/png": "[encoded data removed]",
      "text/plain": [
       "<matplotlib.figure.Figure at 0x10c041fd0>"
      ]
     },
     "metadata": {},
     "output_type": "display_data"
    },
    {
     "name": "stdout",
     "output_type": "stream",
     "text": [
      "10 city tour with length 2043.1 in 0.000 secs for <lambda>\n"
     ]
    }
   ],
   "source": [
    "print(be)\n",
    "plot_tsp(lambda x: bs, mycities)"
   ]
  },
  {
   "cell_type": "code",
   "execution_count": 17,
   "metadata": {},
   "outputs": [
    {
     "data": {
      "text/plain": [
       "Text(0,0.5,'f')"
      ]
     },
     "execution_count": 17,
     "metadata": {},
     "output_type": "execute_result"
    },
    {
     "data": {
      "image/png": "[encoded data removed]",
      "text/plain": [
       "<matplotlib.figure.Figure at 0x10c1bd518>"
      ]
     },
     "metadata": {},
     "output_type": "display_data"
    }
   ],
   "source": [
    "plt.plot(range(len(out)),[e[2] for e in out], alpha=0.6, lw=2);\n",
    "plt.xscale('log')\n",
    "plt.xlabel('iteration')\n",
    "plt.ylabel('f')"
   ]
  },
  {
   "cell_type": "markdown",
   "metadata": {},
   "source": [
    "## Practical Choices\n",
    "\n",
    "*  Start with temperature $T_0$ large enough to accept all transitions. Its working against $\\Delta E$, so should be at-least a bit higher than it.\n",
    "* The proposal step size should lead to states with similar energy. This would exclude many bad steps\n",
    "*  Lowering temperature schedule (thermostat). Common choices are\n",
    "    1. Linear: Temperature decreases as  $T_{k+1} = \\alpha T_k$. Typical values are $0.8 < \\alpha < 0.99$. $k$ indexes epochs.\n",
    "    2. Exponential: Temperature decreases as $0.95^{{\\rm k}}$\n",
    "    3. Logarithmic: Temperature decreases as $1/\\log({\\rm k})$\n",
    "* Reannealing interval, or epoch length is the number of points to accept before reannealing (change the temperature). Typical starting value is 100, and you want to increase it as  $L_{k+1} = \\beta L_k$ where $\\beta > 1$.\n",
    "* Larger decreases in temperature require correspondingly longer epoch lengths to re-equilibriate\n",
    "* Running long epochs at larger temperatures is not very useful. In most problems local minima can be jumped over even at low temperatures. Thus it may be useful to decrease temperature rapidly at first.\n",
    "* Stopping criterion\n",
    "    1. Max iterations bounds the number of iterations the algorithm takes\n",
    "    2. Function tolerance. The algorithm stops if the average change in the objective function after  $m$ iterations is below user specified tolerance\n",
    "    3. Objective limit. The algorithm stops if the objective function goes below some value \n",
    "    \n",
    "- It can be shown (although this is too slow a bound) that convergence to a set of global maxima is assured for $T_i = 1/(Clog(i + T_0))$ where $C$ and $T_0$ are problem dependent. The usual interpretation is that $C$ is the height of the tallest local minimum.\n",
    "- Sometimes reheating is useful to explore new areas."
   ]
  },
  {
   "cell_type": "markdown",
   "metadata": {},
   "source": [
    "## Sudoku\n",
    "\n",
    "For those who haven't seen these before, a sudoku puzzle typically consists of a square grid of 3x3 blocks each containing 3x3 cells. This has of course be scaled up to n>3 for really sadistic gamers, but we're going to stick with the well-known 3x3 situtation. The puzzle begins with  a variable number of  integers in specified (fixed) positions on the game board. The objective is to fill in the remaining cells so that each row, column and block contains only distinct and unique integers from 1 to 9. Easy! (...or not). Depending on the start position, these can sometimes be solved systematically by selecting individual empty cells that can only have one possible outcome based on the misisng integers from the associated row, column and block.\n",
    "\n",
    "Here is an example where a systematic approach will not work:"
   ]
  },
  {
   "cell_type": "code",
   "execution_count": 18,
   "metadata": {
    "collapsed": true
   },
   "outputs": [],
   "source": [
    "def plot_sudoku(n):\n",
    "    # Simple plotting statement that ingests a 9x9 array (n), and plots a sudoku-style grid around it.\n",
    "    plt.figure()\n",
    "    for y in range(10):\n",
    "        plt.plot([-0.05,9.05],[y,y],color='black',linewidth=1)\n",
    "        \n",
    "    for y in range(0,10,3):\n",
    "        plt.plot([-0.05,9.05],[y,y],color='black',linewidth=3)\n",
    "            \n",
    "    for x in range(10):\n",
    "        plt.plot([x,x],[-0.05,9.05],color='black',linewidth=1)\n",
    "    \n",
    "    for x in range(0,10,3):\n",
    "        plt.plot([x,x],[-0.05,9.05],color='black',linewidth=3)\n",
    "\n",
    "    plt.axis('image')\n",
    "    plt.axis('off') # drop the axes, they're not important here\n",
    "\n",
    "    for x in range(9):\n",
    "        for y in range(9):\n",
    "            foo=n[8-y][x] # need to reverse the y-direction for plotting\n",
    "            if foo > 0: # ignore the zeros\n",
    "                T=str(foo)\n",
    "                plt.text(x+0.3,y+0.2,T,fontsize=20)\n",
    "\n",
    "    plt.show()"
   ]
  },
  {
   "cell_type": "code",
   "execution_count": 19,
   "metadata": {},
   "outputs": [
    {
     "data": {
      "image/png": "[encoded data removed]",
      "text/plain": [
       "<matplotlib.figure.Figure at 0x11ae9bdd8>"
      ]
     },
     "metadata": {},
     "output_type": "display_data"
    }
   ],
   "source": [
    "sudoku_hard=np.array([[0,0,0,9,0,0,7,2,8],\n",
    "                      [2,7,8,0,0,3,0,1,0],\n",
    "                      [0,9,0,0,0,0,6,4,0],\n",
    "                      [0,5,0,0,6,0,2,0,0],\n",
    "                      [0,0,6,0,0,0,3,0,0],\n",
    "                      [0,1,0,0,5,0,0,0,0],\n",
    "                      [1,0,0,7,0,6,0,3,4],\n",
    "                      [0,0,0,5,0,4,0,0,0],\n",
    "                      [7,0,9,1,0,0,8,0,5]])\n",
    "plot_sudoku(sudoku_hard)\n",
    "\n",
    "#sudoku_easy=np.array([[0,0,0,0,0,0,1,0,0],\n",
    "#                      [0,0,0,7,0,0,0,9,4],\n",
    "#                      [4,0,0,1,0,0,2,0,0],\n",
    "#                      [0,2,0,8,0,0,3,5,0],\n",
    "#                      [5,9,0,0,0,0,0,2,6],\n",
    "#                      [0,6,8,0,0,5,0,7,0],\n",
    "#                      [0,0,9,0,0,6,0,0,2],\n",
    "#                      [8,1,0,0,0,3,0,0,0],\n",
    "#                      [0,0,5,0,0,0,0,0,0]])\n",
    "#plot_sudoku(sudoku_easy)"
   ]
  },
  {
   "cell_type": "markdown",
   "metadata": {},
   "source": [
    "Does brute force work any better here than TSP? \n",
    "<b>Answer:</b> let's just do a simple order of magnitude, back of the envelope style calculation.<br>\n",
    "\n",
    "There are $9 \\times 9 =81$ squares in our grid. 26 of these are aleady filled. Leaving 65 empty squares. There are 9 possible numbers that can go into each of the 65 squares, so there are $\\sim 10^{60}$ combinations. <br> Let's make a conservative assumption that we can randomly select from our subset, include these into the grid, and then do a test to see if we have solved the puzzle in 1 nano-second (using 1 core), and just because we can, let's say we have a 12-core Mac Pro, so we can do 12 selections at once if we fork our code properly.\n",
    "\n",
    "So, brute force style it will take $10^{50}$ seconds to go through all the possible combinations. Let's also say, we get lucky and we only go through 1% of the combinations before we find the result. So, exactly how long is $10^{48}$ seconds? Well, the age of the Universe is roughly $4 \\times 10^{17}$ seconds...see, a terrible idea!"
   ]
  },
  {
   "cell_type": "markdown",
   "metadata": {},
   "source": [
    "We've already said that random numbers are the solution here, we just need to be smarter in the way that we do our trials. We know that we achieve this in SA, by comparing the system energy of our previous guess, and comparing this to the energy of our new proposal. So what is the 'energy' in terms of a sudoku puzzle?<br>\n",
    "\n",
    "Clearly, there is an absolute solution here, so we would expect that $E=0$ for the solution. And $E>0$ for any other incorrect 'solution'. But what makes one solution more wrong than another (i.e., $E>>0$)? <br> \n",
    "\n",
    "Let's consider what a correct solution would look like. It would have only unique integers in each row, column and 3x3 box. So, if in a particular row, we had the same number twice, then this must be wrong, and this row would not have $E=0$, but $E=1$, i.e., there is 1 incorrect number. So, the energy of our system is simply the sum of all non-unique numbers in each column, row and 3x3 box. Conversely, we can think of this as the number of unique elements in each row, column, and box, and then we get back to $E=0$ by susbtracting what the enrgy of a correct solution would be, $9 \\times 9 \\times 3 = 243$, <br>\n",
    "<center>$ E_{\\rm tot} = 243 - \\sum_{i,j,k} E_{\\rm row,i} + E_{\\rm col,j} + E_{box,k}$</center>"
   ]
  },
  {
   "cell_type": "code",
   "execution_count": 20,
   "metadata": {
    "collapsed": true
   },
   "outputs": [],
   "source": [
    "def check(i,k,n):\n",
    "    #determines number of unique elements in each row (k=1) or column (k!=1)\n",
    "    nums=np.arange(9)+1\n",
    "    nu=0\n",
    "    for j in range(9):\n",
    "        if k==1:\n",
    "            i1 = n[i][j]-1\n",
    "        else:\n",
    "            i1 = n[j][i]-1\n",
    "\n",
    "        if i1==-1: # Quick check that there are no zeros\n",
    "            return -1\n",
    "        \n",
    "        if nums[i1]!=0:\n",
    "            nu+=1\n",
    "            nums[i1]=0\n",
    "  \n",
    "    return nu\n",
    "\n",
    "def checksq(isq, jsq, n):\n",
    "    # determines number of unique elements in square isq, jsq\n",
    "    nums=np.arange(9)+1\n",
    "    nu = 0\n",
    "    i0 = isq*3\n",
    "    j0 = jsq*3\n",
    "    for i in range(3):\n",
    "        for j in range(3):\n",
    "            i1 = n[i0+i][j0+j] - 1\n",
    "\n",
    "            if i1==-1: # Quick check that there are no zeros\n",
    "                return -1\n",
    "        \n",
    "            if nums[i1]!=0:\n",
    "                nu+=1\n",
    "                nums[i1]=0\n",
    "                \n",
    "    return nu\n",
    "\n",
    "def calc_energy(n):\n",
    "    # computes the \"energy\" of the input grid configuration\n",
    "    sum = 0\n",
    "    for i in range(9):\n",
    "        sum += check(i,1,n) + check(i,2,n)\n",
    "    \n",
    "    for i in range(3):\n",
    "        for j in range(3):\n",
    "            sum += checksq(i,j,n)\n",
    "\n",
    "    return 243 - sum"
   ]
  },
  {
   "cell_type": "markdown",
   "metadata": {},
   "source": [
    "It's important to remember which are the fixed numbers specific to this puzzle, these cannot be moved between interations. We can just use a mask for this."
   ]
  },
  {
   "cell_type": "code",
   "execution_count": 21,
   "metadata": {
    "collapsed": true
   },
   "outputs": [],
   "source": [
    "n = sudoku_hard\n",
    "mask = n>0"
   ]
  },
  {
   "cell_type": "markdown",
   "metadata": {},
   "source": [
    "Now, we need a starting position. For this we can take the missing integers from our sudoku example, and apply them pseudo-randomly to the grid. Why pseudo-randomly? We know enough about the final configuration that we can be clever in the way that we distribute the remaining values. We know that the values {1,2,3,4,5,6,7,8,9} must appear in each 3x3 box, so we should only populate those 3x3 squares with those numbers minus those which already exist from this set."
   ]
  },
  {
   "cell_type": "code",
   "execution_count": 22,
   "metadata": {},
   "outputs": [
    {
     "data": {
      "image/png": "[encoded data removed]",
      "text/plain": [
       "<matplotlib.figure.Figure at 0x11aeff8d0>"
      ]
     },
     "metadata": {},
     "output_type": "display_data"
    }
   ],
   "source": [
    "# Assign the remaining integers to open cells so that each block contains all integers once only.\n",
    "for ib in range(3):\n",
    "    for jb in range(3):\n",
    "\n",
    "        nums=np.arange(9)+1  #{1,2...8,9}\n",
    "        for i in range(3):\n",
    "            for j in range(3):\t \n",
    "                i1 = ib*3 + i\n",
    "                j1 = jb*3 + j\n",
    "\n",
    "                if n[i1][j1]!=0:\n",
    "                    ix = n[i1][j1]\n",
    "                    # replace the already used number with 0\n",
    "                    nums[ix-1]=0\n",
    "\n",
    "        # Now we have an array that contains the unused numbers.\n",
    "        # So we populate using that array.\n",
    "        iy = -1\n",
    "        num1=np.zeros(sum(nums>0))\n",
    "        for k in range(9):\n",
    "            if nums[k]!=0:\n",
    "                iy+=1\n",
    "                num1[iy] = nums[k]\n",
    "\n",
    "        kk = 0\n",
    "        for i in range(3):\n",
    "            for j in range(3):\n",
    "                i1 = ib*3 + i\n",
    "                j1 = jb*3 + j\n",
    "                if(n[i1][j1]==0):\n",
    "                    n[i1][j1] = num1[kk]\n",
    "                    kk+=1\n",
    "\n",
    "plot_sudoku(n)"
   ]
  },
  {
   "cell_type": "code",
   "execution_count": 24,
   "metadata": {},
   "outputs": [
    {
     "name": "stdout",
     "output_type": "stream",
     "text": [
      "The system Energy of the initial configuration is: 48\n"
     ]
    }
   ],
   "source": [
    "# What is the energy of our starting position?\n",
    "e_prev = calc_energy(n)\n",
    "print('The system Energy of the initial configuration is:', e_prev)\n",
    "\n",
    "temp = 2.0 # starting temperature\n",
    "ntrial = 100000 # number of trials we are going to run\n",
    "thermo= 0.9 # thermostat for the temperature when it's too hot\n",
    "reanneal=1000 # how often do we apply the thermostat?"
   ]
  },
  {
   "cell_type": "markdown",
   "metadata": {},
   "source": [
    "How should we decide how to construct a proposal? If we are going to smart about this and use SA, then the proposal shouldn't just come out of thin air, it should be based loosely on the accepted grid from the previous iteration. So, we trade numbers. We take a 'movable' number at one grid space and swap it with the number at another grid space. But remember, we distributed the numbers so that in each 3x3 box we had the numbers 1-9. To maintain this, we should make sure that we only swap numbers within the same 3x3 box. We then compute the energy of our proposal grid. If the energy goes down, then we accept. Otherwise toss a coin according to,"
   ]
  },
  {
   "cell_type": "markdown",
   "metadata": {},
   "source": [
    "<center>${\\rm randU}(1) < {\\rm exp}\\left[-\\Delta E / T\\right] $</center>"
   ]
  },
  {
   "cell_type": "code",
   "execution_count": 27,
   "metadata": {},
   "outputs": [
    {
     "name": "stdout",
     "output_type": "stream",
     "text": [
      "0 1.74290899863 47 47\n",
      "5000 6.56450052363 27 27\n",
      "10000 0.00839639091877 16 19\n",
      "15000 0.00453198485618 4 6\n",
      "20000 0.000107375181336 2 4\n",
      "25000 1.8980205928e-07 2 4\n",
      "30000 0.00716697503761 6 6\n",
      "35000 0.000233341776988 4 6\n",
      "40000 7.06583364099e-07 2 4\n",
      "45000 0.011743628457 16 18\n",
      "Solution found after 45559 steps\n"
     ]
    },
    {
     "data": {
      "image/png": "[encoded data removed]",
      "text/plain": [
       "<matplotlib.figure.Figure at 0x11c295550>"
      ]
     },
     "metadata": {},
     "output_type": "display_data"
    }
   ],
   "source": [
    "for ll in range(ntrial):\n",
    "\n",
    "    # at each step pick at random a block and two moveable elements in the block\n",
    "    ib,jb = 3*np.random.randint(3,size=2)\n",
    "\n",
    "    i1,j1 = np.random.randint(3,size=2)\n",
    "    while mask[ib+i1][jb+j1]:\n",
    "        i1,j1 = np.random.randint(3,size=2)\n",
    "\n",
    "    i2,j2 = np.random.randint(3,size=2)\n",
    "    while mask[ib+i2][jb+j2] or (i1==i2 and j1==j2):\n",
    "        i2,j2 = np.random.randint(3,size=2)\n",
    "\n",
    "    # swap the movable elements and compute the energy of the trial configuration\n",
    "    propose_n=n.copy()\n",
    "    propose_n[ib+i1][jb+j1] = n[ib+i2][jb+j2]\n",
    "    propose_n[ib+i2][jb+j2] = n[ib+i1][jb+j1]\n",
    "\n",
    "    # calculate the proposal system energy\n",
    "    e_new = calc_energy(propose_n)\n",
    "    deltaE = e_prev - e_new\n",
    "\n",
    "    # Check the SA criterion\n",
    "    if e_new < e_prev:\n",
    "        e_prev = e_new\n",
    "        n = propose_n\n",
    "    else:\n",
    "        if np.random.rand() < np.exp( float(deltaE)/temp):\n",
    "            e_prev = e_new\n",
    "            n = propose_n\n",
    "\n",
    "    # stop computing if the solution is found\n",
    "    if e_prev==0:\n",
    "        break\n",
    "\n",
    "    if(ll % reanneal) == 0:\n",
    "        temp=temp*thermo\n",
    "        if temp<0.1:\n",
    "            temp=0.5\n",
    "            \n",
    "    # is the code still running properly...?\n",
    "    if(ll % 5000) == 0:\n",
    "        print(ll,np.exp( float(deltaE)/temp),e_prev,e_new)\n",
    "\n",
    "if e_prev==0:\n",
    "    print(\"Solution found after\", ll, \"steps\")\n",
    "    plot_sudoku(n)"
   ]
  },
  {
   "cell_type": "markdown",
   "metadata": {},
   "source": [
    "So, how do we improve on this? Can we speed this up? <br>\n",
    "\n",
    "There are three ways to approach this:<br>\n",
    "(1) why limit ourselves to only one swap per iteration, at least at the beginning?<br>\n",
    "(2) intial temperature<br>\n",
    "(3) thermostat tuning<br>"
   ]
  }
 ],
 "metadata": {
  "anaconda-cloud": {},
  "celltoolbar": "Edit Metadata",
  "kernelspec": {
   "display_name": "Python 3",
   "language": "python",
   "name": "python3"
  },
  "language_info": {
   "codemirror_mode": {
    "name": "ipython",
    "version": 3
   },
   "file_extension": ".py",
   "mimetype": "text/x-python",
   "name": "python",
   "nbconvert_exporter": "python",
   "pygments_lexer": "ipython3",
   "version": "3.6.2"
  }
 },
 "nbformat": 4,
 "nbformat_minor": 1
}
