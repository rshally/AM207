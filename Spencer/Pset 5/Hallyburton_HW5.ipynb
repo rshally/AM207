{
 "cells": [
  {
   "cell_type": "markdown",
   "metadata": {},
   "source": [
    "# Spencer Hallyburton\n",
    "## Homework #5\n",
    "## Collaborator: Salvador Barragan\n",
    "**Harvard University**<br>\n",
    "**Spring 2018**<br>\n",
    "**Instructors: Rahul Dave**<br>\n",
    "**Due Date: ** Friday, March 2nd, 2018 at 11:00am"
   ]
  },
  {
   "cell_type": "code",
   "execution_count": 1,
   "metadata": {},
   "outputs": [],
   "source": [
    "import matplotlib.pyplot as plt\n",
    "import numpy as np\n",
    "import csv\n",
    "import time\n",
    "from tqdm import tnrange, tqdm_notebook\n",
    "import time\n",
    "import math\n",
    "from functools import partial\n",
    "import random\n",
    "from tqdm import tnrange, tqdm_notebook\n",
    "\n",
    "start_time = time.time()\n",
    "%matplotlib inline"
   ]
  },
  {
   "cell_type": "markdown",
   "metadata": {},
   "source": [
    "## Problem 1: Optimization (contd)\n",
    "\n",
    "Suppose you are building a pricing model for laying down telecom cables over a geographical region. Your model takes as input a pair of  coordinates, $(x, y)$, and contains two parameters, $\\lambda_1, \\lambda_2$. Given a coordinate, $(x, y)$, and model parameters, the loss in revenue corresponding to the price model at location $(x, y)$ is described by\n",
    "$$\n",
    "L(x, y, \\lambda_1, \\lambda_2) = 0.000045\\lambda_2^2 y - 0.000098\\lambda_1^2 x  + 0.003926\\lambda_1 x\\exp\\left\\{\\left(y^2 - x^2\\right)\\left(\\lambda_1^2 + \\lambda_2^2\\right)\\right\\}\n",
    "$$\n",
    "Read the data contained in `HW3_data.csv`. This is a set of coordinates configured on the curve $y^2 - x^2 = -0.1$. Given the data, find parameters $\\lambda_1, \\lambda_2$ that minimize the net loss over the entire dataset.\n",
    "\n",
    "### Simulated Annealing \n",
    "Implement Simulated Annealing initalized at $(\\lambda_1, \\lambda_2) = (-5, 0)$ to minimize our loss function $L$. Compare your results to what you obtained for gradient descent and stochastic gradient descent initialized at $(\\lambda_1, \\lambda_2) = (-5, 0)$.\n",
    "\n",
    "For your Simulated Annealing implementation, we suggest *starting* with following settings for parameters (you should further experiment with and tweak these or feel free to set your own):\n",
    "\n",
    "- Proposal distribution: bivariate normal with covariance $[[1, 0], [0, 1]]$\n",
    "- Min Length: 500\n",
    "- Max Temperature: 10\n",
    "\n",
    "You should also set your own cooling schedule.\n",
    "\n",
    "For each iteration, plot the parameters accepted or the cost function with respect to the iteration number. What is happening to the these parameters or costs over iterations? Connect the trends you observe in the visualization to the lecture on Markov Chains."
   ]
  },
  {
   "cell_type": "code",
   "execution_count": 2,
   "metadata": {},
   "outputs": [
    {
     "name": "stdout",
     "output_type": "stream",
     "text": [
      "Data Shape: (2, 16000)\n"
     ]
    }
   ],
   "source": [
    "my_data = np.genfromtxt('HW3_data.csv', delimiter=',')\n",
    "print('Data Shape:', my_data.shape)"
   ]
  },
  {
   "cell_type": "code",
   "execution_count": 3,
   "metadata": {},
   "outputs": [],
   "source": [
    "# Set up functions\n",
    "from mpl_toolkits.mplot3d import Axes3D\n",
    "\n",
    "def loss(X, Y, LAMBDA):\n",
    "    T1 =  .000045*LAMBDA[1]**2 * Y \n",
    "    T2 = -.000098*LAMBDA[0]**2 * X\n",
    "    T3 =  .003926*LAMBDA[0] * X * np.exp( (Y**2 - X**2) * (LAMBDA[0]**2 + LAMBDA[1]**2) )\n",
    "    return np.sum(T1 + T2 + T3)\n",
    "\n",
    "def make_3d_plot(xfinal, yfinal, zfinal, history, loss, X, Y):\n",
    "    L1s = np.linspace(xfinal - 10 , xfinal + 10, 40)\n",
    "    L2s = np.linspace(yfinal - 10 , yfinal + 10, 40)\n",
    "    L1, L2 = np.meshgrid(L1s, L1s)\n",
    "    zs = np.array([loss(X, Y, LAMBDA) \n",
    "                   for LAMBDA in zip(np.ravel(L1), np.ravel(L2))])\n",
    "    Z = zs.reshape(L1.shape)\n",
    "    fig = plt.figure(figsize=(10, 6))\n",
    "    ax = fig.add_subplot(111, projection='3d')\n",
    "\n",
    "    off = -10\n",
    "    ax.plot_surface(L1, L2, Z, rstride=1, cstride=1, color='b', alpha=0.1)\n",
    "    ax.contour(L1, L2, Z, 20, alpha=0.5, offset=off, stride=30)\n",
    "    ax.set_xlabel('Lambda 1')\n",
    "    ax.set_ylabel('Lambda 2')\n",
    "    ax.set_zlabel('Loss Function')\n",
    "    ax.view_init(elev=30., azim=30)\n",
    "    ax.plot([xfinal], [yfinal], [zfinal] , markerfacecolor='r', markeredgecolor='r', marker='o', markersize=7);\n",
    "    ax.plot([t[0] for t in history], [t[1] for t in history], loss , markerfacecolor='b', markeredgecolor='b', marker='.', markersize=5);\n",
    "    ax.plot([t[0] for t in history], [t[1] for t in history], off , alpha=0.5, markerfacecolor='r', markeredgecolor='r', marker='.', markersize=5)\n",
    "    plt.show()\n",
    "    \n",
    "def sa_plot(X, Y, LAMBDA, loss, history):\n",
    "    if not isinstance(loss, list):\n",
    "        loss = [loss]\n",
    "    make_3d_plot(LAMBDA[0], LAMBDA[1], loss[-1], history, loss, X, Y)\n",
    "    "
   ]
  },
  {
   "cell_type": "code",
   "execution_count": 4,
   "metadata": {},
   "outputs": [
    {
     "name": "stdout",
     "output_type": "stream",
     "text": [
      "Example: [ 0.11511539  1.24709003]\n"
     ]
    }
   ],
   "source": [
    "# Proposal Function:\n",
    "covNorm = np.array([[1,0],[0,1]])\n",
    "pfxs = lambda mean: np.random.multivariate_normal(mean, covNorm)\n",
    "print('Example:', pfxs([0,2]))"
   ]
  },
  {
   "cell_type": "code",
   "execution_count": 5,
   "metadata": {},
   "outputs": [],
   "source": [
    "# Temperature and iterations\n",
    "tf = lambda t: 0.8*t #temperature function\n",
    "itf = lambda length: math.ceil(1.2*length) #iteration function"
   ]
  },
  {
   "cell_type": "code",
   "execution_count": 6,
   "metadata": {},
   "outputs": [],
   "source": [
    "def sa(energyfunc, initials, epochs, tempfunc, iterfunc, proposalfunc, opt_cond='Dist'):\n",
    "    accumulator=[]\n",
    "    best_solution = old_solution = initials['solution']\n",
    "    T=initials['T']\n",
    "    length=initials['length']\n",
    "    best_energy = old_energy = energyfunc(old_solution)\n",
    "    accepted=0\n",
    "    total=0\n",
    "    for index in range(epochs):\n",
    "        print(\"Epoch\", index)\n",
    "        if index > 0:\n",
    "            T = tempfunc(T)\n",
    "            length=iterfunc(length)\n",
    "        print(\"Temperature\", T, \"Length\", length)\n",
    "        for it in range(length):\n",
    "            total+=1\n",
    "            new_solution = proposalfunc(old_solution)\n",
    "            new_energy = energyfunc(new_solution)\n",
    "            # Use a min here as you could get a \"probability\" > 1\n",
    "            alpha = min(1, np.exp((old_energy - new_energy)/T))\n",
    "            if ((new_energy < old_energy) or (np.random.uniform() < alpha)):\n",
    "                # Accept proposed solution\n",
    "                accepted+=1\n",
    "                accumulator.append((T, new_solution, new_energy))\n",
    "                if new_energy < best_energy:\n",
    "                    # Replace previous best with this one\n",
    "                    best_energy = new_energy\n",
    "                    best_solution = new_solution\n",
    "                    best_index=total\n",
    "                    best_temp=T\n",
    "                old_energy = new_energy\n",
    "                old_solution = new_solution\n",
    "            else:\n",
    "                # Keep the old stuff\n",
    "                accumulator.append((T, old_solution, old_energy))\n",
    "    \n",
    "    best_meta=dict(index=best_index, temp=best_temp)\n",
    "    print(\"frac accepted\", accepted/total, \"total iterations\", total, 'bmeta', best_meta)\n",
    "    return best_meta, best_solution, best_energy, accumulator"
   ]
  },
  {
   "cell_type": "code",
   "execution_count": 7,
   "metadata": {},
   "outputs": [
    {
     "name": "stdout",
     "output_type": "stream",
     "text": [
      "Epoch 0\n",
      "Temperature 100 Length 100\n",
      "Epoch 1\n",
      "Temperature 80.0 Length 120\n",
      "Epoch 2\n",
      "Temperature 64.0 Length 144\n",
      "Epoch 3\n",
      "Temperature 51.2 Length 173\n",
      "Epoch 4\n",
      "Temperature 40.96000000000001 Length 208\n",
      "Epoch 5\n",
      "Temperature 32.76800000000001 Length 250\n",
      "Epoch 6\n",
      "Temperature 26.21440000000001 Length 300\n",
      "Epoch 7\n",
      "Temperature 20.97152000000001 Length 360\n",
      "Epoch 8\n",
      "Temperature 16.777216000000006 Length 432\n",
      "Epoch 9\n",
      "Temperature 13.421772800000006 Length 519\n",
      "Epoch 10\n",
      "Temperature 10.737418240000006 Length 623\n",
      "Epoch 11\n",
      "Temperature 8.589934592000004 Length 748\n",
      "Epoch 12\n",
      "Temperature 6.871947673600004 Length 898\n",
      "Epoch 13\n",
      "Temperature 5.497558138880003 Length 1078\n",
      "Epoch 14\n",
      "Temperature 4.398046511104003 Length 1294\n",
      "Epoch 15\n",
      "Temperature 3.5184372088832023 Length 1553\n",
      "Epoch 16\n",
      "Temperature 2.814749767106562 Length 1864\n",
      "Epoch 17\n",
      "Temperature 2.25179981368525 Length 2237\n",
      "Epoch 18\n",
      "Temperature 1.8014398509482001 Length 2685\n",
      "Epoch 19\n",
      "Temperature 1.4411518807585602 Length 3222\n",
      "Epoch 20\n",
      "Temperature 1.1529215046068482 Length 3867\n",
      "Epoch 21\n",
      "Temperature 0.9223372036854786 Length 4641\n",
      "Epoch 22\n",
      "Temperature 0.7378697629483829 Length 5570\n",
      "Epoch 23\n",
      "Temperature 0.5902958103587064 Length 6684\n",
      "Epoch 24\n",
      "Temperature 0.4722366482869651 Length 8021\n",
      "Epoch 25\n",
      "Temperature 0.3777893186295721 Length 9626\n",
      "Epoch 26\n",
      "Temperature 0.3022314549036577 Length 11552\n",
      "Epoch 27\n",
      "Temperature 0.24178516392292618 Length 13863\n",
      "Epoch 28\n",
      "Temperature 0.19342813113834095 Length 16636\n",
      "Epoch 29\n",
      "Temperature 0.15474250491067276 Length 19964\n",
      "frac accepted 0.227145397208803 total iterations 119232 bmeta {'index': 35873, 'temp': 0.5902958103587064}\n"
     ]
    }
   ],
   "source": [
    "loss_lam = partial(loss,my_data[0,:], my_data[1,:])\n",
    "inits=dict(solution=[-5,0], length=100, T=100)\n",
    "# Run the SA algorithm\n",
    "bmeta, bs, be, out = sa(loss_lam, inits, 30, tf, itf, pfxs)"
   ]
  },
  {
   "cell_type": "code",
   "execution_count": 8,
   "metadata": {},
   "outputs": [
    {
     "name": "stdout",
     "output_type": "stream",
     "text": [
      "Global Minimum Suggestion: [  2.05281771e+00  -1.70592608e-03] \n",
      "With Loss Function: -9.93409762445\n"
     ]
    }
   ],
   "source": [
    "# Print out results:\n",
    "print('Global Minimum Suggestion:',bs,'\\nWith Loss Function:', be)"
   ]
  },
  {
   "cell_type": "markdown",
   "metadata": {},
   "source": [
    "### Now, plot the process"
   ]
  },
  {
   "cell_type": "code",
   "execution_count": 9,
   "metadata": {},
   "outputs": [
    {
     "data": {
      "image/png": "[encoded data removed]",
      "text/plain": [
       "<matplotlib.figure.Figure at 0x110b4f128>"
      ]
     },
     "metadata": {},
     "output_type": "display_data"
    },
    {
     "data": {
      "image/png": "[encoded data removed]",
      "text/plain": [
       "<matplotlib.figure.Figure at 0x11198ac88>"
      ]
     },
     "metadata": {},
     "output_type": "display_data"
    }
   ],
   "source": [
    "# Create plots of the energy (cost) and the temperature over iterations\n",
    "accum_list = list(zip(*out))\n",
    "T = accum_list[0]\n",
    "LAM = accum_list[1]\n",
    "E = accum_list[2]\n",
    "\n",
    "fig, ax = plt.subplots(1,2,figsize=(10,6))\n",
    "\n",
    "# Plotting energy function\n",
    "ax[0].plot(E)\n",
    "ax[0].set_xlabel('Iteration')\n",
    "ax[0].set_ylabel('Energy Function')\n",
    "ax[0].set_xscale('log')\n",
    "ax[0].set_title('Energy Function Over Iteration')\n",
    "# Plotting temperature\n",
    "ax[1].plot(T)\n",
    "ax[1].set_xlabel('Iteration')\n",
    "ax[1].set_ylabel('Temperature')\n",
    "ax[1].set_title('Temperature Over Iteration')\n",
    "ax[1].set_xscale('log')\n",
    "plt.show()\n",
    "\n",
    "\n",
    "# Plotting temperature\n",
    "plt.scatter(T,E)\n",
    "plt.xlabel('Temperature')\n",
    "plt.ylabel('Energy Function')\n",
    "plt.title('Energy Function Computations at Each Temperature')\n",
    "plt.gca().invert_xaxis()\n",
    "plt.show()"
   ]
  },
  {
   "cell_type": "markdown",
   "metadata": {},
   "source": [
    "### Compare to Gradient Descent and SGD:\n",
    "When we compare this implementation to GD and SGD, we notice a few things. First, we see that the suggested global minimum is indeed the global minimum. This beats the attempts made by GD and SGD to compute minima, as they both got stuck in local minima. Second, one of the requirements of an annealing algorithm is that we have to be able to access all of the locations on our parameter space. This is similar to trio of aperiodicity, irreducibility, and recurrence that we demanded in Markov Chain construction. In order to ensure that we have reached the global minimum, we must meet the condition that we have to be able to access all of these locations. At each temperature, the system acts like a Markov Chain where there is a set probability to transition from one state to any other. This defines our Markov transition probabilities."
   ]
  },
  {
   "cell_type": "markdown",
   "metadata": {},
   "source": [
    "## Problem 2: A Tired Salesman\n",
    "\n",
    "In the famous traveling salesman problem, the quality of the solution can be measured in \n",
    "different ways, beyond finding the shortest path.  For example, the total time of travel may also be important, and may depend on the means of transportation that connect pairs of \n",
    "cities.  Consider a random distribution of $N$ points on a plane representing the cities \n",
    "that must be visited by the traveling salesman.  Each point is an (x,y) coordinate where both x and y are integers in the range [1, 50). Assign a value $s_i$ where $i\\in [1,\\dots,N]$ to each city that represents its size measured by population.  Let $\\forall s_i, \\  s_i \\in [1, 10)$.  If two cities are farther away from each other than a **distance threshold of 10** and both have populations greater than a **population threshold of 5** assume there is a flight connection between them.  In all other cases assume that our poor salesman would have to drive between cities. Flying is faster than driving by a factor of 10. \n",
    "\n",
    "1. Use Simulated Annealing to find solutions to the traveling salesman problem for \n",
    "$N=100$, optimizing the travel path for the total distance travelled (but keeping track \n",
    "of the time of travel). \n",
    "\n",
    "2. Now redo the problem by optimizing the the path for the total time of travel (but keeping track of the distance traveled). Are the two solutions similar or different? \n",
    "\n",
    "3. How do your results change if the population and distance thresholds for the exisitence of a flight between two cities are altered?\n"
   ]
  },
  {
   "cell_type": "code",
   "execution_count": 10,
   "metadata": {},
   "outputs": [],
   "source": [
    "# Functions to get the permutations of the tours\n",
    "def alltours(cities):\n",
    "    \"Return a list of tours, each a permutation of cities, but each one starting with the same city.\"\n",
    "    start = first(cities)\n",
    "    return [[start] + Tour(rest)\n",
    "            for rest in itertools.permutations(cities - {start})]\n",
    "\n",
    "# Gets the first city of a collection\n",
    "def first(collection):\n",
    "    \"Start iterating over collection, and return the first element.\"\n",
    "    return next(iter(collection))\n",
    "\n",
    "Tour = list  # Tours are implemented as lists of cities\n",
    "\n",
    "# Function to get the length of the tour\n",
    "def tour_length(threshD, threshP, tour):\n",
    "    \"The total of distances between each pair of consecutive cities in the tour.\"\n",
    "    tour_dist=0\n",
    "    tour_time=0\n",
    "    for i in range(len(tour)):\n",
    "        tour_dist_new, tour_time_new = distance(tour[i], tour[i-1], threshD, threshP)\n",
    "        tour_dist+=tour_dist_new\n",
    "        tour_time+=tour_time_new\n",
    "        \n",
    "    return {'Dist':tour_dist, 'Time':tour_time}"
   ]
  },
  {
   "cell_type": "code",
   "execution_count": 11,
   "metadata": {},
   "outputs": [],
   "source": [
    "# Cities are represented as Points, which are a subclass of complex numbers\n",
    "from collections import namedtuple\n",
    "\n",
    "# City is a named tuple with x and y position and a population\n",
    "City = namedtuple('City', ['x', 'y', 'pop'], verbose=False)"
   ]
  },
  {
   "cell_type": "code",
   "execution_count": 12,
   "metadata": {},
   "outputs": [],
   "source": [
    "# Get the distance between two cities\n",
    "def distance(A, B, threshD, threshP): # Note: we have modified this function to reflect the complexity of the problem\n",
    "    \"The distance between two cites.\"\n",
    "    euc_dist = math.sqrt((A.x - B.x)*(A.x - B.x) + (A.y - B.y)*(A.y - B.y))\n",
    "    # Convert distance to a time\n",
    "    if (euc_dist > threshD) & (A.pop > threshP) & (B.pop > threshP):\n",
    "        time = euc_dist / 10\n",
    "    else:\n",
    "        time = euc_dist\n",
    "    return(euc_dist, time)\n",
    "\n",
    "def Cities(n, width=900, height=600, popmax=10, seed=42):\n",
    "    \"Make a set of n cities, each with random coordinates within a (width x height) rectangle.\"\n",
    "    random.seed(seed * n)\n",
    "    return frozenset(City(random.randrange(1,width), random.randrange(1,height), popmax*random.random())\n",
    "                     for c in range(n))\n",
    "\n",
    "def plot_tour(tour):\n",
    "    \"Plot the cities as circles and the tour as lines between them. Start city is red square.\"\n",
    "    start = tour[0]\n",
    "    plot_lines(list(tour) + [start])\n",
    "    plot_lines([start], 'rs') # Mark the start city with a red square\n",
    "    \n",
    "def plot_lines(points, style='bo-'):\n",
    "    \"Plot lines to connect a series of points.\"\n",
    "    plt.plot([p.x for p in points], [p.y for p in points], style)\n",
    "    plt.axis('scaled'); plt.axis('off')\n",
    "    \n",
    "def plot_tsp(algorithm, cities, threshD, threshP):\n",
    "    \"Apply a TSP algorithm to cities, plot the resulting tour, and print information.\"\n",
    "    tour_length_partial = partial(tour_length, threshD, threshP)\n",
    "    # Find the solution and time how long it takes\n",
    "    t0 = time.clock()\n",
    "    tour = algorithm(cities)\n",
    "    t1 = time.clock()\n",
    "    assert valid_tour(tour, cities)\n",
    "    plot_tour(tour); plt.show()\n",
    "    print(\"{} city tour with length {:.1f} and time {:.3f}s\"\n",
    "          .format(len(tour), tour_length_partial(tour)['Dist'],tour_length_partial(tour)['Time']))\n",
    "    \n",
    "def valid_tour(tour, cities):\n",
    "    \"Is tour a valid tour for these cities?\"\n",
    "    return set(tour) == set(cities) and len(tour) == len(cities)"
   ]
  },
  {
   "cell_type": "code",
   "execution_count": 13,
   "metadata": {},
   "outputs": [
    {
     "data": {
      "image/png": "[encoded data removed]",
      "text/plain": [
       "<matplotlib.figure.Figure at 0x110dca9b0>"
      ]
     },
     "metadata": {},
     "output_type": "display_data"
    }
   ],
   "source": [
    "# Create list of cities\n",
    "mycities = Cities(100, seed=332, width=50, height=50, popmax=10)\n",
    "plot_lines(mycities, 'bo')"
   ]
  },
  {
   "cell_type": "code",
   "execution_count": 14,
   "metadata": {},
   "outputs": [],
   "source": [
    "def change_tour(input_tour):\n",
    "    \"Change a tour for tsp iteration\"\n",
    "    \n",
    "    #possible_indices = range(1, len(input_tour)) why not?\n",
    "    possible_indices = range(len(input_tour))\n",
    "    # take two random indices to swap\n",
    "    c1 = np.random.choice(possible_indices)\n",
    "    c2 = np.random.choice(possible_indices)\n",
    "    \n",
    "    new_tour = change_path(input_tour, c1, c2)\n",
    "    \n",
    "    return new_tour\n",
    "\n",
    "def swap_cities(input_tour, i, j):\n",
    "    \"Swap two cities at index i and j in a tour\"\n",
    "    \n",
    "    # save city1\n",
    "    city1 = input_tour[i]\n",
    "    \n",
    "    # save city2\n",
    "    city2 = input_tour[j]\n",
    "    \n",
    "    new_tour = input_tour.copy()\n",
    "    \n",
    "    # swap\n",
    "    new_tour[j] = city1\n",
    "    new_tour[i] = city2\n",
    "        \n",
    "    return new_tour\n",
    "    \n",
    "change_path = swap_cities  "
   ]
  },
  {
   "cell_type": "code",
   "execution_count": 15,
   "metadata": {},
   "outputs": [],
   "source": [
    "def plot_optimization(out):\n",
    "    # Plot the results of the optimization routine\n",
    "    fig = plt.figure()\n",
    "    ax = fig.add_subplot(111)\n",
    "\n",
    "    lns1 = ax.plot(range(len(out)),[e[2]['Dist'] for e in out], alpha=0.6, lw=2, color='b', label='Dist')\n",
    "    ax2 = ax.twinx()\n",
    "    lns2 = ax2.plot(range(len(out)),[e[2]['Time'] for e in out], alpha=0.6, lw=2, color='r', label='Time')\n",
    "\n",
    "    # added these two lines\n",
    "    lns = lns1+lns2\n",
    "    labs = [l.get_label() for l in lns]\n",
    "    ax.legend(lns, labs, loc=0)\n",
    "\n",
    "    # Plot result\n",
    "    ax.grid()\n",
    "    ax.set_xlabel('Iteration')\n",
    "    ax.set_ylabel('Trip Distance')\n",
    "    ax2.set_ylabel('Trip Time')\n",
    "    plt.xscale('log')\n",
    "    plt.show()"
   ]
  },
  {
   "cell_type": "code",
   "execution_count": 16,
   "metadata": {},
   "outputs": [],
   "source": [
    "def sa_tsp(energyfunc, initials, epochs, tempfunc, iterfunc, proposalfunc, OC='Dist'):\n",
    "    accumulator=[]\n",
    "    best_solution = old_solution = initials['solution']\n",
    "    T=initials['T']\n",
    "    length=initials['length']\n",
    "    \n",
    "    # Reannealing\n",
    "    ANN_INT = 100\n",
    "    beta = 1.5\n",
    "    \n",
    "    best_energy = old_energy = energyfunc(old_solution)\n",
    "    accepted=0\n",
    "    total=0\n",
    "    i = 0\n",
    "    for index in tnrange(epochs):\n",
    "        i+=1\n",
    "        if i % ANN_INT == 0: # Reannealing\n",
    "            T = initials['T'] * (1 - index/epochs)\n",
    "            length = initials['length']\n",
    "            ANN_INT = np.ceil(beta*ANN_INT)\n",
    "            i = 0\n",
    "            print('Epoch=%d, Reannealing...' % index)\n",
    "\n",
    "        if index > 0:\n",
    "            T = tempfunc(T)\n",
    "            length=iterfunc(length)\n",
    "        for it in range(length):\n",
    "            total+=1\n",
    "            new_solution = proposalfunc(old_solution)\n",
    "            new_energy = energyfunc(new_solution)\n",
    "            # Use a min here as you could get a \"probability\" > 1\n",
    "            alpha = min(1, np.exp((old_energy[OC] - new_energy[OC])/T))\n",
    "            if ((new_energy[OC] < old_energy[OC]) or (np.random.uniform() < alpha)):\n",
    "                # Accept proposed solution\n",
    "                accepted+=1\n",
    "                accumulator.append((T, new_solution, new_energy))\n",
    "                if new_energy[OC] < best_energy[OC]:\n",
    "                    # Replace previous best with this one\n",
    "                    best_energy = new_energy\n",
    "                    best_solution = new_solution\n",
    "                    best_index=total\n",
    "                    best_temp=T\n",
    "                old_energy = new_energy\n",
    "                old_solution = new_solution\n",
    "            else:\n",
    "                # Keep the old stuff\n",
    "                accumulator.append((T, old_solution, old_energy))\n",
    "    \n",
    "    best_meta=dict(index=best_index, temp=best_temp)\n",
    "    print(\"RESULTS:\\nFrac accepted: %.4f\\nTotal Iterations: %d\\nBest Meta - Index=%d, Temp=%.4e\" %\n",
    "          (accepted/total, total, best_meta['index'], best_meta['temp']))\n",
    "    return best_meta, best_solution, best_energy, accumulator"
   ]
  },
  {
   "cell_type": "code",
   "execution_count": 17,
   "metadata": {},
   "outputs": [],
   "source": [
    "# Initialize functions\n",
    "initial_tour = list(mycities)\n",
    "length_func1 = lambda temperature: np.max((np.floor(np.sqrt(temperature)).astype(int),1))\n",
    "length_func2 = lambda length: min(int(math.ceil(1.2*length)), 100)\n",
    "length_func = length_func2\n",
    "temp_func = lambda t: 0.94*t\n",
    "\n",
    "# Initialize state\n",
    "init_length = length_func(10)\n",
    "inits=dict(solution=initial_tour, length=init_length, T=50.0)"
   ]
  },
  {
   "cell_type": "markdown",
   "metadata": {},
   "source": [
    "### Optimizing for Tour Distance:"
   ]
  },
  {
   "cell_type": "code",
   "execution_count": 18,
   "metadata": {},
   "outputs": [
    {
     "data": {
      "application/vnd.jupyter.widget-view+json": {
       "model_id": "44c46ea05b10497e919a488c2b66c46c",
       "version_major": 2,
       "version_minor": 0
      },
      "text/html": [
       "<p>Failed to display Jupyter Widget of type <code>HBox</code>.</p>\n",
       "<p>\n",
       "  If you're reading this message in the Jupyter Notebook or JupyterLab Notebook, it may mean\n",
       "  that the widgets JavaScript is still loading. If this message persists, it\n",
       "  likely means that the widgets JavaScript library is either not installed or\n",
       "  not enabled. See the <a href=\"https://ipywidgets.readthedocs.io/en/stable/user_install.html\">Jupyter\n",
       "  Widgets Documentation</a> for setup instructions.\n",
       "</p>\n",
       "<p>\n",
       "  If you're reading this message in another frontend (for example, a static\n",
       "  rendering on GitHub or <a href=\"https://nbviewer.jupyter.org/\">NBViewer</a>),\n",
       "  it may mean that your frontend doesn't currently support widgets.\n",
       "</p>\n"
      ],
      "text/plain": [
       "HBox(children=(IntProgress(value=0, max=2000), HTML(value='')))"
      ]
     },
     "metadata": {},
     "output_type": "display_data"
    },
    {
     "name": "stdout",
     "output_type": "stream",
     "text": [
      "Epoch=99, Reannealing...\n"
     ]
    },
    {
     "name": "stderr",
     "output_type": "stream",
     "text": [
      "/anaconda3/lib/python3.6/site-packages/ipykernel_launcher.py:32: RuntimeWarning: overflow encountered in exp\n"
     ]
    },
    {
     "name": "stdout",
     "output_type": "stream",
     "text": [
      "Epoch=249, Reannealing...\n",
      "Epoch=474, Reannealing...\n",
      "Epoch=812, Reannealing...\n",
      "Epoch=1319, Reannealing...\n",
      "\n",
      "RESULTS:\n",
      "Frac accepted: 0.0389\n",
      "Total Iterations: 196402\n",
      "Best Meta - Index=76860, Temp=1.0216e-07\n",
      "Algorithm Time: 42.65616899999999\n"
     ]
    }
   ],
   "source": [
    "# Run annealing algorithm\n",
    "threshD = 10\n",
    "threshP = 5\n",
    "tour_length_partial = partial(tour_length, threshD, threshP)\n",
    "opt_cond = 'Dist'\n",
    "t0 = time.clock()\n",
    "bmeta, bs, be, out = sa_tsp(tour_length_partial, inits, 2000, temp_func, length_func, change_tour, OC=opt_cond);\n",
    "t1 = time.clock()\n",
    "print('Algorithm Time:', t1-t0)"
   ]
  },
  {
   "cell_type": "code",
   "execution_count": 19,
   "metadata": {},
   "outputs": [
    {
     "data": {
      "image/png": "[encoded data removed]",
      "text/plain": [
       "<matplotlib.figure.Figure at 0x11483d240>"
      ]
     },
     "metadata": {},
     "output_type": "display_data"
    },
    {
     "name": "stdout",
     "output_type": "stream",
     "text": [
      "100 city tour with length 559.7 and time 532.406s\n"
     ]
    },
    {
     "data": {
      "image/png": "[encoded data removed]",
      "text/plain": [
       "<matplotlib.figure.Figure at 0x11483d208>"
      ]
     },
     "metadata": {},
     "output_type": "display_data"
    }
   ],
   "source": [
    "plot_tsp(lambda x: bs, mycities, threshD, threshP)\n",
    "plot_optimization(out)"
   ]
  },
  {
   "cell_type": "markdown",
   "metadata": {},
   "source": [
    "### Optimizing for Tour Time:"
   ]
  },
  {
   "cell_type": "code",
   "execution_count": 20,
   "metadata": {},
   "outputs": [
    {
     "data": {
      "application/vnd.jupyter.widget-view+json": {
       "model_id": "f968495a8637402fb0dc0e48678d9453",
       "version_major": 2,
       "version_minor": 0
      },
      "text/html": [
       "<p>Failed to display Jupyter Widget of type <code>HBox</code>.</p>\n",
       "<p>\n",
       "  If you're reading this message in the Jupyter Notebook or JupyterLab Notebook, it may mean\n",
       "  that the widgets JavaScript is still loading. If this message persists, it\n",
       "  likely means that the widgets JavaScript library is either not installed or\n",
       "  not enabled. See the <a href=\"https://ipywidgets.readthedocs.io/en/stable/user_install.html\">Jupyter\n",
       "  Widgets Documentation</a> for setup instructions.\n",
       "</p>\n",
       "<p>\n",
       "  If you're reading this message in another frontend (for example, a static\n",
       "  rendering on GitHub or <a href=\"https://nbviewer.jupyter.org/\">NBViewer</a>),\n",
       "  it may mean that your frontend doesn't currently support widgets.\n",
       "</p>\n"
      ],
      "text/plain": [
       "HBox(children=(IntProgress(value=0, max=2000), HTML(value='')))"
      ]
     },
     "metadata": {},
     "output_type": "display_data"
    },
    {
     "name": "stdout",
     "output_type": "stream",
     "text": [
      "Epoch=99, Reannealing...\n",
      "Epoch=249, Reannealing...\n"
     ]
    },
    {
     "name": "stderr",
     "output_type": "stream",
     "text": [
      "/anaconda3/lib/python3.6/site-packages/ipykernel_launcher.py:32: RuntimeWarning: overflow encountered in exp\n"
     ]
    },
    {
     "name": "stdout",
     "output_type": "stream",
     "text": [
      "Epoch=474, Reannealing...\n",
      "Epoch=812, Reannealing...\n",
      "Epoch=1319, Reannealing...\n",
      "\n",
      "RESULTS:\n",
      "Frac accepted: 0.0481\n",
      "Total Iterations: 196402\n",
      "Best Meta - Index=76219, Temp=1.4809e-07\n",
      "Algorithm Time: 42.062062\n"
     ]
    }
   ],
   "source": [
    "# Run annealing algorithm\n",
    "threshD = 10\n",
    "threshP = 5\n",
    "tour_length_partial = partial(tour_length, threshD, threshP)\n",
    "opt_cond = 'Time'\n",
    "t0 = time.clock()\n",
    "bmeta, bs, be, out = sa_tsp(tour_length_partial, inits, 2000, temp_func, length_func, change_tour, OC=opt_cond);\n",
    "t1 = time.clock()\n",
    "print('Algorithm Time:', t1-t0)"
   ]
  },
  {
   "cell_type": "code",
   "execution_count": 21,
   "metadata": {},
   "outputs": [
    {
     "data": {
      "image/png": "[encoded data removed]",
      "text/plain": [
       "<matplotlib.figure.Figure at 0x1101334e0>"
      ]
     },
     "metadata": {},
     "output_type": "display_data"
    },
    {
     "name": "stdout",
     "output_type": "stream",
     "text": [
      "100 city tour with length 1044.8 and time 369.985s\n"
     ]
    },
    {
     "data": {
      "image/png": "[encoded data removed]",
      "text/plain": [
       "<matplotlib.figure.Figure at 0x1149d71d0>"
      ]
     },
     "metadata": {},
     "output_type": "display_data"
    }
   ],
   "source": [
    "plot_tsp(lambda x: bs, mycities, threshD, threshP)\n",
    "plot_optimization(out)"
   ]
  },
  {
   "cell_type": "markdown",
   "metadata": {},
   "source": [
    "After performing the annealing algorithm to optimize tour time and tour distance, we see that the results are quite different. In this particular iteration, we see that performing the optimization for distance led to a lower distance and a higher time when compared to the optimization for time. This is to be expected given our conditions for maximization."
   ]
  },
  {
   "cell_type": "markdown",
   "metadata": {},
   "source": [
    "### Trying different threshold conditions"
   ]
  },
  {
   "cell_type": "code",
   "execution_count": 29,
   "metadata": {},
   "outputs": [],
   "source": [
    "threshD = [5, 10, 15]\n",
    "threshP = [3, 5, 7]\n",
    "Dmesh, Pmesh = np.meshgrid(threshD, threshP)\n",
    "be_d_dist = np.zeros(np.shape(Dmesh))\n",
    "be_d_time = np.zeros(np.shape(Dmesh))\n",
    "be_t_dist = np.zeros(np.shape(Dmesh))\n",
    "be_t_time = np.zeros(np.shape(Dmesh))"
   ]
  },
  {
   "cell_type": "code",
   "execution_count": 30,
   "metadata": {},
   "outputs": [
    {
     "data": {
      "application/vnd.jupyter.widget-view+json": {
       "model_id": "74455c4a6b4a46148357ab381d16f61c",
       "version_major": 2,
       "version_minor": 0
      },
      "text/html": [
       "<p>Failed to display Jupyter Widget of type <code>HBox</code>.</p>\n",
       "<p>\n",
       "  If you're reading this message in the Jupyter Notebook or JupyterLab Notebook, it may mean\n",
       "  that the widgets JavaScript is still loading. If this message persists, it\n",
       "  likely means that the widgets JavaScript library is either not installed or\n",
       "  not enabled. See the <a href=\"https://ipywidgets.readthedocs.io/en/stable/user_install.html\">Jupyter\n",
       "  Widgets Documentation</a> for setup instructions.\n",
       "</p>\n",
       "<p>\n",
       "  If you're reading this message in another frontend (for example, a static\n",
       "  rendering on GitHub or <a href=\"https://nbviewer.jupyter.org/\">NBViewer</a>),\n",
       "  it may mean that your frontend doesn't currently support widgets.\n",
       "</p>\n"
      ],
      "text/plain": [
       "HBox(children=(IntProgress(value=0, max=2000), HTML(value='')))"
      ]
     },
     "metadata": {},
     "output_type": "display_data"
    },
    {
     "name": "stdout",
     "output_type": "stream",
     "text": [
      "Epoch=99, Reannealing...\n"
     ]
    },
    {
     "name": "stderr",
     "output_type": "stream",
     "text": [
      "/anaconda3/lib/python3.6/site-packages/ipykernel_launcher.py:32: RuntimeWarning: overflow encountered in exp\n"
     ]
    },
    {
     "name": "stdout",
     "output_type": "stream",
     "text": [
      "Epoch=249, Reannealing...\n",
      "Epoch=474, Reannealing...\n",
      "Epoch=812, Reannealing...\n",
      "Epoch=1319, Reannealing...\n",
      "\n",
      "RESULTS:\n",
      "Frac accepted: 0.0384\n",
      "Total Iterations: 196402\n",
      "Best Meta - Index=160473, Temp=3.7867e-08\n"
     ]
    },
    {
     "data": {
      "application/vnd.jupyter.widget-view+json": {
       "model_id": "2271f9d996d848beba37b4bb0c437d15",
       "version_major": 2,
       "version_minor": 0
      },
      "text/html": [
       "<p>Failed to display Jupyter Widget of type <code>HBox</code>.</p>\n",
       "<p>\n",
       "  If you're reading this message in the Jupyter Notebook or JupyterLab Notebook, it may mean\n",
       "  that the widgets JavaScript is still loading. If this message persists, it\n",
       "  likely means that the widgets JavaScript library is either not installed or\n",
       "  not enabled. See the <a href=\"https://ipywidgets.readthedocs.io/en/stable/user_install.html\">Jupyter\n",
       "  Widgets Documentation</a> for setup instructions.\n",
       "</p>\n",
       "<p>\n",
       "  If you're reading this message in another frontend (for example, a static\n",
       "  rendering on GitHub or <a href=\"https://nbviewer.jupyter.org/\">NBViewer</a>),\n",
       "  it may mean that your frontend doesn't currently support widgets.\n",
       "</p>\n"
      ],
      "text/plain": [
       "HBox(children=(IntProgress(value=0, max=2000), HTML(value='')))"
      ]
     },
     "metadata": {},
     "output_type": "display_data"
    },
    {
     "name": "stdout",
     "output_type": "stream",
     "text": [
      "Epoch=99, Reannealing...\n",
      "Epoch=249, Reannealing...\n",
      "Epoch=474, Reannealing...\n",
      "Epoch=812, Reannealing...\n",
      "Epoch=1319, Reannealing...\n",
      "\n",
      "RESULTS:\n",
      "Frac accepted: 0.0684\n",
      "Total Iterations: 196402\n",
      "Best Meta - Index=45203, Temp=4.7382e-05\n"
     ]
    },
    {
     "data": {
      "application/vnd.jupyter.widget-view+json": {
       "model_id": "4db5bf07e1df4765b03abd323a1c7b82",
       "version_major": 2,
       "version_minor": 0
      },
      "text/html": [
       "<p>Failed to display Jupyter Widget of type <code>HBox</code>.</p>\n",
       "<p>\n",
       "  If you're reading this message in the Jupyter Notebook or JupyterLab Notebook, it may mean\n",
       "  that the widgets JavaScript is still loading. If this message persists, it\n",
       "  likely means that the widgets JavaScript library is either not installed or\n",
       "  not enabled. See the <a href=\"https://ipywidgets.readthedocs.io/en/stable/user_install.html\">Jupyter\n",
       "  Widgets Documentation</a> for setup instructions.\n",
       "</p>\n",
       "<p>\n",
       "  If you're reading this message in another frontend (for example, a static\n",
       "  rendering on GitHub or <a href=\"https://nbviewer.jupyter.org/\">NBViewer</a>),\n",
       "  it may mean that your frontend doesn't currently support widgets.\n",
       "</p>\n"
      ],
      "text/plain": [
       "HBox(children=(IntProgress(value=0, max=2000), HTML(value='')))"
      ]
     },
     "metadata": {},
     "output_type": "display_data"
    },
    {
     "name": "stdout",
     "output_type": "stream",
     "text": [
      "Epoch=99, Reannealing...\n",
      "Epoch=249, Reannealing...\n",
      "Epoch=474, Reannealing...\n",
      "Epoch=812, Reannealing...\n",
      "Epoch=1319, Reannealing...\n",
      "\n",
      "RESULTS:\n",
      "Frac accepted: 0.0388\n",
      "Total Iterations: 196402\n",
      "Best Meta - Index=160812, Temp=2.9564e-08\n"
     ]
    },
    {
     "data": {
      "application/vnd.jupyter.widget-view+json": {
       "model_id": "94cf0aeefd2d475f9bba1133cf45ae57",
       "version_major": 2,
       "version_minor": 0
      },
      "text/html": [
       "<p>Failed to display Jupyter Widget of type <code>HBox</code>.</p>\n",
       "<p>\n",
       "  If you're reading this message in the Jupyter Notebook or JupyterLab Notebook, it may mean\n",
       "  that the widgets JavaScript is still loading. If this message persists, it\n",
       "  likely means that the widgets JavaScript library is either not installed or\n",
       "  not enabled. See the <a href=\"https://ipywidgets.readthedocs.io/en/stable/user_install.html\">Jupyter\n",
       "  Widgets Documentation</a> for setup instructions.\n",
       "</p>\n",
       "<p>\n",
       "  If you're reading this message in another frontend (for example, a static\n",
       "  rendering on GitHub or <a href=\"https://nbviewer.jupyter.org/\">NBViewer</a>),\n",
       "  it may mean that your frontend doesn't currently support widgets.\n",
       "</p>\n"
      ],
      "text/plain": [
       "HBox(children=(IntProgress(value=0, max=2000), HTML(value='')))"
      ]
     },
     "metadata": {},
     "output_type": "display_data"
    },
    {
     "name": "stdout",
     "output_type": "stream",
     "text": [
      "Epoch=99, Reannealing...\n",
      "Epoch=249, Reannealing...\n",
      "Epoch=474, Reannealing...\n",
      "Epoch=812, Reannealing...\n",
      "Epoch=1319, Reannealing...\n",
      "\n",
      "RESULTS:\n",
      "Frac accepted: 0.0488\n",
      "Total Iterations: 196402\n",
      "Best Meta - Index=162269, Temp=1.2432e-08\n"
     ]
    },
    {
     "data": {
      "application/vnd.jupyter.widget-view+json": {
       "model_id": "b7accb82870e45809aff93526cbacc06",
       "version_major": 2,
       "version_minor": 0
      },
      "text/html": [
       "<p>Failed to display Jupyter Widget of type <code>HBox</code>.</p>\n",
       "<p>\n",
       "  If you're reading this message in the Jupyter Notebook or JupyterLab Notebook, it may mean\n",
       "  that the widgets JavaScript is still loading. If this message persists, it\n",
       "  likely means that the widgets JavaScript library is either not installed or\n",
       "  not enabled. See the <a href=\"https://ipywidgets.readthedocs.io/en/stable/user_install.html\">Jupyter\n",
       "  Widgets Documentation</a> for setup instructions.\n",
       "</p>\n",
       "<p>\n",
       "  If you're reading this message in another frontend (for example, a static\n",
       "  rendering on GitHub or <a href=\"https://nbviewer.jupyter.org/\">NBViewer</a>),\n",
       "  it may mean that your frontend doesn't currently support widgets.\n",
       "</p>\n"
      ],
      "text/plain": [
       "HBox(children=(IntProgress(value=0, max=2000), HTML(value='')))"
      ]
     },
     "metadata": {},
     "output_type": "display_data"
    },
    {
     "name": "stdout",
     "output_type": "stream",
     "text": [
      "Epoch=99, Reannealing...\n",
      "Epoch=249, Reannealing...\n",
      "Epoch=474, Reannealing...\n",
      "Epoch=812, Reannealing...\n",
      "Epoch=1319, Reannealing...\n",
      "\n",
      "RESULTS:\n",
      "Frac accepted: 0.0387\n",
      "Total Iterations: 196402\n",
      "Best Meta - Index=169677, Temp=1.2765e-10\n"
     ]
    },
    {
     "data": {
      "application/vnd.jupyter.widget-view+json": {
       "model_id": "bc0ec6a456814218ac89cd0e9a16a486",
       "version_major": 2,
       "version_minor": 0
      },
      "text/html": [
       "<p>Failed to display Jupyter Widget of type <code>HBox</code>.</p>\n",
       "<p>\n",
       "  If you're reading this message in the Jupyter Notebook or JupyterLab Notebook, it may mean\n",
       "  that the widgets JavaScript is still loading. If this message persists, it\n",
       "  likely means that the widgets JavaScript library is either not installed or\n",
       "  not enabled. See the <a href=\"https://ipywidgets.readthedocs.io/en/stable/user_install.html\">Jupyter\n",
       "  Widgets Documentation</a> for setup instructions.\n",
       "</p>\n",
       "<p>\n",
       "  If you're reading this message in another frontend (for example, a static\n",
       "  rendering on GitHub or <a href=\"https://nbviewer.jupyter.org/\">NBViewer</a>),\n",
       "  it may mean that your frontend doesn't currently support widgets.\n",
       "</p>\n"
      ],
      "text/plain": [
       "HBox(children=(IntProgress(value=0, max=2000), HTML(value='')))"
      ]
     },
     "metadata": {},
     "output_type": "display_data"
    },
    {
     "name": "stdout",
     "output_type": "stream",
     "text": [
      "Epoch=99, Reannealing...\n",
      "Epoch=249, Reannealing...\n",
      "Epoch=474, Reannealing...\n",
      "Epoch=812, Reannealing...\n",
      "Epoch=1319, Reannealing...\n",
      "\n",
      "RESULTS:\n",
      "Frac accepted: 0.0378\n",
      "Total Iterations: 196402\n",
      "Best Meta - Index=160106, Temp=4.5590e-08\n"
     ]
    },
    {
     "data": {
      "application/vnd.jupyter.widget-view+json": {
       "model_id": "5b8295b36d8b4f39baac94f35acf038b",
       "version_major": 2,
       "version_minor": 0
      },
      "text/html": [
       "<p>Failed to display Jupyter Widget of type <code>HBox</code>.</p>\n",
       "<p>\n",
       "  If you're reading this message in the Jupyter Notebook or JupyterLab Notebook, it may mean\n",
       "  that the widgets JavaScript is still loading. If this message persists, it\n",
       "  likely means that the widgets JavaScript library is either not installed or\n",
       "  not enabled. See the <a href=\"https://ipywidgets.readthedocs.io/en/stable/user_install.html\">Jupyter\n",
       "  Widgets Documentation</a> for setup instructions.\n",
       "</p>\n",
       "<p>\n",
       "  If you're reading this message in another frontend (for example, a static\n",
       "  rendering on GitHub or <a href=\"https://nbviewer.jupyter.org/\">NBViewer</a>),\n",
       "  it may mean that your frontend doesn't currently support widgets.\n",
       "</p>\n"
      ],
      "text/plain": [
       "HBox(children=(IntProgress(value=0, max=2000), HTML(value='')))"
      ]
     },
     "metadata": {},
     "output_type": "display_data"
    },
    {
     "name": "stdout",
     "output_type": "stream",
     "text": [
      "Epoch=99, Reannealing...\n",
      "Epoch=249, Reannealing...\n",
      "Epoch=474, Reannealing...\n",
      "Epoch=812, Reannealing...\n",
      "Epoch=1319, Reannealing...\n",
      "\n",
      "RESULTS:\n",
      "Frac accepted: 0.0394\n",
      "Total Iterations: 196402\n",
      "Best Meta - Index=44635, Temp=6.8682e-05\n"
     ]
    },
    {
     "data": {
      "application/vnd.jupyter.widget-view+json": {
       "model_id": "4fff5273c3074812b7f38dffb84967df",
       "version_major": 2,
       "version_minor": 0
      },
      "text/html": [
       "<p>Failed to display Jupyter Widget of type <code>HBox</code>.</p>\n",
       "<p>\n",
       "  If you're reading this message in the Jupyter Notebook or JupyterLab Notebook, it may mean\n",
       "  that the widgets JavaScript is still loading. If this message persists, it\n",
       "  likely means that the widgets JavaScript library is either not installed or\n",
       "  not enabled. See the <a href=\"https://ipywidgets.readthedocs.io/en/stable/user_install.html\">Jupyter\n",
       "  Widgets Documentation</a> for setup instructions.\n",
       "</p>\n",
       "<p>\n",
       "  If you're reading this message in another frontend (for example, a static\n",
       "  rendering on GitHub or <a href=\"https://nbviewer.jupyter.org/\">NBViewer</a>),\n",
       "  it may mean that your frontend doesn't currently support widgets.\n",
       "</p>\n"
      ],
      "text/plain": [
       "HBox(children=(IntProgress(value=0, max=2000), HTML(value='')))"
      ]
     },
     "metadata": {},
     "output_type": "display_data"
    },
    {
     "name": "stdout",
     "output_type": "stream",
     "text": [
      "Epoch=99, Reannealing...\n",
      "Epoch=249, Reannealing...\n",
      "Epoch=474, Reannealing...\n",
      "Epoch=812, Reannealing...\n",
      "Epoch=1319, Reannealing...\n",
      "\n",
      "RESULTS:\n",
      "Frac accepted: 0.0650\n",
      "Total Iterations: 196402\n",
      "Best Meta - Index=78026, Temp=4.8620e-08\n"
     ]
    },
    {
     "data": {
      "application/vnd.jupyter.widget-view+json": {
       "model_id": "269b36b5e1164f90a4c1f66f2b94b4cd",
       "version_major": 2,
       "version_minor": 0
      },
      "text/html": [
       "<p>Failed to display Jupyter Widget of type <code>HBox</code>.</p>\n",
       "<p>\n",
       "  If you're reading this message in the Jupyter Notebook or JupyterLab Notebook, it may mean\n",
       "  that the widgets JavaScript is still loading. If this message persists, it\n",
       "  likely means that the widgets JavaScript library is either not installed or\n",
       "  not enabled. See the <a href=\"https://ipywidgets.readthedocs.io/en/stable/user_install.html\">Jupyter\n",
       "  Widgets Documentation</a> for setup instructions.\n",
       "</p>\n",
       "<p>\n",
       "  If you're reading this message in another frontend (for example, a static\n",
       "  rendering on GitHub or <a href=\"https://nbviewer.jupyter.org/\">NBViewer</a>),\n",
       "  it may mean that your frontend doesn't currently support widgets.\n",
       "</p>\n"
      ],
      "text/plain": [
       "HBox(children=(IntProgress(value=0, max=2000), HTML(value='')))"
      ]
     },
     "metadata": {},
     "output_type": "display_data"
    },
    {
     "name": "stdout",
     "output_type": "stream",
     "text": [
      "Epoch=99, Reannealing...\n",
      "Epoch=249, Reannealing...\n",
      "Epoch=474, Reannealing...\n",
      "Epoch=812, Reannealing...\n",
      "Epoch=1319, Reannealing...\n",
      "\n",
      "RESULTS:\n",
      "Frac accepted: 0.0382\n",
      "Total Iterations: 196402\n",
      "Best Meta - Index=153614, Temp=2.5443e-06\n"
     ]
    },
    {
     "data": {
      "application/vnd.jupyter.widget-view+json": {
       "model_id": "82762ac4e8b54691a60f069528080232",
       "version_major": 2,
       "version_minor": 0
      },
      "text/html": [
       "<p>Failed to display Jupyter Widget of type <code>HBox</code>.</p>\n",
       "<p>\n",
       "  If you're reading this message in the Jupyter Notebook or JupyterLab Notebook, it may mean\n",
       "  that the widgets JavaScript is still loading. If this message persists, it\n",
       "  likely means that the widgets JavaScript library is either not installed or\n",
       "  not enabled. See the <a href=\"https://ipywidgets.readthedocs.io/en/stable/user_install.html\">Jupyter\n",
       "  Widgets Documentation</a> for setup instructions.\n",
       "</p>\n",
       "<p>\n",
       "  If you're reading this message in another frontend (for example, a static\n",
       "  rendering on GitHub or <a href=\"https://nbviewer.jupyter.org/\">NBViewer</a>),\n",
       "  it may mean that your frontend doesn't currently support widgets.\n",
       "</p>\n"
      ],
      "text/plain": [
       "HBox(children=(IntProgress(value=0, max=2000), HTML(value='')))"
      ]
     },
     "metadata": {},
     "output_type": "display_data"
    },
    {
     "name": "stdout",
     "output_type": "stream",
     "text": [
      "Epoch=99, Reannealing...\n",
      "Epoch=249, Reannealing...\n",
      "Epoch=474, Reannealing...\n",
      "Epoch=812, Reannealing...\n",
      "Epoch=1319, Reannealing...\n",
      "\n",
      "RESULTS:\n",
      "Frac accepted: 0.0470\n",
      "Total Iterations: 196402\n",
      "Best Meta - Index=156223, Temp=5.0920e-07\n"
     ]
    },
    {
     "data": {
      "application/vnd.jupyter.widget-view+json": {
       "model_id": "b120e03d276e46acb58e18d21bdd5350",
       "version_major": 2,
       "version_minor": 0
      },
      "text/html": [
       "<p>Failed to display Jupyter Widget of type <code>HBox</code>.</p>\n",
       "<p>\n",
       "  If you're reading this message in the Jupyter Notebook or JupyterLab Notebook, it may mean\n",
       "  that the widgets JavaScript is still loading. If this message persists, it\n",
       "  likely means that the widgets JavaScript library is either not installed or\n",
       "  not enabled. See the <a href=\"https://ipywidgets.readthedocs.io/en/stable/user_install.html\">Jupyter\n",
       "  Widgets Documentation</a> for setup instructions.\n",
       "</p>\n",
       "<p>\n",
       "  If you're reading this message in another frontend (for example, a static\n",
       "  rendering on GitHub or <a href=\"https://nbviewer.jupyter.org/\">NBViewer</a>),\n",
       "  it may mean that your frontend doesn't currently support widgets.\n",
       "</p>\n"
      ],
      "text/plain": [
       "HBox(children=(IntProgress(value=0, max=2000), HTML(value='')))"
      ]
     },
     "metadata": {},
     "output_type": "display_data"
    },
    {
     "name": "stdout",
     "output_type": "stream",
     "text": [
      "Epoch=99, Reannealing...\n",
      "Epoch=249, Reannealing...\n",
      "Epoch=474, Reannealing...\n",
      "Epoch=812, Reannealing...\n",
      "Epoch=1319, Reannealing...\n",
      "\n",
      "RESULTS:\n",
      "Frac accepted: 0.0384\n",
      "Total Iterations: 196402\n",
      "Best Meta - Index=181008, Temp=1.1030e-13\n"
     ]
    },
    {
     "data": {
      "application/vnd.jupyter.widget-view+json": {
       "model_id": "2cc1a55d49764b5e98b37bb7e6f55137",
       "version_major": 2,
       "version_minor": 0
      },
      "text/html": [
       "<p>Failed to display Jupyter Widget of type <code>HBox</code>.</p>\n",
       "<p>\n",
       "  If you're reading this message in the Jupyter Notebook or JupyterLab Notebook, it may mean\n",
       "  that the widgets JavaScript is still loading. If this message persists, it\n",
       "  likely means that the widgets JavaScript library is either not installed or\n",
       "  not enabled. See the <a href=\"https://ipywidgets.readthedocs.io/en/stable/user_install.html\">Jupyter\n",
       "  Widgets Documentation</a> for setup instructions.\n",
       "</p>\n",
       "<p>\n",
       "  If you're reading this message in another frontend (for example, a static\n",
       "  rendering on GitHub or <a href=\"https://nbviewer.jupyter.org/\">NBViewer</a>),\n",
       "  it may mean that your frontend doesn't currently support widgets.\n",
       "</p>\n"
      ],
      "text/plain": [
       "HBox(children=(IntProgress(value=0, max=2000), HTML(value='')))"
      ]
     },
     "metadata": {},
     "output_type": "display_data"
    },
    {
     "name": "stdout",
     "output_type": "stream",
     "text": [
      "Epoch=99, Reannealing...\n",
      "Epoch=249, Reannealing...\n",
      "Epoch=474, Reannealing...\n",
      "Epoch=812, Reannealing...\n",
      "Epoch=1319, Reannealing...\n",
      "\n",
      "RESULTS:\n",
      "Frac accepted: 0.0387\n",
      "Total Iterations: 196402\n",
      "Best Meta - Index=158278, Temp=1.4772e-07\n"
     ]
    },
    {
     "data": {
      "application/vnd.jupyter.widget-view+json": {
       "model_id": "2c7bdc6e3f084b5f97c0c5b10efcf81e",
       "version_major": 2,
       "version_minor": 0
      },
      "text/html": [
       "<p>Failed to display Jupyter Widget of type <code>HBox</code>.</p>\n",
       "<p>\n",
       "  If you're reading this message in the Jupyter Notebook or JupyterLab Notebook, it may mean\n",
       "  that the widgets JavaScript is still loading. If this message persists, it\n",
       "  likely means that the widgets JavaScript library is either not installed or\n",
       "  not enabled. See the <a href=\"https://ipywidgets.readthedocs.io/en/stable/user_install.html\">Jupyter\n",
       "  Widgets Documentation</a> for setup instructions.\n",
       "</p>\n",
       "<p>\n",
       "  If you're reading this message in another frontend (for example, a static\n",
       "  rendering on GitHub or <a href=\"https://nbviewer.jupyter.org/\">NBViewer</a>),\n",
       "  it may mean that your frontend doesn't currently support widgets.\n",
       "</p>\n"
      ],
      "text/plain": [
       "HBox(children=(IntProgress(value=0, max=2000), HTML(value='')))"
      ]
     },
     "metadata": {},
     "output_type": "display_data"
    },
    {
     "name": "stdout",
     "output_type": "stream",
     "text": [
      "Epoch=99, Reannealing...\n",
      "Epoch=249, Reannealing...\n",
      "Epoch=474, Reannealing...\n",
      "Epoch=812, Reannealing...\n",
      "Epoch=1319, Reannealing...\n",
      "\n",
      "RESULTS:\n",
      "Frac accepted: 0.0379\n",
      "Total Iterations: 196402\n",
      "Best Meta - Index=160948, Temp=2.7790e-08\n"
     ]
    },
    {
     "data": {
      "application/vnd.jupyter.widget-view+json": {
       "model_id": "506ce9a1f0604e3686be64c2f6ee2b1c",
       "version_major": 2,
       "version_minor": 0
      },
      "text/html": [
       "<p>Failed to display Jupyter Widget of type <code>HBox</code>.</p>\n",
       "<p>\n",
       "  If you're reading this message in the Jupyter Notebook or JupyterLab Notebook, it may mean\n",
       "  that the widgets JavaScript is still loading. If this message persists, it\n",
       "  likely means that the widgets JavaScript library is either not installed or\n",
       "  not enabled. See the <a href=\"https://ipywidgets.readthedocs.io/en/stable/user_install.html\">Jupyter\n",
       "  Widgets Documentation</a> for setup instructions.\n",
       "</p>\n",
       "<p>\n",
       "  If you're reading this message in another frontend (for example, a static\n",
       "  rendering on GitHub or <a href=\"https://nbviewer.jupyter.org/\">NBViewer</a>),\n",
       "  it may mean that your frontend doesn't currently support widgets.\n",
       "</p>\n"
      ],
      "text/plain": [
       "HBox(children=(IntProgress(value=0, max=2000), HTML(value='')))"
      ]
     },
     "metadata": {},
     "output_type": "display_data"
    },
    {
     "name": "stdout",
     "output_type": "stream",
     "text": [
      "Epoch=99, Reannealing...\n",
      "Epoch=249, Reannealing...\n",
      "Epoch=474, Reannealing...\n",
      "Epoch=812, Reannealing...\n",
      "Epoch=1319, Reannealing...\n",
      "\n",
      "RESULTS:\n",
      "Frac accepted: 0.0588\n",
      "Total Iterations: 196402\n",
      "Best Meta - Index=73467, Temp=8.3740e-07\n"
     ]
    },
    {
     "data": {
      "application/vnd.jupyter.widget-view+json": {
       "model_id": "290ca76f84284e24b18ab7ea2fa9c260",
       "version_major": 2,
       "version_minor": 0
      },
      "text/html": [
       "<p>Failed to display Jupyter Widget of type <code>HBox</code>.</p>\n",
       "<p>\n",
       "  If you're reading this message in the Jupyter Notebook or JupyterLab Notebook, it may mean\n",
       "  that the widgets JavaScript is still loading. If this message persists, it\n",
       "  likely means that the widgets JavaScript library is either not installed or\n",
       "  not enabled. See the <a href=\"https://ipywidgets.readthedocs.io/en/stable/user_install.html\">Jupyter\n",
       "  Widgets Documentation</a> for setup instructions.\n",
       "</p>\n",
       "<p>\n",
       "  If you're reading this message in another frontend (for example, a static\n",
       "  rendering on GitHub or <a href=\"https://nbviewer.jupyter.org/\">NBViewer</a>),\n",
       "  it may mean that your frontend doesn't currently support widgets.\n",
       "</p>\n"
      ],
      "text/plain": [
       "HBox(children=(IntProgress(value=0, max=2000), HTML(value='')))"
      ]
     },
     "metadata": {},
     "output_type": "display_data"
    },
    {
     "name": "stdout",
     "output_type": "stream",
     "text": [
      "Epoch=99, Reannealing...\n",
      "Epoch=249, Reannealing...\n",
      "Epoch=474, Reannealing...\n",
      "Epoch=812, Reannealing...\n",
      "Epoch=1319, Reannealing...\n",
      "\n",
      "RESULTS:\n",
      "Frac accepted: 0.0390\n",
      "Total Iterations: 196402\n",
      "Best Meta - Index=175875, Temp=2.7539e-12\n"
     ]
    },
    {
     "data": {
      "application/vnd.jupyter.widget-view+json": {
       "model_id": "b3be79bc8d3744b3a7d24db5f504a018",
       "version_major": 2,
       "version_minor": 0
      },
      "text/html": [
       "<p>Failed to display Jupyter Widget of type <code>HBox</code>.</p>\n",
       "<p>\n",
       "  If you're reading this message in the Jupyter Notebook or JupyterLab Notebook, it may mean\n",
       "  that the widgets JavaScript is still loading. If this message persists, it\n",
       "  likely means that the widgets JavaScript library is either not installed or\n",
       "  not enabled. See the <a href=\"https://ipywidgets.readthedocs.io/en/stable/user_install.html\">Jupyter\n",
       "  Widgets Documentation</a> for setup instructions.\n",
       "</p>\n",
       "<p>\n",
       "  If you're reading this message in another frontend (for example, a static\n",
       "  rendering on GitHub or <a href=\"https://nbviewer.jupyter.org/\">NBViewer</a>),\n",
       "  it may mean that your frontend doesn't currently support widgets.\n",
       "</p>\n"
      ],
      "text/plain": [
       "HBox(children=(IntProgress(value=0, max=2000), HTML(value='')))"
      ]
     },
     "metadata": {},
     "output_type": "display_data"
    },
    {
     "name": "stdout",
     "output_type": "stream",
     "text": [
      "Epoch=99, Reannealing...\n",
      "Epoch=249, Reannealing...\n",
      "Epoch=474, Reannealing...\n",
      "Epoch=812, Reannealing...\n",
      "Epoch=1319, Reannealing...\n",
      "\n",
      "RESULTS:\n",
      "Frac accepted: 0.0447\n",
      "Total Iterations: 196402\n",
      "Best Meta - Index=44788, Temp=6.0687e-05\n"
     ]
    },
    {
     "data": {
      "application/vnd.jupyter.widget-view+json": {
       "model_id": "48efed96be5e41809619d4ab0dc25938",
       "version_major": 2,
       "version_minor": 0
      },
      "text/html": [
       "<p>Failed to display Jupyter Widget of type <code>HBox</code>.</p>\n",
       "<p>\n",
       "  If you're reading this message in the Jupyter Notebook or JupyterLab Notebook, it may mean\n",
       "  that the widgets JavaScript is still loading. If this message persists, it\n",
       "  likely means that the widgets JavaScript library is either not installed or\n",
       "  not enabled. See the <a href=\"https://ipywidgets.readthedocs.io/en/stable/user_install.html\">Jupyter\n",
       "  Widgets Documentation</a> for setup instructions.\n",
       "</p>\n",
       "<p>\n",
       "  If you're reading this message in another frontend (for example, a static\n",
       "  rendering on GitHub or <a href=\"https://nbviewer.jupyter.org/\">NBViewer</a>),\n",
       "  it may mean that your frontend doesn't currently support widgets.\n",
       "</p>\n"
      ],
      "text/plain": [
       "HBox(children=(IntProgress(value=0, max=2000), HTML(value='')))"
      ]
     },
     "metadata": {},
     "output_type": "display_data"
    },
    {
     "name": "stdout",
     "output_type": "stream",
     "text": [
      "Epoch=99, Reannealing...\n",
      "Epoch=249, Reannealing...\n",
      "Epoch=474, Reannealing...\n",
      "Epoch=812, Reannealing...\n",
      "Epoch=1319, Reannealing...\n",
      "\n",
      "RESULTS:\n",
      "Frac accepted: 0.0388\n",
      "Total Iterations: 196402\n",
      "Best Meta - Index=181992, Temp=6.3204e-14\n"
     ]
    },
    {
     "data": {
      "application/vnd.jupyter.widget-view+json": {
       "model_id": "2b47a0e0d0424238bc81d8da3054e80f",
       "version_major": 2,
       "version_minor": 0
      },
      "text/html": [
       "<p>Failed to display Jupyter Widget of type <code>HBox</code>.</p>\n",
       "<p>\n",
       "  If you're reading this message in the Jupyter Notebook or JupyterLab Notebook, it may mean\n",
       "  that the widgets JavaScript is still loading. If this message persists, it\n",
       "  likely means that the widgets JavaScript library is either not installed or\n",
       "  not enabled. See the <a href=\"https://ipywidgets.readthedocs.io/en/stable/user_install.html\">Jupyter\n",
       "  Widgets Documentation</a> for setup instructions.\n",
       "</p>\n",
       "<p>\n",
       "  If you're reading this message in another frontend (for example, a static\n",
       "  rendering on GitHub or <a href=\"https://nbviewer.jupyter.org/\">NBViewer</a>),\n",
       "  it may mean that your frontend doesn't currently support widgets.\n",
       "</p>\n"
      ],
      "text/plain": [
       "HBox(children=(IntProgress(value=0, max=2000), HTML(value='')))"
      ]
     },
     "metadata": {},
     "output_type": "display_data"
    },
    {
     "name": "stdout",
     "output_type": "stream",
     "text": [
      "Epoch=99, Reannealing...\n",
      "Epoch=249, Reannealing...\n",
      "Epoch=474, Reannealing...\n",
      "Epoch=812, Reannealing...\n",
      "Epoch=1319, Reannealing...\n",
      "\n",
      "RESULTS:\n",
      "Frac accepted: 0.0377\n",
      "Total Iterations: 196402\n",
      "Best Meta - Index=78759, Temp=3.1529e-08\n"
     ]
    }
   ],
   "source": [
    "# Run annealing algorithm over a grid of parameters optimizing for distance\n",
    "for i, threshDval in enumerate(threshD):\n",
    "    for j, threshPval in enumerate(threshP):\n",
    "        tour_length_partial = partial(tour_length, threshDval, threshPval)\n",
    "        # Optimize for distance\n",
    "        opt_cond = 'Dist'\n",
    "        bmeta_d, bs_d, be_d, out_d = sa_tsp(tour_length_partial, inits, 2000, \n",
    "                                            temp_func, length_func, change_tour, OC = opt_cond);\n",
    "        be_d_dist[i,j] = be_d['Dist']\n",
    "        be_d_time[i,j] = be_d['Time']\n",
    "        \n",
    "        # Optimize for time\n",
    "        opt_cond = 'Time'\n",
    "        bmeta_t, bs_t, be_t, out_t = sa_tsp(tour_length_partial, inits, 2000, \n",
    "                                            temp_func, length_func, change_tour, OC = opt_cond);\n",
    "        be_t_dist[i,j] = be_t['Dist']\n",
    "        be_t_time[i,j] = be_t['Time']"
   ]
  },
  {
   "cell_type": "code",
   "execution_count": 32,
   "metadata": {},
   "outputs": [
    {
     "name": "stdout",
     "output_type": "stream",
     "text": [
      "[[ 245.43067721  358.77818589  458.37294333]\n",
      " [ 278.94696319  358.41195025  458.80409411]\n",
      " [ 320.67367795  376.57929458  510.03173955]]\n",
      "[[ 365.33370241  483.22866319  614.56501256]\n",
      " [ 476.59117446  519.26436637  559.78574084]\n",
      " [ 540.81888888  560.48251898  585.70566413]]\n"
     ]
    }
   ],
   "source": [
    "print(be_t_time)\n",
    "print(be_d_time)"
   ]
  },
  {
   "cell_type": "code",
   "execution_count": 33,
   "metadata": {},
   "outputs": [
    {
     "data": {
      "image/png": "[encoded data removed]",
      "text/plain": [
       "<matplotlib.figure.Figure at 0x119c1a7f0>"
      ]
     },
     "metadata": {},
     "output_type": "display_data"
    }
   ],
   "source": [
    "import seaborn as sns; sns.set()\n",
    "\n",
    "fig, ax = plt.subplots(2,2, figsize=(12,8))\n",
    "\n",
    "# Plot distance for optimizing distance\n",
    "sns.heatmap(be_d_dist,annot=True, xticklabels=threshD, yticklabels=threshP, ax=ax[0,0])\n",
    "ax[0,0].set_xlabel('Distance Threshold')\n",
    "ax[0,0].set_ylabel('Population Threshold')\n",
    "ax[0,0].set_title('Distance For Optimizing Distance')\n",
    "\n",
    "# Plot time for optimizing distance\n",
    "sns.heatmap(be_d_time,annot=True, xticklabels=threshD, yticklabels=threshP, ax=ax[0,1])\n",
    "ax[0,1].set_xlabel('Distance Threshold')\n",
    "ax[0,1].set_ylabel('Population Threshold')\n",
    "ax[0,1].set_title('Time For Optimizing Distance')\n",
    "\n",
    "# Plot distance for optimizing time\n",
    "sns.heatmap(be_t_dist,annot=True, xticklabels=threshD, yticklabels=threshP, ax=ax[1,0])\n",
    "ax[1,0].set_xlabel('Distance Threshold')\n",
    "ax[1,0].set_ylabel('Population Threshold')\n",
    "ax[1,0].set_title('Distance For Optimizing Time')\n",
    "\n",
    "# Plot time for optimizing time\n",
    "sns.heatmap(be_t_time,annot=True, xticklabels=threshD, yticklabels=threshP, ax=ax[1,1])\n",
    "ax[1,1].set_xlabel('Distance Threshold')\n",
    "ax[1,1].set_ylabel('Population Threshold')\n",
    "ax[1,1].set_title('Time For Optimizing Time')\n",
    "plt.tight_layout()\n",
    "plt.show()"
   ]
  },
  {
   "cell_type": "markdown",
   "metadata": {},
   "source": [
    "Above we show a heatmap of the results of the four different optimization combinations, showing distance and time for each optimization condition. We would expect that a change in population threshold should not impact the result of the distance output in the distance optimization, so long as the algorithm had enough time to converge to a suitable minimum. This is because our optimization was over distance and paid no attention to the time. The reverse is sometime true in the case of time output in optimizing over time, but the distance is correlated with the time, so we should not expect the exact same behavior. These are validated in the above figures."
   ]
  },
  {
   "cell_type": "code",
   "execution_count": null,
   "metadata": {},
   "outputs": [],
   "source": []
  }
 ],
 "metadata": {
  "anaconda-cloud": {},
  "kernel_info": {
   "name": "python3"
  },
  "kernelspec": {
   "display_name": "Python 3",
   "language": "python",
   "name": "python3"
  },
  "language_info": {
   "codemirror_mode": {
    "name": "ipython",
    "version": 3
   },
   "file_extension": ".py",
   "mimetype": "text/x-python",
   "name": "python",
   "nbconvert_exporter": "python",
   "pygments_lexer": "ipython3",
   "version": "3.6.2"
  },
  "nteract": {
   "version": "0.7.1"
  }
 },
 "nbformat": 4,
 "nbformat_minor": 1
}
