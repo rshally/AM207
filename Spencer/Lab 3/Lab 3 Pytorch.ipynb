{
 "cells": [
  {
   "cell_type": "code",
   "execution_count": 1,
   "metadata": {},
   "outputs": [
    {
     "name": "stdout",
     "output_type": "stream",
     "text": [
      "0.3.0.post4\n",
      "0.2.0\n",
      "\n",
      " 0.6345  0.8575  0.0522\n",
      " 0.5353  0.1311  0.6350\n",
      " 0.2313  0.4870  0.4372\n",
      " 0.4166  0.0226  0.7844\n",
      " 0.5813  0.6014  0.0864\n",
      "[torch.FloatTensor of size 5x3]\n",
      "\n",
      "5.698693017460567\n"
     ]
    }
   ],
   "source": [
    "import torch\n",
    "print(torch.__version__)\n",
    "import torchvision\n",
    "import torchvision.transforms as transforms\n",
    "print(torchvision.__version__)\n",
    "\n",
    "x = torch.rand(5, 3)\n",
    "print(x)\n",
    "\n",
    "transforms.RandomRotation(0.7)\n",
    "transforms.RandomRotation([0.9, 0.2])\n",
    "\n",
    "t = transforms.RandomRotation(10)\n",
    "angle = t.get_params(t.degrees)\n",
    "\n",
    "print(angle)"
   ]
  },
  {
   "cell_type": "code",
   "execution_count": 3,
   "metadata": {},
   "outputs": [
    {
     "name": "stdout",
     "output_type": "stream",
     "text": [
      "\n",
      " 1\n",
      " 2\n",
      " 3\n",
      " 4\n",
      " 5\n",
      " 6\n",
      "[torch.FloatTensor of size 6]\n",
      "\n",
      "\n",
      " 1  2  3\n",
      " 4  5  6\n",
      "[torch.FloatTensor of size 2x3]\n",
      "\n",
      "\n",
      "(0 ,.,.) = \n",
      "  1  2\n",
      "  3  4\n",
      "\n",
      "(1 ,.,.) = \n",
      "  5  6\n",
      "  7  8\n",
      "[torch.FloatTensor of size 2x2x2]\n",
      "\n"
     ]
    }
   ],
   "source": [
    "vector_input = [1., 2., 3., 4., 5., 6.]\n",
    "vector = torch.Tensor(vector_input)\n",
    "\n",
    "# Matrix\n",
    "matrix_input = [[1., 2., 3.], [4., 5., 6]]\n",
    "matrix = torch.Tensor(matrix_input)\n",
    "\n",
    "# Create a 3D tensor of size 2x2x2.\n",
    "tensor_input = [[[1., 2.], [3., 4.]],\n",
    "          [[5., 6.], [7., 8.]]]\n",
    "tensor3d = torch.Tensor(tensor_input)\n",
    "\n",
    "\n",
    "print(vector)\n",
    "print(matrix)\n",
    "print(tensor3d)"
   ]
  },
  {
   "cell_type": "code",
   "execution_count": 4,
   "metadata": {},
   "outputs": [
    {
     "name": "stdout",
     "output_type": "stream",
     "text": [
      "\n",
      "1.00000e-11 *\n",
      "  0.0000 -0.0000  0.0000 -0.0000 -0.8356\n",
      "  0.0000  0.0000  0.0000 -1.5954  0.0000\n",
      "[torch.FloatTensor of size 2x5]\n",
      "\n",
      "\n",
      " 0.0000e+00 -0.0000e+00  2.6640e+16  2.5250e-29  1.1210e-44\n",
      " 0.0000e+00  0.0000e+00  0.0000e+00  0.0000e+00  0.0000e+00\n",
      " 0.0000e+00  0.0000e+00  0.0000e+00  0.0000e+00  0.0000e+00\n",
      "[torch.FloatTensor of size 3x5]\n",
      "\n",
      "\n",
      " 0.8504  0.2551  0.8462\n",
      " 0.3894  0.7064  0.6973\n",
      " 0.0340  0.2264  0.4452\n",
      " 0.8618  0.3428  0.7176\n",
      " 0.7672  0.8200  0.0298\n",
      "[torch.FloatTensor of size 5x3]\n",
      "\n",
      "\n",
      " 0.8711  0.3748  0.5113  0.1108  0.5247\n",
      " 0.5262  0.0508  0.1212  0.3426  0.3540\n",
      " 0.7481  0.2865  0.0695  0.5261  0.9792\n",
      " 0.5265  0.3847  0.3114  0.6552  0.8831\n",
      " 0.9564  0.2204  0.7050  0.4571  0.2331\n",
      "[torch.FloatTensor of size 5x5]\n",
      "\n",
      "\n",
      " 0.0382  0.0919 -0.0004\n",
      "-0.1653  0.8553  1.2416\n",
      " 0.8107 -1.3122  0.2322\n",
      "-0.7117 -2.8857 -0.6642\n",
      " 0.5043  0.1838 -0.9015\n",
      "[torch.FloatTensor of size 5x3]\n",
      "\n",
      "\n",
      "-0.6136 -0.1258  0.2127 -0.2155 -0.2133\n",
      "-0.2224 -0.6733  1.5850  2.2002 -0.5222\n",
      " 1.5953 -0.3634 -0.1356  2.1280 -0.1108\n",
      " 0.5887 -0.5803 -0.0618  1.2381 -1.5859\n",
      "-0.2594  1.0720 -0.1058 -0.5783 -0.2441\n",
      "[torch.FloatTensor of size 5x5]\n",
      "\n"
     ]
    }
   ],
   "source": [
    "x_1 = torch.Tensor(2, 5)\n",
    "y_1 = torch.Tensor(3, 5)\n",
    "print(x_1)\n",
    "print(y_1)\n",
    "\n",
    "# Tensors initialized from uniform\n",
    "x_2 = torch.rand(5, 3)\n",
    "y_2 = torch.rand(5, 5)\n",
    "\n",
    "print(x_2)\n",
    "print(y_2)\n",
    "\n",
    "# Tensors initialized from normal\n",
    "x_3 = torch.randn(5, 3)\n",
    "y_3 = torch.randn(5, 5)\n",
    "\n",
    "print(x_3)\n",
    "print(y_3)"
   ]
  },
  {
   "cell_type": "code",
   "execution_count": 5,
   "metadata": {},
   "outputs": [
    {
     "name": "stdout",
     "output_type": "stream",
     "text": [
      "\n",
      "1.00000e-11 *\n",
      "  0.0000 -0.0000  0.0000 -0.0000 -0.8356\n",
      "  0.0000  0.0000  0.0000 -1.5954  0.0000\n",
      "[torch.FloatTensor of size 2x5]\n",
      "\n",
      "\n",
      " 0.8504  0.2551  0.8462\n",
      " 0.3894  0.7064  0.6973\n",
      " 0.0340  0.2264  0.4452\n",
      " 0.8618  0.3428  0.7176\n",
      " 0.7672  0.8200  0.0298\n",
      "[torch.FloatTensor of size 5x3]\n",
      "\n",
      "\n",
      " 0.0382  0.0919 -0.0004\n",
      "-0.1653  0.8553  1.2416\n",
      " 0.8107 -1.3122  0.2322\n",
      "-0.7117 -2.8857 -0.6642\n",
      " 0.5043  0.1838 -0.9015\n",
      "[torch.FloatTensor of size 5x3]\n",
      "\n",
      "\n",
      " 0.8886  0.3470  0.8458\n",
      " 0.2241  1.5617  1.9390\n",
      " 0.8447 -1.0858  0.6775\n",
      " 0.1501 -2.5429  0.0534\n",
      " 1.2715  1.0038 -0.8717\n",
      "[torch.FloatTensor of size 5x3]\n",
      "\n",
      "\n",
      "-0.0004\n",
      " 1.2416\n",
      " 0.2322\n",
      "-0.6642\n",
      "-0.9015\n",
      "[torch.FloatTensor of size 5]\n",
      "\n"
     ]
    }
   ],
   "source": [
    "# Expect (2,5)\n",
    "x_1.size()\n",
    "\n",
    "print(x_1)\n",
    "\n",
    "\n",
    "# Addition\n",
    "print(x_2)\n",
    "print(x_3)\n",
    "\n",
    "print(x_2+ x_3)\n",
    "\n",
    "# Addressing\n",
    "print(x_3[:, 2])"
   ]
  },
  {
   "cell_type": "code",
   "execution_count": 6,
   "metadata": {},
   "outputs": [
    {
     "name": "stdout",
     "output_type": "stream",
     "text": [
      "\n",
      "1.00000e-11 *\n",
      "  0.0000 -0.0000  0.0000 -0.0000 -0.8356\n",
      "  0.0000  0.0000  0.0000 -1.5954  0.0000\n",
      "[torch.FloatTensor of size 2x5]\n",
      "\n",
      "[[  0.00000000e+00  -0.00000000e+00   0.00000000e+00  -0.00000000e+00\n",
      "   -8.35598517e-12]\n",
      " [  4.58574922e-41   0.00000000e+00   7.00649232e-45  -1.59543490e-11\n",
      "    4.58574922e-41]]\n",
      "<class 'torch.FloatTensor'>\n",
      "<class 'numpy.ndarray'>\n",
      "<class 'numpy.ndarray'>\n",
      "<class 'torch.FloatTensor'>\n"
     ]
    }
   ],
   "source": [
    "# PyTorch --> Numpy\n",
    "print(x_1)\n",
    "print(x_1.numpy())\n",
    "\n",
    "print(type(x_1))\n",
    "print(type(x_1.numpy()))\n",
    "\n",
    "numpy_x_1 = x_1.numpy()\n",
    "pytorch_x_1 = torch.from_numpy(numpy_x_1)\n",
    "\n",
    "print(type(numpy_x_1))\n",
    "print(type(pytorch_x_1))"
   ]
  },
  {
   "cell_type": "code",
   "execution_count": 7,
   "metadata": {},
   "outputs": [
    {
     "name": "stdout",
     "output_type": "stream",
     "text": [
      "\n",
      " 0.3868  0.5434 -0.0558  0.0146  0.9133\n",
      "-0.0413 -0.2636  1.1465  0.8521 -1.0119\n",
      " 0.7514 -1.7568 -0.1093 -1.0828 -0.8194\n",
      "-0.0090 -1.0461  0.4993  0.3883 -0.4111\n",
      "-1.0677 -0.0116 -0.6816  0.9301  0.1306\n",
      "[torch.FloatTensor of size 5x5]\n",
      "\n",
      "\n",
      " 0.0109  0.1263 -1.3350  0.5467 -0.7856  0.9680  0.8937  1.6729\n",
      " 1.4551  1.7261  1.4703 -0.5594  0.0232 -1.6830 -0.1760 -0.6699\n",
      "[torch.FloatTensor of size 2x8]\n",
      "\n",
      "\n",
      "(0 ,.,.) = \n",
      " -1.5881  0.1845  0.5908 -0.0274\n",
      " -0.7275 -2.0747 -0.2221  1.1651\n",
      "  2.0948  1.0412  0.2443 -0.4306\n",
      "\n",
      "(1 ,.,.) = \n",
      " -0.7069 -1.8213  0.1908  1.0085\n",
      " -0.3811 -1.0352  1.0801  0.8928\n",
      "  0.3840 -1.2731 -0.7301  2.6231\n",
      "[torch.FloatTensor of size 2x3x4]\n",
      "\n",
      "\n",
      "\n",
      "Columns 0 to 9 \n",
      "-1.5881  0.1845  0.5908 -0.0274 -0.7275 -2.0747 -0.2221  1.1651  2.0948  1.0412\n",
      "-0.7069 -1.8213  0.1908  1.0085 -0.3811 -1.0352  1.0801  0.8928  0.3840 -1.2731\n",
      "\n",
      "Columns 10 to 11 \n",
      " 0.2443 -0.4306\n",
      "-0.7301  2.6231\n",
      "[torch.FloatTensor of size 2x12]\n",
      "\n",
      "\n",
      "\n",
      "Columns 0 to 9 \n",
      "-1.5881  0.1845  0.5908 -0.0274 -0.7275 -2.0747 -0.2221  1.1651  2.0948  1.0412\n",
      "-0.7069 -1.8213  0.1908  1.0085 -0.3811 -1.0352  1.0801  0.8928  0.3840 -1.2731\n",
      "\n",
      "Columns 10 to 11 \n",
      " 0.2443 -0.4306\n",
      "-0.7301  2.6231\n",
      "[torch.FloatTensor of size 2x12]\n",
      "\n"
     ]
    }
   ],
   "source": [
    "# By default, it concatenates along the first axis (concatenates rows)\n",
    "x_1 = torch.randn(2, 5)\n",
    "y_1 = torch.randn(3, 5)\n",
    "z_1 = torch.cat([x_1, y_1])\n",
    "print(z_1)\n",
    "\n",
    "# Concatenate columns:\n",
    "x_2 = torch.randn(2, 3)\n",
    "y_2 = torch.randn(2, 5)\n",
    "# second arg specifies which axis to concat along\n",
    "z_2 = torch.cat([x_2, y_2], 1)\n",
    "print(z_2)\n",
    "\n",
    "## Reshaping\n",
    "x = torch.randn(2, 3, 4)\n",
    "print(x)\n",
    "print(x.view(2, 12))  # Reshape to 2 rows, 12 columns\n",
    "# Same as above.  If one of the dimensions is -1, its size can be inferred\n",
    "print(x.view(2, -1))"
   ]
  },
  {
   "cell_type": "code",
   "execution_count": 8,
   "metadata": {},
   "outputs": [
    {
     "name": "stdout",
     "output_type": "stream",
     "text": [
      "first variables gradient:  None\n",
      "first variables data:  \n",
      " 23.3000\n",
      "[torch.FloatTensor of size 1]\n",
      "\n"
     ]
    }
   ],
   "source": [
    "from torch.autograd import Variable\n",
    "import torch.nn as nn\n",
    "import torch.nn.functional as F\n",
    "\n",
    "# Let's create a variable by initializing it with a tensor\n",
    "first_tensor = torch.Tensor([23.3])\n",
    "\n",
    "first_variable = Variable(first_tensor, requires_grad=True)\n",
    "\n",
    "print(\"first variables gradient: \", first_variable.grad)\n",
    "print(\"first variables data: \", first_variable.data)\n",
    "\n",
    "\n"
   ]
  },
  {
   "cell_type": "code",
   "execution_count": 9,
   "metadata": {},
   "outputs": [
    {
     "name": "stdout",
     "output_type": "stream",
     "text": [
      "y.data:  \n",
      " 1.5409e+33\n",
      "[torch.FloatTensor of size 1]\n",
      "\n",
      "y.grad:  None\n",
      "z.data:  \n",
      " 1\n",
      "[torch.FloatTensor of size 1]\n",
      "\n",
      "z.grad:  None\n",
      "x.grad: Variable containing:\n",
      " 0\n",
      "[torch.FloatTensor of size 1]\n",
      "\n"
     ]
    }
   ],
   "source": [
    "x = first_variable\n",
    "y = (x ** x) * (x - 2) # y is a variable\n",
    "z = F.tanh(y) # z has a functional relationship to y, it's a variable\n",
    "z.backward()\n",
    "\n",
    "print(\"y.data: \", y.data)\n",
    "print(\"y.grad: \", y.grad)\n",
    "\n",
    "print(\"z.data: \", z.data)\n",
    "print(\"z.grad: \", z.grad)\n",
    "\n",
    "print(\"x.grad:\", x.grad)\n",
    "\n"
   ]
  },
  {
   "cell_type": "code",
   "execution_count": 8,
   "metadata": {},
   "outputs": [
    {
     "name": "stdout",
     "output_type": "stream",
     "text": [
      "torch.Size([30, 1, 10])\n",
      "torch.Size([30, 1])\n",
      "Variable containing:\n",
      " 59.1843\n",
      "[torch.FloatTensor of size 1]\n",
      "\n"
     ]
    }
   ],
   "source": [
    "from sklearn.datasets import make_regression\n",
    "import numpy as np\n",
    "np.random.seed(99)\n",
    "x1_data, y1_data, coef = make_regression(30,10, 10, bias=1, noise=2, coef=True)\n",
    "\n",
    "x1_data = [x1_data[i:i+1] for i in range(0, len(x1_data), 1)]\n",
    "y1_data = [y1_data[i:i+1] for i in range(0, len(y1_data), 1)]\n",
    "import torch\n",
    "from torch.autograd import Variable\n",
    "\n",
    "x_data = Variable(torch.Tensor(x1_data))\n",
    "y_data = Variable(torch.Tensor(y1_data))\n",
    "print(x_data.size())\n",
    "print(y_data.size())\n",
    "\n",
    "class Model(torch.nn.Module):\n",
    "\n",
    "    def __init__(self):\n",
    "        \"\"\"\n",
    "        In the constructor we instantiate two nn.Linear module\n",
    "        \"\"\"\n",
    "        super(Model, self).__init__()\n",
    "        self.linear = torch.nn.Linear(10, 1)  # One in and one out\n",
    "\n",
    "    def forward(self, x):\n",
    "        \"\"\"\n",
    "        In the forward function we accept a Variable of input data and we must return\n",
    "        a Variable of output data. We can use Modules defined in the constructor as\n",
    "        well as arbitrary operators on Variables.\n",
    "        \"\"\"\n",
    "        y_pred = self.linear(x)\n",
    "        return y_pred\n",
    "\n",
    "# our model\n",
    "model = Model()\n",
    "\n",
    "# Construct our loss function and an Optimizer. The call to model.parameters()\n",
    "# in the SGD constructor will contain the learnable parameters of the two\n",
    "# nn.Linear modules which are members of the model.\n",
    "criterion = torch.nn.MSELoss(size_average=False)\n",
    "optimizer = torch.optim.SGD(model.parameters(), lr=0.01)\n",
    "\n",
    "# Training loop\n",
    "for epoch in range(500):\n",
    "    \n",
    "    # Forward pass: Compute predicted y by passing x to the model\n",
    "    y_pred = model(x_data)\n",
    "\n",
    "    # Compute and print loss\n",
    "    loss = criterion(y_pred, y_data)\n",
    "    #print(epoch, loss.data[0])\n",
    "\n",
    "    # Zero gradients, perform a backward pass, and update the weights.\n",
    "    optimizer.zero_grad()\n",
    "    loss.backward()\n",
    "    optimizer.step()\n",
    "\n",
    "\n",
    "# After training\n",
    "ytrain_pred = model(x_data)\n",
    "print(criterion(ytrain_pred, y_data))"
   ]
  },
  {
   "cell_type": "code",
   "execution_count": 6,
   "metadata": {},
   "outputs": [
    {
     "name": "stdout",
     "output_type": "stream",
     "text": [
      "torch.Size([30, 1, 10])\n",
      "torch.Size([30, 1])\n"
     ]
    }
   ],
   "source": [
    "print(x_data.size())\n",
    "print(y_data.size())"
   ]
  },
  {
   "cell_type": "code",
   "execution_count": null,
   "metadata": {},
   "outputs": [],
   "source": []
  }
 ],
 "metadata": {
  "kernelspec": {
   "display_name": "Python 3",
   "language": "python",
   "name": "python3"
  },
  "language_info": {
   "codemirror_mode": {
    "name": "ipython",
    "version": 3
   },
   "file_extension": ".py",
   "mimetype": "text/x-python",
   "name": "python",
   "nbconvert_exporter": "python",
   "pygments_lexer": "ipython3",
   "version": "3.6.2"
  }
 },
 "nbformat": 4,
 "nbformat_minor": 2
}
