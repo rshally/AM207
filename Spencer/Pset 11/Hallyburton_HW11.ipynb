{
 "cells": [
  {
   "cell_type": "markdown",
   "metadata": {},
   "source": [
    "# Spencer Hallyburton\n",
    "## Collaborator: Salvador Barragan\n",
    "# APMTH 207: Advanced Scientific Computing: \n",
    "## Stochastic Methods for Data Analysis, Inference and Optimization\n",
    "## Homework 11\n",
    "**Harvard University**<br>\n",
    "**Spring 2017**<br>\n",
    "**Instructors: Rahul Dave**<br>\n",
    "**Due Date: ** Monday, April 23rd, 2018 at 11:59pm"
   ]
  },
  {
   "cell_type": "code",
   "execution_count": 1,
   "metadata": {},
   "outputs": [],
   "source": [
    "import numpy as np\n",
    "import matplotlib.pyplot as plt\n",
    "from scipy.stats import binom, beta\n",
    "import seaborn as sns\n",
    "from scipy.misc import comb"
   ]
  },
  {
   "cell_type": "markdown",
   "metadata": {},
   "source": [
    "## The AM207 Cambridge Nursery\n",
    "\n",
    "A plant nursery in Cambridge is exprimentally cross-breeding two types of hibiscus flowers: blue and pink. The goal is to create an exotic flower whose petals are pink with a ring of blue on each. \n",
    "\n",
    "There are four types of child plant that can result from this cross-breeding: \n",
    "\n",
    "  - Type 1: blue petals\n",
    "  - Type 2: pink petals \n",
    "  - Type 3: purple petals\n",
    "  - Type 4: pink petals with a blue ring on each (the desired effect). \n",
    "\n",
    "Out of 197 initial cross-breedings, the nursery obtained the following distribution over the four types of child plants: \n",
    "$$Y = (y_1, y_2, y_3, y_4) = (125, 18, 20, 34)$$\n",
    "where $y_i$ represents the number of child plants that are of type $i$.\n",
    "\n",
    "The nursery then consulted a famed Harvard plant geneticist, who informed them that the probability of obtaining each type of child plant in any single breeding experiment is as follows:\n",
    "$$ \\frac{\\theta+2}{4}, \\frac{1-\\theta}{4}, \\frac{1-\\theta}{4}, \\frac{\\theta}{4}.$$\n",
    "Unfortunately, the geneticist did not specify the quantity $\\theta$.\n",
    "\n",
    "Clearly, the nursery is interested in understanding how many cross-breeding they must perform, on average, in order to obtain a certain number of child plants with the exotic blue rings. To do this they must be able to compute $\\theta$. \n",
    "\n",
    "The owners of the nursery, being top students in AM207, decided to model the experiment in hopes of discovering $\\theta$ using the results from their 197 initial experiments. \n",
    "\n",
    "They chose to model the observed data using a multinomial model and thus calculated the likelihood to be:\n",
    "$$ p(y  \\vert  \\theta) \\propto (2+\\theta)^{y_1} (1-\\theta)^{y_2+y_3}  \\, \\theta^{y_4}\n",
    "$$\n",
    "\n",
    "Being good Bayesians, they also imposed a prior on $\\theta$, $\\rm{Beta}(a, b)$.\n",
    "\n",
    "Thus, the posterior is:\n",
    "$$ p(\\theta \\vert  Y) \\propto \\left( 2+\\theta \\right)^{y_1} (1-\\theta)^{y_2+y_3} \\, \\theta^{\n",
    "y_4} \\, \\theta^{a-1} \\, (1-\\theta)^{b-1}. $$\n",
    "\n",
    "If the nursery owners are able to sample from the posterior, they would be able to understand the distribution of $\\theta$ and make appropriate estimates."
   ]
  },
  {
   "cell_type": "markdown",
   "metadata": {},
   "source": [
    "## Problem 1. Sampling using data augmentation\n",
    "\n",
    "Realizing that it would be difficult to sample from the posterior directly and after being repeatedly frustrated by attempts of Metropolis-Hastings and Gibbs sampling for this model, the nursery owners decided to augment their model and hopefully obtain a friendlier looking distribution that allows for easy sampling.\n",
    "\n",
    "They augment the data with a new variable $z$ such that:\n",
    "$$z + (y_1 - z) = y_1.$$\n",
    "That is, using $z$, we are breaking $y_1$, the number of type I child plants, into two subtypes. Let the probability of obtaining the two subtype be $1/2$ and $\\theta/4$, respectively. Now, we can interpret $y_1$ to be the total number of trials in a binomial trial. Thus, the new likelihood can be written as\n",
    "$$ p(y, z  \\vert  \\theta) \\propto \\binom{y_{1}}{z} \\left (\\frac{1}{2} \\right )^{y_1-z} \\left(\\frac{\\theta}{4} \\right )^{z}  (1-\\theta)^{y_2+y_3}  \\, \\theta^{y_4}\n",
    "$$\n",
    "\n",
    "\n",
    "Derive the joint posterior $p(\\theta, z  \\vert  y)$ and sample from it using Gibbs sampling.\n",
    "\n",
    "Visualize the distribution of theta and, from this distribution, estimate the probability of obtaining a type 4 child plant (with the blue rings) in any cross-breeding experiment."
   ]
  },
  {
   "cell_type": "markdown",
   "metadata": {},
   "source": [
    "#### Deriving the joint posterior:\n",
    "To find the joint posterior, $p(\\theta,z\\vert y)$, we can write using the definition of conditional probabilities that \n",
    "\n",
    "$$p(\\theta,z\\vert y) = p(z \\vert \\theta,y) p(\\theta \\vert y)$$\n",
    "\n",
    "Then we can use the fact that $p(y,z\\vert \\theta)=p(z\\vert \\theta,y)p(y\\vert \\theta)$ in order to substitute for the $p(z \\vert \\theta,y)$ term to obtain:\n",
    "\n",
    "$$p(\\theta,z\\vert y) = \\frac{p(y,z\\vert \\theta)}{p(y\\vert \\theta)}p(\\theta \\vert y)$$\n",
    "\n",
    "Given that $p(\\theta \\vert y) = p(y \\vert \\theta)p(\\theta)$ by the conditional definition, we can make another substitution to obtain:\n",
    "\n",
    "$$p(\\theta,z\\vert y) = \\frac{p(y,z\\vert \\theta)}{p(y\\vert \\theta)} p(y\\vert \\theta) p(\\theta)\\\\\n",
    "p(\\theta,z\\vert y) = p(y,z\\vert \\theta) p(\\theta)$$\n",
    "\n",
    "We recognize $ p(y,z\\vert \\theta) $ as the complete data likelihood multinomial distribution and $p(\\theta)$ as our beta prior on the values of $\\theta$. If we plut in these distributions, we obtain:\n",
    "\n",
    "$$p(\\theta,z\\vert y) \\propto \\bigg[\\binom{y_{1}}{z} \\left (\\frac{1}{2} \\right )^{y_1-z} \\left(\\frac{\\theta}{4} \\right )^{z}  (1-\\theta)^{y_2+y_3}  \\, \\theta^{y_4}\\bigg]\\bigg[\\theta^{a-1} \\, (1-\\theta)^{b-1}\\bigg]$$\n",
    "\n",
    "#### Conditional Distributions\n",
    "From this joint posterior, we now wish to derive the conditional distributions on $z$ and $\\theta$ in order to use a Gibbs sampling strategy.\n",
    "\n",
    "**1.**\n",
    "We'll start with the conditional distribution for theta: $p(\\theta \\vert z,y)$. We will ignore terms that have no dependence on $\\theta$.\n",
    "\n",
    "$$p(\\theta \\vert z,y) \\propto \\theta^z (1-\\theta^{y_2+y_3})\\theta^{y_4}\\theta^{a-1}(1-\\theta)^{b-1}$$\n",
    "$$p(\\theta \\vert z,y) \\propto \\theta^{z+y_4+a-1}(1-\\theta)^{y_2+y_3+b-1}$$\n",
    "\n",
    "which is exactly a beta distribution with $\\alpha = z+y_4+a$ and $\\beta = y_2+y_3+b$.\n",
    "\n",
    "\n",
    "**2.**\n",
    "Now we will derive the conditional for z: $p(z \\vert \\theta,y)$. We wil ignore terms that have no dependence on z. First, we must recognize that the formula in the above section is not completely forthright in its terminology. It reintroduces a 1/4 term in the contribution from $y_1$ to the multinomial model, but neglects to do so with the other terms. In order to correct for this, we can equivalently remove the 1/4 factor from these two additional terms. The detailed reason why we can remove all of these 1/4 factors is that, if we had 1/4 factors across all terms, we could combine coefficients to transform $(1/4)^{y_1-z}(1/4)^{z}(1/4)^{y_2}(1/4)^{y_3}(1/4)^{y_4}$ into a term $(1/4)^{\\sum[y_i]}$ which is a constant in z. As a result, we can pull this term out of the multinomial expression. Thus\n",
    "\n",
    "$$p(z \\vert \\theta,y) \\propto \\binom{y_1}{z} \\bigg(\\frac{1}{2}\\bigg)^{y_1-z} \\bigg(\\frac{\\theta}{4}\\bigg)^{z}$$\n",
    "\n",
    "should become\n",
    "\n",
    "$$p(z \\vert \\theta,y) \\propto \\binom{y_1}{z} (2)^{y_1-z} (\\theta)^{z}$$\n",
    "\n",
    "In order to manipulate this, we can introduce two terms: $\\bigg(\\frac{2+\\theta}{2+\\theta}\\bigg)^{z}$ and $\\bigg(\\frac{2+\\theta}{2+\\theta}\\bigg)^{y_1+z}$\n",
    "\n",
    "so that \n",
    "\n",
    "$$p(z \\vert \\theta,y) \\propto \\binom{y_1}{z} \\bigg(\\frac{2}{2+\\theta}\\bigg)^{y_1-z} \\bigg(\\frac{\\theta}{2+\\theta}\\bigg)^{z} (2+\\theta)^{y_1-z}(2+\\theta)^{z}$$\n",
    "\n",
    "Thus we see that the two terms at the end can combine to form $(2+\\theta)^{y_1}$ which is a constant in z that we can take out of the expression.\n",
    "\n",
    "$$p(z \\vert \\theta,y) \\propto \\binom{y_1}{z} \\bigg(\\frac{2}{2+\\theta}\\bigg)^{y_1-z} \\bigg(\\frac{\\theta}{2+\\theta}\\bigg)^{z}$$\n",
    "\n",
    "Now we see that this is exactly a binomial expression with $n=y_1$ and $p=\\frac{\\theta}{2+\\theta}$."
   ]
  },
  {
   "cell_type": "code",
   "execution_count": 2,
   "metadata": {},
   "outputs": [],
   "source": [
    "y = [125,18,20,34]\n",
    "a = 1\n",
    "b = 1"
   ]
  },
  {
   "cell_type": "code",
   "execution_count": 3,
   "metadata": {},
   "outputs": [],
   "source": [
    "# Define the conditionals:\n",
    "def zcond(theta, y):    \n",
    "    return binom.rvs(y[0], 1 - 1/2 / (1/2 + theta/4))\n",
    "\n",
    "def thcond(z, y, a, b):\n",
    "    return beta.rvs(z+y[3]+a, y[1]+y[2]+b)"
   ]
  },
  {
   "cell_type": "code",
   "execution_count": 4,
   "metadata": {},
   "outputs": [],
   "source": [
    "# Define gibbs\n",
    "def gibbs(ZgivenTh_sample, ThgivenZ_sample, N, start = [0, 0]):\n",
    "    Z=start[0]\n",
    "    Th=start[1]\n",
    "    samples=np.zeros((N+1, 2))\n",
    "    samples[0,0]=Z\n",
    "    samples[0,1]=Th\n",
    "    \n",
    "    for i in range(1,N,2):\n",
    "        Z=ZgivenTh_sample(Th, y)\n",
    "        samples[i,0]=Z\n",
    "        samples[i, 1]=Th\n",
    "        \n",
    "        Th=ThgivenZ_sample(Z,y,a,b)\n",
    "        samples[i+1,0]=Z\n",
    "        samples[i+1,1]=Th\n",
    "        \n",
    "    return samples"
   ]
  },
  {
   "cell_type": "code",
   "execution_count": 5,
   "metadata": {},
   "outputs": [],
   "source": [
    "out=gibbs(zcond, thcond, 100000, start=[y[0], 0.5])"
   ]
  },
  {
   "cell_type": "code",
   "execution_count": 6,
   "metadata": {},
   "outputs": [
    {
     "data": {
      "image/png": "[encoded data removed]",
      "text/plain": [
       "<matplotlib.figure.Figure at 0x10ecdb7b8>"
      ]
     },
     "metadata": {},
     "output_type": "display_data"
    }
   ],
   "source": [
    "numgridpoints = 1000\n",
    "burn = 10000\n",
    "cmap = sns.cubehelix_palette(light=1, as_cmap=True)\n",
    "plt.hist2d(out[burn:,0],out[burn:,1], normed=True, bins=100, cmap=cmap)\n",
    "plt.xlabel('Z Value')\n",
    "plt.ylabel('Theta Value')\n",
    "plt.title('Sampling Over The Grid of Z and Theta')\n",
    "plt.show()"
   ]
  },
  {
   "cell_type": "code",
   "execution_count": 7,
   "metadata": {},
   "outputs": [
    {
     "data": {
      "image/png": "[encoded data removed]",
      "text/plain": [
       "<matplotlib.figure.Figure at 0x10ecdb4a8>"
      ]
     },
     "metadata": {},
     "output_type": "display_data"
    },
    {
     "data": {
      "image/png": "[encoded data removed]",
      "text/plain": [
       "<matplotlib.figure.Figure at 0x11412f780>"
      ]
     },
     "metadata": {},
     "output_type": "display_data"
    }
   ],
   "source": [
    "# Marginalize for the p(theta)\n",
    "dist_theta = out[burn:,1]\n",
    "\n",
    "# Plot the 1-D histogram for theta\n",
    "plt.hist(dist_theta, normed=True)\n",
    "plt.title('Distribution of Theta')\n",
    "plt.xlabel('Theta')\n",
    "plt.show()\n",
    "\n",
    "# Plot a distribution of type-4 \n",
    "plt.hist(dist_theta/4, normed=True)\n",
    "plt.title('Distribution of type-4')\n",
    "plt.xlabel('Type 4 Probability')\n",
    "plt.show()"
   ]
  },
  {
   "cell_type": "code",
   "execution_count": 8,
   "metadata": {},
   "outputs": [
    {
     "name": "stdout",
     "output_type": "stream",
     "text": [
      "Theta Output: 0.623089560916\n",
      "Probability of type 4: 0.155772390229\n"
     ]
    }
   ],
   "source": [
    "# Make an estimate for type-4:\n",
    "print('Theta Output:', np.mean(dist_theta))\n",
    "print('Probability of type 4:', np.mean(dist_theta)/4)"
   ]
  },
  {
   "cell_type": "markdown",
   "metadata": {},
   "source": [
    "## Problem 2. Finding the MLE using Expectation Maximization\n",
    "\n",
    "Treat the augmented model as a latent variable model. \n",
    "\n",
    "### Part A. \n",
    "\n",
    "Write down an expression (up to unimportant constants - you must decide what unimportant means) for each of the following:\n",
    "\n",
    "(1) the observed data log likelihood\n",
    "\n",
    "(2) the complete(full) data log likelihood\n",
    "\n",
    "**Hint:** You should already have the observed data likelihood and the complete data likelihood from Problem 1, you just need to take their logs for this problem.\n",
    "\n",
    "(3) the Auxilary function, $Q(\\theta, \\theta^{(t-1)})$, or the expected complete(full) data log likelihood, defined by\n",
    "$$Q(\\theta, \\theta^{(t-1)}) = \\mathbb{E}_{Z  \\vert  Y=y, \\Theta = \\theta^{t-1}}[\\text{the complete data log likelihood}]$$\n",
    "\n",
    "In other words $Z  \\vert  Y=y, \\Theta = \\theta^{t-1}$ is $q(z, \\theta_{old})$ from lecture at the end of the E-step and $Q$ is the z-posterior expectation (at $\\theta_{old}$) of the full data log likelihood, which is the ELBO minus the entropy of $q$ (which being evaluated at $\\theta_{old}$ is not dependent on $\\theta$ and thus irrelevant for maximization)."
   ]
  },
  {
   "cell_type": "markdown",
   "metadata": {},
   "source": [
    "#### Log Likelihoods\n",
    "(1) The observed log-likelihood is:\n",
    "$$ y_1\\log(2+\\theta) + (y_2+y_3)\\log(1-\\theta) + (y_4)\\log(\\theta)$$\n",
    "\n",
    "(2) The complete data log-likelihood is:\n",
    "$$ \\log({y_1\\choose z}\\bigg(\\frac{1}{2}\\bigg)^{y_1-z}\\bigg(\\frac{1}{4}\\bigg)^{z}) + (y_2+y_3)\\log(1-\\theta) + (y_4+z)\\log(\\theta)$$\n",
    "\n",
    "(3) The Auxiliary Function is:\n",
    "$$Q(\\theta, \\theta^{(t-1)}) = \\mathbb{E}_{Z  \\vert  Y=y, \\Theta = \\theta^{t-1}}[\\text{the complete data log-likelihood}]$$\n",
    "\n",
    "which turns into:\n",
    "$$ \\mathbb{E}[h(y_1,z)]+(y_2+y_3)\\log(1-\\theta) + \\log(\\theta)[y_4+\\mathbb{E}[z]] $$\n",
    "\n",
    "where: \n",
    "$$ h(y_1,z)=\\log({y_1\\choose z}\\bigg(\\frac{1}{2}\\bigg)^{y_1-z}\\bigg(\\frac{1}{4}\\bigg)^{z})$$\n",
    "\n",
    "$$\\mathbb{E}[z]=y_1\\frac{\\theta^{(t-1)}}{\\theta^{(t-1)}+2}$$"
   ]
  },
  {
   "cell_type": "markdown",
   "metadata": {},
   "source": [
    "#### Auxiliary Function:\n",
    "We can move from the complete data log likelihood to the auxiliary function by taking an expectation:\n",
    "\n",
    "$$Q(\\theta, \\theta^{(t-1)}) = \\mathbb{E}_{Z  \\vert  Y=y, \\Theta = \\theta^{t-1}}[\\text{Log Likelihood}]$$.\n",
    "\n",
    "Thus,\n",
    "\n",
    "$$Q(\\theta, \\theta^{(t-1)}) = \\mathbb{E}\\bigg[\\log\\big[{y_1 \\choose z} \\bigg(\\frac{1}{2}\\bigg)^{y_1-z}\\bigg(\\frac{1}{4}\\bigg)^{z}\\big] + (y_2+y_3)\\log(1-\\theta) + (y_4+z)\\log(\\theta) \\bigg]$$\n",
    "\n",
    "Since our expectation is over the value of our latent variable, z, we can simply apply it to elements that are functions of z. \n",
    "\n",
    "$$Q(\\theta, \\theta^{(t-1)}) = \\mathbb{E}\\big[h(y_1,z)\\big] + (y_2+y_3)\\log(1-\\theta) + (y_4+\\mathbb{E}[z])\\log(\\theta)$$\n",
    "\n",
    "With the benefit of forethought, we will hold of on executing the first expectation term. In order to find $\\mathbb{E}[z]$, we can return to our interpretations in a binomial sense from problem 1 and assert the following:\n",
    "\n"
   ]
  },
  {
   "cell_type": "code",
   "execution_count": 9,
   "metadata": {},
   "outputs": [],
   "source": [
    "# Write functions for the log likelihoods:\n",
    "def log_obs_data_likelihood(Y, theta):\n",
    "    p = y[0]*np.log(2+theta) + (y[1]+y[2])*np.log(1-theta) + y[3]*np.log(theta)\n",
    "    return p\n",
    "def log_full_data_likelihood(Y, z, theta):\n",
    "    p = np.log(comb(y[0],z)) + (y[0]-z)*np.log(1/2) + z*np.log(theta/4) + (y[1]+y[2])*np.log(1-theta) + y[3]*np.log(theta)\n",
    "    return p"
   ]
  },
  {
   "cell_type": "code",
   "execution_count": 10,
   "metadata": {},
   "outputs": [],
   "source": [
    "# Initialize the theta value\n",
    "# Auxiliary function: Q(theta(t),theta(t-1)) --> this is the expected value of the log likelihood function\n",
    "def aux_Q(Y, theta0, theta):\n",
    "    expect_overz = (theta0/(2+theta0)*Y[0]+Y[3])*np.log(1-theta) + (Y[1]+Y[2])*np.log(theta)\n",
    "    return expect_overz"
   ]
  },
  {
   "cell_type": "code",
   "execution_count": 11,
   "metadata": {},
   "outputs": [],
   "source": [
    "def aux_Q(Y, theta0, theta):\n",
    "    expect_overz = (theta0/(2+theta0)*Y[0]+Y[3])*np.log(1-theta) + (Y[1]+Y[2])*np.log(theta)\n",
    "    return expect_overz"
   ]
  },
  {
   "cell_type": "markdown",
   "metadata": {},
   "source": [
    "### Part B:\n",
    "\n",
    "We will maximize the likelihood through Expectation Maximization (EM). In order to preform EM, we must iterate through the following steps\n",
    "\n",
    "- (Expectation) Compute the Auxilary function, $Q(\\theta, \\theta^{t-1})$ (the expectation of the full data likelihood)\n",
    "- (Maximization) Compute $\\theta^{t} = \\text{argmax}_\\theta Q(\\theta, \\theta^{(t-1)})$\n",
    "\n",
    "Thus, you must compute exact formulae for the following:\n",
    "1. the Auxilary function, $Q(\\theta, \\theta^{(t-1)})$, for a given $\\theta^{(t-1)}$. That is, compute the expectation of the complete data log likelihood.\n",
    "2. $\\theta^{t}$, by maximizing the Auxilary function $Q(\\theta, \\theta^{(t-1)})$.\n",
    "\n",
    "**Hint:** You don't actually need to do any difficult optimization for the M-step. After taking the expectation of the complete data log likelihood in the E-step, match your $Q(\\theta, \\theta^{(t-1)})$ to the log pdf of a familiar distribution, then use the known formula for the mode of this distribution to optimize $Q(\\theta, \\theta^{(t-1)})$.\n",
    "\n",
    "Use these to **estimate the MLE** of $\\theta$ using EM (choose your own reasonable criterion for convergence)."
   ]
  },
  {
   "cell_type": "markdown",
   "metadata": {},
   "source": [
    "#### E-Step\n",
    "We showed this in the previous section in part A!"
   ]
  },
  {
   "cell_type": "markdown",
   "metadata": {},
   "source": [
    "#### M-Step: Maximizing the Auxiliary Function\n",
    "At the M step of the EM algorithm, we wish to calculate the parameter value that maximizes our auxiliary function given our expectation calculation in the E step. We can do so with a simple derivative. Therefore, $ \\text{argmax}_\\theta Q(\\theta,\\theta^{t-1})$ occurs where:\n",
    "\n",
    "$$\\frac{\\partial Q}{\\partial \\theta} = 0$$\n",
    "\n",
    "We can see that the $ \\mathbb{E}\\big[h(y_1,z)\\big] $ has no dependence on $\\theta$, and thus it drops out during the derivative calculation. What we are left with is then,\n",
    "\n",
    "$$-\\frac{y_2+y_3}{1-\\theta} + \\frac{\\frac{\\theta^{t-1}}{\\theta^{t-1}+2}y_1 + y_4}{\\theta} = 0$$\n",
    "\n",
    "We then solve for the theta that is completes this statement to get our next estimate:\n",
    "\n",
    "$$\\theta^t = \\frac{\\frac{\\theta^{t-1}}{\\theta^{t-1}+2}y_1 + y_4}{\\frac{\\theta^{t-1}}{\\theta^{t-1}+2}y_1+y_2+y_3+y_4}$$\n",
    "\n",
    "Given this update rule, we can now iterate to update $\\theta^t$ and $\\theta^{t-1}$ until convergence."
   ]
  },
  {
   "cell_type": "code",
   "execution_count": 12,
   "metadata": {},
   "outputs": [],
   "source": [
    "crit = 1e-8\n",
    "theta_old = 0\n",
    "theta_new =.5\n",
    "ll_vals = []\n",
    "\n",
    "# Loop over until convergence\n",
    "while np.abs(theta_new-theta_old) > crit:\n",
    "    # Compute the theta updates\n",
    "    theta_old = theta_new\n",
    "    term1 = theta_old/(theta_old+2)*y[0]\n",
    "    theta_new = (term1+y[3])/(term1+y[1]+y[2]+y[3])\n",
    "    \n",
    "    # Store log-likelihood value at each theta\n",
    "    ll_vals.append(log_obs_data_likelihood(y, theta_new))"
   ]
  },
  {
   "cell_type": "code",
   "execution_count": 13,
   "metadata": {},
   "outputs": [
    {
     "name": "stdout",
     "output_type": "stream",
     "text": [
      "Theta Output 0.6268214976288967\n",
      "Probability of type 4: 0.15670537440722418\n"
     ]
    }
   ],
   "source": [
    "print('Theta Output', theta_new)\n",
    "print('Probability of type 4:', theta_new/4)"
   ]
  },
  {
   "cell_type": "markdown",
   "metadata": {},
   "source": [
    "We can plot the log likelihood values to make sure that they are monotonically increasing as a check on our process!"
   ]
  },
  {
   "cell_type": "code",
   "execution_count": 14,
   "metadata": {},
   "outputs": [
    {
     "data": {
      "image/png": "[encoded data removed]",
      "text/plain": [
       "<matplotlib.figure.Figure at 0x113b2c668>"
      ]
     },
     "metadata": {},
     "output_type": "display_data"
    }
   ],
   "source": [
    "# Plot the log likelihood of the observed data\n",
    "plt.title('Log Likelihood At each iteration')\n",
    "plt.plot(ll_vals)\n",
    "plt.xlabel('Iteration')\n",
    "plt.ylabel('Log Likelihood Of Observed Data')\n",
    "plt.show()"
   ]
  }
 ],
 "metadata": {
  "anaconda-cloud": {},
  "kernelspec": {
   "display_name": "Python 3",
   "language": "python",
   "name": "python3"
  },
  "language_info": {
   "codemirror_mode": {
    "name": "ipython",
    "version": 3
   },
   "file_extension": ".py",
   "mimetype": "text/x-python",
   "name": "python",
   "nbconvert_exporter": "python",
   "pygments_lexer": "ipython3",
   "version": "3.6.2"
  }
 },
 "nbformat": 4,
 "nbformat_minor": 2
}
