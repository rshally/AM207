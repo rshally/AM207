{
 "cells": [
  {
   "cell_type": "markdown",
   "metadata": {},
   "source": [
    "# AM 207 Pset 4\n",
    "# Spencer Hallyburton\n",
    "\n",
    "## Collaborator: Salvador Barragan"
   ]
  },
  {
   "cell_type": "markdown",
   "metadata": {},
   "source": [
    "NOTE: This script takes about 30 minutes to run"
   ]
  },
  {
   "cell_type": "code",
   "execution_count": 2,
   "metadata": {},
   "outputs": [],
   "source": [
    "%matplotlib inline"
   ]
  },
  {
   "cell_type": "code",
   "execution_count": 3,
   "metadata": {},
   "outputs": [],
   "source": [
    "import matplotlib.pyplot as plt\n",
    "import numpy as np\n",
    "import csv\n",
    "import time\n",
    "from tqdm import tnrange, tqdm_notebook\n",
    "import caffeine\n",
    "import time\n",
    "start_time = time.time()\n",
    "%matplotlib inline\n"
   ]
  },
  {
   "cell_type": "markdown",
   "metadata": {},
   "source": [
    "# Problem 1: Optimization via Descent"
   ]
  },
  {
   "cell_type": "markdown",
   "metadata": {},
   "source": [
    "Given this loss function for a point (x,y):\n",
    "$$\n",
    "L(x, y, \\lambda_1, \\lambda_2) = 0.000045\\lambda_2^2 y - 0.000098\\lambda_1^2 x + 0.003926\\lambda_1 x\\exp\\left\\{\\left(y^2 - x^2\\right)\\left(\\lambda_1^2 + \\lambda_2^2\\right)\\right\\}\n",
    "$$\n",
    "We need to implement methods to determine our parameters that minimze the loss function over a set of data."
   ]
  },
  {
   "cell_type": "code",
   "execution_count": 4,
   "metadata": {},
   "outputs": [
    {
     "name": "stdout",
     "output_type": "stream",
     "text": [
      "Data Shape: (2, 16000)\n"
     ]
    }
   ],
   "source": [
    "my_data = np.genfromtxt('HW3_data.csv', delimiter=',')\n",
    "print('Data Shape:', my_data.shape)"
   ]
  },
  {
   "cell_type": "code",
   "execution_count": 5,
   "metadata": {},
   "outputs": [],
   "source": [
    "# Set up functions\n",
    "from mpl_toolkits.mplot3d import Axes3D\n",
    "\n",
    "def error(X, Y, LAMBDA):\n",
    "    T1 =  .000045*LAMBDA[1]**2 * Y \n",
    "    T2 = -.000098*LAMBDA[0]**2 * X\n",
    "    T3 =  .003926*LAMBDA[0] * X * np.exp( (Y**2 - X**2) * (LAMBDA[0]**2 + LAMBDA[1]**2) )\n",
    "    return np.sum(T1 + T2 + T3)\n",
    "\n",
    "def make_3d_plot(xfinal, yfinal, zfinal, history, loss, X, Y):\n",
    "    L1s = np.linspace(xfinal - 10 , xfinal + 10, 40)\n",
    "    L2s = np.linspace(yfinal - 10 , yfinal + 10, 40)\n",
    "    L1, L2 = np.meshgrid(L1s, L1s)\n",
    "    zs = np.array([error(X, Y, LAMBDA) \n",
    "                   for LAMBDA in zip(np.ravel(L1), np.ravel(L2))])\n",
    "    Z = zs.reshape(L1.shape)\n",
    "    fig = plt.figure(figsize=(10, 6))\n",
    "    ax = fig.add_subplot(111, projection='3d')\n",
    "\n",
    "    off = -10\n",
    "    ax.plot_surface(L1, L2, Z, rstride=1, cstride=1, color='b', alpha=0.1)\n",
    "    ax.contour(L1, L2, Z, 20, alpha=0.5, offset=off, stride=30)\n",
    "    ax.set_xlabel('Lambda 1')\n",
    "    ax.set_ylabel('Lambda 2')\n",
    "    ax.set_zlabel('Loss Function')\n",
    "    ax.view_init(elev=30., azim=30)\n",
    "    ax.plot([xfinal], [yfinal], [zfinal] , markerfacecolor='r', markeredgecolor='r', marker='o', markersize=7);\n",
    "    ax.plot([t[0] for t in history], [t[1] for t in history], loss , markerfacecolor='b', markeredgecolor='b', marker='.', markersize=5);\n",
    "    ax.plot([t[0] for t in history], [t[1] for t in history], off , alpha=0.5, markerfacecolor='r', markeredgecolor='r', marker='.', markersize=5)\n",
    "    plt.show()\n",
    "    \n",
    "def gd_plot(X, Y, LAMBDA, loss, history):\n",
    "    if not isinstance(loss, list):\n",
    "        loss = [loss]\n",
    "    make_3d_plot(LAMBDA[0], LAMBDA[1], loss[-1], history, loss, X, Y)\n",
    "    "
   ]
  },
  {
   "cell_type": "code",
   "execution_count": 6,
   "metadata": {},
   "outputs": [],
   "source": [
    "# Implementing Gradient Descent:\n",
    "def grad_fun(x, y, LAM):\n",
    "    A = .000045\n",
    "    B = -.000098\n",
    "    C = .003926\n",
    "    EXPONENT = np.exp((y**2-x**2) * (LAM[0]**2 + LAM[1]**2))\n",
    "    dLd1 = 2*B*LAM[0]*x + C*x*EXPONENT + C*LAM[0]*x*((y**2-x**2)*2*LAM[0])*EXPONENT\n",
    "    dLd2 = 2*A*LAM[1]*y + C*LAM[0]*x*((y**2-x**2)*2*LAM[1])*EXPONENT\n",
    "    \n",
    "    return [np.sum(dLd1), np.sum(dLd2)]\n",
    "    \n",
    "    \n",
    "def gradient_descent(x, y, LAM_init, step=0.001, maxsteps=0, precision=0.00001):\n",
    "    costs = []\n",
    "    m = y.size # number of data points\n",
    "    LAM = LAM_init\n",
    "    LAM_true = [2.05384, 0]\n",
    "    history = [] # to store all thetas\n",
    "    counter = 0\n",
    "    oldcost = 0\n",
    "    currcost = error(x, y, LAM)\n",
    "    counter+=1\n",
    "    time_iter = 0\n",
    "    while abs(currcost - oldcost) > precision:\n",
    "        #np.linalg.norm(np.array(LAM) - LAM_true) / np.linalg.norm(LAM_true) > precision:\n",
    "        t0 = time.time()\n",
    "        oldcost=currcost\n",
    "        gradient = np.asarray(grad_fun(x, y, LAM))\n",
    "        \n",
    "        LAM = LAM - step * gradient  # update\n",
    "        t1 = time.time()\n",
    "        time_iter += (t1 - t0)\n",
    "\n",
    "        history.append(LAM)\n",
    "        \n",
    "        currcost = error(x, y, LAM)\n",
    "        costs.append(currcost)\n",
    "        \n",
    "        if counter % 10000 == 0: print('COST @ %i = %.4f' % (counter, currcost))\n",
    "        counter+=1\n",
    "\n",
    "        if maxsteps:\n",
    "            if counter == maxsteps:\n",
    "                break\n",
    "        \n",
    "    return history, costs, counter, time_iter/counter"
   ]
  },
  {
   "cell_type": "code",
   "execution_count": 7,
   "metadata": {},
   "outputs": [],
   "source": [
    "def sgd_minibatch(x, y, LAM, batchsize=1, step=0.001, maxsteps=0, maxepochs=0, precision=0.0001):\n",
    "    m = y.size # number of data points\n",
    "    costs = []\n",
    "    history = []\n",
    "    grads = []\n",
    "    costsum = 0\n",
    "    costsum2 = 0\n",
    "    counter = 0\n",
    "    currcost = 0\n",
    "    oldcost = 0\n",
    "    ep_cost = []\n",
    "    i = 0\n",
    "    time_iter = 0\n",
    "    \n",
    "    # Shuffle the data\n",
    "    neworder = np.random.permutation(m)\n",
    "    xdata_shuf = x[neworder]     \n",
    "    ydata_shuf = y[neworder]\n",
    "    \n",
    "    epoch = 0; \n",
    "    while 1:\n",
    "    #np.linalg.norm(np.array(LAM) - LAM_true) / np.linalg.norm(LAM_true) > precision:\n",
    "        # Get next batch:\n",
    "        last_idx = min(m, (i+1)*batchsize)\n",
    "        xvals = np.asarray(xdata_shuf[i:last_idx])\n",
    "        yvals = np.asarray(ydata_shuf[i:last_idx])\n",
    "\n",
    "        # Get the current cost\n",
    "        oldcost=currcost\n",
    "        currcost = error(xvals, yvals, LAM)\n",
    "        costsum += currcost\n",
    "        costs.append(currcost)\n",
    "        \n",
    "        # Append the last lambda:\n",
    "        history.append(LAM)\n",
    "\n",
    "        # Compute gradient\n",
    "        t0 = time.time()\n",
    "        gradient = np.asarray(grad_fun(xvals, yvals, LAM))\n",
    "        gradient = gradient * np.sqrt(m)/batchsize\n",
    "        grads.append(gradient)\n",
    "        \n",
    "        # Update Lambda\n",
    "        LAM = LAM - step * gradient  # update\n",
    "        t1 = time.time()\n",
    "        time_iter += t1-t0\n",
    "        \n",
    "        # Check if reached the end and need new epoch\n",
    "        i+=batchsize\n",
    "        counter+=1\n",
    "        if i>=m: #reached one past the end\n",
    "            epoch+=1\n",
    "            # Shuffle the data\n",
    "            neworder = np.random.permutation(m)\n",
    "            xdata_shuf = x[neworder]     \n",
    "            ydata_shuf = y[neworder] \n",
    "            ep_cost.append(costsum/i)\n",
    "            costsum = 0\n",
    "            i=0\n",
    "\n",
    "        # Check if max steps reached\n",
    "        if maxsteps:\n",
    "            if counter == maxsteps:\n",
    "                print('Max Steps Reached')\n",
    "                break\n",
    "        \n",
    "        # Check if max epochs reached\n",
    "        if maxepochs:\n",
    "            if epoch == maxepochs:\n",
    "                print('Max Epochs Reached')\n",
    "                break\n",
    "                        \n",
    "    return history, costs, counter, time_iter/counter, epoch, ep_cost, grads\n"
   ]
  },
  {
   "cell_type": "markdown",
   "metadata": {},
   "source": [
    "### Test out algorithms using different initial conditions and the same learning rate"
   ]
  },
  {
   "cell_type": "code",
   "execution_count": 8,
   "metadata": {},
   "outputs": [],
   "source": [
    "LAM_init = np.array([ [-2.47865, 0], [-3, 0], [-5, 0], [-10, 0] ] )\n",
    "step = 0.1\n",
    "precision = 1e-5\n",
    "maxsteps = 5000"
   ]
  },
  {
   "cell_type": "code",
   "execution_count": 9,
   "metadata": {},
   "outputs": [
    {
     "data": {
      "application/vnd.jupyter.widget-view+json": {
       "model_id": "e7a9381d93204c54a3827b7aa2ff0ee2",
       "version_major": 2,
       "version_minor": 0
      },
      "text/html": [
       "<p>Failed to display Jupyter Widget of type <code>HBox</code>.</p>\n",
       "<p>\n",
       "  If you're reading this message in the Jupyter Notebook or JupyterLab Notebook, it may mean\n",
       "  that the widgets JavaScript is still loading. If this message persists, it\n",
       "  likely means that the widgets JavaScript library is either not installed or\n",
       "  not enabled. See the <a href=\"https://ipywidgets.readthedocs.io/en/stable/user_install.html\">Jupyter\n",
       "  Widgets Documentation</a> for setup instructions.\n",
       "</p>\n",
       "<p>\n",
       "  If you're reading this message in another frontend (for example, a static\n",
       "  rendering on GitHub or <a href=\"https://nbviewer.jupyter.org/\">NBViewer</a>),\n",
       "  it may mean that your frontend doesn't currently support widgets.\n",
       "</p>\n"
      ],
      "text/plain": [
       "HBox(children=(IntProgress(value=0, max=4), HTML(value='')))"
      ]
     },
     "metadata": {},
     "output_type": "display_data"
    },
    {
     "name": "stdout",
     "output_type": "stream",
     "text": [
      "Initial Lambda: [-2.47865  0.     ]\n",
      "Steps Taken: 2\n",
      "Final Lambda: [-2.47865127  0.        ]\n",
      "Gradient at Final Lambda: [1.7081469088473314e-05, 0.0] \n",
      "\n",
      "Initial Lambda: [-3.  0.]\n",
      "Steps Taken: 37\n",
      "Final Lambda: [-5.35875137  0.        ]\n",
      "Gradient at Final Lambda: [0.0077839379655726404, 0.0] \n",
      "\n",
      "Initial Lambda: [-5.  0.]\n",
      "Steps Taken: 24\n",
      "Final Lambda: [-5.35869531  0.        ]\n",
      "Gradient at Final Lambda: [0.0078809794227123753, 0.0] \n",
      "\n",
      "Initial Lambda: [-10.   0.]\n",
      "Steps Taken: 42\n",
      "Final Lambda: [-5.36798423  0.        ]\n",
      "Gradient at Final Lambda: [-0.0081911149669060546, 0.0] \n",
      "\n",
      "\n"
     ]
    }
   ],
   "source": [
    "# Gradient Descent:\n",
    "historyGD = []\n",
    "costsGD = []\n",
    "counterGD = []\n",
    "time_iterGD = []\n",
    "    \n",
    "# Run loop over all initial conditions\n",
    "for i, LAM in zip(tnrange(len(LAM_init)), LAM_init):\n",
    "    print('Initial Lambda:', LAM)\n",
    "    history, costs, counter, time_iter = gradient_descent(my_data[0,:], my_data[1,:], LAM, \n",
    "                                                               maxsteps=maxsteps, step=step, precision=precision)\n",
    "    historyGD.append(history)\n",
    "    costsGD.append(costs)\n",
    "    counterGD.append(counter)\n",
    "    time_iterGD.append(time_iter)\n",
    "    print('Steps Taken:',counter)\n",
    "    print('Final Lambda:', historyGD[i][-1])\n",
    "    print('Gradient at Final Lambda:', grad_fun(my_data[0,:], my_data[1,:], historyGD[i][-1]), '\\n')\n",
    "    "
   ]
  },
  {
   "cell_type": "code",
   "execution_count": 10,
   "metadata": {},
   "outputs": [
    {
     "data": {
      "image/png": "[encoded data removed]",
      "text/plain": [
       "<matplotlib.figure.Figure at 0x10c31b240>"
      ]
     },
     "metadata": {},
     "output_type": "display_data"
    },
    {
     "data": {
      "image/png": "[encoded data removed]",
      "text/plain": [
       "<matplotlib.figure.Figure at 0x10cc5ecc0>"
      ]
     },
     "metadata": {},
     "output_type": "display_data"
    }
   ],
   "source": [
    "for cost, LAM in zip(costsGD, LAM_init):\n",
    "    plt.plot(cost, label=['Init = (%.2f, %.2f)'%(LAM[0], LAM[1])])\n",
    "plt.title('Costs Over Number of Steps for Gradient Descent')\n",
    "plt.xlabel('Iterations')\n",
    "plt.ylabel('Cost')\n",
    "plt.legend()\n",
    "plt.show()\n",
    "\n",
    "# Make three-D plot for one of the iterations\n",
    "gd_plot(my_data[0,:], my_data[1,:], historyGD[3][-1], costsGD[3], historyGD[3])"
   ]
  },
  {
   "cell_type": "markdown",
   "metadata": {},
   "source": [
    "Based on the above plot of the gradient descent algorithm on different initial conditions, we can see that the first initial condition remains in a local minimum for many iterations before finally jumping out of that one and ending up in a different local minimum. We can see the the other initial conditions converge faster towards the second local minimum. \n",
    "\n",
    "We know from previous exercises that this convergence is not into the global minimum. The local minimum here is into the point (-5.36324322, 0). The cost of this point is around 8. We know that the global minimum of this function is (2.05384, 0) with a cost function of nearly -9 from our previous exercises.\n",
    "\n",
    "If we evaluate the gradient at the point (-5.36324322, 0), we get that it is:"
   ]
  },
  {
   "cell_type": "code",
   "execution_count": 11,
   "metadata": {},
   "outputs": [
    {
     "name": "stdout",
     "output_type": "stream",
     "text": [
      "Gradient: [  1.04513543e-05   0.00000000e+00]\n"
     ]
    }
   ],
   "source": [
    "print('Gradient:', np.asarray(grad_fun(my_data[0,:], my_data[1,:], [-5.36324322, 0])))"
   ]
  },
  {
   "cell_type": "markdown",
   "metadata": {},
   "source": [
    "This is very near zero, so we are not surprised that the function converges to this local minimum. "
   ]
  },
  {
   "cell_type": "markdown",
   "metadata": {},
   "source": [
    "### Now let's try SGD:"
   ]
  },
  {
   "cell_type": "code",
   "execution_count": 12,
   "metadata": {
    "scrolled": false
   },
   "outputs": [
    {
     "data": {
      "application/vnd.jupyter.widget-view+json": {
       "model_id": "0d15fb0e48da418e83079fdec2cf55d6",
       "version_major": 2,
       "version_minor": 0
      },
      "text/html": [
       "<p>Failed to display Jupyter Widget of type <code>HBox</code>.</p>\n",
       "<p>\n",
       "  If you're reading this message in the Jupyter Notebook or JupyterLab Notebook, it may mean\n",
       "  that the widgets JavaScript is still loading. If this message persists, it\n",
       "  likely means that the widgets JavaScript library is either not installed or\n",
       "  not enabled. See the <a href=\"https://ipywidgets.readthedocs.io/en/stable/user_install.html\">Jupyter\n",
       "  Widgets Documentation</a> for setup instructions.\n",
       "</p>\n",
       "<p>\n",
       "  If you're reading this message in another frontend (for example, a static\n",
       "  rendering on GitHub or <a href=\"https://nbviewer.jupyter.org/\">NBViewer</a>),\n",
       "  it may mean that your frontend doesn't currently support widgets.\n",
       "</p>\n"
      ],
      "text/plain": [
       "HBox(children=(IntProgress(value=0, max=4), HTML(value='')))"
      ]
     },
     "metadata": {},
     "output_type": "display_data"
    },
    {
     "name": "stdout",
     "output_type": "stream",
     "text": [
      "Initial Lambda: [-2.47865  0.     ]\n",
      "Max Epochs Reached\n",
      "Final Lambda: [-2.47865127  0.        ]\n",
      "Gradient at Final Lambda: [5.6516772965146261e-09, 0.0] \n",
      "\n",
      "Initial Lambda: [-3.  0.]\n",
      "Max Epochs Reached\n",
      "Final Lambda: [-5.35875137  0.        ]\n",
      "Gradient at Final Lambda: [0.01295512133431842, 0.0] \n",
      "\n",
      "Initial Lambda: [-5.  0.]\n",
      "Max Epochs Reached\n",
      "Final Lambda: [-5.35869531  0.        ]\n",
      "Gradient at Final Lambda: [0.0031262120456929665, 0.0] \n",
      "\n",
      "Initial Lambda: [-10.   0.]\n",
      "Max Epochs Reached\n",
      "Final Lambda: [-5.36798423  0.        ]\n",
      "Gradient at Final Lambda: [-0.30578242633049513, 0.0] \n",
      "\n",
      "\n"
     ]
    }
   ],
   "source": [
    "# Stochastic Gradient Descent:\n",
    "historySGD = []\n",
    "costsSGD = []\n",
    "counterSGD = []\n",
    "time_iterSGD = []\n",
    "ep_costSGD =[]\n",
    "batchsize = 1\n",
    "step = 0.001\n",
    "# Run loop over all initial conditions\n",
    "for i, LAM in zip(tnrange(len(LAM_init)), LAM_init):\n",
    "    print('Initial Lambda:', LAM)\n",
    "    \n",
    "    history, costs, counter, time_iter, epoch, ep_cost, grads = sgd_minibatch(my_data[0,:], my_data[1,:], LAM, \n",
    "                                                   batchsize, maxepochs=10, precision=precision, step=step)\n",
    "    ep_costSGD.append(ep_cost)\n",
    "    historySGD.append(history)\n",
    "    costsSGD.append(costs)\n",
    "    counterSGD.append(counter)\n",
    "    time_iterSGD.append(time_iter)\n",
    "    print('Final Lambda:', historyGD[i][-1])\n",
    "    print('Gradient at Final Lambda:', grad_fun(my_data[0,:], my_data[1,:], historySGD[i][-1]), '\\n')"
   ]
  },
  {
   "cell_type": "code",
   "execution_count": 13,
   "metadata": {},
   "outputs": [
    {
     "data": {
      "image/png": "[encoded data removed]",
      "text/plain": [
       "<matplotlib.figure.Figure at 0x10caf7f60>"
      ]
     },
     "metadata": {},
     "output_type": "display_data"
    },
    {
     "data": {
      "image/png": "[encoded data removed]",
      "text/plain": [
       "<matplotlib.figure.Figure at 0x10c8e97b8>"
      ]
     },
     "metadata": {},
     "output_type": "display_data"
    },
    {
     "name": "stdout",
     "output_type": "stream",
     "text": [
      "[-2.47864625  0.        ]\n"
     ]
    }
   ],
   "source": [
    "for ep_cost, LAM in zip(ep_costSGD, LAM_init):\n",
    "    plt.plot(ep_cost, label=['Init = (%.2f, %.2f)'%(LAM[0], LAM[1])])\n",
    "plt.title('Costs Over Number of Steps for Gradient Descent')\n",
    "plt.xlabel('Iterations')\n",
    "plt.ylabel('Cost')\n",
    "plt.legend()\n",
    "plt.show()\n",
    "\n",
    "# Make three-D plot for one of the iterations\n",
    "gd_plot(my_data[0,:], my_data[1,:], historySGD[0][-1], costsSGD[0], historySGD[0])\n"
   ]
  },
  {
   "cell_type": "code",
   "execution_count": 17,
   "metadata": {},
   "outputs": [
    {
     "name": "stdout",
     "output_type": "stream",
     "text": [
      "(160000,)\n"
     ]
    }
   ],
   "source": [
    "#print( historySGD[0][-1])\n",
    "print( np.shape(costsSGD[0]))\n",
    "#print( historySGD[0])"
   ]
  },
  {
   "cell_type": "markdown",
   "metadata": {},
   "source": [
    "We see that in the case of SGD, we are also getting convergence into the local minimum, so with the choice of step size for this implementation of SGD, we need to rethink how we are converging to the optimal solution. We notice that the behavior for gradient descent and stochastic gradient descent happens to be the same for both of these iterations. We generally expect SGD to be able to jump out of local minima, however, we do not observe this happening in this case. "
   ]
  },
  {
   "cell_type": "markdown",
   "metadata": {},
   "source": [
    "## Problem 2: Logistic Regression and MNIST\n"
   ]
  },
  {
   "cell_type": "markdown",
   "metadata": {},
   "source": [
    "In this problem, we repeat the logistic regression example from the last problem set."
   ]
  },
  {
   "cell_type": "code",
   "execution_count": 13,
   "metadata": {},
   "outputs": [],
   "source": [
    "import torch\n",
    "import torchvision\n",
    "import torchvision.transforms as transforms\n",
    "import torch.nn.functional as F\n",
    "from torch.autograd import Variable\n",
    "import torchvision.datasets as dset\n",
    "import random\n",
    "import math\n",
    "from sys import stdout\n"
   ]
  },
  {
   "cell_type": "code",
   "execution_count": 14,
   "metadata": {},
   "outputs": [],
   "source": [
    "# Inspiration for the training-validation-split taken from Pytorch examples and forum discussions. \n",
    "# http://pytorch.org/docs/master/data.html\n",
    "# https://discuss.pytorch.org/t/feedback-on-pytorch-for-kaggle-competitions/2252/4\n",
    "# https://discuss.pytorch.org/t/best-way-training-data-in-pytorch/6855/3\n",
    "def train_valid_split(dataset, test_size = 0.25, shuffle = False, random_seed = 0):\n",
    "    length = len(dataset)\n",
    "    indices = list(range(0,length))\n",
    "    \n",
    "    if shuffle == True:\n",
    "        random.seed(random_seed)\n",
    "        random.shuffle(indices)\n",
    "    \n",
    "    if type(test_size) is float:\n",
    "        split = math.floor(test_size * length)\n",
    "    elif type(test_size) is int:\n",
    "        split = test_size\n",
    "    else:\n",
    "        raise ValueError('%s should be an int or a float' % str)\n",
    "    return indices[split:], indices[:split]"
   ]
  },
  {
   "cell_type": "code",
   "execution_count": 15,
   "metadata": {},
   "outputs": [],
   "source": [
    "def load_MNIST(batch=256, valid_num=0):\n",
    "    root = './data'\n",
    "\n",
    "    # Perform image transfers on the input data\n",
    "    trans = transforms.Compose(\n",
    "        [transforms.ToTensor(), \n",
    "    ])\n",
    "\n",
    "    # Load training and testing data\n",
    "    trainset = dset.MNIST(root, train=True, transform=trans, target_transform=None, download=False)\n",
    "    testset = dset.MNIST(root, train=False, transform=trans, target_transform=None, download=False)\n",
    "\n",
    "    # Creating a validation split\n",
    "    train_idx, valid_idx = train_valid_split(trainset, valid_num, shuffle=True)\n",
    "\n",
    "    train_sampler = torch.utils.data.sampler.SubsetRandomSampler(train_idx)\n",
    "    valid_sampler = torch.utils.data.sampler.SubsetRandomSampler(valid_idx)\n",
    "\n",
    "    # Load in sets\n",
    "    trainloader = torch.utils.data.DataLoader(trainset,\n",
    "                                               batch_size=batch,\n",
    "                                               sampler=train_sampler,\n",
    "                                               num_workers=2)\n",
    "\n",
    "    validloader = torch.utils.data.DataLoader(trainset,\n",
    "                                               batch_size=batch,\n",
    "                                               sampler=valid_sampler,\n",
    "                                               num_workers=2)\n",
    "\n",
    "    testloader = torch.utils.data.DataLoader(testset, \n",
    "                                             batch_size=batch,\n",
    "                                             shuffle=False, num_workers=2)\n",
    "\n",
    "    # get some random training images\n",
    "    dataiter = iter(trainloader)\n",
    "    images, labels = next(dataiter)\n",
    "    imsize = images.size(2)\n",
    "    numclasses = 10\n",
    "    \n",
    "    return(trainloader, validloader, testloader, imsize)"
   ]
  },
  {
   "cell_type": "code",
   "execution_count": 16,
   "metadata": {},
   "outputs": [],
   "source": [
    "batch = 256\n",
    "valid_num = 10000\n",
    "trainloader, validloader, testloader, imsize = load_MNIST(batch=batch, valid_num=valid_num)"
   ]
  },
  {
   "cell_type": "code",
   "execution_count": 17,
   "metadata": {},
   "outputs": [],
   "source": [
    "# Create model class\n",
    "class Model(torch.nn.Module):\n",
    "\n",
    "    def __init__(self, output_dim):\n",
    "        \"\"\"\n",
    "        In the constructor we instantiate two nn.Linear module\n",
    "        \"\"\"\n",
    "        super(Model, self).__init__()\n",
    "        self.linear = torch.nn.Linear(imsize**2, output_dim)  # One in and one out\n",
    "\n",
    "    def forward(self, x):\n",
    "        \"\"\"\n",
    "        In the forward function we accept a Variable of input data and we must return\n",
    "        a Variable of output data. We can use Modules defined in the constructor as\n",
    "        well as arbitrary operators on Variables.\n",
    "        \"\"\"\n",
    "        # Reshape the size of the variables\n",
    "        x = x.view(x.size(0), -1)\n",
    "        # Linear layer for logistic regression\n",
    "        y_pred = self.linear(x)\n",
    "        # Add softmax layer\n",
    "        y_out = F.softmax(y_pred, dim=0)\n",
    "        return y_out"
   ]
  },
  {
   "cell_type": "code",
   "execution_count": 18,
   "metadata": {},
   "outputs": [],
   "source": [
    "def process_MNIST(trainloader, testloader, validloader, num_epochs=10, lr=0.1, wd=0.01):\n",
    "    # our model\n",
    "    num_classes = 10\n",
    "\n",
    "    model = Model(output_dim = num_classes)\n",
    "    # Establish loss function and optimizing algorithm\n",
    "    criterion = torch.nn.CrossEntropyLoss(size_average=False)\n",
    "    optimizer = torch.optim.SGD(model.parameters(), lr=lr, weight_decay=wd) #Weight decay is L2 regularization\n",
    "    loss_total = []\n",
    "    correct_vs = np.zeros(num_epochs)\n",
    "    total_vs = np.zeros(num_epochs)\n",
    "\n",
    "    # # Initialize plot\n",
    "    xdata = []\n",
    "    ydata =[]\n",
    "    \n",
    "    # Training loop\n",
    "    for epoch in tnrange(num_epochs):\n",
    "\n",
    "        running_loss = 0.0\n",
    "        for i, dataTRAIN in enumerate(trainloader, 0) :\n",
    "\n",
    "            # get the inputs\n",
    "            inputs, labels = dataTRAIN\n",
    "\n",
    "            # wrap them in Variable\n",
    "            inputs, labels = Variable(inputs), Variable(labels)        \n",
    "\n",
    "            # zero the parameter gradients\n",
    "            optimizer.zero_grad()\n",
    "\n",
    "            # forward + backward + optimize\n",
    "            outputs = model(inputs)\n",
    "            loss = criterion(outputs, labels)\n",
    "            loss.backward()\n",
    "            optimizer.step()\n",
    "\n",
    "            # print statistics and concatenate loss normalized by size of batch\n",
    "            loss_total.append(loss.data[0]/len(labels))\n",
    "\n",
    "            # Add total loss\n",
    "            running_loss += loss.data[0]\n",
    "            num_b = 100\n",
    "            if i % num_b == num_b-1:    # print every 2000 mini-batches\n",
    "                #print('[%d, %5d] loss: %.3f' %\n",
    "                      #(epoch + 1, i + 1, running_loss / num_b))\n",
    "                running_loss = 0.0\n",
    "\n",
    "        # Test error on the validation set\n",
    "        for i2, dataVAL in enumerate(validloader, 0):\n",
    "            images, labels = dataVAL\n",
    "            outputs = model(Variable(images))\n",
    "            _, predicted = torch.max(outputs.data, 1)\n",
    "            total_vs[epoch] += labels.size(0)\n",
    "            correct_vs[epoch] += (predicted == labels).sum()\n",
    "\n",
    "\n",
    "        val_acc = 100 * correct_vs[epoch] / total_vs[epoch]\n",
    "        if epoch % 5 == epoch-1:\n",
    "            print('Validation Accuracy: %.2f' % val_acc)\n",
    "        xdata.append(epoch+1)\n",
    "        ydata.append(val_acc)\n",
    "\n",
    "    print('Finished Training')\n",
    "    \n",
    "    return (model, xdata, ydata)\n"
   ]
  },
  {
   "cell_type": "markdown",
   "metadata": {},
   "source": [
    "We now train our model on different values of the weight decay (or regularization) parameter."
   ]
  },
  {
   "cell_type": "code",
   "execution_count": 19,
   "metadata": {},
   "outputs": [
    {
     "name": "stdout",
     "output_type": "stream",
     "text": [
      "Weight Decay: 0\n"
     ]
    },
    {
     "data": {
      "application/vnd.jupyter.widget-view+json": {
       "model_id": "2e443059520b49a59926a60082db3924",
       "version_major": 2,
       "version_minor": 0
      },
      "text/html": [
       "<p>Failed to display Jupyter Widget of type <code>HBox</code>.</p>\n",
       "<p>\n",
       "  If you're reading this message in the Jupyter Notebook or JupyterLab Notebook, it may mean\n",
       "  that the widgets JavaScript is still loading. If this message persists, it\n",
       "  likely means that the widgets JavaScript library is either not installed or\n",
       "  not enabled. See the <a href=\"https://ipywidgets.readthedocs.io/en/stable/user_install.html\">Jupyter\n",
       "  Widgets Documentation</a> for setup instructions.\n",
       "</p>\n",
       "<p>\n",
       "  If you're reading this message in another frontend (for example, a static\n",
       "  rendering on GitHub or <a href=\"https://nbviewer.jupyter.org/\">NBViewer</a>),\n",
       "  it may mean that your frontend doesn't currently support widgets.\n",
       "</p>\n"
      ],
      "text/plain": [
       "HBox(children=(IntProgress(value=0, max=30), HTML(value='')))"
      ]
     },
     "metadata": {},
     "output_type": "display_data"
    },
    {
     "name": "stdout",
     "output_type": "stream",
     "text": [
      "\n",
      "Finished Training\n",
      "Weight Decay: 0.01\n"
     ]
    },
    {
     "data": {
      "application/vnd.jupyter.widget-view+json": {
       "model_id": "e35fa6c33fd24a00b39cc529a40d8ef8",
       "version_major": 2,
       "version_minor": 0
      },
      "text/html": [
       "<p>Failed to display Jupyter Widget of type <code>HBox</code>.</p>\n",
       "<p>\n",
       "  If you're reading this message in the Jupyter Notebook or JupyterLab Notebook, it may mean\n",
       "  that the widgets JavaScript is still loading. If this message persists, it\n",
       "  likely means that the widgets JavaScript library is either not installed or\n",
       "  not enabled. See the <a href=\"https://ipywidgets.readthedocs.io/en/stable/user_install.html\">Jupyter\n",
       "  Widgets Documentation</a> for setup instructions.\n",
       "</p>\n",
       "<p>\n",
       "  If you're reading this message in another frontend (for example, a static\n",
       "  rendering on GitHub or <a href=\"https://nbviewer.jupyter.org/\">NBViewer</a>),\n",
       "  it may mean that your frontend doesn't currently support widgets.\n",
       "</p>\n"
      ],
      "text/plain": [
       "HBox(children=(IntProgress(value=0, max=30), HTML(value='')))"
      ]
     },
     "metadata": {},
     "output_type": "display_data"
    },
    {
     "name": "stdout",
     "output_type": "stream",
     "text": [
      "\n",
      "Finished Training\n",
      "Weight Decay: 0.05\n"
     ]
    },
    {
     "data": {
      "application/vnd.jupyter.widget-view+json": {
       "model_id": "1425fcef9c4d45db99fb335f5e5684c3",
       "version_major": 2,
       "version_minor": 0
      },
      "text/html": [
       "<p>Failed to display Jupyter Widget of type <code>HBox</code>.</p>\n",
       "<p>\n",
       "  If you're reading this message in the Jupyter Notebook or JupyterLab Notebook, it may mean\n",
       "  that the widgets JavaScript is still loading. If this message persists, it\n",
       "  likely means that the widgets JavaScript library is either not installed or\n",
       "  not enabled. See the <a href=\"https://ipywidgets.readthedocs.io/en/stable/user_install.html\">Jupyter\n",
       "  Widgets Documentation</a> for setup instructions.\n",
       "</p>\n",
       "<p>\n",
       "  If you're reading this message in another frontend (for example, a static\n",
       "  rendering on GitHub or <a href=\"https://nbviewer.jupyter.org/\">NBViewer</a>),\n",
       "  it may mean that your frontend doesn't currently support widgets.\n",
       "</p>\n"
      ],
      "text/plain": [
       "HBox(children=(IntProgress(value=0, max=30), HTML(value='')))"
      ]
     },
     "metadata": {},
     "output_type": "display_data"
    },
    {
     "name": "stdout",
     "output_type": "stream",
     "text": [
      "\n",
      "Finished Training\n",
      "Weight Decay: 0.1\n"
     ]
    },
    {
     "data": {
      "application/vnd.jupyter.widget-view+json": {
       "model_id": "8a7227e7da10483c8210c52eca8dd22f",
       "version_major": 2,
       "version_minor": 0
      },
      "text/html": [
       "<p>Failed to display Jupyter Widget of type <code>HBox</code>.</p>\n",
       "<p>\n",
       "  If you're reading this message in the Jupyter Notebook or JupyterLab Notebook, it may mean\n",
       "  that the widgets JavaScript is still loading. If this message persists, it\n",
       "  likely means that the widgets JavaScript library is either not installed or\n",
       "  not enabled. See the <a href=\"https://ipywidgets.readthedocs.io/en/stable/user_install.html\">Jupyter\n",
       "  Widgets Documentation</a> for setup instructions.\n",
       "</p>\n",
       "<p>\n",
       "  If you're reading this message in another frontend (for example, a static\n",
       "  rendering on GitHub or <a href=\"https://nbviewer.jupyter.org/\">NBViewer</a>),\n",
       "  it may mean that your frontend doesn't currently support widgets.\n",
       "</p>\n"
      ],
      "text/plain": [
       "HBox(children=(IntProgress(value=0, max=30), HTML(value='')))"
      ]
     },
     "metadata": {},
     "output_type": "display_data"
    },
    {
     "name": "stdout",
     "output_type": "stream",
     "text": [
      "\n",
      "Finished Training\n"
     ]
    }
   ],
   "source": [
    "lr = 0.1\n",
    "WD = [0, 0.01,  0.05, 0.1]\n",
    "num_epochs = 30\n",
    "xdata = []\n",
    "val_acc = []\n",
    "model_Log = []\n",
    "\n",
    "for i, wd in enumerate(WD,0):\n",
    "    print('Weight Decay:', wd)\n",
    "    model_temp, xdata_temp, val_acc_temp = process_MNIST(trainloader, testloader, validloader,\n",
    "                                             num_epochs=num_epochs, lr=lr, wd=wd)\n",
    "    model_Log.append(model_temp)\n",
    "    xdata.append(xdata_temp)\n",
    "    val_acc.append(val_acc_temp)"
   ]
  },
  {
   "cell_type": "code",
   "execution_count": 20,
   "metadata": {},
   "outputs": [
    {
     "data": {
      "image/png": "[encoded data removed]",
      "text/plain": [
       "<matplotlib.figure.Figure at 0x123d0a668>"
      ]
     },
     "metadata": {},
     "output_type": "display_data"
    },
    {
     "data": {
      "image/png": "[encoded data removed]",
      "text/plain": [
       "<matplotlib.figure.Figure at 0x10c9cdcf8>"
      ]
     },
     "metadata": {},
     "output_type": "display_data"
    }
   ],
   "source": [
    "val_acc = np.asarray(val_acc)\n",
    "for xdat, ydat, wd in zip(xdata, val_acc, WD):\n",
    "    plt.plot(xdat, ydat, marker='o', linestyle='-', label=r'$Weight = {0}$'.format(wd))\n",
    "    \n",
    "plt.title('Validation Accuracy Over Weight Decays')\n",
    "plt.xlabel('Epoch')\n",
    "plt.ylabel('Validation Set Accuracy')\n",
    "plt.xlim([0, num_epochs+1])\n",
    "plt.ylim([72, 88])\n",
    "plt.legend(loc=3)\n",
    "plt.tight_layout()\n",
    "plt.show()\n",
    "\n",
    "plt.scatter(WD, val_acc[:,-1])\n",
    "plt.title('Final Validation Accuracy Over Weight Decays')\n",
    "plt.xlabel('Weight Decay Value')\n",
    "plt.ylabel('Validation Set Accuracy')\n",
    "plt.ylim([72, 88])\n",
    "plt.xscale('symlog')\n",
    "plt.tight_layout()\n",
    "plt.show()"
   ]
  },
  {
   "cell_type": "markdown",
   "metadata": {},
   "source": [
    "### Training for different values of lambda:\n",
    "Based on the plots of validation set accuracy as a function of regularization parameter, we can see that we should likely stop training on a model once the accuracy on the validation set stops increasing and begins to decrease. Once the accuracy on the validation set ceases to increase, it means that our model with the current hyperparameters is saturated, and more training might result in overfitting. In this particular situation, we see that the regularization does not enhance the performance of the model."
   ]
  },
  {
   "cell_type": "markdown",
   "metadata": {},
   "source": [
    "### Testing the best regularization parameter"
   ]
  },
  {
   "cell_type": "code",
   "execution_count": 21,
   "metadata": {},
   "outputs": [
    {
     "name": "stdout",
     "output_type": "stream",
     "text": [
      "Accuracy of the network on the 10000 test images: 77.920\n"
     ]
    }
   ],
   "source": [
    "# Best index from weight decay assessment\n",
    "best_idx = 2\n",
    "\n",
    "# test the model corresponding to this index:\n",
    "model_best = model_Log[best_idx]\n",
    "correct_ts = 0\n",
    "total_ts = 0\n",
    "for data in testloader:\n",
    "    images, labels = data\n",
    "    outputs = model_best(Variable(images))\n",
    "    _, predicted = torch.max(outputs.data, 1)\n",
    "    total_ts += labels.size(0)\n",
    "    correct_ts += (predicted == labels).sum()\n",
    "\n",
    "# Print output\n",
    "print('Accuracy of the network on the %d test images: %.3f' % (total_ts ,100 * correct_ts / total_ts))"
   ]
  },
  {
   "cell_type": "markdown",
   "metadata": {},
   "source": [
    "## Problem 3: Multi-Layer Perceptron"
   ]
  },
  {
   "cell_type": "code",
   "execution_count": 22,
   "metadata": {},
   "outputs": [],
   "source": [
    "import torch\n",
    "import torch.nn as nn\n",
    "from torch.nn import functional as fn\n",
    "from torch.autograd import Variable\n",
    "import torch.utils.data\n",
    "import caffeine\n",
    "\n",
    "# Multi Layer Perceptron Model:\n",
    "class MLP(nn.Module):\n",
    "    def __init__(self, input_dim, hidden_dim, output_dim, nonlinearity = fn.tanh, additional_hidden_wide=0):\n",
    "        super(MLP, self).__init__()\n",
    "        \n",
    "        # Define initial layer\n",
    "        self.fc_initial = nn.Linear(input_dim, hidden_dim)\n",
    "        \n",
    "        # Initialize layer\n",
    "        torch.nn.init.xavier_uniform(self.fc_initial.weight)\n",
    "        torch.nn.init.constant(self.fc_initial.bias, 0.0)\n",
    "        \n",
    "        # Hidden layers\n",
    "        self.fc_mid = nn.ModuleList()\n",
    "        self.additional_hidden_wide = additional_hidden_wide\n",
    "        for i in range(self.additional_hidden_wide):\n",
    "            # Define hidden layers\n",
    "            self.fc_mid.append(nn.Linear(hidden_dim, hidden_dim))\n",
    "            # Initialze hidden layers\n",
    "            torch.nn.init.xavier_uniform(self.fc_mid[i].weight)\n",
    "            torch.nn.init.constant(self.fc_mid[i].bias, 0.0)\n",
    "        \n",
    "        # Define output layers\n",
    "        self.fc_final = nn.Linear(hidden_dim, output_dim)\n",
    "        \n",
    "        # Define nonlinearity\n",
    "        self.nonlinearity = nonlinearity\n",
    "\n",
    "    def forward(self, x):\n",
    "        # Reshape the size of the variables\n",
    "        x = x.view(x.size(0), -1)\n",
    "        x = self.fc_initial(x)\n",
    "        x = self.nonlinearity(x)\n",
    "        for i in range(self.additional_hidden_wide):\n",
    "            x = self.fc_mid[i](x)\n",
    "            x = self.nonlinearity(x)\n",
    "        x = self.fc_final(x)\n",
    "        return x"
   ]
  },
  {
   "cell_type": "code",
   "execution_count": 23,
   "metadata": {},
   "outputs": [],
   "source": [
    "def test_MLP(trainloader, validloader, lr=1e-1, epochs=30, wd=1e-2, hidden_dim=25, batch=256):\n",
    "    valid_num = 10000\n",
    "    trainloader, validloader, testloader, imsize = load_MNIST(batch=batch, valid_num=valid_num)\n",
    "    num_classes = 10\n",
    "    input_dim = imsize*imsize\n",
    "    correct_vs = np.zeros(epochs)\n",
    "    total_vs = np.zeros(epochs)\n",
    "    x_epoch = []\n",
    "    y_valacc = []\n",
    "    accum=[]\n",
    "\n",
    "    # Initialize the model\n",
    "    model2 = MLP(input_dim=input_dim, hidden_dim=hidden_dim, output_dim=num_classes, \n",
    "                 nonlinearity=fn.tanh, additional_hidden_wide=1)\n",
    "    print(model2)\n",
    "\n",
    "    # Set up loss and optimization\n",
    "    criterion = nn.CrossEntropyLoss(size_average=True)\n",
    "    optimizer = torch.optim.SGD(model2.parameters(), lr = lr ,weight_decay=wd)\n",
    "\n",
    "    # Train over the model\n",
    "    for epoch in tnrange(epochs):\n",
    "        localaccum = []        \n",
    "        for i, dataTRAIN in enumerate(trainloader, 0):\n",
    "            # get the inputs\n",
    "            inputs, labels = dataTRAIN\n",
    "\n",
    "            # wrap them in Variable\n",
    "            inputs, labels = Variable(inputs), Variable(labels)        \n",
    "\n",
    "            # Evaluate performance on model\n",
    "            output = model2.forward(inputs)\n",
    "            loss = criterion(output, labels)\n",
    "\n",
    "            # Back propagate\n",
    "            model2.zero_grad()\n",
    "            loss.backward()\n",
    "            optimizer.step()\n",
    "\n",
    "            # Append loss stats\n",
    "            localaccum.append(loss.data[0])\n",
    "\n",
    "        # Test on validation set:\n",
    "        for i2, dataVAL in enumerate(validloader, 0):\n",
    "            images, labels = dataVAL\n",
    "            outputs = model2(Variable(images))\n",
    "            _, predicted = torch.max(outputs.data, 1)\n",
    "            total_vs[epoch] += labels.size(0)\n",
    "            correct_vs[epoch] += (predicted == labels).sum()\n",
    "\n",
    "        # Store validation results\n",
    "        val_acc = 100 * correct_vs[epoch] / total_vs[epoch]\n",
    "        if epoch % 5 == epoch-1:\n",
    "            print('Validation Accuracy: %.2f' % val_acc)\n",
    "        x_epoch.append(epoch+1)\n",
    "        y_valacc.append(val_acc)\n",
    "        accum.append(np.mean(localaccum))\n",
    "    \n",
    "    # Returns:\n",
    "    return (model2, testloader, accum, x_epoch, y_valacc)"
   ]
  },
  {
   "cell_type": "code",
   "execution_count": 24,
   "metadata": {},
   "outputs": [],
   "source": [
    "batch = 256\n",
    "lr = 1e-1\n",
    "wd = 1e-2\n",
    "epochs = 10\n",
    "hidden_dim = 25"
   ]
  },
  {
   "cell_type": "code",
   "execution_count": 25,
   "metadata": {},
   "outputs": [
    {
     "name": "stdout",
     "output_type": "stream",
     "text": [
      "MLP(\n",
      "  (fc_initial): Linear(in_features=784, out_features=25)\n",
      "  (fc_mid): ModuleList(\n",
      "    (0): Linear(in_features=25, out_features=25)\n",
      "  )\n",
      "  (fc_final): Linear(in_features=25, out_features=10)\n",
      ")\n"
     ]
    },
    {
     "data": {
      "application/vnd.jupyter.widget-view+json": {
       "model_id": "60acb540fd774260b994c1d7b46a179c",
       "version_major": 2,
       "version_minor": 0
      },
      "text/html": [
       "<p>Failed to display Jupyter Widget of type <code>HBox</code>.</p>\n",
       "<p>\n",
       "  If you're reading this message in the Jupyter Notebook or JupyterLab Notebook, it may mean\n",
       "  that the widgets JavaScript is still loading. If this message persists, it\n",
       "  likely means that the widgets JavaScript library is either not installed or\n",
       "  not enabled. See the <a href=\"https://ipywidgets.readthedocs.io/en/stable/user_install.html\">Jupyter\n",
       "  Widgets Documentation</a> for setup instructions.\n",
       "</p>\n",
       "<p>\n",
       "  If you're reading this message in another frontend (for example, a static\n",
       "  rendering on GitHub or <a href=\"https://nbviewer.jupyter.org/\">NBViewer</a>),\n",
       "  it may mean that your frontend doesn't currently support widgets.\n",
       "</p>\n"
      ],
      "text/plain": [
       "HBox(children=(IntProgress(value=0, max=10), HTML(value='')))"
      ]
     },
     "metadata": {},
     "output_type": "display_data"
    },
    {
     "name": "stdout",
     "output_type": "stream",
     "text": [
      "\n"
     ]
    }
   ],
   "source": [
    "model_MLP, testloader, loss, x_epoch, y_valacc = test_MLP(trainloader, validloader, lr=lr, epochs=epochs, \n",
    "                                              wd=wd, hidden_dim=hidden_dim, batch=batch)"
   ]
  },
  {
   "cell_type": "code",
   "execution_count": 26,
   "metadata": {},
   "outputs": [
    {
     "data": {
      "image/png": "[encoded data removed]",
      "text/plain": [
       "<matplotlib.figure.Figure at 0x10e6ad860>"
      ]
     },
     "metadata": {},
     "output_type": "display_data"
    },
    {
     "data": {
      "image/png": "[encoded data removed]",
      "text/plain": [
       "<matplotlib.figure.Figure at 0x114d5c6d8>"
      ]
     },
     "metadata": {},
     "output_type": "display_data"
    }
   ],
   "source": [
    "# Plot accumulated loss of each epoch\n",
    "plt.plot(loss, marker='o');\n",
    "plt.xlabel('Epoch')\n",
    "plt.ylabel('Accumulated Loss')\n",
    "plt.title('Evolution of the Loss Function')\n",
    "plt.show()\n",
    "\n",
    "# Plot validation accuracy  of each epoch\n",
    "plt.plot(x_epoch, y_valacc, marker='o');\n",
    "plt.xlabel('Epoch')\n",
    "plt.ylabel('Validation Accuracy')\n",
    "plt.title('Evolution of the Validation Accuracy')\n",
    "plt.show()"
   ]
  },
  {
   "cell_type": "code",
   "execution_count": 27,
   "metadata": {},
   "outputs": [
    {
     "name": "stdout",
     "output_type": "stream",
     "text": [
      "Accuracy of the network on the test images: 92\n"
     ]
    }
   ],
   "source": [
    "# Evaluate model on test sets\n",
    "correct_ts = 0\n",
    "total_ts = 0\n",
    "\n",
    "for data in testloader:\n",
    "    images, labels = data\n",
    "    outputs = model_MLP(Variable(images))\n",
    "    _, predicted = torch.max(outputs.data, 1)\n",
    "    total_ts += labels.size(0)\n",
    "    correct_ts += (predicted == labels).sum()\n",
    "\n",
    "print('Accuracy of the network on the test images: %d' % (100 * correct_ts / total_ts))"
   ]
  },
  {
   "cell_type": "markdown",
   "metadata": {},
   "source": [
    "Using the MLP algorithm, we have an improved accuracy of up to 92 percent on the network. We can see the validation error plotted over time."
   ]
  },
  {
   "cell_type": "markdown",
   "metadata": {},
   "source": [
    "## Making a `scikit-learn` like interface\n",
    "\n",
    "Since we want to run many experiments, we'll go ahead and wrap our fitting process in a sklearn style interface."
   ]
  },
  {
   "cell_type": "code",
   "execution_count": 28,
   "metadata": {},
   "outputs": [],
   "source": [
    "from tqdm import tnrange, tqdm_notebook\n",
    "class MLPClassifier:\n",
    "    \n",
    "    def __init__(self, input_dim, hidden_dim=10, \n",
    "                 output_dim = 10, nonlinearity = fn.tanh, \n",
    "                 additional_hidden_wide=0, lr=0.1, epochs=50, batch_size=64, wd=0):\n",
    "\n",
    "        self._pytorch_model = MLP(input_dim, hidden_dim, output_dim, nonlinearity, additional_hidden_wide)\n",
    "        self._criterion = nn.CrossEntropyLoss(size_average=True)\n",
    "        self._fit_params = dict(lr=lr, epochs=epochs, batch_size=batch_size, wd=wd)\n",
    "        self._optim = torch.optim.SGD(self._pytorch_model.parameters(), lr = self._fit_params['lr'] )\n",
    "        \n",
    "    def __repr__(self):\n",
    "        num=0\n",
    "        for k, p in self._pytorch_model.named_parameters():\n",
    "            numlist = list(p.data.numpy().shape)\n",
    "            if len(numlist)==2:\n",
    "                num += numlist[0]*numlist[1]\n",
    "            else:\n",
    "                num+= numlist[0]\n",
    "        return repr(self._pytorch_model)+\"\\n\"+repr(self._fit_params)+\"\\nNum Params: {}\".format(num)\n",
    "    \n",
    "    def set_fit_params(self, *, lr=0.1, epochs=50, batch_size=64, wd=0):\n",
    "        self._fit_params['batch_size'] = batch_size\n",
    "        self._fit_params['epochs'] = epochs\n",
    "        self._fit_params['lr'] = lr\n",
    "        self._fit_params['wd'] = wd\n",
    "        \n",
    "    \n",
    "    def fit(self, trainloader):\n",
    "        \"\"\"\n",
    "        Runs the fitting of the model over each of the epochs.\n",
    "        \"\"\"\n",
    "        # Initialize optimizer\n",
    "        self._optim = torch.optim.SGD(self._pytorch_model.parameters(), lr = self._fit_params['lr'] )\n",
    "        \n",
    "        self._accum=[]\n",
    "        for epoch in tnrange(self._fit_params['epochs']):\n",
    "            localaccum = []        \n",
    "            for i, dataTRAIN in enumerate(trainloader, 0):\n",
    "                # get the inputs\n",
    "                inputs, labels = dataTRAIN\n",
    "                \n",
    "                # wrap them in Variable\n",
    "                inputs, labels = Variable(inputs), Variable(labels)        \n",
    "\n",
    "                # Evaluate performance on model\n",
    "                output = self._pytorch_model.forward(inputs)\n",
    "                loss = self._criterion(output, labels)\n",
    "\n",
    "                # Back propagate\n",
    "                self._pytorch_model.zero_grad()\n",
    "                loss.backward()\n",
    "                self._optim.step()\n",
    "\n",
    "                # Append loss stats\n",
    "                localaccum.append(loss.data[0])\n",
    "            self._accum.append(np.mean(localaccum))\n",
    "\n",
    "    def plot_loss(self):\n",
    "        plt.figure(figsize=(8,6))       \n",
    "        plt.plot(self._accum, label=\"{}\".format(self))\n",
    "        plt.legend()\n",
    "        plt.xlabel('Epoch')\n",
    "        plt.ylabel('Loss')\n",
    "        plt.show()\n",
    "\n",
    "    def get_loss(self):\n",
    "        return(self._accum)\n",
    "    \n",
    "    def predict(self, testloader):\n",
    "        # Evaluate model on test sets\n",
    "        correct_ts = 0\n",
    "        total_ts = 0\n",
    "\n",
    "        for data in testloader:\n",
    "            images, labels = data\n",
    "            outputs = self._pytorch_model.forward(Variable(images))\n",
    "            _, predicted = torch.max(outputs.data, 1)\n",
    "            total_ts += labels.size(0)\n",
    "            correct_ts += (predicted == labels).sum()\n",
    "\n",
    "        return correct_ts/total_ts"
   ]
  },
  {
   "cell_type": "code",
   "execution_count": 29,
   "metadata": {},
   "outputs": [
    {
     "name": "stdout",
     "output_type": "stream",
     "text": [
      "MLP(\n",
      "  (fc_initial): Linear(in_features=784, out_features=25)\n",
      "  (fc_mid): ModuleList(\n",
      "  )\n",
      "  (fc_final): Linear(in_features=25, out_features=10)\n",
      ")\n",
      "{'lr': 0.1, 'epochs': 10, 'batch_size': 256, 'wd': 0.01}\n",
      "Num Params: 19885\n"
     ]
    },
    {
     "data": {
      "application/vnd.jupyter.widget-view+json": {
       "model_id": "51de8d799a714aaa93131726fd9ce22e",
       "version_major": 2,
       "version_minor": 0
      },
      "text/html": [
       "<p>Failed to display Jupyter Widget of type <code>HBox</code>.</p>\n",
       "<p>\n",
       "  If you're reading this message in the Jupyter Notebook or JupyterLab Notebook, it may mean\n",
       "  that the widgets JavaScript is still loading. If this message persists, it\n",
       "  likely means that the widgets JavaScript library is either not installed or\n",
       "  not enabled. See the <a href=\"https://ipywidgets.readthedocs.io/en/stable/user_install.html\">Jupyter\n",
       "  Widgets Documentation</a> for setup instructions.\n",
       "</p>\n",
       "<p>\n",
       "  If you're reading this message in another frontend (for example, a static\n",
       "  rendering on GitHub or <a href=\"https://nbviewer.jupyter.org/\">NBViewer</a>),\n",
       "  it may mean that your frontend doesn't currently support widgets.\n",
       "</p>\n"
      ],
      "text/plain": [
       "HBox(children=(IntProgress(value=0, max=10), HTML(value='')))"
      ]
     },
     "metadata": {},
     "output_type": "display_data"
    },
    {
     "name": "stdout",
     "output_type": "stream",
     "text": [
      "\n"
     ]
    }
   ],
   "source": [
    "# One working example:\n",
    "num_classes=10\n",
    "epochs=10\n",
    "wd=1e-2\n",
    "batch_size=256\n",
    "clf = MLPClassifier(input_dim=imsize*imsize, hidden_dim=hidden_dim, output_dim=num_classes,\n",
    "                    nonlinearity=fn.tanh, additional_hidden_wide=0, epochs=epochs, wd=wd, batch_size=batch_size)\n",
    "\n",
    "print(clf)\n",
    "\n",
    "trainloader, _, testloader, _ = load_MNIST(batch=batch, valid_num=0)\n",
    "\n",
    "clf.fit(trainloader)"
   ]
  },
  {
   "cell_type": "code",
   "execution_count": 30,
   "metadata": {},
   "outputs": [
    {
     "data": {
      "image/png": "[encoded data removed]",
      "text/plain": [
       "<matplotlib.figure.Figure at 0x123da5c50>"
      ]
     },
     "metadata": {},
     "output_type": "display_data"
    }
   ],
   "source": [
    "clf.plot_loss()"
   ]
  },
  {
   "cell_type": "code",
   "execution_count": 31,
   "metadata": {},
   "outputs": [
    {
     "name": "stdout",
     "output_type": "stream",
     "text": [
      "Accuracy: 0.9387\n"
     ]
    }
   ],
   "source": [
    "accuracy = clf.predict(testloader)\n",
    "print('Accuracy:', accuracy)"
   ]
  },
  {
   "cell_type": "markdown",
   "metadata": {},
   "source": [
    "Using the SKLearn interface, we see that we get a similarly good accuracy. Now lets do this over a grid space of parameters."
   ]
  },
  {
   "cell_type": "markdown",
   "metadata": {},
   "source": [
    "## Now try to optimize over a grid space of parameters:"
   ]
  },
  {
   "cell_type": "code",
   "execution_count": 32,
   "metadata": {},
   "outputs": [],
   "source": [
    "# Set up parameters\n",
    "lrs = [0.1, 0.05, 0.01]\n",
    "batch_sizes = [20, 50, 100, 200]\n",
    "wd = .001\n",
    "hidden_dims = [25, 50, 75, 100]\n",
    "\n",
    "# Make my own grid search:\n",
    "lr_grid, batch_grid, hidden_dim_grid = np.meshgrid(lrs, batch_sizes, hidden_dims)\n",
    "accuracy_params = np.zeros(lr_grid.size)"
   ]
  },
  {
   "cell_type": "code",
   "execution_count": 33,
   "metadata": {},
   "outputs": [
    {
     "data": {
      "application/vnd.jupyter.widget-view+json": {
       "model_id": "e7a69a1577474638b185ad30c6c3a272",
       "version_major": 2,
       "version_minor": 0
      },
      "text/html": [
       "<p>Failed to display Jupyter Widget of type <code>HBox</code>.</p>\n",
       "<p>\n",
       "  If you're reading this message in the Jupyter Notebook or JupyterLab Notebook, it may mean\n",
       "  that the widgets JavaScript is still loading. If this message persists, it\n",
       "  likely means that the widgets JavaScript library is either not installed or\n",
       "  not enabled. See the <a href=\"https://ipywidgets.readthedocs.io/en/stable/user_install.html\">Jupyter\n",
       "  Widgets Documentation</a> for setup instructions.\n",
       "</p>\n",
       "<p>\n",
       "  If you're reading this message in another frontend (for example, a static\n",
       "  rendering on GitHub or <a href=\"https://nbviewer.jupyter.org/\">NBViewer</a>),\n",
       "  it may mean that your frontend doesn't currently support widgets.\n",
       "</p>\n"
      ],
      "text/plain": [
       "HBox(children=(IntProgress(value=0, max=48), HTML(value='')))"
      ]
     },
     "metadata": {},
     "output_type": "display_data"
    },
    {
     "name": "stdout",
     "output_type": "stream",
     "text": [
      "MLP(\n",
      "  (fc_initial): Linear(in_features=784, out_features=25)\n",
      "  (fc_mid): ModuleList(\n",
      "  )\n",
      "  (fc_final): Linear(in_features=25, out_features=10)\n",
      ")\n",
      "{'lr': 0.10000000000000001, 'epochs': 5, 'batch_size': 20, 'wd': 0.001}\n",
      "Num Params: 19885\n"
     ]
    },
    {
     "data": {
      "application/vnd.jupyter.widget-view+json": {
       "model_id": "afdd60aee29345ac97ed79beaabd8ece",
       "version_major": 2,
       "version_minor": 0
      },
      "text/html": [
       "<p>Failed to display Jupyter Widget of type <code>HBox</code>.</p>\n",
       "<p>\n",
       "  If you're reading this message in the Jupyter Notebook or JupyterLab Notebook, it may mean\n",
       "  that the widgets JavaScript is still loading. If this message persists, it\n",
       "  likely means that the widgets JavaScript library is either not installed or\n",
       "  not enabled. See the <a href=\"https://ipywidgets.readthedocs.io/en/stable/user_install.html\">Jupyter\n",
       "  Widgets Documentation</a> for setup instructions.\n",
       "</p>\n",
       "<p>\n",
       "  If you're reading this message in another frontend (for example, a static\n",
       "  rendering on GitHub or <a href=\"https://nbviewer.jupyter.org/\">NBViewer</a>),\n",
       "  it may mean that your frontend doesn't currently support widgets.\n",
       "</p>\n"
      ],
      "text/plain": [
       "HBox(children=(IntProgress(value=0, max=5), HTML(value='')))"
      ]
     },
     "metadata": {},
     "output_type": "display_data"
    },
    {
     "name": "stdout",
     "output_type": "stream",
     "text": [
      "MLP(\n",
      "  (fc_initial): Linear(in_features=784, out_features=50)\n",
      "  (fc_mid): ModuleList(\n",
      "  )\n",
      "  (fc_final): Linear(in_features=50, out_features=10)\n",
      ")\n",
      "{'lr': 0.10000000000000001, 'epochs': 5, 'batch_size': 20, 'wd': 0.001}\n",
      "Num Params: 39760\n"
     ]
    },
    {
     "data": {
      "application/vnd.jupyter.widget-view+json": {
       "model_id": "66ac821849714948a9552961c2a7bd46",
       "version_major": 2,
       "version_minor": 0
      },
      "text/html": [
       "<p>Failed to display Jupyter Widget of type <code>HBox</code>.</p>\n",
       "<p>\n",
       "  If you're reading this message in the Jupyter Notebook or JupyterLab Notebook, it may mean\n",
       "  that the widgets JavaScript is still loading. If this message persists, it\n",
       "  likely means that the widgets JavaScript library is either not installed or\n",
       "  not enabled. See the <a href=\"https://ipywidgets.readthedocs.io/en/stable/user_install.html\">Jupyter\n",
       "  Widgets Documentation</a> for setup instructions.\n",
       "</p>\n",
       "<p>\n",
       "  If you're reading this message in another frontend (for example, a static\n",
       "  rendering on GitHub or <a href=\"https://nbviewer.jupyter.org/\">NBViewer</a>),\n",
       "  it may mean that your frontend doesn't currently support widgets.\n",
       "</p>\n"
      ],
      "text/plain": [
       "HBox(children=(IntProgress(value=0, max=5), HTML(value='')))"
      ]
     },
     "metadata": {},
     "output_type": "display_data"
    },
    {
     "name": "stdout",
     "output_type": "stream",
     "text": [
      "MLP(\n",
      "  (fc_initial): Linear(in_features=784, out_features=75)\n",
      "  (fc_mid): ModuleList(\n",
      "  )\n",
      "  (fc_final): Linear(in_features=75, out_features=10)\n",
      ")\n",
      "{'lr': 0.10000000000000001, 'epochs': 5, 'batch_size': 20, 'wd': 0.001}\n",
      "Num Params: 59635\n"
     ]
    },
    {
     "data": {
      "application/vnd.jupyter.widget-view+json": {
       "model_id": "f85e35081b384389af43af133a2d7aa6",
       "version_major": 2,
       "version_minor": 0
      },
      "text/html": [
       "<p>Failed to display Jupyter Widget of type <code>HBox</code>.</p>\n",
       "<p>\n",
       "  If you're reading this message in the Jupyter Notebook or JupyterLab Notebook, it may mean\n",
       "  that the widgets JavaScript is still loading. If this message persists, it\n",
       "  likely means that the widgets JavaScript library is either not installed or\n",
       "  not enabled. See the <a href=\"https://ipywidgets.readthedocs.io/en/stable/user_install.html\">Jupyter\n",
       "  Widgets Documentation</a> for setup instructions.\n",
       "</p>\n",
       "<p>\n",
       "  If you're reading this message in another frontend (for example, a static\n",
       "  rendering on GitHub or <a href=\"https://nbviewer.jupyter.org/\">NBViewer</a>),\n",
       "  it may mean that your frontend doesn't currently support widgets.\n",
       "</p>\n"
      ],
      "text/plain": [
       "HBox(children=(IntProgress(value=0, max=5), HTML(value='')))"
      ]
     },
     "metadata": {},
     "output_type": "display_data"
    },
    {
     "name": "stdout",
     "output_type": "stream",
     "text": [
      "MLP(\n",
      "  (fc_initial): Linear(in_features=784, out_features=100)\n",
      "  (fc_mid): ModuleList(\n",
      "  )\n",
      "  (fc_final): Linear(in_features=100, out_features=10)\n",
      ")\n",
      "{'lr': 0.10000000000000001, 'epochs': 5, 'batch_size': 20, 'wd': 0.001}\n",
      "Num Params: 79510\n"
     ]
    },
    {
     "data": {
      "application/vnd.jupyter.widget-view+json": {
       "model_id": "911a12d7ce61401ca3532980c3d7ee23",
       "version_major": 2,
       "version_minor": 0
      },
      "text/html": [
       "<p>Failed to display Jupyter Widget of type <code>HBox</code>.</p>\n",
       "<p>\n",
       "  If you're reading this message in the Jupyter Notebook or JupyterLab Notebook, it may mean\n",
       "  that the widgets JavaScript is still loading. If this message persists, it\n",
       "  likely means that the widgets JavaScript library is either not installed or\n",
       "  not enabled. See the <a href=\"https://ipywidgets.readthedocs.io/en/stable/user_install.html\">Jupyter\n",
       "  Widgets Documentation</a> for setup instructions.\n",
       "</p>\n",
       "<p>\n",
       "  If you're reading this message in another frontend (for example, a static\n",
       "  rendering on GitHub or <a href=\"https://nbviewer.jupyter.org/\">NBViewer</a>),\n",
       "  it may mean that your frontend doesn't currently support widgets.\n",
       "</p>\n"
      ],
      "text/plain": [
       "HBox(children=(IntProgress(value=0, max=5), HTML(value='')))"
      ]
     },
     "metadata": {},
     "output_type": "display_data"
    },
    {
     "name": "stdout",
     "output_type": "stream",
     "text": [
      "MLP(\n",
      "  (fc_initial): Linear(in_features=784, out_features=25)\n",
      "  (fc_mid): ModuleList(\n",
      "  )\n",
      "  (fc_final): Linear(in_features=25, out_features=10)\n",
      ")\n",
      "{'lr': 0.050000000000000003, 'epochs': 5, 'batch_size': 20, 'wd': 0.001}\n",
      "Num Params: 19885\n"
     ]
    },
    {
     "data": {
      "application/vnd.jupyter.widget-view+json": {
       "model_id": "5d1ff459114948c3b7d680cc26a21fe3",
       "version_major": 2,
       "version_minor": 0
      },
      "text/html": [
       "<p>Failed to display Jupyter Widget of type <code>HBox</code>.</p>\n",
       "<p>\n",
       "  If you're reading this message in the Jupyter Notebook or JupyterLab Notebook, it may mean\n",
       "  that the widgets JavaScript is still loading. If this message persists, it\n",
       "  likely means that the widgets JavaScript library is either not installed or\n",
       "  not enabled. See the <a href=\"https://ipywidgets.readthedocs.io/en/stable/user_install.html\">Jupyter\n",
       "  Widgets Documentation</a> for setup instructions.\n",
       "</p>\n",
       "<p>\n",
       "  If you're reading this message in another frontend (for example, a static\n",
       "  rendering on GitHub or <a href=\"https://nbviewer.jupyter.org/\">NBViewer</a>),\n",
       "  it may mean that your frontend doesn't currently support widgets.\n",
       "</p>\n"
      ],
      "text/plain": [
       "HBox(children=(IntProgress(value=0, max=5), HTML(value='')))"
      ]
     },
     "metadata": {},
     "output_type": "display_data"
    },
    {
     "name": "stdout",
     "output_type": "stream",
     "text": [
      "MLP(\n",
      "  (fc_initial): Linear(in_features=784, out_features=50)\n",
      "  (fc_mid): ModuleList(\n",
      "  )\n",
      "  (fc_final): Linear(in_features=50, out_features=10)\n",
      ")\n",
      "{'lr': 0.050000000000000003, 'epochs': 5, 'batch_size': 20, 'wd': 0.001}\n",
      "Num Params: 39760\n"
     ]
    },
    {
     "data": {
      "application/vnd.jupyter.widget-view+json": {
       "model_id": "88539ab154c94d9d85d0b49f3dd5c952",
       "version_major": 2,
       "version_minor": 0
      },
      "text/html": [
       "<p>Failed to display Jupyter Widget of type <code>HBox</code>.</p>\n",
       "<p>\n",
       "  If you're reading this message in the Jupyter Notebook or JupyterLab Notebook, it may mean\n",
       "  that the widgets JavaScript is still loading. If this message persists, it\n",
       "  likely means that the widgets JavaScript library is either not installed or\n",
       "  not enabled. See the <a href=\"https://ipywidgets.readthedocs.io/en/stable/user_install.html\">Jupyter\n",
       "  Widgets Documentation</a> for setup instructions.\n",
       "</p>\n",
       "<p>\n",
       "  If you're reading this message in another frontend (for example, a static\n",
       "  rendering on GitHub or <a href=\"https://nbviewer.jupyter.org/\">NBViewer</a>),\n",
       "  it may mean that your frontend doesn't currently support widgets.\n",
       "</p>\n"
      ],
      "text/plain": [
       "HBox(children=(IntProgress(value=0, max=5), HTML(value='')))"
      ]
     },
     "metadata": {},
     "output_type": "display_data"
    },
    {
     "name": "stdout",
     "output_type": "stream",
     "text": [
      "MLP(\n",
      "  (fc_initial): Linear(in_features=784, out_features=75)\n",
      "  (fc_mid): ModuleList(\n",
      "  )\n",
      "  (fc_final): Linear(in_features=75, out_features=10)\n",
      ")\n",
      "{'lr': 0.050000000000000003, 'epochs': 5, 'batch_size': 20, 'wd': 0.001}\n",
      "Num Params: 59635\n"
     ]
    },
    {
     "data": {
      "application/vnd.jupyter.widget-view+json": {
       "model_id": "54ce23ad3caf44a398232910f3d7baa0",
       "version_major": 2,
       "version_minor": 0
      },
      "text/html": [
       "<p>Failed to display Jupyter Widget of type <code>HBox</code>.</p>\n",
       "<p>\n",
       "  If you're reading this message in the Jupyter Notebook or JupyterLab Notebook, it may mean\n",
       "  that the widgets JavaScript is still loading. If this message persists, it\n",
       "  likely means that the widgets JavaScript library is either not installed or\n",
       "  not enabled. See the <a href=\"https://ipywidgets.readthedocs.io/en/stable/user_install.html\">Jupyter\n",
       "  Widgets Documentation</a> for setup instructions.\n",
       "</p>\n",
       "<p>\n",
       "  If you're reading this message in another frontend (for example, a static\n",
       "  rendering on GitHub or <a href=\"https://nbviewer.jupyter.org/\">NBViewer</a>),\n",
       "  it may mean that your frontend doesn't currently support widgets.\n",
       "</p>\n"
      ],
      "text/plain": [
       "HBox(children=(IntProgress(value=0, max=5), HTML(value='')))"
      ]
     },
     "metadata": {},
     "output_type": "display_data"
    },
    {
     "name": "stdout",
     "output_type": "stream",
     "text": [
      "MLP(\n",
      "  (fc_initial): Linear(in_features=784, out_features=100)\n",
      "  (fc_mid): ModuleList(\n",
      "  )\n",
      "  (fc_final): Linear(in_features=100, out_features=10)\n",
      ")\n",
      "{'lr': 0.050000000000000003, 'epochs': 5, 'batch_size': 20, 'wd': 0.001}\n",
      "Num Params: 79510\n"
     ]
    },
    {
     "data": {
      "application/vnd.jupyter.widget-view+json": {
       "model_id": "5b52088f202d4ab69ae879571749955c",
       "version_major": 2,
       "version_minor": 0
      },
      "text/html": [
       "<p>Failed to display Jupyter Widget of type <code>HBox</code>.</p>\n",
       "<p>\n",
       "  If you're reading this message in the Jupyter Notebook or JupyterLab Notebook, it may mean\n",
       "  that the widgets JavaScript is still loading. If this message persists, it\n",
       "  likely means that the widgets JavaScript library is either not installed or\n",
       "  not enabled. See the <a href=\"https://ipywidgets.readthedocs.io/en/stable/user_install.html\">Jupyter\n",
       "  Widgets Documentation</a> for setup instructions.\n",
       "</p>\n",
       "<p>\n",
       "  If you're reading this message in another frontend (for example, a static\n",
       "  rendering on GitHub or <a href=\"https://nbviewer.jupyter.org/\">NBViewer</a>),\n",
       "  it may mean that your frontend doesn't currently support widgets.\n",
       "</p>\n"
      ],
      "text/plain": [
       "HBox(children=(IntProgress(value=0, max=5), HTML(value='')))"
      ]
     },
     "metadata": {},
     "output_type": "display_data"
    },
    {
     "name": "stdout",
     "output_type": "stream",
     "text": [
      "MLP(\n",
      "  (fc_initial): Linear(in_features=784, out_features=25)\n",
      "  (fc_mid): ModuleList(\n",
      "  )\n",
      "  (fc_final): Linear(in_features=25, out_features=10)\n",
      ")\n",
      "{'lr': 0.01, 'epochs': 5, 'batch_size': 20, 'wd': 0.001}\n",
      "Num Params: 19885\n"
     ]
    },
    {
     "data": {
      "application/vnd.jupyter.widget-view+json": {
       "model_id": "7376fca9166244b6915bba0b99994729",
       "version_major": 2,
       "version_minor": 0
      },
      "text/html": [
       "<p>Failed to display Jupyter Widget of type <code>HBox</code>.</p>\n",
       "<p>\n",
       "  If you're reading this message in the Jupyter Notebook or JupyterLab Notebook, it may mean\n",
       "  that the widgets JavaScript is still loading. If this message persists, it\n",
       "  likely means that the widgets JavaScript library is either not installed or\n",
       "  not enabled. See the <a href=\"https://ipywidgets.readthedocs.io/en/stable/user_install.html\">Jupyter\n",
       "  Widgets Documentation</a> for setup instructions.\n",
       "</p>\n",
       "<p>\n",
       "  If you're reading this message in another frontend (for example, a static\n",
       "  rendering on GitHub or <a href=\"https://nbviewer.jupyter.org/\">NBViewer</a>),\n",
       "  it may mean that your frontend doesn't currently support widgets.\n",
       "</p>\n"
      ],
      "text/plain": [
       "HBox(children=(IntProgress(value=0, max=5), HTML(value='')))"
      ]
     },
     "metadata": {},
     "output_type": "display_data"
    },
    {
     "name": "stdout",
     "output_type": "stream",
     "text": [
      "MLP(\n",
      "  (fc_initial): Linear(in_features=784, out_features=50)\n",
      "  (fc_mid): ModuleList(\n",
      "  )\n",
      "  (fc_final): Linear(in_features=50, out_features=10)\n",
      ")\n",
      "{'lr': 0.01, 'epochs': 5, 'batch_size': 20, 'wd': 0.001}\n",
      "Num Params: 39760\n"
     ]
    },
    {
     "data": {
      "application/vnd.jupyter.widget-view+json": {
       "model_id": "e85aec0716d04e65b2ee60da036d015e",
       "version_major": 2,
       "version_minor": 0
      },
      "text/html": [
       "<p>Failed to display Jupyter Widget of type <code>HBox</code>.</p>\n",
       "<p>\n",
       "  If you're reading this message in the Jupyter Notebook or JupyterLab Notebook, it may mean\n",
       "  that the widgets JavaScript is still loading. If this message persists, it\n",
       "  likely means that the widgets JavaScript library is either not installed or\n",
       "  not enabled. See the <a href=\"https://ipywidgets.readthedocs.io/en/stable/user_install.html\">Jupyter\n",
       "  Widgets Documentation</a> for setup instructions.\n",
       "</p>\n",
       "<p>\n",
       "  If you're reading this message in another frontend (for example, a static\n",
       "  rendering on GitHub or <a href=\"https://nbviewer.jupyter.org/\">NBViewer</a>),\n",
       "  it may mean that your frontend doesn't currently support widgets.\n",
       "</p>\n"
      ],
      "text/plain": [
       "HBox(children=(IntProgress(value=0, max=5), HTML(value='')))"
      ]
     },
     "metadata": {},
     "output_type": "display_data"
    },
    {
     "name": "stdout",
     "output_type": "stream",
     "text": [
      "MLP(\n",
      "  (fc_initial): Linear(in_features=784, out_features=75)\n",
      "  (fc_mid): ModuleList(\n",
      "  )\n",
      "  (fc_final): Linear(in_features=75, out_features=10)\n",
      ")\n",
      "{'lr': 0.01, 'epochs': 5, 'batch_size': 20, 'wd': 0.001}\n",
      "Num Params: 59635\n"
     ]
    },
    {
     "data": {
      "application/vnd.jupyter.widget-view+json": {
       "model_id": "b45d0c9e7f304d5ca6badae0ca84b6fb",
       "version_major": 2,
       "version_minor": 0
      },
      "text/html": [
       "<p>Failed to display Jupyter Widget of type <code>HBox</code>.</p>\n",
       "<p>\n",
       "  If you're reading this message in the Jupyter Notebook or JupyterLab Notebook, it may mean\n",
       "  that the widgets JavaScript is still loading. If this message persists, it\n",
       "  likely means that the widgets JavaScript library is either not installed or\n",
       "  not enabled. See the <a href=\"https://ipywidgets.readthedocs.io/en/stable/user_install.html\">Jupyter\n",
       "  Widgets Documentation</a> for setup instructions.\n",
       "</p>\n",
       "<p>\n",
       "  If you're reading this message in another frontend (for example, a static\n",
       "  rendering on GitHub or <a href=\"https://nbviewer.jupyter.org/\">NBViewer</a>),\n",
       "  it may mean that your frontend doesn't currently support widgets.\n",
       "</p>\n"
      ],
      "text/plain": [
       "HBox(children=(IntProgress(value=0, max=5), HTML(value='')))"
      ]
     },
     "metadata": {},
     "output_type": "display_data"
    },
    {
     "name": "stdout",
     "output_type": "stream",
     "text": [
      "MLP(\n",
      "  (fc_initial): Linear(in_features=784, out_features=100)\n",
      "  (fc_mid): ModuleList(\n",
      "  )\n",
      "  (fc_final): Linear(in_features=100, out_features=10)\n",
      ")\n",
      "{'lr': 0.01, 'epochs': 5, 'batch_size': 20, 'wd': 0.001}\n",
      "Num Params: 79510\n"
     ]
    },
    {
     "data": {
      "application/vnd.jupyter.widget-view+json": {
       "model_id": "e75306e7ca2e4db3b31559940ea1db32",
       "version_major": 2,
       "version_minor": 0
      },
      "text/html": [
       "<p>Failed to display Jupyter Widget of type <code>HBox</code>.</p>\n",
       "<p>\n",
       "  If you're reading this message in the Jupyter Notebook or JupyterLab Notebook, it may mean\n",
       "  that the widgets JavaScript is still loading. If this message persists, it\n",
       "  likely means that the widgets JavaScript library is either not installed or\n",
       "  not enabled. See the <a href=\"https://ipywidgets.readthedocs.io/en/stable/user_install.html\">Jupyter\n",
       "  Widgets Documentation</a> for setup instructions.\n",
       "</p>\n",
       "<p>\n",
       "  If you're reading this message in another frontend (for example, a static\n",
       "  rendering on GitHub or <a href=\"https://nbviewer.jupyter.org/\">NBViewer</a>),\n",
       "  it may mean that your frontend doesn't currently support widgets.\n",
       "</p>\n"
      ],
      "text/plain": [
       "HBox(children=(IntProgress(value=0, max=5), HTML(value='')))"
      ]
     },
     "metadata": {},
     "output_type": "display_data"
    },
    {
     "name": "stdout",
     "output_type": "stream",
     "text": [
      "MLP(\n",
      "  (fc_initial): Linear(in_features=784, out_features=25)\n",
      "  (fc_mid): ModuleList(\n",
      "  )\n",
      "  (fc_final): Linear(in_features=25, out_features=10)\n",
      ")\n",
      "{'lr': 0.10000000000000001, 'epochs': 5, 'batch_size': 50, 'wd': 0.001}\n",
      "Num Params: 19885\n"
     ]
    },
    {
     "data": {
      "application/vnd.jupyter.widget-view+json": {
       "model_id": "1a0121ccbb564bd1a921cecb2809adea",
       "version_major": 2,
       "version_minor": 0
      },
      "text/html": [
       "<p>Failed to display Jupyter Widget of type <code>HBox</code>.</p>\n",
       "<p>\n",
       "  If you're reading this message in the Jupyter Notebook or JupyterLab Notebook, it may mean\n",
       "  that the widgets JavaScript is still loading. If this message persists, it\n",
       "  likely means that the widgets JavaScript library is either not installed or\n",
       "  not enabled. See the <a href=\"https://ipywidgets.readthedocs.io/en/stable/user_install.html\">Jupyter\n",
       "  Widgets Documentation</a> for setup instructions.\n",
       "</p>\n",
       "<p>\n",
       "  If you're reading this message in another frontend (for example, a static\n",
       "  rendering on GitHub or <a href=\"https://nbviewer.jupyter.org/\">NBViewer</a>),\n",
       "  it may mean that your frontend doesn't currently support widgets.\n",
       "</p>\n"
      ],
      "text/plain": [
       "HBox(children=(IntProgress(value=0, max=5), HTML(value='')))"
      ]
     },
     "metadata": {},
     "output_type": "display_data"
    },
    {
     "name": "stdout",
     "output_type": "stream",
     "text": [
      "MLP(\n",
      "  (fc_initial): Linear(in_features=784, out_features=50)\n",
      "  (fc_mid): ModuleList(\n",
      "  )\n",
      "  (fc_final): Linear(in_features=50, out_features=10)\n",
      ")\n",
      "{'lr': 0.10000000000000001, 'epochs': 5, 'batch_size': 50, 'wd': 0.001}\n",
      "Num Params: 39760\n"
     ]
    },
    {
     "data": {
      "application/vnd.jupyter.widget-view+json": {
       "model_id": "2a4e6a3d4ab548de8b58daf427d8a8ae",
       "version_major": 2,
       "version_minor": 0
      },
      "text/html": [
       "<p>Failed to display Jupyter Widget of type <code>HBox</code>.</p>\n",
       "<p>\n",
       "  If you're reading this message in the Jupyter Notebook or JupyterLab Notebook, it may mean\n",
       "  that the widgets JavaScript is still loading. If this message persists, it\n",
       "  likely means that the widgets JavaScript library is either not installed or\n",
       "  not enabled. See the <a href=\"https://ipywidgets.readthedocs.io/en/stable/user_install.html\">Jupyter\n",
       "  Widgets Documentation</a> for setup instructions.\n",
       "</p>\n",
       "<p>\n",
       "  If you're reading this message in another frontend (for example, a static\n",
       "  rendering on GitHub or <a href=\"https://nbviewer.jupyter.org/\">NBViewer</a>),\n",
       "  it may mean that your frontend doesn't currently support widgets.\n",
       "</p>\n"
      ],
      "text/plain": [
       "HBox(children=(IntProgress(value=0, max=5), HTML(value='')))"
      ]
     },
     "metadata": {},
     "output_type": "display_data"
    },
    {
     "name": "stdout",
     "output_type": "stream",
     "text": [
      "MLP(\n",
      "  (fc_initial): Linear(in_features=784, out_features=75)\n",
      "  (fc_mid): ModuleList(\n",
      "  )\n",
      "  (fc_final): Linear(in_features=75, out_features=10)\n",
      ")\n",
      "{'lr': 0.10000000000000001, 'epochs': 5, 'batch_size': 50, 'wd': 0.001}\n",
      "Num Params: 59635\n"
     ]
    },
    {
     "data": {
      "application/vnd.jupyter.widget-view+json": {
       "model_id": "ca4f94ea012349fc858890aaff0ca0ef",
       "version_major": 2,
       "version_minor": 0
      },
      "text/html": [
       "<p>Failed to display Jupyter Widget of type <code>HBox</code>.</p>\n",
       "<p>\n",
       "  If you're reading this message in the Jupyter Notebook or JupyterLab Notebook, it may mean\n",
       "  that the widgets JavaScript is still loading. If this message persists, it\n",
       "  likely means that the widgets JavaScript library is either not installed or\n",
       "  not enabled. See the <a href=\"https://ipywidgets.readthedocs.io/en/stable/user_install.html\">Jupyter\n",
       "  Widgets Documentation</a> for setup instructions.\n",
       "</p>\n",
       "<p>\n",
       "  If you're reading this message in another frontend (for example, a static\n",
       "  rendering on GitHub or <a href=\"https://nbviewer.jupyter.org/\">NBViewer</a>),\n",
       "  it may mean that your frontend doesn't currently support widgets.\n",
       "</p>\n"
      ],
      "text/plain": [
       "HBox(children=(IntProgress(value=0, max=5), HTML(value='')))"
      ]
     },
     "metadata": {},
     "output_type": "display_data"
    },
    {
     "name": "stdout",
     "output_type": "stream",
     "text": [
      "MLP(\n",
      "  (fc_initial): Linear(in_features=784, out_features=100)\n",
      "  (fc_mid): ModuleList(\n",
      "  )\n",
      "  (fc_final): Linear(in_features=100, out_features=10)\n",
      ")\n",
      "{'lr': 0.10000000000000001, 'epochs': 5, 'batch_size': 50, 'wd': 0.001}\n",
      "Num Params: 79510\n"
     ]
    },
    {
     "data": {
      "application/vnd.jupyter.widget-view+json": {
       "model_id": "64ec47bd5bfc4a19803bc2e38e27fdd2",
       "version_major": 2,
       "version_minor": 0
      },
      "text/html": [
       "<p>Failed to display Jupyter Widget of type <code>HBox</code>.</p>\n",
       "<p>\n",
       "  If you're reading this message in the Jupyter Notebook or JupyterLab Notebook, it may mean\n",
       "  that the widgets JavaScript is still loading. If this message persists, it\n",
       "  likely means that the widgets JavaScript library is either not installed or\n",
       "  not enabled. See the <a href=\"https://ipywidgets.readthedocs.io/en/stable/user_install.html\">Jupyter\n",
       "  Widgets Documentation</a> for setup instructions.\n",
       "</p>\n",
       "<p>\n",
       "  If you're reading this message in another frontend (for example, a static\n",
       "  rendering on GitHub or <a href=\"https://nbviewer.jupyter.org/\">NBViewer</a>),\n",
       "  it may mean that your frontend doesn't currently support widgets.\n",
       "</p>\n"
      ],
      "text/plain": [
       "HBox(children=(IntProgress(value=0, max=5), HTML(value='')))"
      ]
     },
     "metadata": {},
     "output_type": "display_data"
    },
    {
     "name": "stdout",
     "output_type": "stream",
     "text": [
      "MLP(\n",
      "  (fc_initial): Linear(in_features=784, out_features=25)\n",
      "  (fc_mid): ModuleList(\n",
      "  )\n",
      "  (fc_final): Linear(in_features=25, out_features=10)\n",
      ")\n",
      "{'lr': 0.050000000000000003, 'epochs': 5, 'batch_size': 50, 'wd': 0.001}\n",
      "Num Params: 19885\n"
     ]
    },
    {
     "data": {
      "application/vnd.jupyter.widget-view+json": {
       "model_id": "b76ed6e3987e471a81d510ecc5deff97",
       "version_major": 2,
       "version_minor": 0
      },
      "text/html": [
       "<p>Failed to display Jupyter Widget of type <code>HBox</code>.</p>\n",
       "<p>\n",
       "  If you're reading this message in the Jupyter Notebook or JupyterLab Notebook, it may mean\n",
       "  that the widgets JavaScript is still loading. If this message persists, it\n",
       "  likely means that the widgets JavaScript library is either not installed or\n",
       "  not enabled. See the <a href=\"https://ipywidgets.readthedocs.io/en/stable/user_install.html\">Jupyter\n",
       "  Widgets Documentation</a> for setup instructions.\n",
       "</p>\n",
       "<p>\n",
       "  If you're reading this message in another frontend (for example, a static\n",
       "  rendering on GitHub or <a href=\"https://nbviewer.jupyter.org/\">NBViewer</a>),\n",
       "  it may mean that your frontend doesn't currently support widgets.\n",
       "</p>\n"
      ],
      "text/plain": [
       "HBox(children=(IntProgress(value=0, max=5), HTML(value='')))"
      ]
     },
     "metadata": {},
     "output_type": "display_data"
    },
    {
     "name": "stdout",
     "output_type": "stream",
     "text": [
      "MLP(\n",
      "  (fc_initial): Linear(in_features=784, out_features=50)\n",
      "  (fc_mid): ModuleList(\n",
      "  )\n",
      "  (fc_final): Linear(in_features=50, out_features=10)\n",
      ")\n",
      "{'lr': 0.050000000000000003, 'epochs': 5, 'batch_size': 50, 'wd': 0.001}\n",
      "Num Params: 39760\n"
     ]
    },
    {
     "data": {
      "application/vnd.jupyter.widget-view+json": {
       "model_id": "035c80cd664442d9afe648471206102c",
       "version_major": 2,
       "version_minor": 0
      },
      "text/html": [
       "<p>Failed to display Jupyter Widget of type <code>HBox</code>.</p>\n",
       "<p>\n",
       "  If you're reading this message in the Jupyter Notebook or JupyterLab Notebook, it may mean\n",
       "  that the widgets JavaScript is still loading. If this message persists, it\n",
       "  likely means that the widgets JavaScript library is either not installed or\n",
       "  not enabled. See the <a href=\"https://ipywidgets.readthedocs.io/en/stable/user_install.html\">Jupyter\n",
       "  Widgets Documentation</a> for setup instructions.\n",
       "</p>\n",
       "<p>\n",
       "  If you're reading this message in another frontend (for example, a static\n",
       "  rendering on GitHub or <a href=\"https://nbviewer.jupyter.org/\">NBViewer</a>),\n",
       "  it may mean that your frontend doesn't currently support widgets.\n",
       "</p>\n"
      ],
      "text/plain": [
       "HBox(children=(IntProgress(value=0, max=5), HTML(value='')))"
      ]
     },
     "metadata": {},
     "output_type": "display_data"
    },
    {
     "name": "stdout",
     "output_type": "stream",
     "text": [
      "MLP(\n",
      "  (fc_initial): Linear(in_features=784, out_features=75)\n",
      "  (fc_mid): ModuleList(\n",
      "  )\n",
      "  (fc_final): Linear(in_features=75, out_features=10)\n",
      ")\n",
      "{'lr': 0.050000000000000003, 'epochs': 5, 'batch_size': 50, 'wd': 0.001}\n",
      "Num Params: 59635\n"
     ]
    },
    {
     "data": {
      "application/vnd.jupyter.widget-view+json": {
       "model_id": "121e5e23c8af435ca1045ea3bff4e8a3",
       "version_major": 2,
       "version_minor": 0
      },
      "text/html": [
       "<p>Failed to display Jupyter Widget of type <code>HBox</code>.</p>\n",
       "<p>\n",
       "  If you're reading this message in the Jupyter Notebook or JupyterLab Notebook, it may mean\n",
       "  that the widgets JavaScript is still loading. If this message persists, it\n",
       "  likely means that the widgets JavaScript library is either not installed or\n",
       "  not enabled. See the <a href=\"https://ipywidgets.readthedocs.io/en/stable/user_install.html\">Jupyter\n",
       "  Widgets Documentation</a> for setup instructions.\n",
       "</p>\n",
       "<p>\n",
       "  If you're reading this message in another frontend (for example, a static\n",
       "  rendering on GitHub or <a href=\"https://nbviewer.jupyter.org/\">NBViewer</a>),\n",
       "  it may mean that your frontend doesn't currently support widgets.\n",
       "</p>\n"
      ],
      "text/plain": [
       "HBox(children=(IntProgress(value=0, max=5), HTML(value='')))"
      ]
     },
     "metadata": {},
     "output_type": "display_data"
    },
    {
     "name": "stdout",
     "output_type": "stream",
     "text": [
      "MLP(\n",
      "  (fc_initial): Linear(in_features=784, out_features=100)\n",
      "  (fc_mid): ModuleList(\n",
      "  )\n",
      "  (fc_final): Linear(in_features=100, out_features=10)\n",
      ")\n",
      "{'lr': 0.050000000000000003, 'epochs': 5, 'batch_size': 50, 'wd': 0.001}\n",
      "Num Params: 79510\n"
     ]
    },
    {
     "data": {
      "application/vnd.jupyter.widget-view+json": {
       "model_id": "84e8f42a8da4403395c0c4a23772e140",
       "version_major": 2,
       "version_minor": 0
      },
      "text/html": [
       "<p>Failed to display Jupyter Widget of type <code>HBox</code>.</p>\n",
       "<p>\n",
       "  If you're reading this message in the Jupyter Notebook or JupyterLab Notebook, it may mean\n",
       "  that the widgets JavaScript is still loading. If this message persists, it\n",
       "  likely means that the widgets JavaScript library is either not installed or\n",
       "  not enabled. See the <a href=\"https://ipywidgets.readthedocs.io/en/stable/user_install.html\">Jupyter\n",
       "  Widgets Documentation</a> for setup instructions.\n",
       "</p>\n",
       "<p>\n",
       "  If you're reading this message in another frontend (for example, a static\n",
       "  rendering on GitHub or <a href=\"https://nbviewer.jupyter.org/\">NBViewer</a>),\n",
       "  it may mean that your frontend doesn't currently support widgets.\n",
       "</p>\n"
      ],
      "text/plain": [
       "HBox(children=(IntProgress(value=0, max=5), HTML(value='')))"
      ]
     },
     "metadata": {},
     "output_type": "display_data"
    },
    {
     "name": "stdout",
     "output_type": "stream",
     "text": [
      "MLP(\n",
      "  (fc_initial): Linear(in_features=784, out_features=25)\n",
      "  (fc_mid): ModuleList(\n",
      "  )\n",
      "  (fc_final): Linear(in_features=25, out_features=10)\n",
      ")\n",
      "{'lr': 0.01, 'epochs': 5, 'batch_size': 50, 'wd': 0.001}\n",
      "Num Params: 19885\n"
     ]
    },
    {
     "data": {
      "application/vnd.jupyter.widget-view+json": {
       "model_id": "f248e96506e84427a52f6f98a9fe4a40",
       "version_major": 2,
       "version_minor": 0
      },
      "text/html": [
       "<p>Failed to display Jupyter Widget of type <code>HBox</code>.</p>\n",
       "<p>\n",
       "  If you're reading this message in the Jupyter Notebook or JupyterLab Notebook, it may mean\n",
       "  that the widgets JavaScript is still loading. If this message persists, it\n",
       "  likely means that the widgets JavaScript library is either not installed or\n",
       "  not enabled. See the <a href=\"https://ipywidgets.readthedocs.io/en/stable/user_install.html\">Jupyter\n",
       "  Widgets Documentation</a> for setup instructions.\n",
       "</p>\n",
       "<p>\n",
       "  If you're reading this message in another frontend (for example, a static\n",
       "  rendering on GitHub or <a href=\"https://nbviewer.jupyter.org/\">NBViewer</a>),\n",
       "  it may mean that your frontend doesn't currently support widgets.\n",
       "</p>\n"
      ],
      "text/plain": [
       "HBox(children=(IntProgress(value=0, max=5), HTML(value='')))"
      ]
     },
     "metadata": {},
     "output_type": "display_data"
    },
    {
     "name": "stdout",
     "output_type": "stream",
     "text": [
      "MLP(\n",
      "  (fc_initial): Linear(in_features=784, out_features=50)\n",
      "  (fc_mid): ModuleList(\n",
      "  )\n",
      "  (fc_final): Linear(in_features=50, out_features=10)\n",
      ")\n",
      "{'lr': 0.01, 'epochs': 5, 'batch_size': 50, 'wd': 0.001}\n",
      "Num Params: 39760\n"
     ]
    },
    {
     "data": {
      "application/vnd.jupyter.widget-view+json": {
       "model_id": "146ef7d43e7642d9b0763800b106c007",
       "version_major": 2,
       "version_minor": 0
      },
      "text/html": [
       "<p>Failed to display Jupyter Widget of type <code>HBox</code>.</p>\n",
       "<p>\n",
       "  If you're reading this message in the Jupyter Notebook or JupyterLab Notebook, it may mean\n",
       "  that the widgets JavaScript is still loading. If this message persists, it\n",
       "  likely means that the widgets JavaScript library is either not installed or\n",
       "  not enabled. See the <a href=\"https://ipywidgets.readthedocs.io/en/stable/user_install.html\">Jupyter\n",
       "  Widgets Documentation</a> for setup instructions.\n",
       "</p>\n",
       "<p>\n",
       "  If you're reading this message in another frontend (for example, a static\n",
       "  rendering on GitHub or <a href=\"https://nbviewer.jupyter.org/\">NBViewer</a>),\n",
       "  it may mean that your frontend doesn't currently support widgets.\n",
       "</p>\n"
      ],
      "text/plain": [
       "HBox(children=(IntProgress(value=0, max=5), HTML(value='')))"
      ]
     },
     "metadata": {},
     "output_type": "display_data"
    },
    {
     "name": "stdout",
     "output_type": "stream",
     "text": [
      "MLP(\n",
      "  (fc_initial): Linear(in_features=784, out_features=75)\n",
      "  (fc_mid): ModuleList(\n",
      "  )\n",
      "  (fc_final): Linear(in_features=75, out_features=10)\n",
      ")\n",
      "{'lr': 0.01, 'epochs': 5, 'batch_size': 50, 'wd': 0.001}\n",
      "Num Params: 59635\n"
     ]
    },
    {
     "data": {
      "application/vnd.jupyter.widget-view+json": {
       "model_id": "06ecc6602f9142fda3880fff1098051c",
       "version_major": 2,
       "version_minor": 0
      },
      "text/html": [
       "<p>Failed to display Jupyter Widget of type <code>HBox</code>.</p>\n",
       "<p>\n",
       "  If you're reading this message in the Jupyter Notebook or JupyterLab Notebook, it may mean\n",
       "  that the widgets JavaScript is still loading. If this message persists, it\n",
       "  likely means that the widgets JavaScript library is either not installed or\n",
       "  not enabled. See the <a href=\"https://ipywidgets.readthedocs.io/en/stable/user_install.html\">Jupyter\n",
       "  Widgets Documentation</a> for setup instructions.\n",
       "</p>\n",
       "<p>\n",
       "  If you're reading this message in another frontend (for example, a static\n",
       "  rendering on GitHub or <a href=\"https://nbviewer.jupyter.org/\">NBViewer</a>),\n",
       "  it may mean that your frontend doesn't currently support widgets.\n",
       "</p>\n"
      ],
      "text/plain": [
       "HBox(children=(IntProgress(value=0, max=5), HTML(value='')))"
      ]
     },
     "metadata": {},
     "output_type": "display_data"
    },
    {
     "name": "stdout",
     "output_type": "stream",
     "text": [
      "MLP(\n",
      "  (fc_initial): Linear(in_features=784, out_features=100)\n",
      "  (fc_mid): ModuleList(\n",
      "  )\n",
      "  (fc_final): Linear(in_features=100, out_features=10)\n",
      ")\n",
      "{'lr': 0.01, 'epochs': 5, 'batch_size': 50, 'wd': 0.001}\n",
      "Num Params: 79510\n"
     ]
    },
    {
     "data": {
      "application/vnd.jupyter.widget-view+json": {
       "model_id": "4b328a6d2f344c609d5994d2c81ee160",
       "version_major": 2,
       "version_minor": 0
      },
      "text/html": [
       "<p>Failed to display Jupyter Widget of type <code>HBox</code>.</p>\n",
       "<p>\n",
       "  If you're reading this message in the Jupyter Notebook or JupyterLab Notebook, it may mean\n",
       "  that the widgets JavaScript is still loading. If this message persists, it\n",
       "  likely means that the widgets JavaScript library is either not installed or\n",
       "  not enabled. See the <a href=\"https://ipywidgets.readthedocs.io/en/stable/user_install.html\">Jupyter\n",
       "  Widgets Documentation</a> for setup instructions.\n",
       "</p>\n",
       "<p>\n",
       "  If you're reading this message in another frontend (for example, a static\n",
       "  rendering on GitHub or <a href=\"https://nbviewer.jupyter.org/\">NBViewer</a>),\n",
       "  it may mean that your frontend doesn't currently support widgets.\n",
       "</p>\n"
      ],
      "text/plain": [
       "HBox(children=(IntProgress(value=0, max=5), HTML(value='')))"
      ]
     },
     "metadata": {},
     "output_type": "display_data"
    },
    {
     "name": "stdout",
     "output_type": "stream",
     "text": [
      "MLP(\n",
      "  (fc_initial): Linear(in_features=784, out_features=25)\n",
      "  (fc_mid): ModuleList(\n",
      "  )\n",
      "  (fc_final): Linear(in_features=25, out_features=10)\n",
      ")\n",
      "{'lr': 0.10000000000000001, 'epochs': 5, 'batch_size': 100, 'wd': 0.001}\n",
      "Num Params: 19885\n"
     ]
    },
    {
     "data": {
      "application/vnd.jupyter.widget-view+json": {
       "model_id": "2f290904c05142c8b7ff6712681e9e94",
       "version_major": 2,
       "version_minor": 0
      },
      "text/html": [
       "<p>Failed to display Jupyter Widget of type <code>HBox</code>.</p>\n",
       "<p>\n",
       "  If you're reading this message in the Jupyter Notebook or JupyterLab Notebook, it may mean\n",
       "  that the widgets JavaScript is still loading. If this message persists, it\n",
       "  likely means that the widgets JavaScript library is either not installed or\n",
       "  not enabled. See the <a href=\"https://ipywidgets.readthedocs.io/en/stable/user_install.html\">Jupyter\n",
       "  Widgets Documentation</a> for setup instructions.\n",
       "</p>\n",
       "<p>\n",
       "  If you're reading this message in another frontend (for example, a static\n",
       "  rendering on GitHub or <a href=\"https://nbviewer.jupyter.org/\">NBViewer</a>),\n",
       "  it may mean that your frontend doesn't currently support widgets.\n",
       "</p>\n"
      ],
      "text/plain": [
       "HBox(children=(IntProgress(value=0, max=5), HTML(value='')))"
      ]
     },
     "metadata": {},
     "output_type": "display_data"
    },
    {
     "name": "stdout",
     "output_type": "stream",
     "text": [
      "MLP(\n",
      "  (fc_initial): Linear(in_features=784, out_features=50)\n",
      "  (fc_mid): ModuleList(\n",
      "  )\n",
      "  (fc_final): Linear(in_features=50, out_features=10)\n",
      ")\n",
      "{'lr': 0.10000000000000001, 'epochs': 5, 'batch_size': 100, 'wd': 0.001}\n",
      "Num Params: 39760\n"
     ]
    },
    {
     "data": {
      "application/vnd.jupyter.widget-view+json": {
       "model_id": "35a8b180e6db4ef090802741b65df3de",
       "version_major": 2,
       "version_minor": 0
      },
      "text/html": [
       "<p>Failed to display Jupyter Widget of type <code>HBox</code>.</p>\n",
       "<p>\n",
       "  If you're reading this message in the Jupyter Notebook or JupyterLab Notebook, it may mean\n",
       "  that the widgets JavaScript is still loading. If this message persists, it\n",
       "  likely means that the widgets JavaScript library is either not installed or\n",
       "  not enabled. See the <a href=\"https://ipywidgets.readthedocs.io/en/stable/user_install.html\">Jupyter\n",
       "  Widgets Documentation</a> for setup instructions.\n",
       "</p>\n",
       "<p>\n",
       "  If you're reading this message in another frontend (for example, a static\n",
       "  rendering on GitHub or <a href=\"https://nbviewer.jupyter.org/\">NBViewer</a>),\n",
       "  it may mean that your frontend doesn't currently support widgets.\n",
       "</p>\n"
      ],
      "text/plain": [
       "HBox(children=(IntProgress(value=0, max=5), HTML(value='')))"
      ]
     },
     "metadata": {},
     "output_type": "display_data"
    },
    {
     "name": "stdout",
     "output_type": "stream",
     "text": [
      "MLP(\n",
      "  (fc_initial): Linear(in_features=784, out_features=75)\n",
      "  (fc_mid): ModuleList(\n",
      "  )\n",
      "  (fc_final): Linear(in_features=75, out_features=10)\n",
      ")\n",
      "{'lr': 0.10000000000000001, 'epochs': 5, 'batch_size': 100, 'wd': 0.001}\n",
      "Num Params: 59635\n"
     ]
    },
    {
     "data": {
      "application/vnd.jupyter.widget-view+json": {
       "model_id": "debc3ebb83ba460b99877e82b93e4f90",
       "version_major": 2,
       "version_minor": 0
      },
      "text/html": [
       "<p>Failed to display Jupyter Widget of type <code>HBox</code>.</p>\n",
       "<p>\n",
       "  If you're reading this message in the Jupyter Notebook or JupyterLab Notebook, it may mean\n",
       "  that the widgets JavaScript is still loading. If this message persists, it\n",
       "  likely means that the widgets JavaScript library is either not installed or\n",
       "  not enabled. See the <a href=\"https://ipywidgets.readthedocs.io/en/stable/user_install.html\">Jupyter\n",
       "  Widgets Documentation</a> for setup instructions.\n",
       "</p>\n",
       "<p>\n",
       "  If you're reading this message in another frontend (for example, a static\n",
       "  rendering on GitHub or <a href=\"https://nbviewer.jupyter.org/\">NBViewer</a>),\n",
       "  it may mean that your frontend doesn't currently support widgets.\n",
       "</p>\n"
      ],
      "text/plain": [
       "HBox(children=(IntProgress(value=0, max=5), HTML(value='')))"
      ]
     },
     "metadata": {},
     "output_type": "display_data"
    },
    {
     "name": "stdout",
     "output_type": "stream",
     "text": [
      "MLP(\n",
      "  (fc_initial): Linear(in_features=784, out_features=100)\n",
      "  (fc_mid): ModuleList(\n",
      "  )\n",
      "  (fc_final): Linear(in_features=100, out_features=10)\n",
      ")\n",
      "{'lr': 0.10000000000000001, 'epochs': 5, 'batch_size': 100, 'wd': 0.001}\n",
      "Num Params: 79510\n"
     ]
    },
    {
     "data": {
      "application/vnd.jupyter.widget-view+json": {
       "model_id": "c2fd77b998ef4f27b8beac945a241706",
       "version_major": 2,
       "version_minor": 0
      },
      "text/html": [
       "<p>Failed to display Jupyter Widget of type <code>HBox</code>.</p>\n",
       "<p>\n",
       "  If you're reading this message in the Jupyter Notebook or JupyterLab Notebook, it may mean\n",
       "  that the widgets JavaScript is still loading. If this message persists, it\n",
       "  likely means that the widgets JavaScript library is either not installed or\n",
       "  not enabled. See the <a href=\"https://ipywidgets.readthedocs.io/en/stable/user_install.html\">Jupyter\n",
       "  Widgets Documentation</a> for setup instructions.\n",
       "</p>\n",
       "<p>\n",
       "  If you're reading this message in another frontend (for example, a static\n",
       "  rendering on GitHub or <a href=\"https://nbviewer.jupyter.org/\">NBViewer</a>),\n",
       "  it may mean that your frontend doesn't currently support widgets.\n",
       "</p>\n"
      ],
      "text/plain": [
       "HBox(children=(IntProgress(value=0, max=5), HTML(value='')))"
      ]
     },
     "metadata": {},
     "output_type": "display_data"
    },
    {
     "name": "stdout",
     "output_type": "stream",
     "text": [
      "MLP(\n",
      "  (fc_initial): Linear(in_features=784, out_features=25)\n",
      "  (fc_mid): ModuleList(\n",
      "  )\n",
      "  (fc_final): Linear(in_features=25, out_features=10)\n",
      ")\n",
      "{'lr': 0.050000000000000003, 'epochs': 5, 'batch_size': 100, 'wd': 0.001}\n",
      "Num Params: 19885\n"
     ]
    },
    {
     "data": {
      "application/vnd.jupyter.widget-view+json": {
       "model_id": "6c3a1338e2264b049cee2a9087677a1a",
       "version_major": 2,
       "version_minor": 0
      },
      "text/html": [
       "<p>Failed to display Jupyter Widget of type <code>HBox</code>.</p>\n",
       "<p>\n",
       "  If you're reading this message in the Jupyter Notebook or JupyterLab Notebook, it may mean\n",
       "  that the widgets JavaScript is still loading. If this message persists, it\n",
       "  likely means that the widgets JavaScript library is either not installed or\n",
       "  not enabled. See the <a href=\"https://ipywidgets.readthedocs.io/en/stable/user_install.html\">Jupyter\n",
       "  Widgets Documentation</a> for setup instructions.\n",
       "</p>\n",
       "<p>\n",
       "  If you're reading this message in another frontend (for example, a static\n",
       "  rendering on GitHub or <a href=\"https://nbviewer.jupyter.org/\">NBViewer</a>),\n",
       "  it may mean that your frontend doesn't currently support widgets.\n",
       "</p>\n"
      ],
      "text/plain": [
       "HBox(children=(IntProgress(value=0, max=5), HTML(value='')))"
      ]
     },
     "metadata": {},
     "output_type": "display_data"
    },
    {
     "name": "stdout",
     "output_type": "stream",
     "text": [
      "MLP(\n",
      "  (fc_initial): Linear(in_features=784, out_features=50)\n",
      "  (fc_mid): ModuleList(\n",
      "  )\n",
      "  (fc_final): Linear(in_features=50, out_features=10)\n",
      ")\n",
      "{'lr': 0.050000000000000003, 'epochs': 5, 'batch_size': 100, 'wd': 0.001}\n",
      "Num Params: 39760\n"
     ]
    },
    {
     "data": {
      "application/vnd.jupyter.widget-view+json": {
       "model_id": "2074c32c1b4f4ec6b69e8666ab7383aa",
       "version_major": 2,
       "version_minor": 0
      },
      "text/html": [
       "<p>Failed to display Jupyter Widget of type <code>HBox</code>.</p>\n",
       "<p>\n",
       "  If you're reading this message in the Jupyter Notebook or JupyterLab Notebook, it may mean\n",
       "  that the widgets JavaScript is still loading. If this message persists, it\n",
       "  likely means that the widgets JavaScript library is either not installed or\n",
       "  not enabled. See the <a href=\"https://ipywidgets.readthedocs.io/en/stable/user_install.html\">Jupyter\n",
       "  Widgets Documentation</a> for setup instructions.\n",
       "</p>\n",
       "<p>\n",
       "  If you're reading this message in another frontend (for example, a static\n",
       "  rendering on GitHub or <a href=\"https://nbviewer.jupyter.org/\">NBViewer</a>),\n",
       "  it may mean that your frontend doesn't currently support widgets.\n",
       "</p>\n"
      ],
      "text/plain": [
       "HBox(children=(IntProgress(value=0, max=5), HTML(value='')))"
      ]
     },
     "metadata": {},
     "output_type": "display_data"
    },
    {
     "name": "stdout",
     "output_type": "stream",
     "text": [
      "MLP(\n",
      "  (fc_initial): Linear(in_features=784, out_features=75)\n",
      "  (fc_mid): ModuleList(\n",
      "  )\n",
      "  (fc_final): Linear(in_features=75, out_features=10)\n",
      ")\n",
      "{'lr': 0.050000000000000003, 'epochs': 5, 'batch_size': 100, 'wd': 0.001}\n",
      "Num Params: 59635\n"
     ]
    },
    {
     "data": {
      "application/vnd.jupyter.widget-view+json": {
       "model_id": "ff734eba138b41d4a8ea3388127b4c8f",
       "version_major": 2,
       "version_minor": 0
      },
      "text/html": [
       "<p>Failed to display Jupyter Widget of type <code>HBox</code>.</p>\n",
       "<p>\n",
       "  If you're reading this message in the Jupyter Notebook or JupyterLab Notebook, it may mean\n",
       "  that the widgets JavaScript is still loading. If this message persists, it\n",
       "  likely means that the widgets JavaScript library is either not installed or\n",
       "  not enabled. See the <a href=\"https://ipywidgets.readthedocs.io/en/stable/user_install.html\">Jupyter\n",
       "  Widgets Documentation</a> for setup instructions.\n",
       "</p>\n",
       "<p>\n",
       "  If you're reading this message in another frontend (for example, a static\n",
       "  rendering on GitHub or <a href=\"https://nbviewer.jupyter.org/\">NBViewer</a>),\n",
       "  it may mean that your frontend doesn't currently support widgets.\n",
       "</p>\n"
      ],
      "text/plain": [
       "HBox(children=(IntProgress(value=0, max=5), HTML(value='')))"
      ]
     },
     "metadata": {},
     "output_type": "display_data"
    },
    {
     "name": "stdout",
     "output_type": "stream",
     "text": [
      "MLP(\n",
      "  (fc_initial): Linear(in_features=784, out_features=100)\n",
      "  (fc_mid): ModuleList(\n",
      "  )\n",
      "  (fc_final): Linear(in_features=100, out_features=10)\n",
      ")\n",
      "{'lr': 0.050000000000000003, 'epochs': 5, 'batch_size': 100, 'wd': 0.001}\n",
      "Num Params: 79510\n"
     ]
    },
    {
     "data": {
      "application/vnd.jupyter.widget-view+json": {
       "model_id": "b935823440774eb78b778c609fad73cf",
       "version_major": 2,
       "version_minor": 0
      },
      "text/html": [
       "<p>Failed to display Jupyter Widget of type <code>HBox</code>.</p>\n",
       "<p>\n",
       "  If you're reading this message in the Jupyter Notebook or JupyterLab Notebook, it may mean\n",
       "  that the widgets JavaScript is still loading. If this message persists, it\n",
       "  likely means that the widgets JavaScript library is either not installed or\n",
       "  not enabled. See the <a href=\"https://ipywidgets.readthedocs.io/en/stable/user_install.html\">Jupyter\n",
       "  Widgets Documentation</a> for setup instructions.\n",
       "</p>\n",
       "<p>\n",
       "  If you're reading this message in another frontend (for example, a static\n",
       "  rendering on GitHub or <a href=\"https://nbviewer.jupyter.org/\">NBViewer</a>),\n",
       "  it may mean that your frontend doesn't currently support widgets.\n",
       "</p>\n"
      ],
      "text/plain": [
       "HBox(children=(IntProgress(value=0, max=5), HTML(value='')))"
      ]
     },
     "metadata": {},
     "output_type": "display_data"
    },
    {
     "name": "stdout",
     "output_type": "stream",
     "text": [
      "MLP(\n",
      "  (fc_initial): Linear(in_features=784, out_features=25)\n",
      "  (fc_mid): ModuleList(\n",
      "  )\n",
      "  (fc_final): Linear(in_features=25, out_features=10)\n",
      ")\n",
      "{'lr': 0.01, 'epochs': 5, 'batch_size': 100, 'wd': 0.001}\n",
      "Num Params: 19885\n"
     ]
    },
    {
     "data": {
      "application/vnd.jupyter.widget-view+json": {
       "model_id": "34a5b3a5917e45c8bbdef21e5f391b9a",
       "version_major": 2,
       "version_minor": 0
      },
      "text/html": [
       "<p>Failed to display Jupyter Widget of type <code>HBox</code>.</p>\n",
       "<p>\n",
       "  If you're reading this message in the Jupyter Notebook or JupyterLab Notebook, it may mean\n",
       "  that the widgets JavaScript is still loading. If this message persists, it\n",
       "  likely means that the widgets JavaScript library is either not installed or\n",
       "  not enabled. See the <a href=\"https://ipywidgets.readthedocs.io/en/stable/user_install.html\">Jupyter\n",
       "  Widgets Documentation</a> for setup instructions.\n",
       "</p>\n",
       "<p>\n",
       "  If you're reading this message in another frontend (for example, a static\n",
       "  rendering on GitHub or <a href=\"https://nbviewer.jupyter.org/\">NBViewer</a>),\n",
       "  it may mean that your frontend doesn't currently support widgets.\n",
       "</p>\n"
      ],
      "text/plain": [
       "HBox(children=(IntProgress(value=0, max=5), HTML(value='')))"
      ]
     },
     "metadata": {},
     "output_type": "display_data"
    },
    {
     "name": "stdout",
     "output_type": "stream",
     "text": [
      "MLP(\n",
      "  (fc_initial): Linear(in_features=784, out_features=50)\n",
      "  (fc_mid): ModuleList(\n",
      "  )\n",
      "  (fc_final): Linear(in_features=50, out_features=10)\n",
      ")\n",
      "{'lr': 0.01, 'epochs': 5, 'batch_size': 100, 'wd': 0.001}\n",
      "Num Params: 39760\n"
     ]
    },
    {
     "data": {
      "application/vnd.jupyter.widget-view+json": {
       "model_id": "ea4a39c1799a4d248299c998b5210713",
       "version_major": 2,
       "version_minor": 0
      },
      "text/html": [
       "<p>Failed to display Jupyter Widget of type <code>HBox</code>.</p>\n",
       "<p>\n",
       "  If you're reading this message in the Jupyter Notebook or JupyterLab Notebook, it may mean\n",
       "  that the widgets JavaScript is still loading. If this message persists, it\n",
       "  likely means that the widgets JavaScript library is either not installed or\n",
       "  not enabled. See the <a href=\"https://ipywidgets.readthedocs.io/en/stable/user_install.html\">Jupyter\n",
       "  Widgets Documentation</a> for setup instructions.\n",
       "</p>\n",
       "<p>\n",
       "  If you're reading this message in another frontend (for example, a static\n",
       "  rendering on GitHub or <a href=\"https://nbviewer.jupyter.org/\">NBViewer</a>),\n",
       "  it may mean that your frontend doesn't currently support widgets.\n",
       "</p>\n"
      ],
      "text/plain": [
       "HBox(children=(IntProgress(value=0, max=5), HTML(value='')))"
      ]
     },
     "metadata": {},
     "output_type": "display_data"
    },
    {
     "name": "stdout",
     "output_type": "stream",
     "text": [
      "MLP(\n",
      "  (fc_initial): Linear(in_features=784, out_features=75)\n",
      "  (fc_mid): ModuleList(\n",
      "  )\n",
      "  (fc_final): Linear(in_features=75, out_features=10)\n",
      ")\n",
      "{'lr': 0.01, 'epochs': 5, 'batch_size': 100, 'wd': 0.001}\n",
      "Num Params: 59635\n"
     ]
    },
    {
     "data": {
      "application/vnd.jupyter.widget-view+json": {
       "model_id": "beeaff60ff20483d875b889ae9042fb1",
       "version_major": 2,
       "version_minor": 0
      },
      "text/html": [
       "<p>Failed to display Jupyter Widget of type <code>HBox</code>.</p>\n",
       "<p>\n",
       "  If you're reading this message in the Jupyter Notebook or JupyterLab Notebook, it may mean\n",
       "  that the widgets JavaScript is still loading. If this message persists, it\n",
       "  likely means that the widgets JavaScript library is either not installed or\n",
       "  not enabled. See the <a href=\"https://ipywidgets.readthedocs.io/en/stable/user_install.html\">Jupyter\n",
       "  Widgets Documentation</a> for setup instructions.\n",
       "</p>\n",
       "<p>\n",
       "  If you're reading this message in another frontend (for example, a static\n",
       "  rendering on GitHub or <a href=\"https://nbviewer.jupyter.org/\">NBViewer</a>),\n",
       "  it may mean that your frontend doesn't currently support widgets.\n",
       "</p>\n"
      ],
      "text/plain": [
       "HBox(children=(IntProgress(value=0, max=5), HTML(value='')))"
      ]
     },
     "metadata": {},
     "output_type": "display_data"
    },
    {
     "name": "stdout",
     "output_type": "stream",
     "text": [
      "MLP(\n",
      "  (fc_initial): Linear(in_features=784, out_features=100)\n",
      "  (fc_mid): ModuleList(\n",
      "  )\n",
      "  (fc_final): Linear(in_features=100, out_features=10)\n",
      ")\n",
      "{'lr': 0.01, 'epochs': 5, 'batch_size': 100, 'wd': 0.001}\n",
      "Num Params: 79510\n"
     ]
    },
    {
     "data": {
      "application/vnd.jupyter.widget-view+json": {
       "model_id": "a681245027e94a60bcecdef5197efb56",
       "version_major": 2,
       "version_minor": 0
      },
      "text/html": [
       "<p>Failed to display Jupyter Widget of type <code>HBox</code>.</p>\n",
       "<p>\n",
       "  If you're reading this message in the Jupyter Notebook or JupyterLab Notebook, it may mean\n",
       "  that the widgets JavaScript is still loading. If this message persists, it\n",
       "  likely means that the widgets JavaScript library is either not installed or\n",
       "  not enabled. See the <a href=\"https://ipywidgets.readthedocs.io/en/stable/user_install.html\">Jupyter\n",
       "  Widgets Documentation</a> for setup instructions.\n",
       "</p>\n",
       "<p>\n",
       "  If you're reading this message in another frontend (for example, a static\n",
       "  rendering on GitHub or <a href=\"https://nbviewer.jupyter.org/\">NBViewer</a>),\n",
       "  it may mean that your frontend doesn't currently support widgets.\n",
       "</p>\n"
      ],
      "text/plain": [
       "HBox(children=(IntProgress(value=0, max=5), HTML(value='')))"
      ]
     },
     "metadata": {},
     "output_type": "display_data"
    },
    {
     "name": "stdout",
     "output_type": "stream",
     "text": [
      "MLP(\n",
      "  (fc_initial): Linear(in_features=784, out_features=25)\n",
      "  (fc_mid): ModuleList(\n",
      "  )\n",
      "  (fc_final): Linear(in_features=25, out_features=10)\n",
      ")\n",
      "{'lr': 0.10000000000000001, 'epochs': 5, 'batch_size': 200, 'wd': 0.001}\n",
      "Num Params: 19885\n"
     ]
    },
    {
     "data": {
      "application/vnd.jupyter.widget-view+json": {
       "model_id": "9b2ebd73d538481d800f4f3fa45fe1d0",
       "version_major": 2,
       "version_minor": 0
      },
      "text/html": [
       "<p>Failed to display Jupyter Widget of type <code>HBox</code>.</p>\n",
       "<p>\n",
       "  If you're reading this message in the Jupyter Notebook or JupyterLab Notebook, it may mean\n",
       "  that the widgets JavaScript is still loading. If this message persists, it\n",
       "  likely means that the widgets JavaScript library is either not installed or\n",
       "  not enabled. See the <a href=\"https://ipywidgets.readthedocs.io/en/stable/user_install.html\">Jupyter\n",
       "  Widgets Documentation</a> for setup instructions.\n",
       "</p>\n",
       "<p>\n",
       "  If you're reading this message in another frontend (for example, a static\n",
       "  rendering on GitHub or <a href=\"https://nbviewer.jupyter.org/\">NBViewer</a>),\n",
       "  it may mean that your frontend doesn't currently support widgets.\n",
       "</p>\n"
      ],
      "text/plain": [
       "HBox(children=(IntProgress(value=0, max=5), HTML(value='')))"
      ]
     },
     "metadata": {},
     "output_type": "display_data"
    },
    {
     "name": "stdout",
     "output_type": "stream",
     "text": [
      "MLP(\n",
      "  (fc_initial): Linear(in_features=784, out_features=50)\n",
      "  (fc_mid): ModuleList(\n",
      "  )\n",
      "  (fc_final): Linear(in_features=50, out_features=10)\n",
      ")\n",
      "{'lr': 0.10000000000000001, 'epochs': 5, 'batch_size': 200, 'wd': 0.001}\n",
      "Num Params: 39760\n"
     ]
    },
    {
     "data": {
      "application/vnd.jupyter.widget-view+json": {
       "model_id": "37fecf888b77438abc2a5370b19ba60a",
       "version_major": 2,
       "version_minor": 0
      },
      "text/html": [
       "<p>Failed to display Jupyter Widget of type <code>HBox</code>.</p>\n",
       "<p>\n",
       "  If you're reading this message in the Jupyter Notebook or JupyterLab Notebook, it may mean\n",
       "  that the widgets JavaScript is still loading. If this message persists, it\n",
       "  likely means that the widgets JavaScript library is either not installed or\n",
       "  not enabled. See the <a href=\"https://ipywidgets.readthedocs.io/en/stable/user_install.html\">Jupyter\n",
       "  Widgets Documentation</a> for setup instructions.\n",
       "</p>\n",
       "<p>\n",
       "  If you're reading this message in another frontend (for example, a static\n",
       "  rendering on GitHub or <a href=\"https://nbviewer.jupyter.org/\">NBViewer</a>),\n",
       "  it may mean that your frontend doesn't currently support widgets.\n",
       "</p>\n"
      ],
      "text/plain": [
       "HBox(children=(IntProgress(value=0, max=5), HTML(value='')))"
      ]
     },
     "metadata": {},
     "output_type": "display_data"
    },
    {
     "name": "stdout",
     "output_type": "stream",
     "text": [
      "MLP(\n",
      "  (fc_initial): Linear(in_features=784, out_features=75)\n",
      "  (fc_mid): ModuleList(\n",
      "  )\n",
      "  (fc_final): Linear(in_features=75, out_features=10)\n",
      ")\n",
      "{'lr': 0.10000000000000001, 'epochs': 5, 'batch_size': 200, 'wd': 0.001}\n",
      "Num Params: 59635\n"
     ]
    },
    {
     "data": {
      "application/vnd.jupyter.widget-view+json": {
       "model_id": "a162c51549e04780a9cf7fc6654bd2a5",
       "version_major": 2,
       "version_minor": 0
      },
      "text/html": [
       "<p>Failed to display Jupyter Widget of type <code>HBox</code>.</p>\n",
       "<p>\n",
       "  If you're reading this message in the Jupyter Notebook or JupyterLab Notebook, it may mean\n",
       "  that the widgets JavaScript is still loading. If this message persists, it\n",
       "  likely means that the widgets JavaScript library is either not installed or\n",
       "  not enabled. See the <a href=\"https://ipywidgets.readthedocs.io/en/stable/user_install.html\">Jupyter\n",
       "  Widgets Documentation</a> for setup instructions.\n",
       "</p>\n",
       "<p>\n",
       "  If you're reading this message in another frontend (for example, a static\n",
       "  rendering on GitHub or <a href=\"https://nbviewer.jupyter.org/\">NBViewer</a>),\n",
       "  it may mean that your frontend doesn't currently support widgets.\n",
       "</p>\n"
      ],
      "text/plain": [
       "HBox(children=(IntProgress(value=0, max=5), HTML(value='')))"
      ]
     },
     "metadata": {},
     "output_type": "display_data"
    },
    {
     "name": "stdout",
     "output_type": "stream",
     "text": [
      "MLP(\n",
      "  (fc_initial): Linear(in_features=784, out_features=100)\n",
      "  (fc_mid): ModuleList(\n",
      "  )\n",
      "  (fc_final): Linear(in_features=100, out_features=10)\n",
      ")\n",
      "{'lr': 0.10000000000000001, 'epochs': 5, 'batch_size': 200, 'wd': 0.001}\n",
      "Num Params: 79510\n"
     ]
    },
    {
     "data": {
      "application/vnd.jupyter.widget-view+json": {
       "model_id": "d58ba04400b249689c8c66981ddba7be",
       "version_major": 2,
       "version_minor": 0
      },
      "text/html": [
       "<p>Failed to display Jupyter Widget of type <code>HBox</code>.</p>\n",
       "<p>\n",
       "  If you're reading this message in the Jupyter Notebook or JupyterLab Notebook, it may mean\n",
       "  that the widgets JavaScript is still loading. If this message persists, it\n",
       "  likely means that the widgets JavaScript library is either not installed or\n",
       "  not enabled. See the <a href=\"https://ipywidgets.readthedocs.io/en/stable/user_install.html\">Jupyter\n",
       "  Widgets Documentation</a> for setup instructions.\n",
       "</p>\n",
       "<p>\n",
       "  If you're reading this message in another frontend (for example, a static\n",
       "  rendering on GitHub or <a href=\"https://nbviewer.jupyter.org/\">NBViewer</a>),\n",
       "  it may mean that your frontend doesn't currently support widgets.\n",
       "</p>\n"
      ],
      "text/plain": [
       "HBox(children=(IntProgress(value=0, max=5), HTML(value='')))"
      ]
     },
     "metadata": {},
     "output_type": "display_data"
    },
    {
     "name": "stdout",
     "output_type": "stream",
     "text": [
      "MLP(\n",
      "  (fc_initial): Linear(in_features=784, out_features=25)\n",
      "  (fc_mid): ModuleList(\n",
      "  )\n",
      "  (fc_final): Linear(in_features=25, out_features=10)\n",
      ")\n",
      "{'lr': 0.050000000000000003, 'epochs': 5, 'batch_size': 200, 'wd': 0.001}\n",
      "Num Params: 19885\n"
     ]
    },
    {
     "data": {
      "application/vnd.jupyter.widget-view+json": {
       "model_id": "cddc0916b1e44cc3bd5c8aabbaad8a9d",
       "version_major": 2,
       "version_minor": 0
      },
      "text/html": [
       "<p>Failed to display Jupyter Widget of type <code>HBox</code>.</p>\n",
       "<p>\n",
       "  If you're reading this message in the Jupyter Notebook or JupyterLab Notebook, it may mean\n",
       "  that the widgets JavaScript is still loading. If this message persists, it\n",
       "  likely means that the widgets JavaScript library is either not installed or\n",
       "  not enabled. See the <a href=\"https://ipywidgets.readthedocs.io/en/stable/user_install.html\">Jupyter\n",
       "  Widgets Documentation</a> for setup instructions.\n",
       "</p>\n",
       "<p>\n",
       "  If you're reading this message in another frontend (for example, a static\n",
       "  rendering on GitHub or <a href=\"https://nbviewer.jupyter.org/\">NBViewer</a>),\n",
       "  it may mean that your frontend doesn't currently support widgets.\n",
       "</p>\n"
      ],
      "text/plain": [
       "HBox(children=(IntProgress(value=0, max=5), HTML(value='')))"
      ]
     },
     "metadata": {},
     "output_type": "display_data"
    },
    {
     "name": "stdout",
     "output_type": "stream",
     "text": [
      "MLP(\n",
      "  (fc_initial): Linear(in_features=784, out_features=50)\n",
      "  (fc_mid): ModuleList(\n",
      "  )\n",
      "  (fc_final): Linear(in_features=50, out_features=10)\n",
      ")\n",
      "{'lr': 0.050000000000000003, 'epochs': 5, 'batch_size': 200, 'wd': 0.001}\n",
      "Num Params: 39760\n"
     ]
    },
    {
     "data": {
      "application/vnd.jupyter.widget-view+json": {
       "model_id": "ff93e912ce7248c3a37ca60e8f3927c9",
       "version_major": 2,
       "version_minor": 0
      },
      "text/html": [
       "<p>Failed to display Jupyter Widget of type <code>HBox</code>.</p>\n",
       "<p>\n",
       "  If you're reading this message in the Jupyter Notebook or JupyterLab Notebook, it may mean\n",
       "  that the widgets JavaScript is still loading. If this message persists, it\n",
       "  likely means that the widgets JavaScript library is either not installed or\n",
       "  not enabled. See the <a href=\"https://ipywidgets.readthedocs.io/en/stable/user_install.html\">Jupyter\n",
       "  Widgets Documentation</a> for setup instructions.\n",
       "</p>\n",
       "<p>\n",
       "  If you're reading this message in another frontend (for example, a static\n",
       "  rendering on GitHub or <a href=\"https://nbviewer.jupyter.org/\">NBViewer</a>),\n",
       "  it may mean that your frontend doesn't currently support widgets.\n",
       "</p>\n"
      ],
      "text/plain": [
       "HBox(children=(IntProgress(value=0, max=5), HTML(value='')))"
      ]
     },
     "metadata": {},
     "output_type": "display_data"
    },
    {
     "name": "stdout",
     "output_type": "stream",
     "text": [
      "MLP(\n",
      "  (fc_initial): Linear(in_features=784, out_features=75)\n",
      "  (fc_mid): ModuleList(\n",
      "  )\n",
      "  (fc_final): Linear(in_features=75, out_features=10)\n",
      ")\n",
      "{'lr': 0.050000000000000003, 'epochs': 5, 'batch_size': 200, 'wd': 0.001}\n",
      "Num Params: 59635\n"
     ]
    },
    {
     "data": {
      "application/vnd.jupyter.widget-view+json": {
       "model_id": "c65d09d3929d490bbe7ddb5b2e6f0d63",
       "version_major": 2,
       "version_minor": 0
      },
      "text/html": [
       "<p>Failed to display Jupyter Widget of type <code>HBox</code>.</p>\n",
       "<p>\n",
       "  If you're reading this message in the Jupyter Notebook or JupyterLab Notebook, it may mean\n",
       "  that the widgets JavaScript is still loading. If this message persists, it\n",
       "  likely means that the widgets JavaScript library is either not installed or\n",
       "  not enabled. See the <a href=\"https://ipywidgets.readthedocs.io/en/stable/user_install.html\">Jupyter\n",
       "  Widgets Documentation</a> for setup instructions.\n",
       "</p>\n",
       "<p>\n",
       "  If you're reading this message in another frontend (for example, a static\n",
       "  rendering on GitHub or <a href=\"https://nbviewer.jupyter.org/\">NBViewer</a>),\n",
       "  it may mean that your frontend doesn't currently support widgets.\n",
       "</p>\n"
      ],
      "text/plain": [
       "HBox(children=(IntProgress(value=0, max=5), HTML(value='')))"
      ]
     },
     "metadata": {},
     "output_type": "display_data"
    },
    {
     "name": "stdout",
     "output_type": "stream",
     "text": [
      "MLP(\n",
      "  (fc_initial): Linear(in_features=784, out_features=100)\n",
      "  (fc_mid): ModuleList(\n",
      "  )\n",
      "  (fc_final): Linear(in_features=100, out_features=10)\n",
      ")\n",
      "{'lr': 0.050000000000000003, 'epochs': 5, 'batch_size': 200, 'wd': 0.001}\n",
      "Num Params: 79510\n"
     ]
    },
    {
     "data": {
      "application/vnd.jupyter.widget-view+json": {
       "model_id": "2c242b19dca6480292f7a2b236c503f5",
       "version_major": 2,
       "version_minor": 0
      },
      "text/html": [
       "<p>Failed to display Jupyter Widget of type <code>HBox</code>.</p>\n",
       "<p>\n",
       "  If you're reading this message in the Jupyter Notebook or JupyterLab Notebook, it may mean\n",
       "  that the widgets JavaScript is still loading. If this message persists, it\n",
       "  likely means that the widgets JavaScript library is either not installed or\n",
       "  not enabled. See the <a href=\"https://ipywidgets.readthedocs.io/en/stable/user_install.html\">Jupyter\n",
       "  Widgets Documentation</a> for setup instructions.\n",
       "</p>\n",
       "<p>\n",
       "  If you're reading this message in another frontend (for example, a static\n",
       "  rendering on GitHub or <a href=\"https://nbviewer.jupyter.org/\">NBViewer</a>),\n",
       "  it may mean that your frontend doesn't currently support widgets.\n",
       "</p>\n"
      ],
      "text/plain": [
       "HBox(children=(IntProgress(value=0, max=5), HTML(value='')))"
      ]
     },
     "metadata": {},
     "output_type": "display_data"
    },
    {
     "name": "stdout",
     "output_type": "stream",
     "text": [
      "MLP(\n",
      "  (fc_initial): Linear(in_features=784, out_features=25)\n",
      "  (fc_mid): ModuleList(\n",
      "  )\n",
      "  (fc_final): Linear(in_features=25, out_features=10)\n",
      ")\n",
      "{'lr': 0.01, 'epochs': 5, 'batch_size': 200, 'wd': 0.001}\n",
      "Num Params: 19885\n"
     ]
    },
    {
     "data": {
      "application/vnd.jupyter.widget-view+json": {
       "model_id": "1009e945709c448d9a5c9611e99b75b6",
       "version_major": 2,
       "version_minor": 0
      },
      "text/html": [
       "<p>Failed to display Jupyter Widget of type <code>HBox</code>.</p>\n",
       "<p>\n",
       "  If you're reading this message in the Jupyter Notebook or JupyterLab Notebook, it may mean\n",
       "  that the widgets JavaScript is still loading. If this message persists, it\n",
       "  likely means that the widgets JavaScript library is either not installed or\n",
       "  not enabled. See the <a href=\"https://ipywidgets.readthedocs.io/en/stable/user_install.html\">Jupyter\n",
       "  Widgets Documentation</a> for setup instructions.\n",
       "</p>\n",
       "<p>\n",
       "  If you're reading this message in another frontend (for example, a static\n",
       "  rendering on GitHub or <a href=\"https://nbviewer.jupyter.org/\">NBViewer</a>),\n",
       "  it may mean that your frontend doesn't currently support widgets.\n",
       "</p>\n"
      ],
      "text/plain": [
       "HBox(children=(IntProgress(value=0, max=5), HTML(value='')))"
      ]
     },
     "metadata": {},
     "output_type": "display_data"
    },
    {
     "name": "stdout",
     "output_type": "stream",
     "text": [
      "MLP(\n",
      "  (fc_initial): Linear(in_features=784, out_features=50)\n",
      "  (fc_mid): ModuleList(\n",
      "  )\n",
      "  (fc_final): Linear(in_features=50, out_features=10)\n",
      ")\n",
      "{'lr': 0.01, 'epochs': 5, 'batch_size': 200, 'wd': 0.001}\n",
      "Num Params: 39760\n"
     ]
    },
    {
     "data": {
      "application/vnd.jupyter.widget-view+json": {
       "model_id": "c5628b84ef01455fb7d86bedc3813c39",
       "version_major": 2,
       "version_minor": 0
      },
      "text/html": [
       "<p>Failed to display Jupyter Widget of type <code>HBox</code>.</p>\n",
       "<p>\n",
       "  If you're reading this message in the Jupyter Notebook or JupyterLab Notebook, it may mean\n",
       "  that the widgets JavaScript is still loading. If this message persists, it\n",
       "  likely means that the widgets JavaScript library is either not installed or\n",
       "  not enabled. See the <a href=\"https://ipywidgets.readthedocs.io/en/stable/user_install.html\">Jupyter\n",
       "  Widgets Documentation</a> for setup instructions.\n",
       "</p>\n",
       "<p>\n",
       "  If you're reading this message in another frontend (for example, a static\n",
       "  rendering on GitHub or <a href=\"https://nbviewer.jupyter.org/\">NBViewer</a>),\n",
       "  it may mean that your frontend doesn't currently support widgets.\n",
       "</p>\n"
      ],
      "text/plain": [
       "HBox(children=(IntProgress(value=0, max=5), HTML(value='')))"
      ]
     },
     "metadata": {},
     "output_type": "display_data"
    },
    {
     "name": "stdout",
     "output_type": "stream",
     "text": [
      "MLP(\n",
      "  (fc_initial): Linear(in_features=784, out_features=75)\n",
      "  (fc_mid): ModuleList(\n",
      "  )\n",
      "  (fc_final): Linear(in_features=75, out_features=10)\n",
      ")\n",
      "{'lr': 0.01, 'epochs': 5, 'batch_size': 200, 'wd': 0.001}\n",
      "Num Params: 59635\n"
     ]
    },
    {
     "data": {
      "application/vnd.jupyter.widget-view+json": {
       "model_id": "583af1730b84470a946b9568c4fffcd3",
       "version_major": 2,
       "version_minor": 0
      },
      "text/html": [
       "<p>Failed to display Jupyter Widget of type <code>HBox</code>.</p>\n",
       "<p>\n",
       "  If you're reading this message in the Jupyter Notebook or JupyterLab Notebook, it may mean\n",
       "  that the widgets JavaScript is still loading. If this message persists, it\n",
       "  likely means that the widgets JavaScript library is either not installed or\n",
       "  not enabled. See the <a href=\"https://ipywidgets.readthedocs.io/en/stable/user_install.html\">Jupyter\n",
       "  Widgets Documentation</a> for setup instructions.\n",
       "</p>\n",
       "<p>\n",
       "  If you're reading this message in another frontend (for example, a static\n",
       "  rendering on GitHub or <a href=\"https://nbviewer.jupyter.org/\">NBViewer</a>),\n",
       "  it may mean that your frontend doesn't currently support widgets.\n",
       "</p>\n"
      ],
      "text/plain": [
       "HBox(children=(IntProgress(value=0, max=5), HTML(value='')))"
      ]
     },
     "metadata": {},
     "output_type": "display_data"
    },
    {
     "name": "stdout",
     "output_type": "stream",
     "text": [
      "MLP(\n",
      "  (fc_initial): Linear(in_features=784, out_features=100)\n",
      "  (fc_mid): ModuleList(\n",
      "  )\n",
      "  (fc_final): Linear(in_features=100, out_features=10)\n",
      ")\n",
      "{'lr': 0.01, 'epochs': 5, 'batch_size': 200, 'wd': 0.001}\n",
      "Num Params: 79510\n"
     ]
    },
    {
     "data": {
      "application/vnd.jupyter.widget-view+json": {
       "model_id": "75952931d548474b9fc5e2821d2119e4",
       "version_major": 2,
       "version_minor": 0
      },
      "text/html": [
       "<p>Failed to display Jupyter Widget of type <code>HBox</code>.</p>\n",
       "<p>\n",
       "  If you're reading this message in the Jupyter Notebook or JupyterLab Notebook, it may mean\n",
       "  that the widgets JavaScript is still loading. If this message persists, it\n",
       "  likely means that the widgets JavaScript library is either not installed or\n",
       "  not enabled. See the <a href=\"https://ipywidgets.readthedocs.io/en/stable/user_install.html\">Jupyter\n",
       "  Widgets Documentation</a> for setup instructions.\n",
       "</p>\n",
       "<p>\n",
       "  If you're reading this message in another frontend (for example, a static\n",
       "  rendering on GitHub or <a href=\"https://nbviewer.jupyter.org/\">NBViewer</a>),\n",
       "  it may mean that your frontend doesn't currently support widgets.\n",
       "</p>\n"
      ],
      "text/plain": [
       "HBox(children=(IntProgress(value=0, max=5), HTML(value='')))"
      ]
     },
     "metadata": {},
     "output_type": "display_data"
    },
    {
     "name": "stdout",
     "output_type": "stream",
     "text": [
      "\n"
     ]
    }
   ],
   "source": [
    "# Run model over grid parameters\n",
    "for i, lr, batch_size, hidden_dim in zip(tnrange(lr_grid.size), lr_grid.ravel(), batch_grid.ravel(), hidden_dim_grid.ravel()):\n",
    "\n",
    "    # Initialize model with parameters and do a mini train\n",
    "    model = MLPClassifier(input_dim=imsize*imsize, wd=wd, epochs = 5, batch_size=batch_size, lr=lr, \n",
    "                          hidden_dim=int(hidden_dim), additional_hidden_wide=0)\n",
    "\n",
    "    # Load data\n",
    "    trainloader, validloader, testloader, _ = load_MNIST(batch=batch_size, valid_num=10000)\n",
    "    \n",
    "    # Fit data\n",
    "    model.fit(trainloader)\n",
    "    \n",
    "    # Test on validation set\n",
    "    accuracy_params[i] = model.predict(validloader)"
   ]
  },
  {
   "cell_type": "code",
   "execution_count": 39,
   "metadata": {},
   "outputs": [
    {
     "name": "stdout",
     "output_type": "stream",
     "text": [
      "Accuracies:\n",
      " [ 0.9486  0.9632  0.9636  0.9652  0.9485  0.9545  0.9595  0.9551  0.9273\n",
      "  0.9265  0.9269  0.9267  0.9456  0.9519  0.9553  0.9566  0.9355  0.9398\n",
      "  0.9428  0.9414  0.9059  0.9065  0.9079  0.9076  0.937   0.9427  0.9444\n",
      "  0.9414  0.9239  0.9272  0.9287  0.9297  0.8865  0.886   0.8889  0.89\n",
      "  0.9217  0.9299  0.9271  0.9284  0.9087  0.9111  0.911   0.9133  0.847\n",
      "  0.8613  0.8634  0.8651]\n",
      "Best Acc: 0.9486\n",
      "LR: 0.1 Batch: 20 Hidden: 25\n"
     ]
    }
   ],
   "source": [
    "# Find the best accuracy and take the parameters \n",
    "print('Accuracies:\\n', accuracy_params)\n",
    "idxmax = np.argmax(accuracy)\n",
    "lr_best = lr_grid.ravel()[idxmax]\n",
    "batch_best = batch_grid.ravel()[idxmax]\n",
    "hidden_best = hidden_dim_grid.ravel()[idxmax]\n",
    "print('Best Acc:',accuracy_params[idxmax])\n",
    "print('LR:',lr_best, 'Batch:', batch_best, 'Hidden:',hidden_best)"
   ]
  },
  {
   "cell_type": "markdown",
   "metadata": {},
   "source": [
    "We evaluated the MLP classifier over different sets of parameters and obtained a high accuracy. Now we can train this same model in depth to really see the best results."
   ]
  },
  {
   "cell_type": "code",
   "execution_count": 35,
   "metadata": {},
   "outputs": [
    {
     "data": {
      "application/vnd.jupyter.widget-view+json": {
       "model_id": "313d20c3a9e24056a771da760d7a2e18",
       "version_major": 2,
       "version_minor": 0
      },
      "text/html": [
       "<p>Failed to display Jupyter Widget of type <code>HBox</code>.</p>\n",
       "<p>\n",
       "  If you're reading this message in the Jupyter Notebook or JupyterLab Notebook, it may mean\n",
       "  that the widgets JavaScript is still loading. If this message persists, it\n",
       "  likely means that the widgets JavaScript library is either not installed or\n",
       "  not enabled. See the <a href=\"https://ipywidgets.readthedocs.io/en/stable/user_install.html\">Jupyter\n",
       "  Widgets Documentation</a> for setup instructions.\n",
       "</p>\n",
       "<p>\n",
       "  If you're reading this message in another frontend (for example, a static\n",
       "  rendering on GitHub or <a href=\"https://nbviewer.jupyter.org/\">NBViewer</a>),\n",
       "  it may mean that your frontend doesn't currently support widgets.\n",
       "</p>\n"
      ],
      "text/plain": [
       "HBox(children=(IntProgress(value=0, max=15), HTML(value='')))"
      ]
     },
     "metadata": {},
     "output_type": "display_data"
    },
    {
     "name": "stdout",
     "output_type": "stream",
     "text": [
      "\n"
     ]
    }
   ],
   "source": [
    "# Do a full training on this model\n",
    "# Initialize model with parameters and do a mini train\n",
    "model = MLPClassifier(input_dim=imsize*imsize, epochs = 15, batch_size=batch_best, lr=lr_best, \n",
    "                          hidden_dim=int(hidden_best), additional_hidden_wide=0)\n",
    "# Load data\n",
    "trainloader, validloader, testloader, _ = load_MNIST(batch=batch_best, valid_num=0)\n",
    "\n",
    "# Fit data\n",
    "model.fit(trainloader)"
   ]
  },
  {
   "cell_type": "code",
   "execution_count": 36,
   "metadata": {},
   "outputs": [
    {
     "name": "stdout",
     "output_type": "stream",
     "text": [
      "Best Model Accuracy: 0.9609\n"
     ]
    },
    {
     "data": {
      "image/png": "[encoded data removed]",
      "text/plain": [
       "<matplotlib.figure.Figure at 0x11625deb8>"
      ]
     },
     "metadata": {},
     "output_type": "display_data"
    }
   ],
   "source": [
    "# Test on test set\n",
    "accuracy_overall = model.predict(testloader)\n",
    "print('Best Model Accuracy:', accuracy_overall)\n",
    "\n",
    "# Print Loss:\n",
    "model.plot_loss()"
   ]
  },
  {
   "cell_type": "markdown",
   "metadata": {},
   "source": [
    "The best model has a very high accuracy score."
   ]
  },
  {
   "cell_type": "code",
   "execution_count": 37,
   "metadata": {},
   "outputs": [
    {
     "data": {
      "application/vnd.jupyter.widget-view+json": {
       "model_id": "806961fd60484cb38be91ec3be8c3ff6",
       "version_major": 2,
       "version_minor": 0
      },
      "text/html": [
       "<p>Failed to display Jupyter Widget of type <code>HBox</code>.</p>\n",
       "<p>\n",
       "  If you're reading this message in the Jupyter Notebook or JupyterLab Notebook, it may mean\n",
       "  that the widgets JavaScript is still loading. If this message persists, it\n",
       "  likely means that the widgets JavaScript library is either not installed or\n",
       "  not enabled. See the <a href=\"https://ipywidgets.readthedocs.io/en/stable/user_install.html\">Jupyter\n",
       "  Widgets Documentation</a> for setup instructions.\n",
       "</p>\n",
       "<p>\n",
       "  If you're reading this message in another frontend (for example, a static\n",
       "  rendering on GitHub or <a href=\"https://nbviewer.jupyter.org/\">NBViewer</a>),\n",
       "  it may mean that your frontend doesn't currently support widgets.\n",
       "</p>\n"
      ],
      "text/plain": [
       "HBox(children=(IntProgress(value=0, max=6), HTML(value='')))"
      ]
     },
     "metadata": {},
     "output_type": "display_data"
    },
    {
     "data": {
      "application/vnd.jupyter.widget-view+json": {
       "model_id": "a0b53a5ce8424a468319f7e3fec6fe1d",
       "version_major": 2,
       "version_minor": 0
      },
      "text/html": [
       "<p>Failed to display Jupyter Widget of type <code>HBox</code>.</p>\n",
       "<p>\n",
       "  If you're reading this message in the Jupyter Notebook or JupyterLab Notebook, it may mean\n",
       "  that the widgets JavaScript is still loading. If this message persists, it\n",
       "  likely means that the widgets JavaScript library is either not installed or\n",
       "  not enabled. See the <a href=\"https://ipywidgets.readthedocs.io/en/stable/user_install.html\">Jupyter\n",
       "  Widgets Documentation</a> for setup instructions.\n",
       "</p>\n",
       "<p>\n",
       "  If you're reading this message in another frontend (for example, a static\n",
       "  rendering on GitHub or <a href=\"https://nbviewer.jupyter.org/\">NBViewer</a>),\n",
       "  it may mean that your frontend doesn't currently support widgets.\n",
       "</p>\n"
      ],
      "text/plain": [
       "HBox(children=(IntProgress(value=0, max=10), HTML(value='')))"
      ]
     },
     "metadata": {},
     "output_type": "display_data"
    },
    {
     "data": {
      "application/vnd.jupyter.widget-view+json": {
       "model_id": "e0e730096ed7414d8a8b05ea1add4a7a",
       "version_major": 2,
       "version_minor": 0
      },
      "text/html": [
       "<p>Failed to display Jupyter Widget of type <code>HBox</code>.</p>\n",
       "<p>\n",
       "  If you're reading this message in the Jupyter Notebook or JupyterLab Notebook, it may mean\n",
       "  that the widgets JavaScript is still loading. If this message persists, it\n",
       "  likely means that the widgets JavaScript library is either not installed or\n",
       "  not enabled. See the <a href=\"https://ipywidgets.readthedocs.io/en/stable/user_install.html\">Jupyter\n",
       "  Widgets Documentation</a> for setup instructions.\n",
       "</p>\n",
       "<p>\n",
       "  If you're reading this message in another frontend (for example, a static\n",
       "  rendering on GitHub or <a href=\"https://nbviewer.jupyter.org/\">NBViewer</a>),\n",
       "  it may mean that your frontend doesn't currently support widgets.\n",
       "</p>\n"
      ],
      "text/plain": [
       "HBox(children=(IntProgress(value=0, max=10), HTML(value='')))"
      ]
     },
     "metadata": {},
     "output_type": "display_data"
    },
    {
     "data": {
      "application/vnd.jupyter.widget-view+json": {
       "model_id": "357eb901ca354814bbce844e9f41cffa",
       "version_major": 2,
       "version_minor": 0
      },
      "text/html": [
       "<p>Failed to display Jupyter Widget of type <code>HBox</code>.</p>\n",
       "<p>\n",
       "  If you're reading this message in the Jupyter Notebook or JupyterLab Notebook, it may mean\n",
       "  that the widgets JavaScript is still loading. If this message persists, it\n",
       "  likely means that the widgets JavaScript library is either not installed or\n",
       "  not enabled. See the <a href=\"https://ipywidgets.readthedocs.io/en/stable/user_install.html\">Jupyter\n",
       "  Widgets Documentation</a> for setup instructions.\n",
       "</p>\n",
       "<p>\n",
       "  If you're reading this message in another frontend (for example, a static\n",
       "  rendering on GitHub or <a href=\"https://nbviewer.jupyter.org/\">NBViewer</a>),\n",
       "  it may mean that your frontend doesn't currently support widgets.\n",
       "</p>\n"
      ],
      "text/plain": [
       "HBox(children=(IntProgress(value=0, max=10), HTML(value='')))"
      ]
     },
     "metadata": {},
     "output_type": "display_data"
    },
    {
     "data": {
      "application/vnd.jupyter.widget-view+json": {
       "model_id": "f903039e7269492da7aec33895566b60",
       "version_major": 2,
       "version_minor": 0
      },
      "text/html": [
       "<p>Failed to display Jupyter Widget of type <code>HBox</code>.</p>\n",
       "<p>\n",
       "  If you're reading this message in the Jupyter Notebook or JupyterLab Notebook, it may mean\n",
       "  that the widgets JavaScript is still loading. If this message persists, it\n",
       "  likely means that the widgets JavaScript library is either not installed or\n",
       "  not enabled. See the <a href=\"https://ipywidgets.readthedocs.io/en/stable/user_install.html\">Jupyter\n",
       "  Widgets Documentation</a> for setup instructions.\n",
       "</p>\n",
       "<p>\n",
       "  If you're reading this message in another frontend (for example, a static\n",
       "  rendering on GitHub or <a href=\"https://nbviewer.jupyter.org/\">NBViewer</a>),\n",
       "  it may mean that your frontend doesn't currently support widgets.\n",
       "</p>\n"
      ],
      "text/plain": [
       "HBox(children=(IntProgress(value=0, max=10), HTML(value='')))"
      ]
     },
     "metadata": {},
     "output_type": "display_data"
    },
    {
     "data": {
      "application/vnd.jupyter.widget-view+json": {
       "model_id": "1c75f3c2771a40a88ce2b422abaff506",
       "version_major": 2,
       "version_minor": 0
      },
      "text/html": [
       "<p>Failed to display Jupyter Widget of type <code>HBox</code>.</p>\n",
       "<p>\n",
       "  If you're reading this message in the Jupyter Notebook or JupyterLab Notebook, it may mean\n",
       "  that the widgets JavaScript is still loading. If this message persists, it\n",
       "  likely means that the widgets JavaScript library is either not installed or\n",
       "  not enabled. See the <a href=\"https://ipywidgets.readthedocs.io/en/stable/user_install.html\">Jupyter\n",
       "  Widgets Documentation</a> for setup instructions.\n",
       "</p>\n",
       "<p>\n",
       "  If you're reading this message in another frontend (for example, a static\n",
       "  rendering on GitHub or <a href=\"https://nbviewer.jupyter.org/\">NBViewer</a>),\n",
       "  it may mean that your frontend doesn't currently support widgets.\n",
       "</p>\n"
      ],
      "text/plain": [
       "HBox(children=(IntProgress(value=0, max=10), HTML(value='')))"
      ]
     },
     "metadata": {},
     "output_type": "display_data"
    },
    {
     "data": {
      "application/vnd.jupyter.widget-view+json": {
       "model_id": "eb7d8032abfb498a9125fb91ca70d399",
       "version_major": 2,
       "version_minor": 0
      },
      "text/html": [
       "<p>Failed to display Jupyter Widget of type <code>HBox</code>.</p>\n",
       "<p>\n",
       "  If you're reading this message in the Jupyter Notebook or JupyterLab Notebook, it may mean\n",
       "  that the widgets JavaScript is still loading. If this message persists, it\n",
       "  likely means that the widgets JavaScript library is either not installed or\n",
       "  not enabled. See the <a href=\"https://ipywidgets.readthedocs.io/en/stable/user_install.html\">Jupyter\n",
       "  Widgets Documentation</a> for setup instructions.\n",
       "</p>\n",
       "<p>\n",
       "  If you're reading this message in another frontend (for example, a static\n",
       "  rendering on GitHub or <a href=\"https://nbviewer.jupyter.org/\">NBViewer</a>),\n",
       "  it may mean that your frontend doesn't currently support widgets.\n",
       "</p>\n"
      ],
      "text/plain": [
       "HBox(children=(IntProgress(value=0, max=10), HTML(value='')))"
      ]
     },
     "metadata": {},
     "output_type": "display_data"
    },
    {
     "name": "stdout",
     "output_type": "stream",
     "text": [
      "\n"
     ]
    },
    {
     "data": {
      "image/png": "[encoded data removed]",
      "text/plain": [
       "<matplotlib.figure.Figure at 0x10ec91e10>"
      ]
     },
     "metadata": {},
     "output_type": "display_data"
    }
   ],
   "source": [
    "# Train over different regularization parameters\n",
    "# Run model over grid parameters\n",
    "wds = [0, 0.001, 0.005, 0.01, 0.05, 0.1]\n",
    "accuracy_wd = np.zeros(len(wds))\n",
    "loss_wd = []\n",
    "\n",
    "# Load data\n",
    "trainloader, validloader, testloader, _ = load_MNIST(batch=batch_size, valid_num=10000)\n",
    "\n",
    "for i, wd_in in zip(tnrange(len(wds)), wds):\n",
    "\n",
    "    # Initialize model with parameters and do a mini train\n",
    "    model = MLPClassifier(input_dim=imsize*imsize, wd=wd_in, epochs = 10, batch_size=batch_best, lr=lr_best, \n",
    "                          hidden_dim=int(hidden_best), additional_hidden_wide=0)\n",
    "    # Fit data\n",
    "    model.fit(trainloader)\n",
    "    \n",
    "    # Test on validation set\n",
    "    accuracy_wd[i] = model.predict(validloader)\n",
    "    \n",
    "    # Get Loss\n",
    "    loss_wd.append(model.get_loss())\n",
    "    # Plot loss\n",
    "    plt.plot(loss_wd[i], marker='o', label=[r'%.3f' % wd_in]) \n",
    "plt.title('Loss Over Epoch')\n",
    "plt.xlabel('Epoch')\n",
    "plt.ylabel('Loss')\n",
    "plt.legend()\n",
    "plt.show()"
   ]
  },
  {
   "cell_type": "markdown",
   "metadata": {},
   "source": [
    "Now that we have identified the best learning rate, batch size, and hidden dimensions, we can test out the optimal weight decays over the same model. The results of the loss function are plotted above. They all show nearly precisely the same trend. "
   ]
  },
  {
   "cell_type": "code",
   "execution_count": 38,
   "metadata": {},
   "outputs": [
    {
     "name": "stdout",
     "output_type": "stream",
     "text": [
      "--- 1787.4353699684143 seconds ---\n"
     ]
    }
   ],
   "source": [
    "print(\"--- %s seconds ---\" % (time.time() - start_time))"
   ]
  }
 ],
 "metadata": {
  "kernelspec": {
   "display_name": "Python 3",
   "language": "python",
   "name": "python3"
  },
  "language_info": {
   "codemirror_mode": {
    "name": "ipython",
    "version": 3
   },
   "file_extension": ".py",
   "mimetype": "text/x-python",
   "name": "python",
   "nbconvert_exporter": "python",
   "pygments_lexer": "ipython3",
   "version": "3.6.2"
  }
 },
 "nbformat": 4,
 "nbformat_minor": 2
}
